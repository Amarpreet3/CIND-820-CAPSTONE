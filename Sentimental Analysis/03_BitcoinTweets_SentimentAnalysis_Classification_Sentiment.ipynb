{
  "cells": [
    {
      "cell_type": "markdown",
      "metadata": {
        "id": "pBZU-ZCt5ok_"
      },
      "source": [
        "#Datasets"
      ]
    },
    {
      "cell_type": "code",
      "execution_count": 1,
      "metadata": {
        "id": "ljjybqcYnwez"
      },
      "outputs": [],
      "source": [
        "#Price"
      ]
    },
    {
      "cell_type": "code",
      "execution_count": 2,
      "metadata": {
        "colab": {
          "base_uri": "https://localhost:8080/"
        },
        "id": "Gs0pb-r3ocrj",
        "outputId": "ca0d3a7e-a3bf-46cf-cffc-864045fd880d"
      },
      "outputs": [
        {
          "output_type": "stream",
          "name": "stdout",
          "text": [
            "                  time     close      high       low      open  volumefrom  \\\n",
            "0  2023-02-19 13:00:00  24682.03  24715.82  24682.03  24707.39      903.97   \n",
            "1  2023-02-19 14:00:00  24765.79  24792.85  24679.21  24682.03     1220.29   \n",
            "2  2023-02-19 15:00:00  24928.21  25022.49  24751.96  24765.79     5074.50   \n",
            "3  2023-02-19 16:00:00  24786.44  25175.28  24704.53  24928.21     7094.72   \n",
            "4  2023-02-19 17:00:00  24364.95  24806.64  24346.17  24786.44     6896.84   \n",
            "\n",
            "       volumeto        Date      Time        volume     marketcap  price_delta  \n",
            "0  2.233594e+07  2023-02-19  13:00:00  2.233504e+07  5.512964e+11          NaN  \n",
            "1  3.020300e+07  2023-02-19  14:00:00  3.020178e+07  7.480012e+11        83.76  \n",
            "2  1.263085e+08  2023-02-19  15:00:00  1.263034e+08  3.148644e+12       162.42  \n",
            "3  1.770671e+08  2023-02-19  16:00:00  1.770600e+08  4.388863e+12      -141.77  \n",
            "4  1.693379e+08  2023-02-19  17:00:00  1.693310e+08  4.125910e+12      -421.49  \n"
          ]
        }
      ],
      "source": [
        "import pandas as pd\n",
        "\n",
        "# URL to the raw CSV file\n",
        "url = 'https://raw.githubusercontent.com/Amarpreet3/CIND-820-CAPSTONE/main/Sentimental%20Analysis/BitcoinPricePreprocessed.csv'\n",
        "\n",
        "# Read the CSV file from the URL\n",
        "crypto_usd = pd.read_csv(url)\n",
        "\n",
        "# Display the first few rows of the data\n",
        "print(crypto_usd.head())\n",
        "\n"
      ]
    },
    {
      "cell_type": "code",
      "execution_count": 3,
      "metadata": {
        "colab": {
          "base_uri": "https://localhost:8080/"
        },
        "id": "Yk31WHoiqGsS",
        "outputId": "33028684-ce83-4a75-8ea1-57b98c9a2d99"
      },
      "outputs": [
        {
          "output_type": "stream",
          "name": "stdout",
          "text": [
            "            user_name  user_location  \\\n",
            "0                 Irk  Vancouver, WA   \n",
            "1         Xiang Zhang            NaN   \n",
            "2              Rhizoo            NaN   \n",
            "3        Hari Marquez  Las Vegas, NV   \n",
            "4  Bitcoin Candle Bot         Brazil   \n",
            "\n",
            "                                    user_description         user_created  \\\n",
            "0  Irk started investing in the stock market in 1...  2018-08-11 03:17:00   \n",
            "1  Professional Software Engineer ð»ðCrypto ...  2011-01-11 01:37:00   \n",
            "2  researcher. local maxima dunningâkruger spec...  2019-04-03 18:09:00   \n",
            "3  Donât trust, verify. #Bitcoin | El Salvador ...  2014-01-17 23:04:00   \n",
            "4  Robot that posts the closure of the bitcoin da...  2021-01-06 01:36:00   \n",
            "\n",
            "   user_followers  user_friends  user_favourites  user_verified  \\\n",
            "0           116.0           8.0           4580.0          False   \n",
            "1            42.0          22.0              5.0          False   \n",
            "2           778.0         627.0          32005.0          False   \n",
            "3           222.0         521.0          13052.0          False   \n",
            "4            40.0           4.0              1.0          False   \n",
            "\n",
            "                  date                                               text  \\\n",
            "0  2023-02-25 23:59:00  bitcoin btc rest crypto ye bitcoin cryptocurr ...   \n",
            "1  2023-02-25 23:59:00  retriev invest fund current ongo tidexcoin kic...   \n",
            "2  2023-02-25 23:59:00  bull save monthli thread today good shit bitco...   \n",
            "3  2023-02-25 23:59:00         el salvador shape futur bitcoin membvk32cn   \n",
            "4  2023-02-25 23:59:00  candl day 25022023 close open 2319406 high 232...   \n",
            "\n",
            "                                            hashtags              source  \\\n",
            "0            ['Bitcoin', 'crypto', 'NeedsMoreCrash']     Twitter Web App   \n",
            "1  ['Tidexcoin', 'Kicurrency', 'LMY', 'GMK', 'SYR...  Twitter for iPhone   \n",
            "2                                        ['bitcoin']     Twitter Web App   \n",
            "3                                        ['Bitcoin']     Twitter Web App   \n",
            "4                ['Bitcoin', 'Candle', 'BearMarket']  Bitcoin Candle Bot   \n",
            "\n",
            "   is_retweet  compound         score sentiment_level  polarity  subjectivity  \n",
            "0         0.0   -0.4019 -2.154092e+05        Negative  0.000000      0.000000  \n",
            "1         0.0    0.0000  0.000000e+00         Neutral  0.000000      0.400000  \n",
            "2         0.0    0.3612  9.005682e+06        Positive  0.250000      0.700000  \n",
            "3         0.0    0.0000  0.000000e+00         Neutral  0.000000      0.000000  \n",
            "4         0.0   -0.2732 -2.240240e+01        Negative  0.053333      0.446667  \n"
          ]
        }
      ],
      "source": [
        "import pandas as pd\n",
        "\n",
        "file_urls = [\n",
        "    'https://github.com/Amarpreet3/CIND-820-CAPSTONE/raw/main/Sentimental%20Analysis/BitcoinTweetsPreprocessed_1.csv',\n",
        "    'https://github.com/Amarpreet3/CIND-820-CAPSTONE/raw/main/Sentimental%20Analysis/BitcoinTweetsPreprocessed_2.csv',\n",
        "    'https://github.com/Amarpreet3/CIND-820-CAPSTONE/raw/main/Sentimental%20Analysis/BitcoinTweetsPreprocessed_3.csv',\n",
        "    'https://github.com/Amarpreet3/CIND-820-CAPSTONE/raw/main/Sentimental%20Analysis/BitcoinTweetsPreprocessed_4.csv',\n",
        "    'https://github.com/Amarpreet3/CIND-820-CAPSTONE/raw/main/Sentimental%20Analysis/BitcoinTweetsPreprocessed_5.csv',\n",
        "    'https://github.com/Amarpreet3/CIND-820-CAPSTONE/raw/main/Sentimental%20Analysis/BitcoinTweetsPreprocessed_6.csv'\n",
        "]\n",
        "\n",
        "dfs = []\n",
        "\n",
        "for url in file_urls:\n",
        "    # Read the CSV file\n",
        "    df = pd.read_csv(url)\n",
        "\n",
        "    # Append the DataFrame to the list\n",
        "    dfs.append(df)\n",
        "\n",
        "# Combine all DataFrames into a single DataFrame\n",
        "combined_df = pd.concat(dfs)\n",
        "\n",
        "# Display the first few rows of the combined DataFrame\n",
        "print(combined_df.head())\n"
      ]
    },
    {
      "cell_type": "code",
      "execution_count": 4,
      "metadata": {
        "id": "i667g_S5qW3a"
      },
      "outputs": [],
      "source": [
        "tweets = combined_df.copy()"
      ]
    },
    {
      "cell_type": "code",
      "execution_count": 5,
      "metadata": {
        "colab": {
          "base_uri": "https://localhost:8080/",
          "height": 0
        },
        "id": "fzDfngyol-Op",
        "outputId": "f41c8d4c-8590-4a21-c1a4-baa54984343a"
      },
      "outputs": [
        {
          "output_type": "execute_result",
          "data": {
            "text/plain": [
              "            user_name  user_location  \\\n",
              "0                 Irk  Vancouver, WA   \n",
              "1         Xiang Zhang            NaN   \n",
              "2              Rhizoo            NaN   \n",
              "3        Hari Marquez  Las Vegas, NV   \n",
              "4  Bitcoin Candle Bot         Brazil   \n",
              "\n",
              "                                    user_description         user_created  \\\n",
              "0  Irk started investing in the stock market in 1...  2018-08-11 03:17:00   \n",
              "1  Professional Software Engineer ð»ðCrypto ...  2011-01-11 01:37:00   \n",
              "2  researcher. local maxima dunningâkruger spec...  2019-04-03 18:09:00   \n",
              "3  Donât trust, verify. #Bitcoin | El Salvador ...  2014-01-17 23:04:00   \n",
              "4  Robot that posts the closure of the bitcoin da...  2021-01-06 01:36:00   \n",
              "\n",
              "   user_followers  user_friends  user_favourites  user_verified  \\\n",
              "0           116.0           8.0           4580.0          False   \n",
              "1            42.0          22.0              5.0          False   \n",
              "2           778.0         627.0          32005.0          False   \n",
              "3           222.0         521.0          13052.0          False   \n",
              "4            40.0           4.0              1.0          False   \n",
              "\n",
              "                  date                                               text  \\\n",
              "0  2023-02-25 23:59:00  bitcoin btc rest crypto ye bitcoin cryptocurr ...   \n",
              "1  2023-02-25 23:59:00  retriev invest fund current ongo tidexcoin kic...   \n",
              "2  2023-02-25 23:59:00  bull save monthli thread today good shit bitco...   \n",
              "3  2023-02-25 23:59:00         el salvador shape futur bitcoin membvk32cn   \n",
              "4  2023-02-25 23:59:00  candl day 25022023 close open 2319406 high 232...   \n",
              "\n",
              "                                            hashtags              source  \\\n",
              "0            ['Bitcoin', 'crypto', 'NeedsMoreCrash']     Twitter Web App   \n",
              "1  ['Tidexcoin', 'Kicurrency', 'LMY', 'GMK', 'SYR...  Twitter for iPhone   \n",
              "2                                        ['bitcoin']     Twitter Web App   \n",
              "3                                        ['Bitcoin']     Twitter Web App   \n",
              "4                ['Bitcoin', 'Candle', 'BearMarket']  Bitcoin Candle Bot   \n",
              "\n",
              "   is_retweet  compound         score sentiment_level  polarity  subjectivity  \n",
              "0         0.0   -0.4019 -2.154092e+05        Negative  0.000000      0.000000  \n",
              "1         0.0    0.0000  0.000000e+00         Neutral  0.000000      0.400000  \n",
              "2         0.0    0.3612  9.005682e+06        Positive  0.250000      0.700000  \n",
              "3         0.0    0.0000  0.000000e+00         Neutral  0.000000      0.000000  \n",
              "4         0.0   -0.2732 -2.240240e+01        Negative  0.053333      0.446667  "
            ],
            "text/html": [
              "\n",
              "  <div id=\"df-c2a82558-78fe-4acb-b17b-a377df44efe0\">\n",
              "    <div class=\"colab-df-container\">\n",
              "      <div>\n",
              "<style scoped>\n",
              "    .dataframe tbody tr th:only-of-type {\n",
              "        vertical-align: middle;\n",
              "    }\n",
              "\n",
              "    .dataframe tbody tr th {\n",
              "        vertical-align: top;\n",
              "    }\n",
              "\n",
              "    .dataframe thead th {\n",
              "        text-align: right;\n",
              "    }\n",
              "</style>\n",
              "<table border=\"1\" class=\"dataframe\">\n",
              "  <thead>\n",
              "    <tr style=\"text-align: right;\">\n",
              "      <th></th>\n",
              "      <th>user_name</th>\n",
              "      <th>user_location</th>\n",
              "      <th>user_description</th>\n",
              "      <th>user_created</th>\n",
              "      <th>user_followers</th>\n",
              "      <th>user_friends</th>\n",
              "      <th>user_favourites</th>\n",
              "      <th>user_verified</th>\n",
              "      <th>date</th>\n",
              "      <th>text</th>\n",
              "      <th>hashtags</th>\n",
              "      <th>source</th>\n",
              "      <th>is_retweet</th>\n",
              "      <th>compound</th>\n",
              "      <th>score</th>\n",
              "      <th>sentiment_level</th>\n",
              "      <th>polarity</th>\n",
              "      <th>subjectivity</th>\n",
              "    </tr>\n",
              "  </thead>\n",
              "  <tbody>\n",
              "    <tr>\n",
              "      <th>0</th>\n",
              "      <td>Irk</td>\n",
              "      <td>Vancouver, WA</td>\n",
              "      <td>Irk started investing in the stock market in 1...</td>\n",
              "      <td>2018-08-11 03:17:00</td>\n",
              "      <td>116.0</td>\n",
              "      <td>8.0</td>\n",
              "      <td>4580.0</td>\n",
              "      <td>False</td>\n",
              "      <td>2023-02-25 23:59:00</td>\n",
              "      <td>bitcoin btc rest crypto ye bitcoin cryptocurr ...</td>\n",
              "      <td>['Bitcoin', 'crypto', 'NeedsMoreCrash']</td>\n",
              "      <td>Twitter Web App</td>\n",
              "      <td>0.0</td>\n",
              "      <td>-0.4019</td>\n",
              "      <td>-2.154092e+05</td>\n",
              "      <td>Negative</td>\n",
              "      <td>0.000000</td>\n",
              "      <td>0.000000</td>\n",
              "    </tr>\n",
              "    <tr>\n",
              "      <th>1</th>\n",
              "      <td>Xiang Zhang</td>\n",
              "      <td>NaN</td>\n",
              "      <td>Professional Software Engineer ð»ðCrypto ...</td>\n",
              "      <td>2011-01-11 01:37:00</td>\n",
              "      <td>42.0</td>\n",
              "      <td>22.0</td>\n",
              "      <td>5.0</td>\n",
              "      <td>False</td>\n",
              "      <td>2023-02-25 23:59:00</td>\n",
              "      <td>retriev invest fund current ongo tidexcoin kic...</td>\n",
              "      <td>['Tidexcoin', 'Kicurrency', 'LMY', 'GMK', 'SYR...</td>\n",
              "      <td>Twitter for iPhone</td>\n",
              "      <td>0.0</td>\n",
              "      <td>0.0000</td>\n",
              "      <td>0.000000e+00</td>\n",
              "      <td>Neutral</td>\n",
              "      <td>0.000000</td>\n",
              "      <td>0.400000</td>\n",
              "    </tr>\n",
              "    <tr>\n",
              "      <th>2</th>\n",
              "      <td>Rhizoo</td>\n",
              "      <td>NaN</td>\n",
              "      <td>researcher. local maxima dunningâkruger spec...</td>\n",
              "      <td>2019-04-03 18:09:00</td>\n",
              "      <td>778.0</td>\n",
              "      <td>627.0</td>\n",
              "      <td>32005.0</td>\n",
              "      <td>False</td>\n",
              "      <td>2023-02-25 23:59:00</td>\n",
              "      <td>bull save monthli thread today good shit bitco...</td>\n",
              "      <td>['bitcoin']</td>\n",
              "      <td>Twitter Web App</td>\n",
              "      <td>0.0</td>\n",
              "      <td>0.3612</td>\n",
              "      <td>9.005682e+06</td>\n",
              "      <td>Positive</td>\n",
              "      <td>0.250000</td>\n",
              "      <td>0.700000</td>\n",
              "    </tr>\n",
              "    <tr>\n",
              "      <th>3</th>\n",
              "      <td>Hari Marquez</td>\n",
              "      <td>Las Vegas, NV</td>\n",
              "      <td>Donât trust, verify. #Bitcoin | El Salvador ...</td>\n",
              "      <td>2014-01-17 23:04:00</td>\n",
              "      <td>222.0</td>\n",
              "      <td>521.0</td>\n",
              "      <td>13052.0</td>\n",
              "      <td>False</td>\n",
              "      <td>2023-02-25 23:59:00</td>\n",
              "      <td>el salvador shape futur bitcoin membvk32cn</td>\n",
              "      <td>['Bitcoin']</td>\n",
              "      <td>Twitter Web App</td>\n",
              "      <td>0.0</td>\n",
              "      <td>0.0000</td>\n",
              "      <td>0.000000e+00</td>\n",
              "      <td>Neutral</td>\n",
              "      <td>0.000000</td>\n",
              "      <td>0.000000</td>\n",
              "    </tr>\n",
              "    <tr>\n",
              "      <th>4</th>\n",
              "      <td>Bitcoin Candle Bot</td>\n",
              "      <td>Brazil</td>\n",
              "      <td>Robot that posts the closure of the bitcoin da...</td>\n",
              "      <td>2021-01-06 01:36:00</td>\n",
              "      <td>40.0</td>\n",
              "      <td>4.0</td>\n",
              "      <td>1.0</td>\n",
              "      <td>False</td>\n",
              "      <td>2023-02-25 23:59:00</td>\n",
              "      <td>candl day 25022023 close open 2319406 high 232...</td>\n",
              "      <td>['Bitcoin', 'Candle', 'BearMarket']</td>\n",
              "      <td>Bitcoin Candle Bot</td>\n",
              "      <td>0.0</td>\n",
              "      <td>-0.2732</td>\n",
              "      <td>-2.240240e+01</td>\n",
              "      <td>Negative</td>\n",
              "      <td>0.053333</td>\n",
              "      <td>0.446667</td>\n",
              "    </tr>\n",
              "  </tbody>\n",
              "</table>\n",
              "</div>\n",
              "      <button class=\"colab-df-convert\" onclick=\"convertToInteractive('df-c2a82558-78fe-4acb-b17b-a377df44efe0')\"\n",
              "              title=\"Convert this dataframe to an interactive table.\"\n",
              "              style=\"display:none;\">\n",
              "        \n",
              "  <svg xmlns=\"http://www.w3.org/2000/svg\" height=\"24px\"viewBox=\"0 0 24 24\"\n",
              "       width=\"24px\">\n",
              "    <path d=\"M0 0h24v24H0V0z\" fill=\"none\"/>\n",
              "    <path d=\"M18.56 5.44l.94 2.06.94-2.06 2.06-.94-2.06-.94-.94-2.06-.94 2.06-2.06.94zm-11 1L8.5 8.5l.94-2.06 2.06-.94-2.06-.94L8.5 2.5l-.94 2.06-2.06.94zm10 10l.94 2.06.94-2.06 2.06-.94-2.06-.94-.94-2.06-.94 2.06-2.06.94z\"/><path d=\"M17.41 7.96l-1.37-1.37c-.4-.4-.92-.59-1.43-.59-.52 0-1.04.2-1.43.59L10.3 9.45l-7.72 7.72c-.78.78-.78 2.05 0 2.83L4 21.41c.39.39.9.59 1.41.59.51 0 1.02-.2 1.41-.59l7.78-7.78 2.81-2.81c.8-.78.8-2.07 0-2.86zM5.41 20L4 18.59l7.72-7.72 1.47 1.35L5.41 20z\"/>\n",
              "  </svg>\n",
              "      </button>\n",
              "      \n",
              "  <style>\n",
              "    .colab-df-container {\n",
              "      display:flex;\n",
              "      flex-wrap:wrap;\n",
              "      gap: 12px;\n",
              "    }\n",
              "\n",
              "    .colab-df-convert {\n",
              "      background-color: #E8F0FE;\n",
              "      border: none;\n",
              "      border-radius: 50%;\n",
              "      cursor: pointer;\n",
              "      display: none;\n",
              "      fill: #1967D2;\n",
              "      height: 32px;\n",
              "      padding: 0 0 0 0;\n",
              "      width: 32px;\n",
              "    }\n",
              "\n",
              "    .colab-df-convert:hover {\n",
              "      background-color: #E2EBFA;\n",
              "      box-shadow: 0px 1px 2px rgba(60, 64, 67, 0.3), 0px 1px 3px 1px rgba(60, 64, 67, 0.15);\n",
              "      fill: #174EA6;\n",
              "    }\n",
              "\n",
              "    [theme=dark] .colab-df-convert {\n",
              "      background-color: #3B4455;\n",
              "      fill: #D2E3FC;\n",
              "    }\n",
              "\n",
              "    [theme=dark] .colab-df-convert:hover {\n",
              "      background-color: #434B5C;\n",
              "      box-shadow: 0px 1px 3px 1px rgba(0, 0, 0, 0.15);\n",
              "      filter: drop-shadow(0px 1px 2px rgba(0, 0, 0, 0.3));\n",
              "      fill: #FFFFFF;\n",
              "    }\n",
              "  </style>\n",
              "\n",
              "      <script>\n",
              "        const buttonEl =\n",
              "          document.querySelector('#df-c2a82558-78fe-4acb-b17b-a377df44efe0 button.colab-df-convert');\n",
              "        buttonEl.style.display =\n",
              "          google.colab.kernel.accessAllowed ? 'block' : 'none';\n",
              "\n",
              "        async function convertToInteractive(key) {\n",
              "          const element = document.querySelector('#df-c2a82558-78fe-4acb-b17b-a377df44efe0');\n",
              "          const dataTable =\n",
              "            await google.colab.kernel.invokeFunction('convertToInteractive',\n",
              "                                                     [key], {});\n",
              "          if (!dataTable) return;\n",
              "\n",
              "          const docLinkHtml = 'Like what you see? Visit the ' +\n",
              "            '<a target=\"_blank\" href=https://colab.research.google.com/notebooks/data_table.ipynb>data table notebook</a>'\n",
              "            + ' to learn more about interactive tables.';\n",
              "          element.innerHTML = '';\n",
              "          dataTable['output_type'] = 'display_data';\n",
              "          await google.colab.output.renderOutput(dataTable, element);\n",
              "          const docLink = document.createElement('div');\n",
              "          docLink.innerHTML = docLinkHtml;\n",
              "          element.appendChild(docLink);\n",
              "        }\n",
              "      </script>\n",
              "    </div>\n",
              "  </div>\n",
              "  "
            ]
          },
          "metadata": {},
          "execution_count": 5
        }
      ],
      "source": [
        "tweets.head()"
      ]
    },
    {
      "cell_type": "code",
      "execution_count": 6,
      "metadata": {
        "colab": {
          "base_uri": "https://localhost:8080/"
        },
        "id": "ebW8ujq0mA9S",
        "outputId": "c3f10287-715d-4129-b61a-01d6e5f64480"
      },
      "outputs": [
        {
          "output_type": "stream",
          "name": "stdout",
          "text": [
            "Index(['user_name', 'user_location', 'user_description', 'user_created',\n",
            "       'user_followers', 'user_friends', 'user_favourites', 'user_verified',\n",
            "       'date', 'text', 'hashtags', 'source', 'is_retweet', 'compound', 'score',\n",
            "       'sentiment_level', 'polarity', 'subjectivity'],\n",
            "      dtype='object')\n"
          ]
        }
      ],
      "source": [
        "print(tweets.columns)"
      ]
    },
    {
      "cell_type": "code",
      "execution_count": 7,
      "metadata": {
        "colab": {
          "base_uri": "https://localhost:8080/"
        },
        "id": "e8a4O-LcmDV5",
        "outputId": "e1193cf4-b35e-4878-91f6-23bd9124cd38"
      },
      "outputs": [
        {
          "output_type": "stream",
          "name": "stdout",
          "text": [
            "Shape of the dataset: (167652, 18)\n",
            "Size of the dataset (number of elements): 3017736\n"
          ]
        }
      ],
      "source": [
        "import pandas as pd\n",
        "\n",
        "\n",
        "# Check the shape of the dataset\n",
        "print(\"Shape of the dataset:\", tweets.shape)\n",
        "\n",
        "# Check the size of the dataset\n",
        "print(\"Size of the dataset (number of elements):\",tweets.size)\n"
      ]
    },
    {
      "cell_type": "code",
      "execution_count": 8,
      "metadata": {
        "colab": {
          "base_uri": "https://localhost:8080/"
        },
        "id": "iESjvi7jmOMA",
        "outputId": "6261a199-69ac-49ab-d346-17d4961fddd2"
      },
      "outputs": [
        {
          "output_type": "stream",
          "name": "stdout",
          "text": [
            "Shape of the data: (167652, 18)\n"
          ]
        }
      ],
      "source": [
        "import pandas as pd\n",
        "import os\n",
        "\n",
        "\n",
        "# Check the shape of the data\n",
        "print(\"Shape of the data:\", tweets.shape)\n",
        "\n"
      ]
    },
    {
      "cell_type": "code",
      "execution_count": 9,
      "metadata": {
        "colab": {
          "base_uri": "https://localhost:8080/"
        },
        "id": "rlDhbF14mmR7",
        "outputId": "73cf5cea-f0a4-4c47-8097-a623a522f207"
      },
      "outputs": [
        {
          "output_type": "stream",
          "name": "stdout",
          "text": [
            "Neutral             93169\n",
            "Positive            35921\n",
            "Extreme Positive    17343\n",
            "Negative            15903\n",
            "Extreme Negative     5316\n",
            "Name: sentiment_level, dtype: int64\n"
          ]
        }
      ],
      "source": [
        "label_counts = tweets['sentiment_level'].value_counts()\n",
        "print(label_counts)"
      ]
    },
    {
      "cell_type": "markdown",
      "metadata": {
        "id": "DsCrx9DLC_Kn"
      },
      "source": [
        "#Classification Modeling on Sentiment Prediction"
      ]
    },
    {
      "cell_type": "code",
      "execution_count": 10,
      "metadata": {
        "colab": {
          "base_uri": "https://localhost:8080/",
          "height": 156
        },
        "id": "PXAx4FlTEDAD",
        "outputId": "a3b63230-0dfe-4451-d4e8-c4eddff2f6d8"
      },
      "outputs": [
        {
          "output_type": "execute_result",
          "data": {
            "text/plain": [
              "                  time     close      high       low      open  volumefrom  \\\n",
              "0  2023-02-19 13:00:00  24682.03  24715.82  24682.03  24707.39      903.97   \n",
              "1  2023-02-19 14:00:00  24765.79  24792.85  24679.21  24682.03     1220.29   \n",
              "\n",
              "      volumeto        Date      Time       volume     marketcap  price_delta  \n",
              "0  22335943.28  2023-02-19  13:00:00  22335039.31  5.512964e+11          NaN  \n",
              "1  30203001.55  2023-02-19  14:00:00  30201781.26  7.480012e+11        83.76  "
            ],
            "text/html": [
              "\n",
              "  <div id=\"df-bb405645-a166-4c4d-a200-c2485220c6b3\">\n",
              "    <div class=\"colab-df-container\">\n",
              "      <div>\n",
              "<style scoped>\n",
              "    .dataframe tbody tr th:only-of-type {\n",
              "        vertical-align: middle;\n",
              "    }\n",
              "\n",
              "    .dataframe tbody tr th {\n",
              "        vertical-align: top;\n",
              "    }\n",
              "\n",
              "    .dataframe thead th {\n",
              "        text-align: right;\n",
              "    }\n",
              "</style>\n",
              "<table border=\"1\" class=\"dataframe\">\n",
              "  <thead>\n",
              "    <tr style=\"text-align: right;\">\n",
              "      <th></th>\n",
              "      <th>time</th>\n",
              "      <th>close</th>\n",
              "      <th>high</th>\n",
              "      <th>low</th>\n",
              "      <th>open</th>\n",
              "      <th>volumefrom</th>\n",
              "      <th>volumeto</th>\n",
              "      <th>Date</th>\n",
              "      <th>Time</th>\n",
              "      <th>volume</th>\n",
              "      <th>marketcap</th>\n",
              "      <th>price_delta</th>\n",
              "    </tr>\n",
              "  </thead>\n",
              "  <tbody>\n",
              "    <tr>\n",
              "      <th>0</th>\n",
              "      <td>2023-02-19 13:00:00</td>\n",
              "      <td>24682.03</td>\n",
              "      <td>24715.82</td>\n",
              "      <td>24682.03</td>\n",
              "      <td>24707.39</td>\n",
              "      <td>903.97</td>\n",
              "      <td>22335943.28</td>\n",
              "      <td>2023-02-19</td>\n",
              "      <td>13:00:00</td>\n",
              "      <td>22335039.31</td>\n",
              "      <td>5.512964e+11</td>\n",
              "      <td>NaN</td>\n",
              "    </tr>\n",
              "    <tr>\n",
              "      <th>1</th>\n",
              "      <td>2023-02-19 14:00:00</td>\n",
              "      <td>24765.79</td>\n",
              "      <td>24792.85</td>\n",
              "      <td>24679.21</td>\n",
              "      <td>24682.03</td>\n",
              "      <td>1220.29</td>\n",
              "      <td>30203001.55</td>\n",
              "      <td>2023-02-19</td>\n",
              "      <td>14:00:00</td>\n",
              "      <td>30201781.26</td>\n",
              "      <td>7.480012e+11</td>\n",
              "      <td>83.76</td>\n",
              "    </tr>\n",
              "  </tbody>\n",
              "</table>\n",
              "</div>\n",
              "      <button class=\"colab-df-convert\" onclick=\"convertToInteractive('df-bb405645-a166-4c4d-a200-c2485220c6b3')\"\n",
              "              title=\"Convert this dataframe to an interactive table.\"\n",
              "              style=\"display:none;\">\n",
              "        \n",
              "  <svg xmlns=\"http://www.w3.org/2000/svg\" height=\"24px\"viewBox=\"0 0 24 24\"\n",
              "       width=\"24px\">\n",
              "    <path d=\"M0 0h24v24H0V0z\" fill=\"none\"/>\n",
              "    <path d=\"M18.56 5.44l.94 2.06.94-2.06 2.06-.94-2.06-.94-.94-2.06-.94 2.06-2.06.94zm-11 1L8.5 8.5l.94-2.06 2.06-.94-2.06-.94L8.5 2.5l-.94 2.06-2.06.94zm10 10l.94 2.06.94-2.06 2.06-.94-2.06-.94-.94-2.06-.94 2.06-2.06.94z\"/><path d=\"M17.41 7.96l-1.37-1.37c-.4-.4-.92-.59-1.43-.59-.52 0-1.04.2-1.43.59L10.3 9.45l-7.72 7.72c-.78.78-.78 2.05 0 2.83L4 21.41c.39.39.9.59 1.41.59.51 0 1.02-.2 1.41-.59l7.78-7.78 2.81-2.81c.8-.78.8-2.07 0-2.86zM5.41 20L4 18.59l7.72-7.72 1.47 1.35L5.41 20z\"/>\n",
              "  </svg>\n",
              "      </button>\n",
              "      \n",
              "  <style>\n",
              "    .colab-df-container {\n",
              "      display:flex;\n",
              "      flex-wrap:wrap;\n",
              "      gap: 12px;\n",
              "    }\n",
              "\n",
              "    .colab-df-convert {\n",
              "      background-color: #E8F0FE;\n",
              "      border: none;\n",
              "      border-radius: 50%;\n",
              "      cursor: pointer;\n",
              "      display: none;\n",
              "      fill: #1967D2;\n",
              "      height: 32px;\n",
              "      padding: 0 0 0 0;\n",
              "      width: 32px;\n",
              "    }\n",
              "\n",
              "    .colab-df-convert:hover {\n",
              "      background-color: #E2EBFA;\n",
              "      box-shadow: 0px 1px 2px rgba(60, 64, 67, 0.3), 0px 1px 3px 1px rgba(60, 64, 67, 0.15);\n",
              "      fill: #174EA6;\n",
              "    }\n",
              "\n",
              "    [theme=dark] .colab-df-convert {\n",
              "      background-color: #3B4455;\n",
              "      fill: #D2E3FC;\n",
              "    }\n",
              "\n",
              "    [theme=dark] .colab-df-convert:hover {\n",
              "      background-color: #434B5C;\n",
              "      box-shadow: 0px 1px 3px 1px rgba(0, 0, 0, 0.15);\n",
              "      filter: drop-shadow(0px 1px 2px rgba(0, 0, 0, 0.3));\n",
              "      fill: #FFFFFF;\n",
              "    }\n",
              "  </style>\n",
              "\n",
              "      <script>\n",
              "        const buttonEl =\n",
              "          document.querySelector('#df-bb405645-a166-4c4d-a200-c2485220c6b3 button.colab-df-convert');\n",
              "        buttonEl.style.display =\n",
              "          google.colab.kernel.accessAllowed ? 'block' : 'none';\n",
              "\n",
              "        async function convertToInteractive(key) {\n",
              "          const element = document.querySelector('#df-bb405645-a166-4c4d-a200-c2485220c6b3');\n",
              "          const dataTable =\n",
              "            await google.colab.kernel.invokeFunction('convertToInteractive',\n",
              "                                                     [key], {});\n",
              "          if (!dataTable) return;\n",
              "\n",
              "          const docLinkHtml = 'Like what you see? Visit the ' +\n",
              "            '<a target=\"_blank\" href=https://colab.research.google.com/notebooks/data_table.ipynb>data table notebook</a>'\n",
              "            + ' to learn more about interactive tables.';\n",
              "          element.innerHTML = '';\n",
              "          dataTable['output_type'] = 'display_data';\n",
              "          await google.colab.output.renderOutput(dataTable, element);\n",
              "          const docLink = document.createElement('div');\n",
              "          docLink.innerHTML = docLinkHtml;\n",
              "          element.appendChild(docLink);\n",
              "        }\n",
              "      </script>\n",
              "    </div>\n",
              "  </div>\n",
              "  "
            ]
          },
          "metadata": {},
          "execution_count": 10
        }
      ],
      "source": [
        "# Create a copy of the bitcoin price DataFrame\n",
        "crypto_usd.head(2)"
      ]
    },
    {
      "cell_type": "code",
      "execution_count": 11,
      "metadata": {
        "colab": {
          "base_uri": "https://localhost:8080/"
        },
        "id": "uAQGvHMjJSc1",
        "outputId": "c0b66e92-953b-4eb8-bd0e-5a7a99f3961d"
      },
      "outputs": [
        {
          "output_type": "stream",
          "name": "stdout",
          "text": [
            "Index(['time', 'close', 'high', 'low', 'open', 'volumefrom', 'volumeto',\n",
            "       'Date', 'Time', 'volume', 'marketcap', 'price_delta'],\n",
            "      dtype='object')\n"
          ]
        }
      ],
      "source": [
        "print(crypto_usd.columns)"
      ]
    },
    {
      "cell_type": "code",
      "execution_count": 12,
      "metadata": {
        "colab": {
          "base_uri": "https://localhost:8080/",
          "height": 367
        },
        "id": "tpgNRZ5vD8oT",
        "outputId": "04fb7bff-a379-47f5-9940-25e73ce7f53c"
      },
      "outputs": [
        {
          "output_type": "execute_result",
          "data": {
            "text/plain": [
              "     user_name  user_location  \\\n",
              "0          Irk  Vancouver, WA   \n",
              "1  Xiang Zhang            NaN   \n",
              "\n",
              "                                    user_description         user_created  \\\n",
              "0  Irk started investing in the stock market in 1...  2018-08-11 03:17:00   \n",
              "1  Professional Software Engineer ð»ðCrypto ...  2011-01-11 01:37:00   \n",
              "\n",
              "   user_followers  user_friends  user_favourites  user_verified  \\\n",
              "0           116.0           8.0           4580.0          False   \n",
              "1            42.0          22.0              5.0          False   \n",
              "\n",
              "                  date                                               text  \\\n",
              "0  2023-02-25 23:59:00  bitcoin btc rest crypto ye bitcoin cryptocurr ...   \n",
              "1  2023-02-25 23:59:00  retriev invest fund current ongo tidexcoin kic...   \n",
              "\n",
              "                                            hashtags              source  \\\n",
              "0            ['Bitcoin', 'crypto', 'NeedsMoreCrash']     Twitter Web App   \n",
              "1  ['Tidexcoin', 'Kicurrency', 'LMY', 'GMK', 'SYR...  Twitter for iPhone   \n",
              "\n",
              "   is_retweet  compound        score sentiment_level  polarity  subjectivity  \n",
              "0         0.0   -0.4019 -215409.1563        Negative       0.0           0.0  \n",
              "1         0.0    0.0000       0.0000         Neutral       0.0           0.4  "
            ],
            "text/html": [
              "\n",
              "  <div id=\"df-82962999-271a-4de9-9f08-5ebc6dc9e04b\">\n",
              "    <div class=\"colab-df-container\">\n",
              "      <div>\n",
              "<style scoped>\n",
              "    .dataframe tbody tr th:only-of-type {\n",
              "        vertical-align: middle;\n",
              "    }\n",
              "\n",
              "    .dataframe tbody tr th {\n",
              "        vertical-align: top;\n",
              "    }\n",
              "\n",
              "    .dataframe thead th {\n",
              "        text-align: right;\n",
              "    }\n",
              "</style>\n",
              "<table border=\"1\" class=\"dataframe\">\n",
              "  <thead>\n",
              "    <tr style=\"text-align: right;\">\n",
              "      <th></th>\n",
              "      <th>user_name</th>\n",
              "      <th>user_location</th>\n",
              "      <th>user_description</th>\n",
              "      <th>user_created</th>\n",
              "      <th>user_followers</th>\n",
              "      <th>user_friends</th>\n",
              "      <th>user_favourites</th>\n",
              "      <th>user_verified</th>\n",
              "      <th>date</th>\n",
              "      <th>text</th>\n",
              "      <th>hashtags</th>\n",
              "      <th>source</th>\n",
              "      <th>is_retweet</th>\n",
              "      <th>compound</th>\n",
              "      <th>score</th>\n",
              "      <th>sentiment_level</th>\n",
              "      <th>polarity</th>\n",
              "      <th>subjectivity</th>\n",
              "    </tr>\n",
              "  </thead>\n",
              "  <tbody>\n",
              "    <tr>\n",
              "      <th>0</th>\n",
              "      <td>Irk</td>\n",
              "      <td>Vancouver, WA</td>\n",
              "      <td>Irk started investing in the stock market in 1...</td>\n",
              "      <td>2018-08-11 03:17:00</td>\n",
              "      <td>116.0</td>\n",
              "      <td>8.0</td>\n",
              "      <td>4580.0</td>\n",
              "      <td>False</td>\n",
              "      <td>2023-02-25 23:59:00</td>\n",
              "      <td>bitcoin btc rest crypto ye bitcoin cryptocurr ...</td>\n",
              "      <td>['Bitcoin', 'crypto', 'NeedsMoreCrash']</td>\n",
              "      <td>Twitter Web App</td>\n",
              "      <td>0.0</td>\n",
              "      <td>-0.4019</td>\n",
              "      <td>-215409.1563</td>\n",
              "      <td>Negative</td>\n",
              "      <td>0.0</td>\n",
              "      <td>0.0</td>\n",
              "    </tr>\n",
              "    <tr>\n",
              "      <th>1</th>\n",
              "      <td>Xiang Zhang</td>\n",
              "      <td>NaN</td>\n",
              "      <td>Professional Software Engineer ð»ðCrypto ...</td>\n",
              "      <td>2011-01-11 01:37:00</td>\n",
              "      <td>42.0</td>\n",
              "      <td>22.0</td>\n",
              "      <td>5.0</td>\n",
              "      <td>False</td>\n",
              "      <td>2023-02-25 23:59:00</td>\n",
              "      <td>retriev invest fund current ongo tidexcoin kic...</td>\n",
              "      <td>['Tidexcoin', 'Kicurrency', 'LMY', 'GMK', 'SYR...</td>\n",
              "      <td>Twitter for iPhone</td>\n",
              "      <td>0.0</td>\n",
              "      <td>0.0000</td>\n",
              "      <td>0.0000</td>\n",
              "      <td>Neutral</td>\n",
              "      <td>0.0</td>\n",
              "      <td>0.4</td>\n",
              "    </tr>\n",
              "  </tbody>\n",
              "</table>\n",
              "</div>\n",
              "      <button class=\"colab-df-convert\" onclick=\"convertToInteractive('df-82962999-271a-4de9-9f08-5ebc6dc9e04b')\"\n",
              "              title=\"Convert this dataframe to an interactive table.\"\n",
              "              style=\"display:none;\">\n",
              "        \n",
              "  <svg xmlns=\"http://www.w3.org/2000/svg\" height=\"24px\"viewBox=\"0 0 24 24\"\n",
              "       width=\"24px\">\n",
              "    <path d=\"M0 0h24v24H0V0z\" fill=\"none\"/>\n",
              "    <path d=\"M18.56 5.44l.94 2.06.94-2.06 2.06-.94-2.06-.94-.94-2.06-.94 2.06-2.06.94zm-11 1L8.5 8.5l.94-2.06 2.06-.94-2.06-.94L8.5 2.5l-.94 2.06-2.06.94zm10 10l.94 2.06.94-2.06 2.06-.94-2.06-.94-.94-2.06-.94 2.06-2.06.94z\"/><path d=\"M17.41 7.96l-1.37-1.37c-.4-.4-.92-.59-1.43-.59-.52 0-1.04.2-1.43.59L10.3 9.45l-7.72 7.72c-.78.78-.78 2.05 0 2.83L4 21.41c.39.39.9.59 1.41.59.51 0 1.02-.2 1.41-.59l7.78-7.78 2.81-2.81c.8-.78.8-2.07 0-2.86zM5.41 20L4 18.59l7.72-7.72 1.47 1.35L5.41 20z\"/>\n",
              "  </svg>\n",
              "      </button>\n",
              "      \n",
              "  <style>\n",
              "    .colab-df-container {\n",
              "      display:flex;\n",
              "      flex-wrap:wrap;\n",
              "      gap: 12px;\n",
              "    }\n",
              "\n",
              "    .colab-df-convert {\n",
              "      background-color: #E8F0FE;\n",
              "      border: none;\n",
              "      border-radius: 50%;\n",
              "      cursor: pointer;\n",
              "      display: none;\n",
              "      fill: #1967D2;\n",
              "      height: 32px;\n",
              "      padding: 0 0 0 0;\n",
              "      width: 32px;\n",
              "    }\n",
              "\n",
              "    .colab-df-convert:hover {\n",
              "      background-color: #E2EBFA;\n",
              "      box-shadow: 0px 1px 2px rgba(60, 64, 67, 0.3), 0px 1px 3px 1px rgba(60, 64, 67, 0.15);\n",
              "      fill: #174EA6;\n",
              "    }\n",
              "\n",
              "    [theme=dark] .colab-df-convert {\n",
              "      background-color: #3B4455;\n",
              "      fill: #D2E3FC;\n",
              "    }\n",
              "\n",
              "    [theme=dark] .colab-df-convert:hover {\n",
              "      background-color: #434B5C;\n",
              "      box-shadow: 0px 1px 3px 1px rgba(0, 0, 0, 0.15);\n",
              "      filter: drop-shadow(0px 1px 2px rgba(0, 0, 0, 0.3));\n",
              "      fill: #FFFFFF;\n",
              "    }\n",
              "  </style>\n",
              "\n",
              "      <script>\n",
              "        const buttonEl =\n",
              "          document.querySelector('#df-82962999-271a-4de9-9f08-5ebc6dc9e04b button.colab-df-convert');\n",
              "        buttonEl.style.display =\n",
              "          google.colab.kernel.accessAllowed ? 'block' : 'none';\n",
              "\n",
              "        async function convertToInteractive(key) {\n",
              "          const element = document.querySelector('#df-82962999-271a-4de9-9f08-5ebc6dc9e04b');\n",
              "          const dataTable =\n",
              "            await google.colab.kernel.invokeFunction('convertToInteractive',\n",
              "                                                     [key], {});\n",
              "          if (!dataTable) return;\n",
              "\n",
              "          const docLinkHtml = 'Like what you see? Visit the ' +\n",
              "            '<a target=\"_blank\" href=https://colab.research.google.com/notebooks/data_table.ipynb>data table notebook</a>'\n",
              "            + ' to learn more about interactive tables.';\n",
              "          element.innerHTML = '';\n",
              "          dataTable['output_type'] = 'display_data';\n",
              "          await google.colab.output.renderOutput(dataTable, element);\n",
              "          const docLink = document.createElement('div');\n",
              "          docLink.innerHTML = docLinkHtml;\n",
              "          element.appendChild(docLink);\n",
              "        }\n",
              "      </script>\n",
              "    </div>\n",
              "  </div>\n",
              "  "
            ]
          },
          "metadata": {},
          "execution_count": 12
        }
      ],
      "source": [
        "# Create a copy of the  bitcoin tweets DataFrame\n",
        "df_tweets = tweets.copy()\n",
        "df_tweets.head(2)"
      ]
    },
    {
      "cell_type": "code",
      "execution_count": 13,
      "metadata": {
        "id": "FI5tZc4Y2EBx"
      },
      "outputs": [],
      "source": [
        "# Merge the tweet data with the Bitcoin price data\n",
        "tweets_df = pd.merge(df_tweets, crypto_usd, left_on='date', right_on='time', how='inner')"
      ]
    },
    {
      "cell_type": "code",
      "execution_count": 14,
      "metadata": {
        "colab": {
          "base_uri": "https://localhost:8080/"
        },
        "id": "i2sNum_sIkRk",
        "outputId": "b5c285ea-03c6-40fb-8a89-46a9a9f842bb"
      },
      "outputs": [
        {
          "output_type": "stream",
          "name": "stdout",
          "text": [
            "Index(['user_name', 'user_location', 'user_description', 'user_created',\n",
            "       'user_followers', 'user_friends', 'user_favourites', 'user_verified',\n",
            "       'date', 'text', 'hashtags', 'source', 'is_retweet', 'compound', 'score',\n",
            "       'sentiment_level', 'polarity', 'subjectivity', 'time', 'close', 'high',\n",
            "       'low', 'open', 'volumefrom', 'volumeto', 'Date', 'Time', 'volume',\n",
            "       'marketcap', 'price_delta'],\n",
            "      dtype='object')\n"
          ]
        }
      ],
      "source": [
        "print(tweets_df.columns)\n"
      ]
    },
    {
      "cell_type": "markdown",
      "source": [
        "###Feature Extraction"
      ],
      "metadata": {
        "id": "kZaI3fIYuBQ3"
      }
    },
    {
      "cell_type": "code",
      "execution_count": 15,
      "metadata": {
        "id": "MoXtFfVoP9wB"
      },
      "outputs": [],
      "source": [
        "import pandas as pd\n",
        "from sklearn.feature_extraction.text import CountVectorizer\n",
        "from sklearn.model_selection import train_test_split\n",
        "from sklearn.naive_bayes import MultinomialNB\n",
        "from sklearn.metrics import accuracy_score\n",
        "from scipy.sparse import hstack\n",
        "\n",
        "# Feature Extraction: Unigrams\n",
        "unigram_vectorizer = CountVectorizer(ngram_range=(1, 1))\n",
        "unigram_features = unigram_vectorizer.fit_transform(tweets_df['text'])\n",
        "\n",
        "# Feature Extraction: Bigrams\n",
        "bigram_vectorizer = CountVectorizer(ngram_range=(2, 2))\n",
        "bigram_features = bigram_vectorizer.fit_transform(tweets_df['text'])\n",
        "\n",
        "# Combining Features\n",
        "combined_features = hstack([unigram_features, bigram_features])\n",
        "\n",
        "# Perform sentiment analysis\n",
        "X = combined_features\n",
        "y = tweets_df['sentiment_level']\n",
        "\n",
        "# Split the data into training and testing sets\n",
        "X_train, X_test, y_train, y_test = train_test_split(X, y, test_size=0.2, random_state=42)"
      ]
    },
    {
      "cell_type": "code",
      "source": [
        "#from sklearn.feature_extraction.text import CountVectorizer: This line imports the CountVectorizer class from the Scikit-learn library. CountVectorizer is used for converting text documents into numerical feature vectors. It transforms the text data into a matrix where each row represents a document, and each column represents a unique word in the dataset."
      ],
      "metadata": {
        "id": "85qznO3Ky3EQ"
      },
      "execution_count": 16,
      "outputs": []
    },
    {
      "cell_type": "code",
      "execution_count": 17,
      "metadata": {
        "colab": {
          "base_uri": "https://localhost:8080/"
        },
        "id": "HiyhjngLHy8M",
        "outputId": "dee5333d-4247-4c73-ea28-043488a160da"
      },
      "outputs": [
        {
          "output_type": "stream",
          "name": "stdout",
          "text": [
            "[[0 0 0 ... 0 0 0]\n",
            " [0 0 0 ... 0 0 0]\n",
            " [0 0 0 ... 0 0 0]\n",
            " ...\n",
            " [0 0 0 ... 0 0 0]\n",
            " [0 0 0 ... 0 0 0]\n",
            " [0 0 0 ... 0 0 0]]\n"
          ]
        }
      ],
      "source": [
        "import numpy as np\n",
        "\n",
        "# Print the first 10 rows of the term frequency matrix\n",
        "print(combined_features[:10].toarray())\n"
      ]
    },
    {
      "cell_type": "markdown",
      "metadata": {
        "id": "lpe-yv09QfVo"
      },
      "source": [
        "##Naive_bayes"
      ]
    },
    {
      "cell_type": "code",
      "source": [
        "from sklearn.metrics import classification_report"
      ],
      "metadata": {
        "id": "JNzFMRZcupQO"
      },
      "execution_count": 19,
      "outputs": []
    },
    {
      "cell_type": "code",
      "execution_count": null,
      "metadata": {
        "colab": {
          "base_uri": "https://localhost:8080/"
        },
        "id": "q0lYBjLJZW1R",
        "outputId": "90f6e1f3-76b9-420c-9b95-9fb713751218"
      },
      "outputs": [
        {
          "output_type": "stream",
          "name": "stdout",
          "text": [
            "Accuracy: 0.7879746835443038\n",
            "Precision: 0.8031951087547753\n",
            "Recall: 0.7879746835443038\n",
            "F1-Score: 0.791715079259514\n",
            "Predicted sentiment: ['Neutral']\n",
            "                  precision    recall  f1-score   support\n",
            "\n",
            "Extreme Negative       0.93      0.71      0.80        55\n",
            "Extreme Positive       0.50      0.69      0.58       127\n",
            "        Negative       0.83      0.61      0.71       157\n",
            "         Neutral       0.88      0.86      0.87       908\n",
            "        Positive       0.67      0.74      0.70       333\n",
            "\n",
            "        accuracy                           0.79      1580\n",
            "       macro avg       0.76      0.72      0.73      1580\n",
            "    weighted avg       0.80      0.79      0.79      1580\n",
            "\n"
          ]
        }
      ],
      "source": [
        "from sklearn.metrics import accuracy_score, precision_score, recall_score, f1_score\n",
        "\n",
        "# Train a classification model (e.g., Naive Bayes)\n",
        "classifier = MultinomialNB()\n",
        "classifier.fit(X_train, y_train)\n",
        "\n",
        "# Predict sentiment labels for test data\n",
        "y_pred = classifier.predict(X_test)\n",
        "\n",
        "# Evaluate the model using additional metrics\n",
        "accuracy = accuracy_score(y_test, y_pred)\n",
        "precision = precision_score(y_test, y_pred, average='weighted')\n",
        "recall = recall_score(y_test, y_pred, average='weighted')\n",
        "f1 = f1_score(y_test, y_pred, average='weighted')\n",
        "\n",
        "print(\"Accuracy:\", accuracy)\n",
        "print(\"Precision:\", precision)\n",
        "print(\"Recall:\", recall)\n",
        "print(\"F1-Score:\", f1)\n",
        "\n",
        "# Use the trained model for future predictions\n",
        "new_tweet = [\"New tweet about Bitcoin\"]\n",
        "new_tweet_features = hstack([unigram_vectorizer.transform(new_tweet), bigram_vectorizer.transform(new_tweet)])\n",
        "predicted_sentiment = classifier.predict(new_tweet_features)\n",
        "#Classification Report\n",
        "print(\"Predicted sentiment:\", predicted_sentiment)\n",
        "print(classification_report(y_test, y_pred))"
      ]
    },
    {
      "cell_type": "code",
      "source": [
        "#The Naive Bayes classifier achieved an accuracy of 0.7879746835443038 and a precision of 0.8031951087547753 for sentiment analysis on the tweet dataset."
      ],
      "metadata": {
        "id": "CsdBhXH1zNyC"
      },
      "execution_count": null,
      "outputs": []
    },
    {
      "cell_type": "markdown",
      "metadata": {
        "id": "E3tDEWvdQj-G"
      },
      "source": [
        "##Support Vector Machines (SVM)"
      ]
    },
    {
      "cell_type": "code",
      "execution_count": null,
      "metadata": {
        "colab": {
          "base_uri": "https://localhost:8080/"
        },
        "id": "09ex2Vh7Z8gL",
        "outputId": "f01b6db0-2d7b-4127-ebae-fda2a6bbc441"
      },
      "outputs": [
        {
          "output_type": "stream",
          "name": "stdout",
          "text": [
            "Accuracy: 0.8645569620253165\n",
            "Precision: 0.8642113824767497\n",
            "Recall: 0.8645569620253165\n",
            "F1-Score: 0.859632616414193\n",
            "Predicted sentiment: ['Neutral']\n",
            "                  precision    recall  f1-score   support\n",
            "\n",
            "Extreme Negative       0.95      0.76      0.85        55\n",
            "Extreme Positive       0.86      0.65      0.74       127\n",
            "        Negative       0.89      0.70      0.78       157\n",
            "         Neutral       0.87      0.97      0.92       908\n",
            "        Positive       0.82      0.74      0.78       333\n",
            "\n",
            "        accuracy                           0.86      1580\n",
            "       macro avg       0.88      0.77      0.81      1580\n",
            "    weighted avg       0.86      0.86      0.86      1580\n",
            "\n"
          ]
        }
      ],
      "source": [
        "import pandas as pd\n",
        "from sklearn.feature_extraction.text import CountVectorizer\n",
        "from sklearn.model_selection import train_test_split\n",
        "from sklearn.svm import LinearSVC\n",
        "from sklearn.metrics import accuracy_score, precision_score, recall_score, f1_score\n",
        "\n",
        "try:\n",
        "    # Split the data into training and testing sets\n",
        "    X_train, X_test, y_train, y_test = train_test_split(X, y, test_size=0.2, random_state=42)\n",
        "\n",
        "    # Train a linear SVM classifier\n",
        "    classifier = LinearSVC()\n",
        "    classifier.fit(X_train, y_train)\n",
        "\n",
        "    # Evaluate the model using additional metrics\n",
        "    y_pred = classifier.predict(X_test)\n",
        "    accuracy = accuracy_score(y_test, y_pred)\n",
        "    precision = precision_score(y_test, y_pred, average='weighted')\n",
        "    recall = recall_score(y_test, y_pred, average='weighted')\n",
        "    f1 = f1_score(y_test, y_pred, average='weighted')\n",
        "\n",
        "    print(\"Accuracy:\", accuracy)\n",
        "    print(\"Precision:\", precision)\n",
        "    print(\"Recall:\", recall)\n",
        "    print(\"F1-Score:\", f1)\n",
        "\n",
        "    # Use the trained model for future predictions\n",
        "    new_tweet = [\"New tweet about Bitcoin\"]\n",
        "    new_tweet_features = hstack([unigram_vectorizer.transform(new_tweet), bigram_vectorizer.transform(new_tweet)])\n",
        "    predicted_sentiment = classifier.predict(new_tweet_features)\n",
        "    print(\"Predicted sentiment:\", predicted_sentiment)\n",
        "\n",
        "except Exception as e:\n",
        "    print(\"An error occurred:\", str(e))\n",
        "#Classification Report\n",
        "print(classification_report(y_test, y_pred))"
      ]
    },
    {
      "cell_type": "code",
      "source": [
        "#The SVM classifier achieved an accuracy of 0.8645569620253165 and a precision of 0.8642113824767497 for sentiment analysis on the tweet dataset. The predicted sentiment is 'Neutral'."
      ],
      "metadata": {
        "id": "rpAHIoEEzgTO"
      },
      "execution_count": null,
      "outputs": []
    },
    {
      "cell_type": "markdown",
      "metadata": {
        "id": "y0A7AVxHQm86"
      },
      "source": [
        "##Random Forest"
      ]
    },
    {
      "cell_type": "code",
      "execution_count": 21,
      "metadata": {
        "colab": {
          "base_uri": "https://localhost:8080/"
        },
        "id": "ANVsVwF_aSqb",
        "outputId": "95532a34-fb3e-4931-8011-4e212f1ae5c8"
      },
      "outputs": [
        {
          "output_type": "stream",
          "name": "stdout",
          "text": [
            "Accuracy: 0.8575949367088608\n",
            "Precision: 0.8647362580034188\n",
            "Recall: 0.8575949367088608\n",
            "F1-Score: 0.8488711984107943\n",
            "Predicted sentiment: ['Neutral']\n",
            "                  precision    recall  f1-score   support\n",
            "\n",
            "Extreme Negative       1.00      0.75      0.85        55\n",
            "Extreme Positive       0.94      0.47      0.63       127\n",
            "        Negative       0.95      0.66      0.78       157\n",
            "         Neutral       0.85      0.99      0.91       908\n",
            "        Positive       0.81      0.77      0.79       333\n",
            "\n",
            "        accuracy                           0.86      1580\n",
            "       macro avg       0.91      0.73      0.79      1580\n",
            "    weighted avg       0.86      0.86      0.85      1580\n",
            "\n"
          ]
        }
      ],
      "source": [
        "import pandas as pd\n",
        "from sklearn.feature_extraction.text import CountVectorizer\n",
        "from sklearn.model_selection import train_test_split\n",
        "from sklearn.ensemble import RandomForestClassifier\n",
        "from sklearn.metrics import accuracy_score, precision_score, recall_score, f1_score\n",
        "\n",
        "\n",
        "\n",
        "# Feature Extraction: Unigrams\n",
        "vectorizer = CountVectorizer(ngram_range=(1, 1))\n",
        "X = vectorizer.fit_transform(tweets_df['text'])\n",
        "y = tweets_df['sentiment_level']\n",
        "\n",
        "try:\n",
        "    # Split the data into training and testing sets\n",
        "    X_train, X_test, y_train, y_test = train_test_split(X, y, test_size=0.2, random_state=42)\n",
        "\n",
        "    # Train a linear Random Forest classifier\n",
        "    classifier = RandomForestClassifier()\n",
        "    classifier.fit(X_train, y_train)\n",
        "\n",
        "    # Evaluate the model using additional metrics\n",
        "    y_pred = classifier.predict(X_test)\n",
        "    accuracy = accuracy_score(y_test, y_pred)\n",
        "    precision = precision_score(y_test, y_pred, average='weighted')\n",
        "    recall = recall_score(y_test, y_pred, average='weighted')\n",
        "    f1 = f1_score(y_test, y_pred, average='weighted')\n",
        "\n",
        "    print(\"Accuracy:\", accuracy)\n",
        "    print(\"Precision:\", precision)\n",
        "    print(\"Recall:\", recall)\n",
        "    print(\"F1-Score:\", f1)\n",
        "\n",
        "    # Use the trained model for future predictions\n",
        "    new_tweet = [\"New tweet about Bitcoin\"]\n",
        "    new_tweet_features = vectorizer.transform(new_tweet)\n",
        "    predicted_sentiment = classifier.predict(new_tweet_features)\n",
        "    print(\"Predicted sentiment:\", predicted_sentiment)\n",
        "\n",
        "except Exception as e:\n",
        "    print(\"An error occurred:\", str(e))\n",
        "#Classification Report\n",
        "print(classification_report(y_test, y_pred))"
      ]
    },
    {
      "cell_type": "code",
      "source": [
        "#The Random Forest classifier achieved an accuracy of 0.870253164556962 and a precision of 0.8670628029958947 for sentiment analysis on the tweet dataset. The predicted sentiment is 'Neutral'."
      ],
      "metadata": {
        "id": "nTTGXgQvzqEO"
      },
      "execution_count": null,
      "outputs": []
    },
    {
      "cell_type": "markdown",
      "metadata": {
        "id": "HQ0FU7BlbQf0"
      },
      "source": [
        "##Logistic Regression"
      ]
    },
    {
      "cell_type": "code",
      "execution_count": null,
      "metadata": {
        "colab": {
          "base_uri": "https://localhost:8080/"
        },
        "id": "CgglAV8Lb0_7",
        "outputId": "55433568-f736-4f89-e225-728d9451be6a"
      },
      "outputs": [
        {
          "output_type": "stream",
          "name": "stdout",
          "text": [
            "Accuracy: 0.859493670886076\n",
            "Precision: 0.8596313804881421\n",
            "Recall: 0.859493670886076\n",
            "F1-Score: 0.8545443425051455\n",
            "Predicted sentiment: ['Neutral']\n",
            "                  precision    recall  f1-score   support\n",
            "\n",
            "Extreme Negative       1.00      0.73      0.84        55\n",
            "Extreme Positive       0.86      0.64      0.73       127\n",
            "        Negative       0.86      0.69      0.76       157\n",
            "         Neutral       0.87      0.97      0.91       908\n",
            "        Positive       0.82      0.75      0.78       333\n",
            "\n",
            "        accuracy                           0.86      1580\n",
            "       macro avg       0.88      0.75      0.81      1580\n",
            "    weighted avg       0.86      0.86      0.85      1580\n",
            "\n"
          ]
        }
      ],
      "source": [
        "import pandas as pd\n",
        "from sklearn.feature_extraction.text import CountVectorizer\n",
        "from sklearn.model_selection import train_test_split\n",
        "from sklearn.linear_model import LogisticRegression\n",
        "from sklearn.metrics import accuracy_score, precision_score, recall_score, f1_score\n",
        "\n",
        "# Assuming you have tweets_df with the appropriate 'text' and 'sentiment_level' columns\n",
        "\n",
        "# Feature Extraction: Unigrams\n",
        "vectorizer = CountVectorizer(ngram_range=(1, 1))\n",
        "X = vectorizer.fit_transform(tweets_df['text'])\n",
        "y = tweets_df['sentiment_level']\n",
        "\n",
        "try:\n",
        "    # Split the data into training and testing sets\n",
        "    X_train, X_test, y_train, y_test = train_test_split(X, y, test_size=0.2, random_state=42)\n",
        "\n",
        "    # Train a logistic regression classifier with increased max_iter\n",
        "    classifier = LogisticRegression(max_iter=1000)\n",
        "    classifier.fit(X_train, y_train)\n",
        "\n",
        "    # Evaluate the model using additional metrics\n",
        "    y_pred = classifier.predict(X_test)\n",
        "    accuracy = accuracy_score(y_test, y_pred)\n",
        "    precision = precision_score(y_test, y_pred, average='weighted')\n",
        "    recall = recall_score(y_test, y_pred, average='weighted')\n",
        "    f1 = f1_score(y_test, y_pred, average='weighted')\n",
        "\n",
        "    print(\"Accuracy:\", accuracy)\n",
        "    print(\"Precision:\", precision)\n",
        "    print(\"Recall:\", recall)\n",
        "    print(\"F1-Score:\", f1)\n",
        "\n",
        "    # Use the trained model for future predictions\n",
        "    new_tweet = [\"New tweet about Bitcoin\"]\n",
        "    new_tweet_features = vectorizer.transform(new_tweet)\n",
        "    predicted_sentiment = classifier.predict(new_tweet_features)\n",
        "    print(\"Predicted sentiment:\", predicted_sentiment)\n",
        "\n",
        "except Exception as e:\n",
        "    print(\"An error occurred:\", str(e))\n",
        "#Classification Report\n",
        "print(classification_report(y_test, y_pred))"
      ]
    },
    {
      "cell_type": "code",
      "source": [
        "#The Logistic Regression classifier achieved an accuracy of 0.859493670886076 and a precision of 0.8596313804881421 for sentiment analysis on the tweet dataset. The predicted sentiment is 'Neutral'."
      ],
      "metadata": {
        "id": "4GMiDijezxhH"
      },
      "execution_count": null,
      "outputs": []
    },
    {
      "cell_type": "markdown",
      "metadata": {
        "id": "lFwwZHoAb_ZT"
      },
      "source": [
        "##Gradient Boosting"
      ]
    },
    {
      "cell_type": "code",
      "execution_count": null,
      "metadata": {
        "colab": {
          "base_uri": "https://localhost:8080/"
        },
        "id": "fdryk0QIcN-H",
        "outputId": "ca40eaca-d663-4423-f24e-00a0e671202d"
      },
      "outputs": [
        {
          "output_type": "stream",
          "name": "stdout",
          "text": [
            "Accuracy: 0.8468354430379746\n",
            "Precision: 0.8543684218834472\n",
            "Recall: 0.8468354430379746\n",
            "F1-Score: 0.8375792142254445\n",
            "Predicted sentiment: ['Neutral']\n",
            "                  precision    recall  f1-score   support\n",
            "\n",
            "Extreme Negative       0.90      0.78      0.83        55\n",
            "Extreme Positive       0.94      0.57      0.71       127\n",
            "        Negative       0.92      0.62      0.74       157\n",
            "         Neutral       0.83      0.99      0.90       908\n",
            "        Positive       0.86      0.68      0.76       333\n",
            "\n",
            "        accuracy                           0.85      1580\n",
            "       macro avg       0.89      0.73      0.79      1580\n",
            "    weighted avg       0.85      0.85      0.84      1580\n",
            "\n"
          ]
        }
      ],
      "source": [
        "import pandas as pd\n",
        "from sklearn.feature_extraction.text import CountVectorizer\n",
        "from sklearn.model_selection import train_test_split\n",
        "from sklearn.ensemble import GradientBoostingClassifier\n",
        "from sklearn.metrics import accuracy_score, precision_score, recall_score, f1_score\n",
        "\n",
        "# Assuming you have tweets_df with the appropriate 'text' and 'sentiment_level' columns\n",
        "\n",
        "# Feature Extraction: Unigrams\n",
        "vectorizer = CountVectorizer(ngram_range=(1, 1))\n",
        "X = vectorizer.fit_transform(tweets_df['text'])\n",
        "y = tweets_df['sentiment_level']\n",
        "\n",
        "try:\n",
        "    # Split the data into training and testing sets\n",
        "    X_train, X_test, y_train, y_test = train_test_split(X, y, test_size=0.2, random_state=42)\n",
        "\n",
        "    # Train a Gradient Boosting classifier\n",
        "    classifier = GradientBoostingClassifier()\n",
        "    classifier.fit(X_train, y_train)\n",
        "\n",
        "    # Evaluate the model using additional metrics\n",
        "    y_pred = classifier.predict(X_test)\n",
        "    accuracy = accuracy_score(y_test, y_pred)\n",
        "    precision = precision_score(y_test, y_pred, average='weighted')\n",
        "    recall = recall_score(y_test, y_pred, average='weighted')\n",
        "    f1 = f1_score(y_test, y_pred, average='weighted')\n",
        "\n",
        "    print(\"Accuracy:\", accuracy)\n",
        "    print(\"Precision:\", precision)\n",
        "    print(\"Recall:\", recall)\n",
        "    print(\"F1-Score:\", f1)\n",
        "\n",
        "    # Use the trained model for future predictions\n",
        "    new_tweet = [\"New tweet about Bitcoin\"]\n",
        "    new_tweet_features = vectorizer.transform(new_tweet)\n",
        "    predicted_sentiment = classifier.predict(new_tweet_features)\n",
        "    print(\"Predicted sentiment:\", predicted_sentiment)\n",
        "\n",
        "except Exception as e:\n",
        "    print(\"An error occurred:\", str(e))\n",
        "#Classification Report\n",
        "print(classification_report(y_test, y_pred))"
      ]
    },
    {
      "cell_type": "code",
      "source": [
        "#The Gradient Boosting classifier achieved an accuracy of 0.8468354430379746 and a precision of 0.8543684218834472 for sentiment analysis on the tweet dataset. The predicted sentiment is 'Neutral'."
      ],
      "metadata": {
        "id": "hyaOEyYPz5r5"
      },
      "execution_count": null,
      "outputs": []
    },
    {
      "cell_type": "markdown",
      "metadata": {
        "id": "ZGMI3fdDm4Fz"
      },
      "source": [
        "#Cross Validation of Models"
      ]
    },
    {
      "cell_type": "code",
      "execution_count": null,
      "metadata": {
        "colab": {
          "base_uri": "https://localhost:8080/"
        },
        "id": "TIaqqtYErrWb",
        "outputId": "e8d06a4a-f3d6-49dd-fa86-e9ecc72579e4"
      },
      "outputs": [
        {
          "name": "stdout",
          "output_type": "stream",
          "text": [
            "Model: Naive Bayes\n",
            "Cross-Validation Mean Score: 0.7910727171592651\n",
            "Accuracy: 0.7879746835443038\n",
            "\n"
          ]
        }
      ],
      "source": [
        "from sklearn.naive_bayes import MultinomialNB\n",
        "from sklearn.svm import SVC\n",
        "from sklearn.ensemble import RandomForestClassifier, GradientBoostingClassifier\n",
        "from sklearn.linear_model import LogisticRegression\n",
        "from sklearn.model_selection import cross_val_score\n",
        "\n",
        "# Define the models\n",
        "models = [\n",
        "    (\"Naive Bayes\", MultinomialNB()),\n",
        "    (\"Support Vector Machine\", SVC()),\n",
        "    (\"Random Forest\", RandomForestClassifier()),\n",
        "    (\"Logistic Regression\", LogisticRegression()),\n",
        "    (\"Gradient Boosting\", GradientBoostingClassifier())\n",
        "]\n",
        "\n",
        "# Perform cross-validation and evaluation for each model\n",
        "for model_name, model in models:\n",
        "    # Perform cross-validation\n",
        "    scores = cross_val_score(model, X_train, y_train, cv=5)\n",
        "    mean_score = scores.mean()\n",
        "\n",
        "    # Fit the model on the entire training set\n",
        "    model.fit(X_train, y_train)\n",
        "\n",
        "    # Evaluate the model on the test set\n",
        "    accuracy = model.score(X_test, y_test)\n",
        "\n",
        "    # Print the results\n",
        "    print(\"Model:\", model_name)\n",
        "    print(\"Cross-Validation Mean Score:\", mean_score)\n",
        "    print(\"Accuracy:\", accuracy)\n",
        "    print()\n"
      ]
    },
    {
      "cell_type": "markdown",
      "metadata": {
        "id": "ur2kr115bLn-"
      },
      "source": [
        "##Cross Validation"
      ]
    },
    {
      "cell_type": "code",
      "execution_count": null,
      "metadata": {
        "id": "XdvX49BePrXW"
      },
      "outputs": [],
      "source": [
        "#cross-validation for the models using scikit-learn's cross_val_score function"
      ]
    },
    {
      "cell_type": "code",
      "execution_count": 20,
      "metadata": {
        "id": "LcjVq5LYxQSI"
      },
      "outputs": [],
      "source": [
        "import pandas as pd\n",
        "from sklearn.feature_extraction.text import CountVectorizer\n",
        "from sklearn.feature_selection import SelectKBest, chi2\n",
        "from sklearn.model_selection import train_test_split, cross_val_score\n",
        "from sklearn.naive_bayes import MultinomialNB\n",
        "from sklearn.svm import SVC\n",
        "from sklearn.ensemble import RandomForestClassifier\n",
        "from sklearn.metrics import accuracy_score\n",
        "from scipy.sparse import hstack\n"
      ]
    },
    {
      "cell_type": "code",
      "source": [
        "#Naive Bayes"
      ],
      "metadata": {
        "id": "SX9unl1Hvt24"
      },
      "execution_count": null,
      "outputs": []
    },
    {
      "cell_type": "code",
      "execution_count": null,
      "metadata": {
        "colab": {
          "base_uri": "https://localhost:8080/"
        },
        "id": "zLuXrn4q96nm",
        "outputId": "46eb89f9-f78b-4750-a522-c001ba2cdd4e"
      },
      "outputs": [
        {
          "output_type": "stream",
          "name": "stdout",
          "text": [
            "Naive Bayes Cross-Validation Scores: 0.7888584042414585\n",
            "Naive Bayes Accuracy: 0.7943037974683544\n",
            "                  precision    recall  f1-score   support\n",
            "\n",
            "Extreme Negative       0.94      0.58      0.72        55\n",
            "Extreme Positive       0.60      0.57      0.59       127\n",
            "        Negative       0.85      0.58      0.69       157\n",
            "         Neutral       0.84      0.92      0.88       908\n",
            "        Positive       0.69      0.68      0.69       333\n",
            "\n",
            "        accuracy                           0.79      1580\n",
            "       macro avg       0.79      0.67      0.71      1580\n",
            "    weighted avg       0.79      0.79      0.79      1580\n",
            "\n"
          ]
        }
      ],
      "source": [
        "from sklearn.naive_bayes import MultinomialNB\n",
        "from sklearn.svm import LinearSVC\n",
        "from sklearn.ensemble import RandomForestClassifier\n",
        "from sklearn.model_selection import cross_val_score\n",
        "\n",
        "# Train and evaluate Naive Bayes\n",
        "naive_bayes = MultinomialNB()\n",
        "naive_bayes_scores = cross_val_score(naive_bayes, X_train, y_train, cv=5)\n",
        "print(\"Naive Bayes Cross-Validation Scores:\", naive_bayes_scores.mean())\n",
        "naive_bayes.fit(X_train, y_train)\n",
        "naive_bayes_accuracy = naive_bayes.score(X_test, y_test)\n",
        "print(\"Naive Bayes Accuracy:\", naive_bayes_accuracy)\n",
        "# Predict sentiment labels for test data\n",
        "y_pred = naive_bayes.predict(X_test)\n",
        "from sklearn.metrics import classification_report\n",
        "print(classification_report(y_test, y_pred))"
      ]
    },
    {
      "cell_type": "code",
      "source": [
        "#SVM"
      ],
      "metadata": {
        "id": "NdQ7pmWevwrT"
      },
      "execution_count": null,
      "outputs": []
    },
    {
      "cell_type": "code",
      "execution_count": null,
      "metadata": {
        "colab": {
          "base_uri": "https://localhost:8080/"
        },
        "id": "v4bprg9FJlm-",
        "outputId": "3ee91320-c01d-4d41-b572-05db2e4e4404"
      },
      "outputs": [
        {
          "output_type": "stream",
          "name": "stdout",
          "text": [
            "SVM Cross-Validation Scores: 0.8630914439199415\n",
            "SVM Accuracy: 0.870253164556962\n",
            "                  precision    recall  f1-score   support\n",
            "\n",
            "Extreme Negative       0.89      0.76      0.82        55\n",
            "Extreme Positive       0.79      0.70      0.74       127\n",
            "        Negative       0.81      0.71      0.76       157\n",
            "         Neutral       0.90      0.96      0.93       908\n",
            "        Positive       0.83      0.77      0.80       333\n",
            "\n",
            "        accuracy                           0.87      1580\n",
            "       macro avg       0.84      0.78      0.81      1580\n",
            "    weighted avg       0.87      0.87      0.87      1580\n",
            "\n"
          ]
        }
      ],
      "source": [
        "from sklearn.naive_bayes import MultinomialNB\n",
        "from sklearn.svm import LinearSVC\n",
        "from sklearn.ensemble import RandomForestClassifier\n",
        "from sklearn.model_selection import cross_val_score\n",
        "\n",
        "# Train and evaluate SVM\n",
        "svm = LinearSVC()\n",
        "svm_scores = cross_val_score(svm, X_train, y_train, cv=5)\n",
        "print(\"SVM Cross-Validation Scores:\", svm_scores.mean())\n",
        "svm.fit(X_train, y_train)\n",
        "svm_accuracy = svm.score(X_test, y_test)\n",
        "print(\"SVM Accuracy:\", svm_accuracy)\n",
        "# Predict sentiment labels for test data\n",
        "y_pred = svm.predict(X_test)\n",
        "from sklearn.metrics import classification_report\n",
        "print(classification_report(y_test, y_pred))"
      ]
    },
    {
      "cell_type": "code",
      "source": [
        "#Random Forest"
      ],
      "metadata": {
        "id": "0YtFf9Wrv0F4"
      },
      "execution_count": null,
      "outputs": []
    },
    {
      "cell_type": "code",
      "execution_count": null,
      "metadata": {
        "colab": {
          "base_uri": "https://localhost:8080/"
        },
        "id": "Reod3BDzwXgU",
        "outputId": "e79bf299-ba3e-4f3f-c049-20be54ebcb59"
      },
      "outputs": [
        {
          "output_type": "stream",
          "name": "stdout",
          "text": [
            "Random Forest Cross-Validation Mean Score: 0.8553332681880594\n",
            "Random Forest Accuracy: 0.8645569620253165\n",
            "                  precision    recall  f1-score   support\n",
            "\n",
            "Extreme Negative       1.00      0.75      0.85        55\n",
            "Extreme Positive       0.96      0.52      0.67       127\n",
            "        Negative       0.94      0.66      0.78       157\n",
            "         Neutral       0.85      0.99      0.92       908\n",
            "        Positive       0.83      0.78      0.80       333\n",
            "\n",
            "        accuracy                           0.86      1580\n",
            "       macro avg       0.92      0.74      0.80      1580\n",
            "    weighted avg       0.87      0.86      0.86      1580\n",
            "\n"
          ]
        }
      ],
      "source": [
        "\n",
        "# Train Random Forest classifier\n",
        "random_forest = RandomForestClassifier(n_estimators=100, n_jobs=-1)\n",
        "random_forest.fit(X_train, y_train)\n",
        "\n",
        "# Evaluate Random Forest\n",
        "random_forest_scores = cross_val_score(random_forest, X_train, y_train, cv=5)\n",
        "random_forest_mean_score = random_forest_scores.mean()\n",
        "\n",
        "random_forest_accuracy = random_forest.score(X_test, y_test)\n",
        "\n",
        "# Print results\n",
        "print(\"Random Forest Cross-Validation Mean Score:\", random_forest_mean_score)\n",
        "print(\"Random Forest Accuracy:\", random_forest_accuracy)\n",
        "# Predict sentiment labels for test data\n",
        "y_pred = random_forest.predict(X_test)\n",
        "from sklearn.metrics import classification_report\n",
        "print(classification_report(y_test, y_pred))\n"
      ]
    },
    {
      "cell_type": "code",
      "source": [
        "#Logistic Regression"
      ],
      "metadata": {
        "id": "w-OiZQ-MwcrC"
      },
      "execution_count": null,
      "outputs": []
    },
    {
      "cell_type": "code",
      "execution_count": null,
      "metadata": {
        "colab": {
          "background_save": true
        },
        "id": "KqK9_nBgxhxA",
        "outputId": "387978e9-766b-47ab-85d6-7829edefe5a6"
      },
      "outputs": [
        {
          "name": "stdout",
          "output_type": "stream",
          "text": [
            "Logistic Regression Cross-Validation Mean Score: 0.8429882387724625\n",
            "Logistic Regression Accuracy: 0.8537974683544304\n",
            "                  precision    recall  f1-score   support\n",
            "\n",
            "Extreme Negative       0.98      0.75      0.85        55\n",
            "Extreme Positive       0.90      0.55      0.68       127\n",
            "        Negative       0.92      0.69      0.79       157\n",
            "         Neutral       0.84      0.98      0.91       908\n",
            "        Positive       0.83      0.73      0.78       333\n",
            "\n",
            "        accuracy                           0.85      1580\n",
            "       macro avg       0.89      0.74      0.80      1580\n",
            "    weighted avg       0.86      0.85      0.85      1580\n",
            "\n"
          ]
        }
      ],
      "source": [
        "from sklearn.naive_bayes import MultinomialNB\n",
        "from sklearn.svm import LinearSVC\n",
        "from sklearn.ensemble import RandomForestClassifier, GradientBoostingClassifier\n",
        "from sklearn.linear_model import LogisticRegression\n",
        "from sklearn.model_selection import cross_val_score\n",
        "\n",
        "# Train and evaluate Logistic Regression\n",
        "logistic_regression = LogisticRegression(max_iter=1000)\n",
        "logistic_regression_scores = cross_val_score(logistic_regression, X_train, y_train, cv=5)\n",
        "logistic_regression_mean_score = logistic_regression_scores.mean()\n",
        "logistic_regression.fit(X_train, y_train)\n",
        "logistic_regression_accuracy = logistic_regression.score(X_test, y_test)\n",
        "print(\"Logistic Regression Cross-Validation Mean Score:\", logistic_regression_mean_score)\n",
        "print(\"Logistic Regression Accuracy:\", logistic_regression_accuracy)\n",
        "# Predict sentiment labels for test data\n",
        "y_pred = logistic_regression.predict(X_test)\n",
        "from sklearn.metrics import classification_report\n",
        "print(classification_report(y_test, y_pred))"
      ]
    },
    {
      "cell_type": "code",
      "source": [
        "#Gradient Boosting"
      ],
      "metadata": {
        "id": "_JBVtL-hwd32"
      },
      "execution_count": null,
      "outputs": []
    },
    {
      "cell_type": "code",
      "execution_count": null,
      "metadata": {
        "colab": {
          "base_uri": "https://localhost:8080/"
        },
        "id": "poVFroDUyrFP",
        "outputId": "65e10d64-36f5-498a-947c-68726ef25668"
      },
      "outputs": [
        {
          "output_type": "stream",
          "name": "stdout",
          "text": [
            "Gradient Boosting Cross-Validation Mean Score: 0.8421968977524533\n",
            "Gradient Boosting Accuracy: 0.8436708860759494\n",
            "                  precision    recall  f1-score   support\n",
            "\n",
            "Extreme Negative       0.89      0.76      0.82        55\n",
            "Extreme Positive       0.93      0.58      0.71       127\n",
            "        Negative       0.93      0.61      0.74       157\n",
            "         Neutral       0.82      0.99      0.90       908\n",
            "        Positive       0.86      0.66      0.75       333\n",
            "\n",
            "        accuracy                           0.84      1580\n",
            "       macro avg       0.89      0.72      0.78      1580\n",
            "    weighted avg       0.85      0.84      0.83      1580\n",
            "\n"
          ]
        }
      ],
      "source": [
        "from sklearn.ensemble import GradientBoostingClassifier\n",
        "from sklearn.model_selection import cross_val_score\n",
        "\n",
        "# Train and evaluate Gradient Boosting Classifier\n",
        "gradient_boosting = GradientBoostingClassifier()\n",
        "gradient_boosting_scores = cross_val_score(gradient_boosting, X_train, y_train, cv=3)  # Adjust cv parameter as needed\n",
        "gradient_boosting_mean_score = gradient_boosting_scores.mean()\n",
        "\n",
        "gradient_boosting.fit(X_train, y_train)\n",
        "gradient_boosting_accuracy = gradient_boosting.score(X_test, y_test)\n",
        "\n",
        "print(\"Gradient Boosting Cross-Validation Mean Score:\", gradient_boosting_mean_score)\n",
        "print(\"Gradient Boosting Accuracy:\", gradient_boosting_accuracy)\n",
        "# Predict sentiment labels for test data\n",
        "y_pred = gradient_boosting.predict(X_test)\n",
        "from sklearn.metrics import classification_report\n",
        "print(classification_report(y_test, y_pred))"
      ]
    },
    {
      "cell_type": "markdown",
      "metadata": {
        "id": "ACuUPDYPKKaa"
      },
      "source": [
        "##Hyperparameter Tuning"
      ]
    },
    {
      "cell_type": "code",
      "execution_count": null,
      "metadata": {
        "colab": {
          "base_uri": "https://localhost:8080/"
        },
        "id": "dhqXkzGN18YH",
        "outputId": "6f49cc97-7d89-48ce-b59e-4d9bb2a728b9"
      },
      "outputs": [
        {
          "output_type": "stream",
          "name": "stdout",
          "text": [
            "Model: Naive Bayes\n",
            "Best Parameters: {'alpha': 1.0}\n",
            "Cross-Validation Accuracy: 0.7736638954869359\n",
            "Accuracy: 0.7639240506329114\n",
            "\n",
            "Model: Support Vector Machine\n",
            "Best Parameters: {'C': 10.0}\n",
            "Cross-Validation Accuracy: 0.8809735710634715\n",
            "Accuracy: 0.8848101265822785\n",
            "\n",
            "Model: Random Forest\n",
            "Best Parameters: {'n_estimators': 300}\n",
            "Cross-Validation Accuracy: 0.8649886747446806\n",
            "Accuracy: 0.8613924050632912\n",
            "\n"
          ]
        },
        {
          "output_type": "stream",
          "name": "stderr",
          "text": [
            "/usr/local/lib/python3.10/dist-packages/sklearn/linear_model/_logistic.py:458: ConvergenceWarning: lbfgs failed to converge (status=1):\n",
            "STOP: TOTAL NO. of ITERATIONS REACHED LIMIT.\n",
            "\n",
            "Increase the number of iterations (max_iter) or scale the data as shown in:\n",
            "    https://scikit-learn.org/stable/modules/preprocessing.html\n",
            "Please also refer to the documentation for alternative solver options:\n",
            "    https://scikit-learn.org/stable/modules/linear_model.html#logistic-regression\n",
            "  n_iter_i = _check_optimize_result(\n",
            "/usr/local/lib/python3.10/dist-packages/sklearn/linear_model/_logistic.py:458: ConvergenceWarning: lbfgs failed to converge (status=1):\n",
            "STOP: TOTAL NO. of ITERATIONS REACHED LIMIT.\n",
            "\n",
            "Increase the number of iterations (max_iter) or scale the data as shown in:\n",
            "    https://scikit-learn.org/stable/modules/preprocessing.html\n",
            "Please also refer to the documentation for alternative solver options:\n",
            "    https://scikit-learn.org/stable/modules/linear_model.html#logistic-regression\n",
            "  n_iter_i = _check_optimize_result(\n",
            "/usr/local/lib/python3.10/dist-packages/sklearn/linear_model/_logistic.py:458: ConvergenceWarning: lbfgs failed to converge (status=1):\n",
            "STOP: TOTAL NO. of ITERATIONS REACHED LIMIT.\n",
            "\n",
            "Increase the number of iterations (max_iter) or scale the data as shown in:\n",
            "    https://scikit-learn.org/stable/modules/preprocessing.html\n",
            "Please also refer to the documentation for alternative solver options:\n",
            "    https://scikit-learn.org/stable/modules/linear_model.html#logistic-regression\n",
            "  n_iter_i = _check_optimize_result(\n",
            "/usr/local/lib/python3.10/dist-packages/sklearn/linear_model/_logistic.py:458: ConvergenceWarning: lbfgs failed to converge (status=1):\n",
            "STOP: TOTAL NO. of ITERATIONS REACHED LIMIT.\n",
            "\n",
            "Increase the number of iterations (max_iter) or scale the data as shown in:\n",
            "    https://scikit-learn.org/stable/modules/preprocessing.html\n",
            "Please also refer to the documentation for alternative solver options:\n",
            "    https://scikit-learn.org/stable/modules/linear_model.html#logistic-regression\n",
            "  n_iter_i = _check_optimize_result(\n",
            "/usr/local/lib/python3.10/dist-packages/sklearn/linear_model/_logistic.py:458: ConvergenceWarning: lbfgs failed to converge (status=1):\n",
            "STOP: TOTAL NO. of ITERATIONS REACHED LIMIT.\n",
            "\n",
            "Increase the number of iterations (max_iter) or scale the data as shown in:\n",
            "    https://scikit-learn.org/stable/modules/preprocessing.html\n",
            "Please also refer to the documentation for alternative solver options:\n",
            "    https://scikit-learn.org/stable/modules/linear_model.html#logistic-regression\n",
            "  n_iter_i = _check_optimize_result(\n",
            "/usr/local/lib/python3.10/dist-packages/sklearn/linear_model/_logistic.py:458: ConvergenceWarning: lbfgs failed to converge (status=1):\n",
            "STOP: TOTAL NO. of ITERATIONS REACHED LIMIT.\n",
            "\n",
            "Increase the number of iterations (max_iter) or scale the data as shown in:\n",
            "    https://scikit-learn.org/stable/modules/preprocessing.html\n",
            "Please also refer to the documentation for alternative solver options:\n",
            "    https://scikit-learn.org/stable/modules/linear_model.html#logistic-regression\n",
            "  n_iter_i = _check_optimize_result(\n",
            "/usr/local/lib/python3.10/dist-packages/sklearn/linear_model/_logistic.py:458: ConvergenceWarning: lbfgs failed to converge (status=1):\n",
            "STOP: TOTAL NO. of ITERATIONS REACHED LIMIT.\n",
            "\n",
            "Increase the number of iterations (max_iter) or scale the data as shown in:\n",
            "    https://scikit-learn.org/stable/modules/preprocessing.html\n",
            "Please also refer to the documentation for alternative solver options:\n",
            "    https://scikit-learn.org/stable/modules/linear_model.html#logistic-regression\n",
            "  n_iter_i = _check_optimize_result(\n",
            "/usr/local/lib/python3.10/dist-packages/sklearn/linear_model/_logistic.py:458: ConvergenceWarning: lbfgs failed to converge (status=1):\n",
            "STOP: TOTAL NO. of ITERATIONS REACHED LIMIT.\n",
            "\n",
            "Increase the number of iterations (max_iter) or scale the data as shown in:\n",
            "    https://scikit-learn.org/stable/modules/preprocessing.html\n",
            "Please also refer to the documentation for alternative solver options:\n",
            "    https://scikit-learn.org/stable/modules/linear_model.html#logistic-regression\n",
            "  n_iter_i = _check_optimize_result(\n",
            "/usr/local/lib/python3.10/dist-packages/sklearn/linear_model/_logistic.py:458: ConvergenceWarning: lbfgs failed to converge (status=1):\n",
            "STOP: TOTAL NO. of ITERATIONS REACHED LIMIT.\n",
            "\n",
            "Increase the number of iterations (max_iter) or scale the data as shown in:\n",
            "    https://scikit-learn.org/stable/modules/preprocessing.html\n",
            "Please also refer to the documentation for alternative solver options:\n",
            "    https://scikit-learn.org/stable/modules/linear_model.html#logistic-regression\n",
            "  n_iter_i = _check_optimize_result(\n",
            "/usr/local/lib/python3.10/dist-packages/sklearn/linear_model/_logistic.py:458: ConvergenceWarning: lbfgs failed to converge (status=1):\n",
            "STOP: TOTAL NO. of ITERATIONS REACHED LIMIT.\n",
            "\n",
            "Increase the number of iterations (max_iter) or scale the data as shown in:\n",
            "    https://scikit-learn.org/stable/modules/preprocessing.html\n",
            "Please also refer to the documentation for alternative solver options:\n",
            "    https://scikit-learn.org/stable/modules/linear_model.html#logistic-regression\n",
            "  n_iter_i = _check_optimize_result(\n",
            "/usr/local/lib/python3.10/dist-packages/sklearn/linear_model/_logistic.py:458: ConvergenceWarning: lbfgs failed to converge (status=1):\n",
            "STOP: TOTAL NO. of ITERATIONS REACHED LIMIT.\n",
            "\n",
            "Increase the number of iterations (max_iter) or scale the data as shown in:\n",
            "    https://scikit-learn.org/stable/modules/preprocessing.html\n",
            "Please also refer to the documentation for alternative solver options:\n",
            "    https://scikit-learn.org/stable/modules/linear_model.html#logistic-regression\n",
            "  n_iter_i = _check_optimize_result(\n",
            "/usr/local/lib/python3.10/dist-packages/sklearn/linear_model/_logistic.py:458: ConvergenceWarning: lbfgs failed to converge (status=1):\n",
            "STOP: TOTAL NO. of ITERATIONS REACHED LIMIT.\n",
            "\n",
            "Increase the number of iterations (max_iter) or scale the data as shown in:\n",
            "    https://scikit-learn.org/stable/modules/preprocessing.html\n",
            "Please also refer to the documentation for alternative solver options:\n",
            "    https://scikit-learn.org/stable/modules/linear_model.html#logistic-regression\n",
            "  n_iter_i = _check_optimize_result(\n",
            "/usr/local/lib/python3.10/dist-packages/sklearn/linear_model/_logistic.py:458: ConvergenceWarning: lbfgs failed to converge (status=1):\n",
            "STOP: TOTAL NO. of ITERATIONS REACHED LIMIT.\n",
            "\n",
            "Increase the number of iterations (max_iter) or scale the data as shown in:\n",
            "    https://scikit-learn.org/stable/modules/preprocessing.html\n",
            "Please also refer to the documentation for alternative solver options:\n",
            "    https://scikit-learn.org/stable/modules/linear_model.html#logistic-regression\n",
            "  n_iter_i = _check_optimize_result(\n",
            "/usr/local/lib/python3.10/dist-packages/sklearn/linear_model/_logistic.py:458: ConvergenceWarning: lbfgs failed to converge (status=1):\n",
            "STOP: TOTAL NO. of ITERATIONS REACHED LIMIT.\n",
            "\n",
            "Increase the number of iterations (max_iter) or scale the data as shown in:\n",
            "    https://scikit-learn.org/stable/modules/preprocessing.html\n",
            "Please also refer to the documentation for alternative solver options:\n",
            "    https://scikit-learn.org/stable/modules/linear_model.html#logistic-regression\n",
            "  n_iter_i = _check_optimize_result(\n",
            "/usr/local/lib/python3.10/dist-packages/sklearn/linear_model/_logistic.py:458: ConvergenceWarning: lbfgs failed to converge (status=1):\n",
            "STOP: TOTAL NO. of ITERATIONS REACHED LIMIT.\n",
            "\n",
            "Increase the number of iterations (max_iter) or scale the data as shown in:\n",
            "    https://scikit-learn.org/stable/modules/preprocessing.html\n",
            "Please also refer to the documentation for alternative solver options:\n",
            "    https://scikit-learn.org/stable/modules/linear_model.html#logistic-regression\n",
            "  n_iter_i = _check_optimize_result(\n",
            "/usr/local/lib/python3.10/dist-packages/sklearn/linear_model/_logistic.py:458: ConvergenceWarning: lbfgs failed to converge (status=1):\n",
            "STOP: TOTAL NO. of ITERATIONS REACHED LIMIT.\n",
            "\n",
            "Increase the number of iterations (max_iter) or scale the data as shown in:\n",
            "    https://scikit-learn.org/stable/modules/preprocessing.html\n",
            "Please also refer to the documentation for alternative solver options:\n",
            "    https://scikit-learn.org/stable/modules/linear_model.html#logistic-regression\n",
            "  n_iter_i = _check_optimize_result(\n",
            "/usr/local/lib/python3.10/dist-packages/sklearn/linear_model/_logistic.py:458: ConvergenceWarning: lbfgs failed to converge (status=1):\n",
            "STOP: TOTAL NO. of ITERATIONS REACHED LIMIT.\n",
            "\n",
            "Increase the number of iterations (max_iter) or scale the data as shown in:\n",
            "    https://scikit-learn.org/stable/modules/preprocessing.html\n",
            "Please also refer to the documentation for alternative solver options:\n",
            "    https://scikit-learn.org/stable/modules/linear_model.html#logistic-regression\n",
            "  n_iter_i = _check_optimize_result(\n"
          ]
        },
        {
          "output_type": "stream",
          "name": "stdout",
          "text": [
            "Model: Logistic Regression\n",
            "Best Parameters: {'C': 10.0}\n",
            "Cross-Validation Accuracy: 0.8732179009190496\n",
            "Accuracy: 0.8816455696202532\n",
            "\n",
            "Model: Gradient Boosting\n",
            "Best Parameters: {'n_estimators': 300}\n",
            "Cross-Validation Accuracy: 0.8779677430670395\n",
            "Accuracy: 0.8822784810126583\n",
            "\n"
          ]
        }
      ],
      "source": [
        "import pandas as pd\n",
        "from sklearn.feature_extraction.text import CountVectorizer\n",
        "from sklearn.feature_selection import SelectKBest, chi2\n",
        "from sklearn.model_selection import train_test_split, cross_val_score, GridSearchCV\n",
        "from sklearn.naive_bayes import MultinomialNB\n",
        "from sklearn.svm import SVC\n",
        "from sklearn.ensemble import RandomForestClassifier, GradientBoostingClassifier\n",
        "from sklearn.linear_model import LogisticRegression\n",
        "from sklearn.metrics import accuracy_score\n",
        "from scipy.sparse import hstack\n",
        "\n",
        "# Feature Extraction: Unigrams\n",
        "unigram_vectorizer = CountVectorizer(ngram_range=(1, 1))\n",
        "unigram_features = unigram_vectorizer.fit_transform(tweets_df['text'])\n",
        "\n",
        "# Feature Extraction: Bigrams\n",
        "bigram_vectorizer = CountVectorizer(ngram_range=(2, 2))\n",
        "bigram_features = bigram_vectorizer.fit_transform(tweets_df['text'])\n",
        "\n",
        "# Combining Features\n",
        "combined_features = hstack([unigram_features, bigram_features])\n",
        "\n",
        "# Perform sentiment analysis\n",
        "X = combined_features\n",
        "y = tweets_df['sentiment_level']\n",
        "\n",
        "# Apply feature selection\n",
        "k = 1000  # Number of top features to select\n",
        "feature_selector = SelectKBest(chi2, k=k)\n",
        "X_selected = feature_selector.fit_transform(X, y)\n",
        "\n",
        "# Split the data into training and testing sets\n",
        "X_train, X_test, y_train, y_test = train_test_split(X_selected, y, test_size=0.2, random_state=42)\n",
        "\n",
        "# Define the models and their respective hyperparameter grids\n",
        "models = [\n",
        "    (\"Naive Bayes\", MultinomialNB(), {'alpha': [0.1, 1.0, 10.0]}),\n",
        "    (\"Support Vector Machine\", SVC(), {'C': [0.1, 1.0, 10.0]}),\n",
        "    (\"Random Forest\", RandomForestClassifier(), {'n_estimators': [100, 200, 300]}),\n",
        "    (\"Logistic Regression\", LogisticRegression(), {'C': [0.1, 1.0, 10.0]}),\n",
        "    (\"Gradient Boosting\", GradientBoostingClassifier(), {'n_estimators': [100, 200, 300]})\n",
        "]\n",
        "\n",
        "# Perform cross-validation and evaluation for each model\n",
        "for model_name, model, param_grid in models:\n",
        "    # Perform hyperparameter tuning using GridSearchCV\n",
        "    grid_search = GridSearchCV(model, param_grid, cv=5)\n",
        "    grid_search.fit(X_train, y_train)\n",
        "\n",
        "    # Get the best model and its parameters\n",
        "    best_model = grid_search.best_estimator_\n",
        "    best_params = grid_search.best_params_\n",
        "\n",
        "    # Perform cross-validation with the best model\n",
        "    cross_val_scores = cross_val_score(best_model, X_train, y_train, cv=5)\n",
        "\n",
        "    # Fit the best model on the entire training set\n",
        "    best_model.fit(X_train, y_train)\n",
        "\n",
        "    # Make predictions on the test set\n",
        "    y_pred = best_model.predict(X_test)\n",
        "\n",
        "    # Calculate accuracy\n",
        "    accuracy = accuracy_score(y_test, y_pred)\n",
        "\n",
        "    # Print the results\n",
        "    print(\"Model:\", model_name)\n",
        "    print(\"Best Parameters:\", best_params)\n",
        "    print(\"Cross-Validation Accuracy:\", cross_val_scores.mean())\n",
        "    print(\"Accuracy:\", accuracy)\n",
        "    print()\n"
      ]
    },
    {
      "cell_type": "markdown",
      "metadata": {
        "id": "MUfg202dJwG1"
      },
      "source": [
        "#Model TPOT"
      ]
    },
    {
      "cell_type": "code",
      "execution_count": null,
      "metadata": {
        "colab": {
          "base_uri": "https://localhost:8080/"
        },
        "id": "MOX-rPlTIa5F",
        "outputId": "f0232cc9-3cee-42eb-c944-36c486389181"
      },
      "outputs": [
        {
          "output_type": "stream",
          "name": "stdout",
          "text": [
            "                     time     close      high       low      open  volumefrom  \\\n",
            "0     2023-02-25 21:00:00  22944.16  22960.69  22863.96  22921.71     1331.05   \n",
            "1     2023-02-25 21:00:00  22944.16  22960.69  22863.96  22921.71     1331.05   \n",
            "2     2023-02-25 21:00:00  22944.16  22960.69  22863.96  22921.71     1331.05   \n",
            "3     2023-02-25 21:00:00  22944.16  22960.69  22863.96  22921.71     1331.05   \n",
            "4     2023-02-25 21:00:00  22944.16  22960.69  22863.96  22921.71     1331.05   \n",
            "...                   ...       ...       ...       ...       ...         ...   \n",
            "7893  2023-03-04 23:00:00  22351.08  22352.28  22302.56  22311.46      476.12   \n",
            "7894  2023-03-04 23:00:00  22351.08  22352.28  22302.56  22311.46      476.12   \n",
            "7895  2023-03-04 23:00:00  22351.08  22352.28  22302.56  22311.46      476.12   \n",
            "7896  2023-03-04 23:00:00  22351.08  22352.28  22302.56  22311.46      476.12   \n",
            "7897  2023-03-04 23:00:00  22351.08  22352.28  22302.56  22311.46      476.12   \n",
            "\n",
            "         volumeto        Date      Time       volume  ...  user_verified  \\\n",
            "0     30505954.61  2023-02-25  21:00:00  30504623.56  ...          False   \n",
            "1     30505954.61  2023-02-25  21:00:00  30504623.56  ...          False   \n",
            "2     30505954.61  2023-02-25  21:00:00  30504623.56  ...          False   \n",
            "3     30505954.61  2023-02-25  21:00:00  30504623.56  ...          False   \n",
            "4     30505954.61  2023-02-25  21:00:00  30504623.56  ...          False   \n",
            "...           ...         ...       ...          ...  ...            ...   \n",
            "7893  10632637.83  2023-03-04  23:00:00  10632161.71  ...          False   \n",
            "7894  10632637.83  2023-03-04  23:00:00  10632161.71  ...          False   \n",
            "7895  10632637.83  2023-03-04  23:00:00  10632161.71  ...          False   \n",
            "7896  10632637.83  2023-03-04  23:00:00  10632161.71  ...          False   \n",
            "7897  10632637.83  2023-03-04  23:00:00  10632161.71  ...          False   \n",
            "\n",
            "                                                   text  \\\n",
            "0     ethereum price updat eth 157128 usd bitcoin 00...   \n",
            "1                     bitcoin 1month predict tuhgbqklxn   \n",
            "2     btcusdt 15m volum spike btc btc bitcoin ucl5iaaq4   \n",
            "3     lðk take time think littlebit person load a...   \n",
            "4     ðð¸ sat 25 feb 2023 210035 gmt top 10 btc...   \n",
            "...                                                 ...   \n",
            "7893  usd racist built colonist slaver paid btc bc e...   \n",
            "7894  everris rise everrisev3 everrevok defi crypto ...   \n",
            "7895  ð parti time ð ð 10000 x1 megapr ðª©...   \n",
            "7896  strategi 5010hl1h atr20d 92138 04 mar 2023 230...   \n",
            "7897  complet variou task hh8vl67nz5 claim slm token...   \n",
            "\n",
            "                                               hashtags               source  \\\n",
            "0     ['Ethereum', 'ETH', 'Bitcoin', 'BTC', 'altcoin...      Twitter Web App   \n",
            "1                                           ['Bitcoin']         predictCCbot   \n",
            "2                                    ['BTC', 'Bitcoin']       JumpLineAlerts   \n",
            "3     ['GGA', 'cryptocurrency', 'Bitcoin', 'bnb', 'T...  Twitter for Android   \n",
            "4                                           ['bitcoin']               eht10c   \n",
            "...                                                 ...                  ...   \n",
            "7893                                            ['BTC']  Twitter for Android   \n",
            "7894  ['EverRise', 'EverRiseV3', 'EverRevoke', 'DeFi...  EverRiseTwitterBot1   \n",
            "7895  ['btc', 'eth', 'xrp', 'doge', 'shiba', 'lto', ...      Twitter Web App   \n",
            "7896                                  ['BTC', 'BitMEX']      system'cRe5520'   \n",
            "7897  ['SLMGames', 'SLM', 'Web3', 'BTC', 'ETH', 'BSC...            TweetDeck   \n",
            "\n",
            "     is_retweet compound         score   sentiment_level  polarity  \\\n",
            "0           0.0   0.0000  0.000000e+00           Neutral  0.000000   \n",
            "1           0.0   0.0000  0.000000e+00           Neutral  0.000000   \n",
            "2           0.0   0.0000  0.000000e+00           Neutral  0.000000   \n",
            "3           0.0  -0.3089 -9.666133e+05          Negative -0.041667   \n",
            "4           0.0   0.2023  7.485100e+00          Positive  0.500000   \n",
            "...         ...      ...           ...               ...       ...   \n",
            "7893        0.0  -0.6124 -3.007276e+06  Extreme Negative  0.000000   \n",
            "7894        0.0   0.0000  0.000000e+00           Neutral  0.000000   \n",
            "7895        0.0   0.0000  0.000000e+00           Neutral  0.000000   \n",
            "7896        0.0   0.2732  4.847934e+03          Positive  0.000000   \n",
            "7897        0.0   0.8126  1.214187e+04  Extreme Positive  0.000000   \n",
            "\n",
            "      subjectivity  \n",
            "0         0.250000  \n",
            "1         0.000000  \n",
            "2         0.000000  \n",
            "3         0.458333  \n",
            "4         0.500000  \n",
            "...            ...  \n",
            "7893      0.000000  \n",
            "7894      0.000000  \n",
            "7895      0.000000  \n",
            "7896      0.000000  \n",
            "7897      0.000000  \n",
            "\n",
            "[7898 rows x 29 columns]\n"
          ]
        }
      ],
      "source": [
        "# Assuming you have the 'data1' and 'data2' DataFrames\n",
        "data1 = crypto_usd.copy()\n",
        "data2 = tweets.copy()\n",
        "# Merge the two DataFrames based on 'time' and 'date' columns\n",
        "merge = pd.merge(data1, data2, left_on='time', right_on='date')\n",
        "\n",
        "# Drop the duplicate 'date' column\n",
        "merge.drop('date', axis=1, inplace=True)\n",
        "\n",
        "# Display the merged DataFrame\n",
        "print(merge)\n"
      ]
    },
    {
      "cell_type": "code",
      "execution_count": null,
      "metadata": {
        "colab": {
          "base_uri": "https://localhost:8080/",
          "height": 664
        },
        "id": "nMEmfImOQGsB",
        "outputId": "718fa226-6a5f-42a2-c363-5e4ccc06ca4c"
      },
      "outputs": [
        {
          "output_type": "execute_result",
          "data": {
            "text/plain": [
              "                  time     close      high       low      open  volumefrom  \\\n",
              "0  2023-02-25 21:00:00  22944.16  22960.69  22863.96  22921.71     1331.05   \n",
              "1  2023-02-25 21:00:00  22944.16  22960.69  22863.96  22921.71     1331.05   \n",
              "2  2023-02-25 21:00:00  22944.16  22960.69  22863.96  22921.71     1331.05   \n",
              "3  2023-02-25 21:00:00  22944.16  22960.69  22863.96  22921.71     1331.05   \n",
              "4  2023-02-25 21:00:00  22944.16  22960.69  22863.96  22921.71     1331.05   \n",
              "\n",
              "      volumeto        Date      Time       volume  ...  user_verified  \\\n",
              "0  30505954.61  2023-02-25  21:00:00  30504623.56  ...          False   \n",
              "1  30505954.61  2023-02-25  21:00:00  30504623.56  ...          False   \n",
              "2  30505954.61  2023-02-25  21:00:00  30504623.56  ...          False   \n",
              "3  30505954.61  2023-02-25  21:00:00  30504623.56  ...          False   \n",
              "4  30505954.61  2023-02-25  21:00:00  30504623.56  ...          False   \n",
              "\n",
              "                                                text  \\\n",
              "0  ethereum price updat eth 157128 usd bitcoin 00...   \n",
              "1                  bitcoin 1month predict tuhgbqklxn   \n",
              "2  btcusdt 15m volum spike btc btc bitcoin ucl5iaaq4   \n",
              "3  lðk take time think littlebit person load a...   \n",
              "4  ðð¸ sat 25 feb 2023 210035 gmt top 10 btc...   \n",
              "\n",
              "                                            hashtags               source  \\\n",
              "0  ['Ethereum', 'ETH', 'Bitcoin', 'BTC', 'altcoin...      Twitter Web App   \n",
              "1                                        ['Bitcoin']         predictCCbot   \n",
              "2                                 ['BTC', 'Bitcoin']       JumpLineAlerts   \n",
              "3  ['GGA', 'cryptocurrency', 'Bitcoin', 'bnb', 'T...  Twitter for Android   \n",
              "4                                        ['bitcoin']               eht10c   \n",
              "\n",
              "  is_retweet compound        score  sentiment_level  polarity  subjectivity  \n",
              "0        0.0   0.0000       0.0000          Neutral  0.000000      0.250000  \n",
              "1        0.0   0.0000       0.0000          Neutral  0.000000      0.000000  \n",
              "2        0.0   0.0000       0.0000          Neutral  0.000000      0.000000  \n",
              "3        0.0  -0.3089 -966613.2779         Negative -0.041667      0.458333  \n",
              "4        0.0   0.2023       7.4851         Positive  0.500000      0.500000  \n",
              "\n",
              "[5 rows x 29 columns]"
            ],
            "text/html": [
              "\n",
              "  <div id=\"df-9ce00219-f914-4482-be06-a5013f3f085c\">\n",
              "    <div class=\"colab-df-container\">\n",
              "      <div>\n",
              "<style scoped>\n",
              "    .dataframe tbody tr th:only-of-type {\n",
              "        vertical-align: middle;\n",
              "    }\n",
              "\n",
              "    .dataframe tbody tr th {\n",
              "        vertical-align: top;\n",
              "    }\n",
              "\n",
              "    .dataframe thead th {\n",
              "        text-align: right;\n",
              "    }\n",
              "</style>\n",
              "<table border=\"1\" class=\"dataframe\">\n",
              "  <thead>\n",
              "    <tr style=\"text-align: right;\">\n",
              "      <th></th>\n",
              "      <th>time</th>\n",
              "      <th>close</th>\n",
              "      <th>high</th>\n",
              "      <th>low</th>\n",
              "      <th>open</th>\n",
              "      <th>volumefrom</th>\n",
              "      <th>volumeto</th>\n",
              "      <th>Date</th>\n",
              "      <th>Time</th>\n",
              "      <th>volume</th>\n",
              "      <th>...</th>\n",
              "      <th>user_verified</th>\n",
              "      <th>text</th>\n",
              "      <th>hashtags</th>\n",
              "      <th>source</th>\n",
              "      <th>is_retweet</th>\n",
              "      <th>compound</th>\n",
              "      <th>score</th>\n",
              "      <th>sentiment_level</th>\n",
              "      <th>polarity</th>\n",
              "      <th>subjectivity</th>\n",
              "    </tr>\n",
              "  </thead>\n",
              "  <tbody>\n",
              "    <tr>\n",
              "      <th>0</th>\n",
              "      <td>2023-02-25 21:00:00</td>\n",
              "      <td>22944.16</td>\n",
              "      <td>22960.69</td>\n",
              "      <td>22863.96</td>\n",
              "      <td>22921.71</td>\n",
              "      <td>1331.05</td>\n",
              "      <td>30505954.61</td>\n",
              "      <td>2023-02-25</td>\n",
              "      <td>21:00:00</td>\n",
              "      <td>30504623.56</td>\n",
              "      <td>...</td>\n",
              "      <td>False</td>\n",
              "      <td>ethereum price updat eth 157128 usd bitcoin 00...</td>\n",
              "      <td>['Ethereum', 'ETH', 'Bitcoin', 'BTC', 'altcoin...</td>\n",
              "      <td>Twitter Web App</td>\n",
              "      <td>0.0</td>\n",
              "      <td>0.0000</td>\n",
              "      <td>0.0000</td>\n",
              "      <td>Neutral</td>\n",
              "      <td>0.000000</td>\n",
              "      <td>0.250000</td>\n",
              "    </tr>\n",
              "    <tr>\n",
              "      <th>1</th>\n",
              "      <td>2023-02-25 21:00:00</td>\n",
              "      <td>22944.16</td>\n",
              "      <td>22960.69</td>\n",
              "      <td>22863.96</td>\n",
              "      <td>22921.71</td>\n",
              "      <td>1331.05</td>\n",
              "      <td>30505954.61</td>\n",
              "      <td>2023-02-25</td>\n",
              "      <td>21:00:00</td>\n",
              "      <td>30504623.56</td>\n",
              "      <td>...</td>\n",
              "      <td>False</td>\n",
              "      <td>bitcoin 1month predict tuhgbqklxn</td>\n",
              "      <td>['Bitcoin']</td>\n",
              "      <td>predictCCbot</td>\n",
              "      <td>0.0</td>\n",
              "      <td>0.0000</td>\n",
              "      <td>0.0000</td>\n",
              "      <td>Neutral</td>\n",
              "      <td>0.000000</td>\n",
              "      <td>0.000000</td>\n",
              "    </tr>\n",
              "    <tr>\n",
              "      <th>2</th>\n",
              "      <td>2023-02-25 21:00:00</td>\n",
              "      <td>22944.16</td>\n",
              "      <td>22960.69</td>\n",
              "      <td>22863.96</td>\n",
              "      <td>22921.71</td>\n",
              "      <td>1331.05</td>\n",
              "      <td>30505954.61</td>\n",
              "      <td>2023-02-25</td>\n",
              "      <td>21:00:00</td>\n",
              "      <td>30504623.56</td>\n",
              "      <td>...</td>\n",
              "      <td>False</td>\n",
              "      <td>btcusdt 15m volum spike btc btc bitcoin ucl5iaaq4</td>\n",
              "      <td>['BTC', 'Bitcoin']</td>\n",
              "      <td>JumpLineAlerts</td>\n",
              "      <td>0.0</td>\n",
              "      <td>0.0000</td>\n",
              "      <td>0.0000</td>\n",
              "      <td>Neutral</td>\n",
              "      <td>0.000000</td>\n",
              "      <td>0.000000</td>\n",
              "    </tr>\n",
              "    <tr>\n",
              "      <th>3</th>\n",
              "      <td>2023-02-25 21:00:00</td>\n",
              "      <td>22944.16</td>\n",
              "      <td>22960.69</td>\n",
              "      <td>22863.96</td>\n",
              "      <td>22921.71</td>\n",
              "      <td>1331.05</td>\n",
              "      <td>30505954.61</td>\n",
              "      <td>2023-02-25</td>\n",
              "      <td>21:00:00</td>\n",
              "      <td>30504623.56</td>\n",
              "      <td>...</td>\n",
              "      <td>False</td>\n",
              "      <td>lðk take time think littlebit person load a...</td>\n",
              "      <td>['GGA', 'cryptocurrency', 'Bitcoin', 'bnb', 'T...</td>\n",
              "      <td>Twitter for Android</td>\n",
              "      <td>0.0</td>\n",
              "      <td>-0.3089</td>\n",
              "      <td>-966613.2779</td>\n",
              "      <td>Negative</td>\n",
              "      <td>-0.041667</td>\n",
              "      <td>0.458333</td>\n",
              "    </tr>\n",
              "    <tr>\n",
              "      <th>4</th>\n",
              "      <td>2023-02-25 21:00:00</td>\n",
              "      <td>22944.16</td>\n",
              "      <td>22960.69</td>\n",
              "      <td>22863.96</td>\n",
              "      <td>22921.71</td>\n",
              "      <td>1331.05</td>\n",
              "      <td>30505954.61</td>\n",
              "      <td>2023-02-25</td>\n",
              "      <td>21:00:00</td>\n",
              "      <td>30504623.56</td>\n",
              "      <td>...</td>\n",
              "      <td>False</td>\n",
              "      <td>ðð¸ sat 25 feb 2023 210035 gmt top 10 btc...</td>\n",
              "      <td>['bitcoin']</td>\n",
              "      <td>eht10c</td>\n",
              "      <td>0.0</td>\n",
              "      <td>0.2023</td>\n",
              "      <td>7.4851</td>\n",
              "      <td>Positive</td>\n",
              "      <td>0.500000</td>\n",
              "      <td>0.500000</td>\n",
              "    </tr>\n",
              "  </tbody>\n",
              "</table>\n",
              "<p>5 rows × 29 columns</p>\n",
              "</div>\n",
              "      <button class=\"colab-df-convert\" onclick=\"convertToInteractive('df-9ce00219-f914-4482-be06-a5013f3f085c')\"\n",
              "              title=\"Convert this dataframe to an interactive table.\"\n",
              "              style=\"display:none;\">\n",
              "        \n",
              "  <svg xmlns=\"http://www.w3.org/2000/svg\" height=\"24px\"viewBox=\"0 0 24 24\"\n",
              "       width=\"24px\">\n",
              "    <path d=\"M0 0h24v24H0V0z\" fill=\"none\"/>\n",
              "    <path d=\"M18.56 5.44l.94 2.06.94-2.06 2.06-.94-2.06-.94-.94-2.06-.94 2.06-2.06.94zm-11 1L8.5 8.5l.94-2.06 2.06-.94-2.06-.94L8.5 2.5l-.94 2.06-2.06.94zm10 10l.94 2.06.94-2.06 2.06-.94-2.06-.94-.94-2.06-.94 2.06-2.06.94z\"/><path d=\"M17.41 7.96l-1.37-1.37c-.4-.4-.92-.59-1.43-.59-.52 0-1.04.2-1.43.59L10.3 9.45l-7.72 7.72c-.78.78-.78 2.05 0 2.83L4 21.41c.39.39.9.59 1.41.59.51 0 1.02-.2 1.41-.59l7.78-7.78 2.81-2.81c.8-.78.8-2.07 0-2.86zM5.41 20L4 18.59l7.72-7.72 1.47 1.35L5.41 20z\"/>\n",
              "  </svg>\n",
              "      </button>\n",
              "      \n",
              "  <style>\n",
              "    .colab-df-container {\n",
              "      display:flex;\n",
              "      flex-wrap:wrap;\n",
              "      gap: 12px;\n",
              "    }\n",
              "\n",
              "    .colab-df-convert {\n",
              "      background-color: #E8F0FE;\n",
              "      border: none;\n",
              "      border-radius: 50%;\n",
              "      cursor: pointer;\n",
              "      display: none;\n",
              "      fill: #1967D2;\n",
              "      height: 32px;\n",
              "      padding: 0 0 0 0;\n",
              "      width: 32px;\n",
              "    }\n",
              "\n",
              "    .colab-df-convert:hover {\n",
              "      background-color: #E2EBFA;\n",
              "      box-shadow: 0px 1px 2px rgba(60, 64, 67, 0.3), 0px 1px 3px 1px rgba(60, 64, 67, 0.15);\n",
              "      fill: #174EA6;\n",
              "    }\n",
              "\n",
              "    [theme=dark] .colab-df-convert {\n",
              "      background-color: #3B4455;\n",
              "      fill: #D2E3FC;\n",
              "    }\n",
              "\n",
              "    [theme=dark] .colab-df-convert:hover {\n",
              "      background-color: #434B5C;\n",
              "      box-shadow: 0px 1px 3px 1px rgba(0, 0, 0, 0.15);\n",
              "      filter: drop-shadow(0px 1px 2px rgba(0, 0, 0, 0.3));\n",
              "      fill: #FFFFFF;\n",
              "    }\n",
              "  </style>\n",
              "\n",
              "      <script>\n",
              "        const buttonEl =\n",
              "          document.querySelector('#df-9ce00219-f914-4482-be06-a5013f3f085c button.colab-df-convert');\n",
              "        buttonEl.style.display =\n",
              "          google.colab.kernel.accessAllowed ? 'block' : 'none';\n",
              "\n",
              "        async function convertToInteractive(key) {\n",
              "          const element = document.querySelector('#df-9ce00219-f914-4482-be06-a5013f3f085c');\n",
              "          const dataTable =\n",
              "            await google.colab.kernel.invokeFunction('convertToInteractive',\n",
              "                                                     [key], {});\n",
              "          if (!dataTable) return;\n",
              "\n",
              "          const docLinkHtml = 'Like what you see? Visit the ' +\n",
              "            '<a target=\"_blank\" href=https://colab.research.google.com/notebooks/data_table.ipynb>data table notebook</a>'\n",
              "            + ' to learn more about interactive tables.';\n",
              "          element.innerHTML = '';\n",
              "          dataTable['output_type'] = 'display_data';\n",
              "          await google.colab.output.renderOutput(dataTable, element);\n",
              "          const docLink = document.createElement('div');\n",
              "          docLink.innerHTML = docLinkHtml;\n",
              "          element.appendChild(docLink);\n",
              "        }\n",
              "      </script>\n",
              "    </div>\n",
              "  </div>\n",
              "  "
            ]
          },
          "metadata": {},
          "execution_count": 12
        }
      ],
      "source": [
        "merge.head()"
      ]
    },
    {
      "cell_type": "code",
      "execution_count": null,
      "metadata": {
        "colab": {
          "base_uri": "https://localhost:8080/"
        },
        "id": "tL2b6K5Guzpb",
        "outputId": "4cc5540f-5295-4520-afbc-e7086ce11bf8"
      },
      "outputs": [
        {
          "output_type": "stream",
          "name": "stdout",
          "text": [
            "<class 'pandas.core.frame.DataFrame'>\n",
            "Int64Index: 7898 entries, 0 to 7897\n",
            "Data columns (total 29 columns):\n",
            " #   Column            Non-Null Count  Dtype  \n",
            "---  ------            --------------  -----  \n",
            " 0   time              7898 non-null   object \n",
            " 1   close             7898 non-null   float64\n",
            " 2   high              7898 non-null   float64\n",
            " 3   low               7898 non-null   float64\n",
            " 4   open              7898 non-null   float64\n",
            " 5   volumefrom        7898 non-null   float64\n",
            " 6   volumeto          7898 non-null   float64\n",
            " 7   Date              7898 non-null   object \n",
            " 8   Time              7898 non-null   object \n",
            " 9   volume            7898 non-null   float64\n",
            " 10  marketcap         7898 non-null   float64\n",
            " 11  price_delta       7898 non-null   float64\n",
            " 12  user_name         7898 non-null   object \n",
            " 13  user_location     3898 non-null   object \n",
            " 14  user_description  7620 non-null   object \n",
            " 15  user_created      7898 non-null   object \n",
            " 16  user_followers    7898 non-null   float64\n",
            " 17  user_friends      7898 non-null   float64\n",
            " 18  user_favourites   7898 non-null   float64\n",
            " 19  user_verified     7898 non-null   bool   \n",
            " 20  text              7898 non-null   object \n",
            " 21  hashtags          7891 non-null   object \n",
            " 22  source            7891 non-null   object \n",
            " 23  is_retweet        7891 non-null   float64\n",
            " 24  compound          7898 non-null   float64\n",
            " 25  score             7898 non-null   float64\n",
            " 26  sentiment_level   7898 non-null   object \n",
            " 27  polarity          7898 non-null   float64\n",
            " 28  subjectivity      7898 non-null   float64\n",
            "dtypes: bool(1), float64(17), object(11)\n",
            "memory usage: 1.8+ MB\n"
          ]
        }
      ],
      "source": [
        "merge.info()"
      ]
    },
    {
      "cell_type": "code",
      "execution_count": null,
      "metadata": {
        "colab": {
          "base_uri": "https://localhost:8080/"
        },
        "id": "ngIBppzCJJ6r",
        "outputId": "5a6d71e6-d1b0-4ec2-f217-0715901fd406"
      },
      "outputs": [
        {
          "output_type": "stream",
          "name": "stdout",
          "text": [
            "Neutral             93169\n",
            "Positive            35921\n",
            "Extreme Positive    17343\n",
            "Negative            15903\n",
            "Extreme Negative     5316\n",
            "Name: sentiment_level, dtype: int64\n"
          ]
        }
      ],
      "source": [
        "label_counts = tweets['sentiment_level'].value_counts()\n",
        "print(label_counts)"
      ]
    },
    {
      "cell_type": "code",
      "execution_count": null,
      "metadata": {
        "colab": {
          "base_uri": "https://localhost:8080/",
          "height": 828
        },
        "id": "ceQUmDd5vOvC",
        "outputId": "75168d8e-d024-448d-9a60-784b68e8fcb4"
      },
      "outputs": [
        {
          "output_type": "display_data",
          "data": {
            "text/plain": [
              "<Figure size 1400x1000 with 1 Axes>"
            ],
            "image/png": "[encoded data removed]"
          },
          "metadata": {}
        }
      ],
      "source": [
        "import matplotlib.pyplot as plt\n",
        "# scatter plot to show the subjectivity and the polarity\n",
        "plt.figure(figsize=(14,10))\n",
        "\n",
        "for i in range(merge.shape[0]):\n",
        "    plt.scatter(merge[\"polarity\"].iloc[[i]].values[0], merge[\"subjectivity\"].iloc[[i]].values[0], color=\"Purple\")\n",
        "\n",
        "plt.title(\"Sentiment Analysis Scatter Plot\")\n",
        "plt.xlabel('polarity')\n",
        "plt.ylabel('subjectivity')\n",
        "plt.show()"
      ]
    },
    {
      "cell_type": "code",
      "execution_count": null,
      "metadata": {
        "id": "ZQyyxqL-v04R"
      },
      "outputs": [],
      "source": [
        "#Creating Target Column"
      ]
    },
    {
      "cell_type": "code",
      "execution_count": null,
      "metadata": {
        "id": "FlBVdKMowcRQ"
      },
      "outputs": [],
      "source": [
        "price_indicator = [merge.close[0] - merge['open'][0]]\n",
        "for i in range(99):\n",
        "    price_indicator.append(merge.close[i+1] - merge.close[i])\n",
        "#price_indicator"
      ]
    },
    {
      "cell_type": "code",
      "execution_count": null,
      "metadata": {
        "id": "Ia2_8uUwya_y",
        "colab": {
          "base_uri": "https://localhost:8080/",
          "height": 756
        },
        "outputId": "b1db5086-7cca-40d9-a375-d92a9f7e2f39"
      },
      "outputs": [
        {
          "output_type": "stream",
          "name": "stderr",
          "text": [
            "<ipython-input-18-8f90b0759c32>:3: SettingWithCopyWarning: \n",
            "A value is trying to be set on a copy of a slice from a DataFrame\n",
            "\n",
            "See the caveats in the documentation: https://pandas.pydata.org/pandas-docs/stable/user_guide/indexing.html#returning-a-view-versus-a-copy\n",
            "  merge['price_indicator'][i] = price_indicator[i]\n"
          ]
        },
        {
          "output_type": "execute_result",
          "data": {
            "text/plain": [
              "                  time     close      high       low      open  volumefrom  \\\n",
              "0  2023-02-25 21:00:00  22944.16  22960.69  22863.96  22921.71     1331.05   \n",
              "1  2023-02-25 21:00:00  22944.16  22960.69  22863.96  22921.71     1331.05   \n",
              "2  2023-02-25 21:00:00  22944.16  22960.69  22863.96  22921.71     1331.05   \n",
              "3  2023-02-25 21:00:00  22944.16  22960.69  22863.96  22921.71     1331.05   \n",
              "4  2023-02-25 21:00:00  22944.16  22960.69  22863.96  22921.71     1331.05   \n",
              "\n",
              "      volumeto        Date      Time       volume  ...  \\\n",
              "0  30505954.61  2023-02-25  21:00:00  30504623.56  ...   \n",
              "1  30505954.61  2023-02-25  21:00:00  30504623.56  ...   \n",
              "2  30505954.61  2023-02-25  21:00:00  30504623.56  ...   \n",
              "3  30505954.61  2023-02-25  21:00:00  30504623.56  ...   \n",
              "4  30505954.61  2023-02-25  21:00:00  30504623.56  ...   \n",
              "\n",
              "                                                text  \\\n",
              "0  ethereum price updat eth 157128 usd bitcoin 00...   \n",
              "1                  bitcoin 1month predict tuhgbqklxn   \n",
              "2  btcusdt 15m volum spike btc btc bitcoin ucl5iaaq4   \n",
              "3  lðk take time think littlebit person load a...   \n",
              "4  ðð¸ sat 25 feb 2023 210035 gmt top 10 btc...   \n",
              "\n",
              "                                            hashtags               source  \\\n",
              "0  ['Ethereum', 'ETH', 'Bitcoin', 'BTC', 'altcoin...      Twitter Web App   \n",
              "1                                        ['Bitcoin']         predictCCbot   \n",
              "2                                 ['BTC', 'Bitcoin']       JumpLineAlerts   \n",
              "3  ['GGA', 'cryptocurrency', 'Bitcoin', 'bnb', 'T...  Twitter for Android   \n",
              "4                                        ['bitcoin']               eht10c   \n",
              "\n",
              "  is_retweet compound        score  sentiment_level  polarity  subjectivity  \\\n",
              "0        0.0   0.0000       0.0000          Neutral  0.000000      0.250000   \n",
              "1        0.0   0.0000       0.0000          Neutral  0.000000      0.000000   \n",
              "2        0.0   0.0000       0.0000          Neutral  0.000000      0.000000   \n",
              "3        0.0  -0.3089 -966613.2779         Negative -0.041667      0.458333   \n",
              "4        0.0   0.2023       7.4851         Positive  0.500000      0.500000   \n",
              "\n",
              "   price_indicator  \n",
              "0            22.45  \n",
              "1             0.00  \n",
              "2             0.00  \n",
              "3             0.00  \n",
              "4             0.00  \n",
              "\n",
              "[5 rows x 30 columns]"
            ],
            "text/html": [
              "\n",
              "  <div id=\"df-048c125e-73be-4099-99bd-d96a2ebd364b\">\n",
              "    <div class=\"colab-df-container\">\n",
              "      <div>\n",
              "<style scoped>\n",
              "    .dataframe tbody tr th:only-of-type {\n",
              "        vertical-align: middle;\n",
              "    }\n",
              "\n",
              "    .dataframe tbody tr th {\n",
              "        vertical-align: top;\n",
              "    }\n",
              "\n",
              "    .dataframe thead th {\n",
              "        text-align: right;\n",
              "    }\n",
              "</style>\n",
              "<table border=\"1\" class=\"dataframe\">\n",
              "  <thead>\n",
              "    <tr style=\"text-align: right;\">\n",
              "      <th></th>\n",
              "      <th>time</th>\n",
              "      <th>close</th>\n",
              "      <th>high</th>\n",
              "      <th>low</th>\n",
              "      <th>open</th>\n",
              "      <th>volumefrom</th>\n",
              "      <th>volumeto</th>\n",
              "      <th>Date</th>\n",
              "      <th>Time</th>\n",
              "      <th>volume</th>\n",
              "      <th>...</th>\n",
              "      <th>text</th>\n",
              "      <th>hashtags</th>\n",
              "      <th>source</th>\n",
              "      <th>is_retweet</th>\n",
              "      <th>compound</th>\n",
              "      <th>score</th>\n",
              "      <th>sentiment_level</th>\n",
              "      <th>polarity</th>\n",
              "      <th>subjectivity</th>\n",
              "      <th>price_indicator</th>\n",
              "    </tr>\n",
              "  </thead>\n",
              "  <tbody>\n",
              "    <tr>\n",
              "      <th>0</th>\n",
              "      <td>2023-02-25 21:00:00</td>\n",
              "      <td>22944.16</td>\n",
              "      <td>22960.69</td>\n",
              "      <td>22863.96</td>\n",
              "      <td>22921.71</td>\n",
              "      <td>1331.05</td>\n",
              "      <td>30505954.61</td>\n",
              "      <td>2023-02-25</td>\n",
              "      <td>21:00:00</td>\n",
              "      <td>30504623.56</td>\n",
              "      <td>...</td>\n",
              "      <td>ethereum price updat eth 157128 usd bitcoin 00...</td>\n",
              "      <td>['Ethereum', 'ETH', 'Bitcoin', 'BTC', 'altcoin...</td>\n",
              "      <td>Twitter Web App</td>\n",
              "      <td>0.0</td>\n",
              "      <td>0.0000</td>\n",
              "      <td>0.0000</td>\n",
              "      <td>Neutral</td>\n",
              "      <td>0.000000</td>\n",
              "      <td>0.250000</td>\n",
              "      <td>22.45</td>\n",
              "    </tr>\n",
              "    <tr>\n",
              "      <th>1</th>\n",
              "      <td>2023-02-25 21:00:00</td>\n",
              "      <td>22944.16</td>\n",
              "      <td>22960.69</td>\n",
              "      <td>22863.96</td>\n",
              "      <td>22921.71</td>\n",
              "      <td>1331.05</td>\n",
              "      <td>30505954.61</td>\n",
              "      <td>2023-02-25</td>\n",
              "      <td>21:00:00</td>\n",
              "      <td>30504623.56</td>\n",
              "      <td>...</td>\n",
              "      <td>bitcoin 1month predict tuhgbqklxn</td>\n",
              "      <td>['Bitcoin']</td>\n",
              "      <td>predictCCbot</td>\n",
              "      <td>0.0</td>\n",
              "      <td>0.0000</td>\n",
              "      <td>0.0000</td>\n",
              "      <td>Neutral</td>\n",
              "      <td>0.000000</td>\n",
              "      <td>0.000000</td>\n",
              "      <td>0.00</td>\n",
              "    </tr>\n",
              "    <tr>\n",
              "      <th>2</th>\n",
              "      <td>2023-02-25 21:00:00</td>\n",
              "      <td>22944.16</td>\n",
              "      <td>22960.69</td>\n",
              "      <td>22863.96</td>\n",
              "      <td>22921.71</td>\n",
              "      <td>1331.05</td>\n",
              "      <td>30505954.61</td>\n",
              "      <td>2023-02-25</td>\n",
              "      <td>21:00:00</td>\n",
              "      <td>30504623.56</td>\n",
              "      <td>...</td>\n",
              "      <td>btcusdt 15m volum spike btc btc bitcoin ucl5iaaq4</td>\n",
              "      <td>['BTC', 'Bitcoin']</td>\n",
              "      <td>JumpLineAlerts</td>\n",
              "      <td>0.0</td>\n",
              "      <td>0.0000</td>\n",
              "      <td>0.0000</td>\n",
              "      <td>Neutral</td>\n",
              "      <td>0.000000</td>\n",
              "      <td>0.000000</td>\n",
              "      <td>0.00</td>\n",
              "    </tr>\n",
              "    <tr>\n",
              "      <th>3</th>\n",
              "      <td>2023-02-25 21:00:00</td>\n",
              "      <td>22944.16</td>\n",
              "      <td>22960.69</td>\n",
              "      <td>22863.96</td>\n",
              "      <td>22921.71</td>\n",
              "      <td>1331.05</td>\n",
              "      <td>30505954.61</td>\n",
              "      <td>2023-02-25</td>\n",
              "      <td>21:00:00</td>\n",
              "      <td>30504623.56</td>\n",
              "      <td>...</td>\n",
              "      <td>lðk take time think littlebit person load a...</td>\n",
              "      <td>['GGA', 'cryptocurrency', 'Bitcoin', 'bnb', 'T...</td>\n",
              "      <td>Twitter for Android</td>\n",
              "      <td>0.0</td>\n",
              "      <td>-0.3089</td>\n",
              "      <td>-966613.2779</td>\n",
              "      <td>Negative</td>\n",
              "      <td>-0.041667</td>\n",
              "      <td>0.458333</td>\n",
              "      <td>0.00</td>\n",
              "    </tr>\n",
              "    <tr>\n",
              "      <th>4</th>\n",
              "      <td>2023-02-25 21:00:00</td>\n",
              "      <td>22944.16</td>\n",
              "      <td>22960.69</td>\n",
              "      <td>22863.96</td>\n",
              "      <td>22921.71</td>\n",
              "      <td>1331.05</td>\n",
              "      <td>30505954.61</td>\n",
              "      <td>2023-02-25</td>\n",
              "      <td>21:00:00</td>\n",
              "      <td>30504623.56</td>\n",
              "      <td>...</td>\n",
              "      <td>ðð¸ sat 25 feb 2023 210035 gmt top 10 btc...</td>\n",
              "      <td>['bitcoin']</td>\n",
              "      <td>eht10c</td>\n",
              "      <td>0.0</td>\n",
              "      <td>0.2023</td>\n",
              "      <td>7.4851</td>\n",
              "      <td>Positive</td>\n",
              "      <td>0.500000</td>\n",
              "      <td>0.500000</td>\n",
              "      <td>0.00</td>\n",
              "    </tr>\n",
              "  </tbody>\n",
              "</table>\n",
              "<p>5 rows × 30 columns</p>\n",
              "</div>\n",
              "      <button class=\"colab-df-convert\" onclick=\"convertToInteractive('df-048c125e-73be-4099-99bd-d96a2ebd364b')\"\n",
              "              title=\"Convert this dataframe to an interactive table.\"\n",
              "              style=\"display:none;\">\n",
              "        \n",
              "  <svg xmlns=\"http://www.w3.org/2000/svg\" height=\"24px\"viewBox=\"0 0 24 24\"\n",
              "       width=\"24px\">\n",
              "    <path d=\"M0 0h24v24H0V0z\" fill=\"none\"/>\n",
              "    <path d=\"M18.56 5.44l.94 2.06.94-2.06 2.06-.94-2.06-.94-.94-2.06-.94 2.06-2.06.94zm-11 1L8.5 8.5l.94-2.06 2.06-.94-2.06-.94L8.5 2.5l-.94 2.06-2.06.94zm10 10l.94 2.06.94-2.06 2.06-.94-2.06-.94-.94-2.06-.94 2.06-2.06.94z\"/><path d=\"M17.41 7.96l-1.37-1.37c-.4-.4-.92-.59-1.43-.59-.52 0-1.04.2-1.43.59L10.3 9.45l-7.72 7.72c-.78.78-.78 2.05 0 2.83L4 21.41c.39.39.9.59 1.41.59.51 0 1.02-.2 1.41-.59l7.78-7.78 2.81-2.81c.8-.78.8-2.07 0-2.86zM5.41 20L4 18.59l7.72-7.72 1.47 1.35L5.41 20z\"/>\n",
              "  </svg>\n",
              "      </button>\n",
              "      \n",
              "  <style>\n",
              "    .colab-df-container {\n",
              "      display:flex;\n",
              "      flex-wrap:wrap;\n",
              "      gap: 12px;\n",
              "    }\n",
              "\n",
              "    .colab-df-convert {\n",
              "      background-color: #E8F0FE;\n",
              "      border: none;\n",
              "      border-radius: 50%;\n",
              "      cursor: pointer;\n",
              "      display: none;\n",
              "      fill: #1967D2;\n",
              "      height: 32px;\n",
              "      padding: 0 0 0 0;\n",
              "      width: 32px;\n",
              "    }\n",
              "\n",
              "    .colab-df-convert:hover {\n",
              "      background-color: #E2EBFA;\n",
              "      box-shadow: 0px 1px 2px rgba(60, 64, 67, 0.3), 0px 1px 3px 1px rgba(60, 64, 67, 0.15);\n",
              "      fill: #174EA6;\n",
              "    }\n",
              "\n",
              "    [theme=dark] .colab-df-convert {\n",
              "      background-color: #3B4455;\n",
              "      fill: #D2E3FC;\n",
              "    }\n",
              "\n",
              "    [theme=dark] .colab-df-convert:hover {\n",
              "      background-color: #434B5C;\n",
              "      box-shadow: 0px 1px 3px 1px rgba(0, 0, 0, 0.15);\n",
              "      filter: drop-shadow(0px 1px 2px rgba(0, 0, 0, 0.3));\n",
              "      fill: #FFFFFF;\n",
              "    }\n",
              "  </style>\n",
              "\n",
              "      <script>\n",
              "        const buttonEl =\n",
              "          document.querySelector('#df-048c125e-73be-4099-99bd-d96a2ebd364b button.colab-df-convert');\n",
              "        buttonEl.style.display =\n",
              "          google.colab.kernel.accessAllowed ? 'block' : 'none';\n",
              "\n",
              "        async function convertToInteractive(key) {\n",
              "          const element = document.querySelector('#df-048c125e-73be-4099-99bd-d96a2ebd364b');\n",
              "          const dataTable =\n",
              "            await google.colab.kernel.invokeFunction('convertToInteractive',\n",
              "                                                     [key], {});\n",
              "          if (!dataTable) return;\n",
              "\n",
              "          const docLinkHtml = 'Like what you see? Visit the ' +\n",
              "            '<a target=\"_blank\" href=https://colab.research.google.com/notebooks/data_table.ipynb>data table notebook</a>'\n",
              "            + ' to learn more about interactive tables.';\n",
              "          element.innerHTML = '';\n",
              "          dataTable['output_type'] = 'display_data';\n",
              "          await google.colab.output.renderOutput(dataTable, element);\n",
              "          const docLink = document.createElement('div');\n",
              "          docLink.innerHTML = docLinkHtml;\n",
              "          element.appendChild(docLink);\n",
              "        }\n",
              "      </script>\n",
              "    </div>\n",
              "  </div>\n",
              "  "
            ]
          },
          "metadata": {},
          "execution_count": 18
        }
      ],
      "source": [
        "merge['price_indicator'] = 0\n",
        "for i in range(len(price_indicator)):\n",
        "    merge['price_indicator'][i] = price_indicator[i]\n",
        "\n",
        "merge.head()"
      ]
    },
    {
      "cell_type": "code",
      "execution_count": null,
      "metadata": {
        "id": "lZZ45hp1yh5v",
        "colab": {
          "base_uri": "https://localhost:8080/",
          "height": 583
        },
        "outputId": "418b0915-49d6-4c7b-b663-1b5cf15eba3c"
      },
      "outputs": [
        {
          "output_type": "stream",
          "name": "stderr",
          "text": [
            "<ipython-input-19-e0c87f2219f9>:4: SettingWithCopyWarning: \n",
            "A value is trying to be set on a copy of a slice from a DataFrame\n",
            "\n",
            "See the caveats in the documentation: https://pandas.pydata.org/pandas-docs/stable/user_guide/indexing.html#returning-a-view-versus-a-copy\n",
            "  merge['target'][i] = 1\n"
          ]
        },
        {
          "output_type": "execute_result",
          "data": {
            "text/plain": [
              "                  time     close      high       low      open  volumefrom  \\\n",
              "0  2023-02-25 21:00:00  22944.16  22960.69  22863.96  22921.71     1331.05   \n",
              "1  2023-02-25 21:00:00  22944.16  22960.69  22863.96  22921.71     1331.05   \n",
              "2  2023-02-25 21:00:00  22944.16  22960.69  22863.96  22921.71     1331.05   \n",
              "3  2023-02-25 21:00:00  22944.16  22960.69  22863.96  22921.71     1331.05   \n",
              "4  2023-02-25 21:00:00  22944.16  22960.69  22863.96  22921.71     1331.05   \n",
              "\n",
              "      volumeto        Date      Time       volume  ...  \\\n",
              "0  30505954.61  2023-02-25  21:00:00  30504623.56  ...   \n",
              "1  30505954.61  2023-02-25  21:00:00  30504623.56  ...   \n",
              "2  30505954.61  2023-02-25  21:00:00  30504623.56  ...   \n",
              "3  30505954.61  2023-02-25  21:00:00  30504623.56  ...   \n",
              "4  30505954.61  2023-02-25  21:00:00  30504623.56  ...   \n",
              "\n",
              "                                            hashtags               source  \\\n",
              "0  ['Ethereum', 'ETH', 'Bitcoin', 'BTC', 'altcoin...      Twitter Web App   \n",
              "1                                        ['Bitcoin']         predictCCbot   \n",
              "2                                 ['BTC', 'Bitcoin']       JumpLineAlerts   \n",
              "3  ['GGA', 'cryptocurrency', 'Bitcoin', 'bnb', 'T...  Twitter for Android   \n",
              "4                                        ['bitcoin']               eht10c   \n",
              "\n",
              "  is_retweet compound        score sentiment_level  polarity  subjectivity  \\\n",
              "0        0.0   0.0000       0.0000         Neutral  0.000000      0.250000   \n",
              "1        0.0   0.0000       0.0000         Neutral  0.000000      0.000000   \n",
              "2        0.0   0.0000       0.0000         Neutral  0.000000      0.000000   \n",
              "3        0.0  -0.3089 -966613.2779        Negative -0.041667      0.458333   \n",
              "4        0.0   0.2023       7.4851        Positive  0.500000      0.500000   \n",
              "\n",
              "   price_indicator  target  \n",
              "0            22.45       1  \n",
              "1             0.00       0  \n",
              "2             0.00       0  \n",
              "3             0.00       0  \n",
              "4             0.00       0  \n",
              "\n",
              "[5 rows x 31 columns]"
            ],
            "text/html": [
              "\n",
              "  <div id=\"df-e0c57788-c812-40e3-92b1-65f2a18b77a7\">\n",
              "    <div class=\"colab-df-container\">\n",
              "      <div>\n",
              "<style scoped>\n",
              "    .dataframe tbody tr th:only-of-type {\n",
              "        vertical-align: middle;\n",
              "    }\n",
              "\n",
              "    .dataframe tbody tr th {\n",
              "        vertical-align: top;\n",
              "    }\n",
              "\n",
              "    .dataframe thead th {\n",
              "        text-align: right;\n",
              "    }\n",
              "</style>\n",
              "<table border=\"1\" class=\"dataframe\">\n",
              "  <thead>\n",
              "    <tr style=\"text-align: right;\">\n",
              "      <th></th>\n",
              "      <th>time</th>\n",
              "      <th>close</th>\n",
              "      <th>high</th>\n",
              "      <th>low</th>\n",
              "      <th>open</th>\n",
              "      <th>volumefrom</th>\n",
              "      <th>volumeto</th>\n",
              "      <th>Date</th>\n",
              "      <th>Time</th>\n",
              "      <th>volume</th>\n",
              "      <th>...</th>\n",
              "      <th>hashtags</th>\n",
              "      <th>source</th>\n",
              "      <th>is_retweet</th>\n",
              "      <th>compound</th>\n",
              "      <th>score</th>\n",
              "      <th>sentiment_level</th>\n",
              "      <th>polarity</th>\n",
              "      <th>subjectivity</th>\n",
              "      <th>price_indicator</th>\n",
              "      <th>target</th>\n",
              "    </tr>\n",
              "  </thead>\n",
              "  <tbody>\n",
              "    <tr>\n",
              "      <th>0</th>\n",
              "      <td>2023-02-25 21:00:00</td>\n",
              "      <td>22944.16</td>\n",
              "      <td>22960.69</td>\n",
              "      <td>22863.96</td>\n",
              "      <td>22921.71</td>\n",
              "      <td>1331.05</td>\n",
              "      <td>30505954.61</td>\n",
              "      <td>2023-02-25</td>\n",
              "      <td>21:00:00</td>\n",
              "      <td>30504623.56</td>\n",
              "      <td>...</td>\n",
              "      <td>['Ethereum', 'ETH', 'Bitcoin', 'BTC', 'altcoin...</td>\n",
              "      <td>Twitter Web App</td>\n",
              "      <td>0.0</td>\n",
              "      <td>0.0000</td>\n",
              "      <td>0.0000</td>\n",
              "      <td>Neutral</td>\n",
              "      <td>0.000000</td>\n",
              "      <td>0.250000</td>\n",
              "      <td>22.45</td>\n",
              "      <td>1</td>\n",
              "    </tr>\n",
              "    <tr>\n",
              "      <th>1</th>\n",
              "      <td>2023-02-25 21:00:00</td>\n",
              "      <td>22944.16</td>\n",
              "      <td>22960.69</td>\n",
              "      <td>22863.96</td>\n",
              "      <td>22921.71</td>\n",
              "      <td>1331.05</td>\n",
              "      <td>30505954.61</td>\n",
              "      <td>2023-02-25</td>\n",
              "      <td>21:00:00</td>\n",
              "      <td>30504623.56</td>\n",
              "      <td>...</td>\n",
              "      <td>['Bitcoin']</td>\n",
              "      <td>predictCCbot</td>\n",
              "      <td>0.0</td>\n",
              "      <td>0.0000</td>\n",
              "      <td>0.0000</td>\n",
              "      <td>Neutral</td>\n",
              "      <td>0.000000</td>\n",
              "      <td>0.000000</td>\n",
              "      <td>0.00</td>\n",
              "      <td>0</td>\n",
              "    </tr>\n",
              "    <tr>\n",
              "      <th>2</th>\n",
              "      <td>2023-02-25 21:00:00</td>\n",
              "      <td>22944.16</td>\n",
              "      <td>22960.69</td>\n",
              "      <td>22863.96</td>\n",
              "      <td>22921.71</td>\n",
              "      <td>1331.05</td>\n",
              "      <td>30505954.61</td>\n",
              "      <td>2023-02-25</td>\n",
              "      <td>21:00:00</td>\n",
              "      <td>30504623.56</td>\n",
              "      <td>...</td>\n",
              "      <td>['BTC', 'Bitcoin']</td>\n",
              "      <td>JumpLineAlerts</td>\n",
              "      <td>0.0</td>\n",
              "      <td>0.0000</td>\n",
              "      <td>0.0000</td>\n",
              "      <td>Neutral</td>\n",
              "      <td>0.000000</td>\n",
              "      <td>0.000000</td>\n",
              "      <td>0.00</td>\n",
              "      <td>0</td>\n",
              "    </tr>\n",
              "    <tr>\n",
              "      <th>3</th>\n",
              "      <td>2023-02-25 21:00:00</td>\n",
              "      <td>22944.16</td>\n",
              "      <td>22960.69</td>\n",
              "      <td>22863.96</td>\n",
              "      <td>22921.71</td>\n",
              "      <td>1331.05</td>\n",
              "      <td>30505954.61</td>\n",
              "      <td>2023-02-25</td>\n",
              "      <td>21:00:00</td>\n",
              "      <td>30504623.56</td>\n",
              "      <td>...</td>\n",
              "      <td>['GGA', 'cryptocurrency', 'Bitcoin', 'bnb', 'T...</td>\n",
              "      <td>Twitter for Android</td>\n",
              "      <td>0.0</td>\n",
              "      <td>-0.3089</td>\n",
              "      <td>-966613.2779</td>\n",
              "      <td>Negative</td>\n",
              "      <td>-0.041667</td>\n",
              "      <td>0.458333</td>\n",
              "      <td>0.00</td>\n",
              "      <td>0</td>\n",
              "    </tr>\n",
              "    <tr>\n",
              "      <th>4</th>\n",
              "      <td>2023-02-25 21:00:00</td>\n",
              "      <td>22944.16</td>\n",
              "      <td>22960.69</td>\n",
              "      <td>22863.96</td>\n",
              "      <td>22921.71</td>\n",
              "      <td>1331.05</td>\n",
              "      <td>30505954.61</td>\n",
              "      <td>2023-02-25</td>\n",
              "      <td>21:00:00</td>\n",
              "      <td>30504623.56</td>\n",
              "      <td>...</td>\n",
              "      <td>['bitcoin']</td>\n",
              "      <td>eht10c</td>\n",
              "      <td>0.0</td>\n",
              "      <td>0.2023</td>\n",
              "      <td>7.4851</td>\n",
              "      <td>Positive</td>\n",
              "      <td>0.500000</td>\n",
              "      <td>0.500000</td>\n",
              "      <td>0.00</td>\n",
              "      <td>0</td>\n",
              "    </tr>\n",
              "  </tbody>\n",
              "</table>\n",
              "<p>5 rows × 31 columns</p>\n",
              "</div>\n",
              "      <button class=\"colab-df-convert\" onclick=\"convertToInteractive('df-e0c57788-c812-40e3-92b1-65f2a18b77a7')\"\n",
              "              title=\"Convert this dataframe to an interactive table.\"\n",
              "              style=\"display:none;\">\n",
              "        \n",
              "  <svg xmlns=\"http://www.w3.org/2000/svg\" height=\"24px\"viewBox=\"0 0 24 24\"\n",
              "       width=\"24px\">\n",
              "    <path d=\"M0 0h24v24H0V0z\" fill=\"none\"/>\n",
              "    <path d=\"M18.56 5.44l.94 2.06.94-2.06 2.06-.94-2.06-.94-.94-2.06-.94 2.06-2.06.94zm-11 1L8.5 8.5l.94-2.06 2.06-.94-2.06-.94L8.5 2.5l-.94 2.06-2.06.94zm10 10l.94 2.06.94-2.06 2.06-.94-2.06-.94-.94-2.06-.94 2.06-2.06.94z\"/><path d=\"M17.41 7.96l-1.37-1.37c-.4-.4-.92-.59-1.43-.59-.52 0-1.04.2-1.43.59L10.3 9.45l-7.72 7.72c-.78.78-.78 2.05 0 2.83L4 21.41c.39.39.9.59 1.41.59.51 0 1.02-.2 1.41-.59l7.78-7.78 2.81-2.81c.8-.78.8-2.07 0-2.86zM5.41 20L4 18.59l7.72-7.72 1.47 1.35L5.41 20z\"/>\n",
              "  </svg>\n",
              "      </button>\n",
              "      \n",
              "  <style>\n",
              "    .colab-df-container {\n",
              "      display:flex;\n",
              "      flex-wrap:wrap;\n",
              "      gap: 12px;\n",
              "    }\n",
              "\n",
              "    .colab-df-convert {\n",
              "      background-color: #E8F0FE;\n",
              "      border: none;\n",
              "      border-radius: 50%;\n",
              "      cursor: pointer;\n",
              "      display: none;\n",
              "      fill: #1967D2;\n",
              "      height: 32px;\n",
              "      padding: 0 0 0 0;\n",
              "      width: 32px;\n",
              "    }\n",
              "\n",
              "    .colab-df-convert:hover {\n",
              "      background-color: #E2EBFA;\n",
              "      box-shadow: 0px 1px 2px rgba(60, 64, 67, 0.3), 0px 1px 3px 1px rgba(60, 64, 67, 0.15);\n",
              "      fill: #174EA6;\n",
              "    }\n",
              "\n",
              "    [theme=dark] .colab-df-convert {\n",
              "      background-color: #3B4455;\n",
              "      fill: #D2E3FC;\n",
              "    }\n",
              "\n",
              "    [theme=dark] .colab-df-convert:hover {\n",
              "      background-color: #434B5C;\n",
              "      box-shadow: 0px 1px 3px 1px rgba(0, 0, 0, 0.15);\n",
              "      filter: drop-shadow(0px 1px 2px rgba(0, 0, 0, 0.3));\n",
              "      fill: #FFFFFF;\n",
              "    }\n",
              "  </style>\n",
              "\n",
              "      <script>\n",
              "        const buttonEl =\n",
              "          document.querySelector('#df-e0c57788-c812-40e3-92b1-65f2a18b77a7 button.colab-df-convert');\n",
              "        buttonEl.style.display =\n",
              "          google.colab.kernel.accessAllowed ? 'block' : 'none';\n",
              "\n",
              "        async function convertToInteractive(key) {\n",
              "          const element = document.querySelector('#df-e0c57788-c812-40e3-92b1-65f2a18b77a7');\n",
              "          const dataTable =\n",
              "            await google.colab.kernel.invokeFunction('convertToInteractive',\n",
              "                                                     [key], {});\n",
              "          if (!dataTable) return;\n",
              "\n",
              "          const docLinkHtml = 'Like what you see? Visit the ' +\n",
              "            '<a target=\"_blank\" href=https://colab.research.google.com/notebooks/data_table.ipynb>data table notebook</a>'\n",
              "            + ' to learn more about interactive tables.';\n",
              "          element.innerHTML = '';\n",
              "          dataTable['output_type'] = 'display_data';\n",
              "          await google.colab.output.renderOutput(dataTable, element);\n",
              "          const docLink = document.createElement('div');\n",
              "          docLink.innerHTML = docLinkHtml;\n",
              "          element.appendChild(docLink);\n",
              "        }\n",
              "      </script>\n",
              "    </div>\n",
              "  </div>\n",
              "  "
            ]
          },
          "metadata": {},
          "execution_count": 19
        }
      ],
      "source": [
        "merge['target'] = 0\n",
        "for i in range(100):\n",
        "    if merge.price_indicator[i] > 0:\n",
        "        merge['target'][i] = 1\n",
        "\n",
        "# 0 - price down\n",
        "# 1 - price up\n",
        "\n",
        "merge.head()"
      ]
    },
    {
      "cell_type": "code",
      "execution_count": null,
      "metadata": {
        "id": "wW6GDXNRykT6",
        "colab": {
          "base_uri": "https://localhost:8080/",
          "height": 206
        },
        "outputId": "d3393584-550d-47a2-e753-67402457239e"
      },
      "outputs": [
        {
          "output_type": "execute_result",
          "data": {
            "text/plain": [
              "       open      high       low     close       volume  polarity  \\\n",
              "0  22921.71  22960.69  22863.96  22944.16  30504623.56  0.000000   \n",
              "1  22921.71  22960.69  22863.96  22944.16  30504623.56  0.000000   \n",
              "2  22921.71  22960.69  22863.96  22944.16  30504623.56  0.000000   \n",
              "3  22921.71  22960.69  22863.96  22944.16  30504623.56 -0.041667   \n",
              "4  22921.71  22960.69  22863.96  22944.16  30504623.56  0.500000   \n",
              "\n",
              "   subjectivity  compound        score  price_indicator  target  \n",
              "0      0.250000    0.0000       0.0000            22.45       1  \n",
              "1      0.000000    0.0000       0.0000             0.00       0  \n",
              "2      0.000000    0.0000       0.0000             0.00       0  \n",
              "3      0.458333   -0.3089 -966613.2779             0.00       0  \n",
              "4      0.500000    0.2023       7.4851             0.00       0  "
            ],
            "text/html": [
              "\n",
              "  <div id=\"df-a3020690-323d-4f13-bb08-0284a4dd82f7\">\n",
              "    <div class=\"colab-df-container\">\n",
              "      <div>\n",
              "<style scoped>\n",
              "    .dataframe tbody tr th:only-of-type {\n",
              "        vertical-align: middle;\n",
              "    }\n",
              "\n",
              "    .dataframe tbody tr th {\n",
              "        vertical-align: top;\n",
              "    }\n",
              "\n",
              "    .dataframe thead th {\n",
              "        text-align: right;\n",
              "    }\n",
              "</style>\n",
              "<table border=\"1\" class=\"dataframe\">\n",
              "  <thead>\n",
              "    <tr style=\"text-align: right;\">\n",
              "      <th></th>\n",
              "      <th>open</th>\n",
              "      <th>high</th>\n",
              "      <th>low</th>\n",
              "      <th>close</th>\n",
              "      <th>volume</th>\n",
              "      <th>polarity</th>\n",
              "      <th>subjectivity</th>\n",
              "      <th>compound</th>\n",
              "      <th>score</th>\n",
              "      <th>price_indicator</th>\n",
              "      <th>target</th>\n",
              "    </tr>\n",
              "  </thead>\n",
              "  <tbody>\n",
              "    <tr>\n",
              "      <th>0</th>\n",
              "      <td>22921.71</td>\n",
              "      <td>22960.69</td>\n",
              "      <td>22863.96</td>\n",
              "      <td>22944.16</td>\n",
              "      <td>30504623.56</td>\n",
              "      <td>0.000000</td>\n",
              "      <td>0.250000</td>\n",
              "      <td>0.0000</td>\n",
              "      <td>0.0000</td>\n",
              "      <td>22.45</td>\n",
              "      <td>1</td>\n",
              "    </tr>\n",
              "    <tr>\n",
              "      <th>1</th>\n",
              "      <td>22921.71</td>\n",
              "      <td>22960.69</td>\n",
              "      <td>22863.96</td>\n",
              "      <td>22944.16</td>\n",
              "      <td>30504623.56</td>\n",
              "      <td>0.000000</td>\n",
              "      <td>0.000000</td>\n",
              "      <td>0.0000</td>\n",
              "      <td>0.0000</td>\n",
              "      <td>0.00</td>\n",
              "      <td>0</td>\n",
              "    </tr>\n",
              "    <tr>\n",
              "      <th>2</th>\n",
              "      <td>22921.71</td>\n",
              "      <td>22960.69</td>\n",
              "      <td>22863.96</td>\n",
              "      <td>22944.16</td>\n",
              "      <td>30504623.56</td>\n",
              "      <td>0.000000</td>\n",
              "      <td>0.000000</td>\n",
              "      <td>0.0000</td>\n",
              "      <td>0.0000</td>\n",
              "      <td>0.00</td>\n",
              "      <td>0</td>\n",
              "    </tr>\n",
              "    <tr>\n",
              "      <th>3</th>\n",
              "      <td>22921.71</td>\n",
              "      <td>22960.69</td>\n",
              "      <td>22863.96</td>\n",
              "      <td>22944.16</td>\n",
              "      <td>30504623.56</td>\n",
              "      <td>-0.041667</td>\n",
              "      <td>0.458333</td>\n",
              "      <td>-0.3089</td>\n",
              "      <td>-966613.2779</td>\n",
              "      <td>0.00</td>\n",
              "      <td>0</td>\n",
              "    </tr>\n",
              "    <tr>\n",
              "      <th>4</th>\n",
              "      <td>22921.71</td>\n",
              "      <td>22960.69</td>\n",
              "      <td>22863.96</td>\n",
              "      <td>22944.16</td>\n",
              "      <td>30504623.56</td>\n",
              "      <td>0.500000</td>\n",
              "      <td>0.500000</td>\n",
              "      <td>0.2023</td>\n",
              "      <td>7.4851</td>\n",
              "      <td>0.00</td>\n",
              "      <td>0</td>\n",
              "    </tr>\n",
              "  </tbody>\n",
              "</table>\n",
              "</div>\n",
              "      <button class=\"colab-df-convert\" onclick=\"convertToInteractive('df-a3020690-323d-4f13-bb08-0284a4dd82f7')\"\n",
              "              title=\"Convert this dataframe to an interactive table.\"\n",
              "              style=\"display:none;\">\n",
              "        \n",
              "  <svg xmlns=\"http://www.w3.org/2000/svg\" height=\"24px\"viewBox=\"0 0 24 24\"\n",
              "       width=\"24px\">\n",
              "    <path d=\"M0 0h24v24H0V0z\" fill=\"none\"/>\n",
              "    <path d=\"M18.56 5.44l.94 2.06.94-2.06 2.06-.94-2.06-.94-.94-2.06-.94 2.06-2.06.94zm-11 1L8.5 8.5l.94-2.06 2.06-.94-2.06-.94L8.5 2.5l-.94 2.06-2.06.94zm10 10l.94 2.06.94-2.06 2.06-.94-2.06-.94-.94-2.06-.94 2.06-2.06.94z\"/><path d=\"M17.41 7.96l-1.37-1.37c-.4-.4-.92-.59-1.43-.59-.52 0-1.04.2-1.43.59L10.3 9.45l-7.72 7.72c-.78.78-.78 2.05 0 2.83L4 21.41c.39.39.9.59 1.41.59.51 0 1.02-.2 1.41-.59l7.78-7.78 2.81-2.81c.8-.78.8-2.07 0-2.86zM5.41 20L4 18.59l7.72-7.72 1.47 1.35L5.41 20z\"/>\n",
              "  </svg>\n",
              "      </button>\n",
              "      \n",
              "  <style>\n",
              "    .colab-df-container {\n",
              "      display:flex;\n",
              "      flex-wrap:wrap;\n",
              "      gap: 12px;\n",
              "    }\n",
              "\n",
              "    .colab-df-convert {\n",
              "      background-color: #E8F0FE;\n",
              "      border: none;\n",
              "      border-radius: 50%;\n",
              "      cursor: pointer;\n",
              "      display: none;\n",
              "      fill: #1967D2;\n",
              "      height: 32px;\n",
              "      padding: 0 0 0 0;\n",
              "      width: 32px;\n",
              "    }\n",
              "\n",
              "    .colab-df-convert:hover {\n",
              "      background-color: #E2EBFA;\n",
              "      box-shadow: 0px 1px 2px rgba(60, 64, 67, 0.3), 0px 1px 3px 1px rgba(60, 64, 67, 0.15);\n",
              "      fill: #174EA6;\n",
              "    }\n",
              "\n",
              "    [theme=dark] .colab-df-convert {\n",
              "      background-color: #3B4455;\n",
              "      fill: #D2E3FC;\n",
              "    }\n",
              "\n",
              "    [theme=dark] .colab-df-convert:hover {\n",
              "      background-color: #434B5C;\n",
              "      box-shadow: 0px 1px 3px 1px rgba(0, 0, 0, 0.15);\n",
              "      filter: drop-shadow(0px 1px 2px rgba(0, 0, 0, 0.3));\n",
              "      fill: #FFFFFF;\n",
              "    }\n",
              "  </style>\n",
              "\n",
              "      <script>\n",
              "        const buttonEl =\n",
              "          document.querySelector('#df-a3020690-323d-4f13-bb08-0284a4dd82f7 button.colab-df-convert');\n",
              "        buttonEl.style.display =\n",
              "          google.colab.kernel.accessAllowed ? 'block' : 'none';\n",
              "\n",
              "        async function convertToInteractive(key) {\n",
              "          const element = document.querySelector('#df-a3020690-323d-4f13-bb08-0284a4dd82f7');\n",
              "          const dataTable =\n",
              "            await google.colab.kernel.invokeFunction('convertToInteractive',\n",
              "                                                     [key], {});\n",
              "          if (!dataTable) return;\n",
              "\n",
              "          const docLinkHtml = 'Like what you see? Visit the ' +\n",
              "            '<a target=\"_blank\" href=https://colab.research.google.com/notebooks/data_table.ipynb>data table notebook</a>'\n",
              "            + ' to learn more about interactive tables.';\n",
              "          element.innerHTML = '';\n",
              "          dataTable['output_type'] = 'display_data';\n",
              "          await google.colab.output.renderOutput(dataTable, element);\n",
              "          const docLink = document.createElement('div');\n",
              "          docLink.innerHTML = docLinkHtml;\n",
              "          element.appendChild(docLink);\n",
              "        }\n",
              "      </script>\n",
              "    </div>\n",
              "  </div>\n",
              "  "
            ]
          },
          "metadata": {},
          "execution_count": 20
        }
      ],
      "source": [
        "keep_columns = ['open', 'high', 'low', 'close', 'volume','polarity','subjectivity','compound','score','price_indicator','target']\n",
        "df = merge[keep_columns]\n",
        "df.head()"
      ]
    },
    {
      "cell_type": "code",
      "execution_count": null,
      "metadata": {
        "id": "nawIHtbCy4Z-"
      },
      "outputs": [],
      "source": [
        "#Model Building"
      ]
    },
    {
      "cell_type": "code",
      "execution_count": null,
      "metadata": {
        "id": "Aa5Z31imy6Uf",
        "colab": {
          "base_uri": "https://localhost:8080/"
        },
        "outputId": "81a08eb9-bc2d-4955-ab8d-4c42ede352bf"
      },
      "outputs": [
        {
          "output_type": "stream",
          "name": "stderr",
          "text": [
            "<ipython-input-22-63d9de6a3c5f>:4: FutureWarning: In a future version of pandas all arguments of DataFrame.drop except for the argument 'labels' will be keyword-only.\n",
            "  X = np.array(X.drop(['target'],1))\n"
          ]
        }
      ],
      "source": [
        "import numpy as np\n",
        "#Create the feature data set\n",
        "X = df\n",
        "X = np.array(X.drop(['target'],1))\n",
        "#Create the target data set\n",
        "y = np.array(df['target'])"
      ]
    },
    {
      "cell_type": "code",
      "execution_count": null,
      "metadata": {
        "id": "GDAhlx4oy8ep"
      },
      "outputs": [],
      "source": [
        "from sklearn.model_selection import train_test_split\n",
        "#Split the data into 80% training and 20% testing data sets\n",
        "X_train, X_test, y_train, y_test = train_test_split(X, y, test_size=0.2, random_state = 0)"
      ]
    },
    {
      "cell_type": "code",
      "execution_count": null,
      "metadata": {
        "id": "Kt2gQAYy0N2v",
        "colab": {
          "base_uri": "https://localhost:8080/"
        },
        "outputId": "b3d71140-6a0a-4494-e8c7-5e80419bda36"
      },
      "outputs": [
        {
          "output_type": "stream",
          "name": "stdout",
          "text": [
            "Collecting tpot\n",
            "  Downloading TPOT-0.12.0-py3-none-any.whl (87 kB)\n",
            "\u001b[?25l     \u001b[90m━━━━━━━━━━━━━━━━━━━━━━━━━━━━━━━━━━━━━━━━\u001b[0m \u001b[32m0.0/87.4 kB\u001b[0m \u001b[31m?\u001b[0m eta \u001b[36m-:--:--\u001b[0m\r\u001b[2K     \u001b[90m━━━━━━━━━━━━━━━━━━━━━━━━━━━━━━━━━━━━━━━━\u001b[0m \u001b[32m87.4/87.4 kB\u001b[0m \u001b[31m5.8 MB/s\u001b[0m eta \u001b[36m0:00:00\u001b[0m\n",
            "\u001b[?25hRequirement already satisfied: numpy>=1.16.3 in /usr/local/lib/python3.10/dist-packages (from tpot) (1.22.4)\n",
            "Requirement already satisfied: scipy>=1.3.1 in /usr/local/lib/python3.10/dist-packages (from tpot) (1.10.1)\n",
            "Requirement already satisfied: scikit-learn>=0.22.0 in /usr/local/lib/python3.10/dist-packages (from tpot) (1.2.2)\n",
            "Collecting deap>=1.2 (from tpot)\n",
            "  Downloading deap-1.3.3-cp310-cp310-manylinux_2_5_x86_64.manylinux1_x86_64.manylinux_2_17_x86_64.manylinux2014_x86_64.whl (139 kB)\n",
            "\u001b[2K     \u001b[90m━━━━━━━━━━━━━━━━━━━━━━━━━━━━━━━━━━━━━━\u001b[0m \u001b[32m139.9/139.9 kB\u001b[0m \u001b[31m14.0 MB/s\u001b[0m eta \u001b[36m0:00:00\u001b[0m\n",
            "\u001b[?25hCollecting update-checker>=0.16 (from tpot)\n",
            "  Downloading update_checker-0.18.0-py3-none-any.whl (7.0 kB)\n",
            "Requirement already satisfied: tqdm>=4.36.1 in /usr/local/lib/python3.10/dist-packages (from tpot) (4.65.0)\n",
            "Collecting stopit>=1.1.1 (from tpot)\n",
            "  Downloading stopit-1.1.2.tar.gz (18 kB)\n",
            "  Preparing metadata (setup.py) ... \u001b[?25l\u001b[?25hdone\n",
            "Requirement already satisfied: pandas>=0.24.2 in /usr/local/lib/python3.10/dist-packages (from tpot) (1.5.3)\n",
            "Requirement already satisfied: joblib>=0.13.2 in /usr/local/lib/python3.10/dist-packages (from tpot) (1.2.0)\n",
            "Requirement already satisfied: xgboost>=1.1.0 in /usr/local/lib/python3.10/dist-packages (from tpot) (1.7.6)\n",
            "Requirement already satisfied: python-dateutil>=2.8.1 in /usr/local/lib/python3.10/dist-packages (from pandas>=0.24.2->tpot) (2.8.2)\n",
            "Requirement already satisfied: pytz>=2020.1 in /usr/local/lib/python3.10/dist-packages (from pandas>=0.24.2->tpot) (2022.7.1)\n",
            "Requirement already satisfied: threadpoolctl>=2.0.0 in /usr/local/lib/python3.10/dist-packages (from scikit-learn>=0.22.0->tpot) (3.1.0)\n",
            "Requirement already satisfied: requests>=2.3.0 in /usr/local/lib/python3.10/dist-packages (from update-checker>=0.16->tpot) (2.27.1)\n",
            "Requirement already satisfied: six>=1.5 in /usr/local/lib/python3.10/dist-packages (from python-dateutil>=2.8.1->pandas>=0.24.2->tpot) (1.16.0)\n",
            "Requirement already satisfied: urllib3<1.27,>=1.21.1 in /usr/local/lib/python3.10/dist-packages (from requests>=2.3.0->update-checker>=0.16->tpot) (1.26.16)\n",
            "Requirement already satisfied: certifi>=2017.4.17 in /usr/local/lib/python3.10/dist-packages (from requests>=2.3.0->update-checker>=0.16->tpot) (2023.5.7)\n",
            "Requirement already satisfied: charset-normalizer~=2.0.0 in /usr/local/lib/python3.10/dist-packages (from requests>=2.3.0->update-checker>=0.16->tpot) (2.0.12)\n",
            "Requirement already satisfied: idna<4,>=2.5 in /usr/local/lib/python3.10/dist-packages (from requests>=2.3.0->update-checker>=0.16->tpot) (3.4)\n",
            "Building wheels for collected packages: stopit\n",
            "  Building wheel for stopit (setup.py) ... \u001b[?25l\u001b[?25hdone\n",
            "  Created wheel for stopit: filename=stopit-1.1.2-py3-none-any.whl size=11938 sha256=a56fda5b968cc0cd8d28799e3e03a41bd1d28bf77cd34f2460952427b321127d\n",
            "  Stored in directory: /root/.cache/pip/wheels/af/f9/87/bf5b3d565c2a007b4dae9d8142dccc85a9f164e517062dd519\n",
            "Successfully built stopit\n",
            "Installing collected packages: stopit, deap, update-checker, tpot\n",
            "Successfully installed deap-1.3.3 stopit-1.1.2 tpot-0.12.0 update-checker-0.18.0\n"
          ]
        }
      ],
      "source": [
        "!pip install tpot\n"
      ]
    },
    {
      "cell_type": "code",
      "execution_count": null,
      "metadata": {
        "id": "WWX8tJH5y-ON"
      },
      "outputs": [],
      "source": [
        "from tpot import TPOTClassifier\n",
        "from sklearn.metrics import confusion_matrix,accuracy_score,roc_auc_score"
      ]
    },
    {
      "cell_type": "code",
      "source": [
        "from sklearn.metrics import roc_auc_score\n",
        "from tpot import TPOTClassifier\n",
        "import numpy as np\n"
      ],
      "metadata": {
        "id": "VE3kyUdbX6s1"
      },
      "execution_count": null,
      "outputs": []
    },
    {
      "cell_type": "code",
      "source": [
        "from sklearn.metrics import roc_auc_score\n",
        "from tpot import TPOTClassifier\n",
        "import numpy as np\n",
        "\n",
        "# Instantiate TPOTClassifier\n",
        "tpot = TPOTClassifier(\n",
        "    generations=5,\n",
        "    population_size=20,\n",
        "    verbosity=2,\n",
        "    scoring='roc_auc',\n",
        "    random_state=42,\n",
        "    disable_update_check=True,\n",
        "    config_dict='TPOT light'\n",
        ")\n",
        "\n",
        "# Convert X_train and y_train to NumPy arrays\n",
        "X_train = np.array(X_train)\n",
        "y_train = np.array(y_train)\n",
        "\n",
        "# Ensure that there are at least two classes in y_train\n",
        "if len(np.unique(y_train)) < 2:\n",
        "    raise ValueError(\"At least two classes are required in y_train for ROC AUC score calculation.\")\n",
        "\n",
        "try:\n",
        "    # Fit TPOTClassifier\n",
        "    tpot.fit(X_train, y_train)\n",
        "\n",
        "    # AUC score for tpot model\n",
        "    X_test = np.array(X_test)  # Assuming you have X_test data\n",
        "    y_test = np.array(y_test)  # Assuming you have y_test data\n",
        "\n",
        "    # Ensure that there are at least two classes in y_test\n",
        "    if len(np.unique(y_test)) < 2:\n",
        "        raise ValueError(\"At least two classes are required in y_test for ROC AUC score calculation.\")\n",
        "\n",
        "    tpot_auc_score = roc_auc_score(y_test, tpot.predict_proba(X_test)[:, 1])\n",
        "    print(f'\\nAUC score: {tpot_auc_score:.4f}')\n",
        "\n",
        "    # Print best pipeline steps\n",
        "    print('\\nBest pipeline steps:')\n",
        "    for idx, (name, transform) in enumerate(tpot.fitted_pipeline_.steps, start=1):\n",
        "        print(f'{idx}. {transform}')\n",
        "\n",
        "except ValueError as e:\n",
        "    print(\"Error:\", str(e))\n"
      ],
      "metadata": {
        "colab": {
          "base_uri": "https://localhost:8080/",
          "height": 457,
          "referenced_widgets": [
            "6317c758261445dab207098f92a89785",
            "1308e6deecdc458d969ffca217e053f3",
            "951f3bcbf6854aba8eff98a7766b2e29",
            "c06f3f2573254bd3a6154b278a1f581b",
            "d4d3f3cbc4f14dc3addb4e2641e0ac97",
            "d49ec54b69314fd28cf7dcff6d75a386",
            "e05a5d30add54d84a2d0ae75e1a1dc74",
            "600cce831d4d4a5681c7ad193a6c849c",
            "5c74873b66e048f3af37b69423e11600",
            "76d3b05d7a0045fa8a41cfc89ac93f51",
            "93e315a77211434a9eb7e90d2c9d2c87"
          ]
        },
        "id": "0ROzd439dAhy",
        "outputId": "1bbb4254-ee76-492f-ed81-9e9b9dd9f9db"
      },
      "execution_count": null,
      "outputs": [
        {
          "output_type": "display_data",
          "data": {
            "text/plain": [
              "Optimization Progress:   0%|          | 0/120 [00:00<?, ?pipeline/s]"
            ],
            "application/vnd.jupyter.widget-view+json": {
              "version_major": 2,
              "version_minor": 0,
              "model_id": "6317c758261445dab207098f92a89785"
            }
          },
          "metadata": {}
        },
        {
          "output_type": "stream",
          "name": "stderr",
          "text": [
            "/usr/local/lib/python3.10/dist-packages/sklearn/model_selection/_split.py:700: UserWarning: The least populated class in y has only 1 members, which is less than n_splits=5.\n",
            "  warnings.warn(\n",
            "/usr/local/lib/python3.10/dist-packages/sklearn/model_selection/_split.py:700: UserWarning: The least populated class in y has only 1 members, which is less than n_splits=5.\n",
            "  warnings.warn(\n",
            "/usr/local/lib/python3.10/dist-packages/sklearn/model_selection/_split.py:700: UserWarning: The least populated class in y has only 1 members, which is less than n_splits=5.\n",
            "  warnings.warn(\n",
            "/usr/local/lib/python3.10/dist-packages/sklearn/model_selection/_split.py:700: UserWarning: The least populated class in y has only 1 members, which is less than n_splits=5.\n",
            "  warnings.warn(\n",
            "/usr/local/lib/python3.10/dist-packages/sklearn/model_selection/_split.py:700: UserWarning: The least populated class in y has only 1 members, which is less than n_splits=5.\n",
            "  warnings.warn(\n",
            "/usr/local/lib/python3.10/dist-packages/sklearn/model_selection/_split.py:700: UserWarning: The least populated class in y has only 1 members, which is less than n_splits=5.\n",
            "  warnings.warn(\n",
            "/usr/local/lib/python3.10/dist-packages/sklearn/model_selection/_split.py:700: UserWarning: The least populated class in y has only 1 members, which is less than n_splits=5.\n",
            "  warnings.warn(\n"
          ]
        },
        {
          "output_type": "stream",
          "name": "stdout",
          "text": [
            "Error: Only one class present in y_true. ROC AUC score is not defined in that case.\n"
          ]
        },
        {
          "output_type": "stream",
          "name": "stderr",
          "text": [
            "/usr/local/lib/python3.10/dist-packages/sklearn/model_selection/_split.py:700: UserWarning: The least populated class in y has only 1 members, which is less than n_splits=5.\n",
            "  warnings.warn(\n",
            "/usr/local/lib/python3.10/dist-packages/sklearn/model_selection/_split.py:700: UserWarning: The least populated class in y has only 1 members, which is less than n_splits=5.\n",
            "  warnings.warn(\n",
            "/usr/local/lib/python3.10/dist-packages/sklearn/model_selection/_split.py:700: UserWarning: The least populated class in y has only 1 members, which is less than n_splits=5.\n",
            "  warnings.warn(\n"
          ]
        }
      ]
    },
    {
      "cell_type": "code",
      "execution_count": null,
      "metadata": {
        "id": "ZyfkI2VX0UCA",
        "colab": {
          "base_uri": "https://localhost:8080/",
          "height": 875,
          "referenced_widgets": [
            "e133bcad321d4a6393eada561990b2fd",
            "640d0a5a26a6476fbd00a6d0e1a922df",
            "b68901cb4b2c4f2aac0d954db3a8f307",
            "4f7f1be4d9b148ed8e4966687893a5ae",
            "52bc6bd027794b5f968b46ed901b79fe",
            "9d26fd4d4a8f491f90daca8f6bb573af",
            "2a06e338c8964c99831f9ab1842f159a",
            "2521cd3b09bc4d4784b95c554db5f02b",
            "b202c0553c3c432fac97485e7eb61971",
            "edf7470e821a4de6b56fad1fde55dfa5",
            "488bd867dc684c829b2a41f0e752f6a5"
          ]
        },
        "outputId": "37fdccfc-25a6-4e20-81db-1662b988fb43"
      },
      "outputs": [
        {
          "output_type": "display_data",
          "data": {
            "text/plain": [
              "Optimization Progress:   0%|          | 0/120 [00:00<?, ?pipeline/s]"
            ],
            "application/vnd.jupyter.widget-view+json": {
              "version_major": 2,
              "version_minor": 0,
              "model_id": "e133bcad321d4a6393eada561990b2fd"
            }
          },
          "metadata": {}
        },
        {
          "output_type": "stream",
          "name": "stderr",
          "text": [
            "/usr/local/lib/python3.10/dist-packages/sklearn/model_selection/_split.py:700: UserWarning: The least populated class in y has only 1 members, which is less than n_splits=5.\n",
            "  warnings.warn(\n",
            "/usr/local/lib/python3.10/dist-packages/sklearn/model_selection/_split.py:700: UserWarning: The least populated class in y has only 1 members, which is less than n_splits=5.\n",
            "  warnings.warn(\n",
            "/usr/local/lib/python3.10/dist-packages/sklearn/model_selection/_split.py:700: UserWarning: The least populated class in y has only 1 members, which is less than n_splits=5.\n",
            "  warnings.warn(\n",
            "/usr/local/lib/python3.10/dist-packages/sklearn/model_selection/_split.py:700: UserWarning: The least populated class in y has only 1 members, which is less than n_splits=5.\n",
            "  warnings.warn(\n",
            "/usr/local/lib/python3.10/dist-packages/sklearn/model_selection/_split.py:700: UserWarning: The least populated class in y has only 1 members, which is less than n_splits=5.\n",
            "  warnings.warn(\n",
            "/usr/local/lib/python3.10/dist-packages/sklearn/model_selection/_split.py:700: UserWarning: The least populated class in y has only 1 members, which is less than n_splits=5.\n",
            "  warnings.warn(\n",
            "/usr/local/lib/python3.10/dist-packages/sklearn/model_selection/_split.py:700: UserWarning: The least populated class in y has only 1 members, which is less than n_splits=5.\n",
            "  warnings.warn(\n",
            "/usr/local/lib/python3.10/dist-packages/sklearn/model_selection/_split.py:700: UserWarning: The least populated class in y has only 1 members, which is less than n_splits=5.\n",
            "  warnings.warn(\n",
            "/usr/local/lib/python3.10/dist-packages/sklearn/model_selection/_split.py:700: UserWarning: The least populated class in y has only 1 members, which is less than n_splits=5.\n",
            "  warnings.warn(\n",
            "/usr/local/lib/python3.10/dist-packages/sklearn/model_selection/_split.py:700: UserWarning: The least populated class in y has only 1 members, which is less than n_splits=5.\n",
            "  warnings.warn(\n"
          ]
        },
        {
          "output_type": "error",
          "ename": "ValueError",
          "evalue": "ignored",
          "traceback": [
            "\u001b[0;31m---------------------------------------------------------------------------\u001b[0m",
            "\u001b[0;31mIndexError\u001b[0m                                Traceback (most recent call last)",
            "\u001b[0;32m/usr/local/lib/python3.10/dist-packages/tpot/base.py\u001b[0m in \u001b[0;36mfit\u001b[0;34m(self, features, target, sample_weight, groups)\u001b[0m\n\u001b[1;32m    816\u001b[0m                 \u001b[0mwarnings\u001b[0m\u001b[0;34m.\u001b[0m\u001b[0msimplefilter\u001b[0m\u001b[0;34m(\u001b[0m\u001b[0;34m\"ignore\"\u001b[0m\u001b[0;34m)\u001b[0m\u001b[0;34m\u001b[0m\u001b[0;34m\u001b[0m\u001b[0m\n\u001b[0;32m--> 817\u001b[0;31m                 self._pop, _ = eaMuPlusLambda(\n\u001b[0m\u001b[1;32m    818\u001b[0m                     \u001b[0mpopulation\u001b[0m\u001b[0;34m=\u001b[0m\u001b[0mself\u001b[0m\u001b[0;34m.\u001b[0m\u001b[0m_pop\u001b[0m\u001b[0;34m,\u001b[0m\u001b[0;34m\u001b[0m\u001b[0;34m\u001b[0m\u001b[0m\n",
            "\u001b[0;32m/usr/local/lib/python3.10/dist-packages/tpot/gp_deap.py\u001b[0m in \u001b[0;36meaMuPlusLambda\u001b[0;34m(population, toolbox, mu, lambda_, cxpb, mutpb, ngen, pbar, stats, halloffame, verbose, per_generation_function, log_file)\u001b[0m\n\u001b[1;32m    254\u001b[0m         \u001b[0;31m# Select the next generation population\u001b[0m\u001b[0;34m\u001b[0m\u001b[0;34m\u001b[0m\u001b[0m\n\u001b[0;32m--> 255\u001b[0;31m         \u001b[0mpopulation\u001b[0m\u001b[0;34m[\u001b[0m\u001b[0;34m:\u001b[0m\u001b[0;34m]\u001b[0m \u001b[0;34m=\u001b[0m \u001b[0mtoolbox\u001b[0m\u001b[0;34m.\u001b[0m\u001b[0mselect\u001b[0m\u001b[0;34m(\u001b[0m\u001b[0mpopulation\u001b[0m \u001b[0;34m+\u001b[0m \u001b[0moffspring\u001b[0m\u001b[0;34m,\u001b[0m \u001b[0mmu\u001b[0m\u001b[0;34m)\u001b[0m\u001b[0;34m\u001b[0m\u001b[0;34m\u001b[0m\u001b[0m\n\u001b[0m\u001b[1;32m    256\u001b[0m \u001b[0;34m\u001b[0m\u001b[0m\n",
            "\u001b[0;32m/usr/local/lib/python3.10/dist-packages/deap/tools/emo.py\u001b[0m in \u001b[0;36mselNSGA2\u001b[0;34m(individuals, k, nd)\u001b[0m\n\u001b[1;32m     40\u001b[0m     \u001b[0;32mfor\u001b[0m \u001b[0mfront\u001b[0m \u001b[0;32min\u001b[0m \u001b[0mpareto_fronts\u001b[0m\u001b[0;34m:\u001b[0m\u001b[0;34m\u001b[0m\u001b[0;34m\u001b[0m\u001b[0m\n\u001b[0;32m---> 41\u001b[0;31m         \u001b[0massignCrowdingDist\u001b[0m\u001b[0;34m(\u001b[0m\u001b[0mfront\u001b[0m\u001b[0;34m)\u001b[0m\u001b[0;34m\u001b[0m\u001b[0;34m\u001b[0m\u001b[0m\n\u001b[0m\u001b[1;32m     42\u001b[0m \u001b[0;34m\u001b[0m\u001b[0m\n",
            "\u001b[0;32m/usr/local/lib/python3.10/dist-packages/deap/tools/emo.py\u001b[0m in \u001b[0;36massignCrowdingDist\u001b[0;34m(individuals)\u001b[0m\n\u001b[1;32m    131\u001b[0m     \u001b[0;32mfor\u001b[0m \u001b[0mi\u001b[0m \u001b[0;32min\u001b[0m \u001b[0mrange\u001b[0m\u001b[0;34m(\u001b[0m\u001b[0mnobj\u001b[0m\u001b[0;34m)\u001b[0m\u001b[0;34m:\u001b[0m\u001b[0;34m\u001b[0m\u001b[0;34m\u001b[0m\u001b[0m\n\u001b[0;32m--> 132\u001b[0;31m         \u001b[0mcrowd\u001b[0m\u001b[0;34m.\u001b[0m\u001b[0msort\u001b[0m\u001b[0;34m(\u001b[0m\u001b[0mkey\u001b[0m\u001b[0;34m=\u001b[0m\u001b[0;32mlambda\u001b[0m \u001b[0melement\u001b[0m\u001b[0;34m:\u001b[0m \u001b[0melement\u001b[0m\u001b[0;34m[\u001b[0m\u001b[0;36m0\u001b[0m\u001b[0;34m]\u001b[0m\u001b[0;34m[\u001b[0m\u001b[0mi\u001b[0m\u001b[0;34m]\u001b[0m\u001b[0;34m)\u001b[0m\u001b[0;34m\u001b[0m\u001b[0;34m\u001b[0m\u001b[0m\n\u001b[0m\u001b[1;32m    133\u001b[0m         \u001b[0mdistances\u001b[0m\u001b[0;34m[\u001b[0m\u001b[0mcrowd\u001b[0m\u001b[0;34m[\u001b[0m\u001b[0;36m0\u001b[0m\u001b[0;34m]\u001b[0m\u001b[0;34m[\u001b[0m\u001b[0;36m1\u001b[0m\u001b[0;34m]\u001b[0m\u001b[0;34m]\u001b[0m \u001b[0;34m=\u001b[0m \u001b[0mfloat\u001b[0m\u001b[0;34m(\u001b[0m\u001b[0;34m\"inf\"\u001b[0m\u001b[0;34m)\u001b[0m\u001b[0;34m\u001b[0m\u001b[0;34m\u001b[0m\u001b[0m\n",
            "\u001b[0;32m/usr/local/lib/python3.10/dist-packages/deap/tools/emo.py\u001b[0m in \u001b[0;36m<lambda>\u001b[0;34m(element)\u001b[0m\n\u001b[1;32m    131\u001b[0m     \u001b[0;32mfor\u001b[0m \u001b[0mi\u001b[0m \u001b[0;32min\u001b[0m \u001b[0mrange\u001b[0m\u001b[0;34m(\u001b[0m\u001b[0mnobj\u001b[0m\u001b[0;34m)\u001b[0m\u001b[0;34m:\u001b[0m\u001b[0;34m\u001b[0m\u001b[0;34m\u001b[0m\u001b[0m\n\u001b[0;32m--> 132\u001b[0;31m         \u001b[0mcrowd\u001b[0m\u001b[0;34m.\u001b[0m\u001b[0msort\u001b[0m\u001b[0;34m(\u001b[0m\u001b[0mkey\u001b[0m\u001b[0;34m=\u001b[0m\u001b[0;32mlambda\u001b[0m \u001b[0melement\u001b[0m\u001b[0;34m:\u001b[0m \u001b[0melement\u001b[0m\u001b[0;34m[\u001b[0m\u001b[0;36m0\u001b[0m\u001b[0;34m]\u001b[0m\u001b[0;34m[\u001b[0m\u001b[0mi\u001b[0m\u001b[0;34m]\u001b[0m\u001b[0;34m)\u001b[0m\u001b[0;34m\u001b[0m\u001b[0;34m\u001b[0m\u001b[0m\n\u001b[0m\u001b[1;32m    133\u001b[0m         \u001b[0mdistances\u001b[0m\u001b[0;34m[\u001b[0m\u001b[0mcrowd\u001b[0m\u001b[0;34m[\u001b[0m\u001b[0;36m0\u001b[0m\u001b[0;34m]\u001b[0m\u001b[0;34m[\u001b[0m\u001b[0;36m1\u001b[0m\u001b[0;34m]\u001b[0m\u001b[0;34m]\u001b[0m \u001b[0;34m=\u001b[0m \u001b[0mfloat\u001b[0m\u001b[0;34m(\u001b[0m\u001b[0;34m\"inf\"\u001b[0m\u001b[0;34m)\u001b[0m\u001b[0;34m\u001b[0m\u001b[0;34m\u001b[0m\u001b[0m\n",
            "\u001b[0;31mIndexError\u001b[0m: tuple index out of range",
            "\nDuring handling of the above exception, another exception occurred:\n",
            "\u001b[0;31mValueError\u001b[0m                                Traceback (most recent call last)",
            "\u001b[0;32m<ipython-input-32-ad9ba9a54230>\u001b[0m in \u001b[0;36m<cell line: 11>\u001b[0;34m()\u001b[0m\n\u001b[1;32m      9\u001b[0m     \u001b[0mconfig_dict\u001b[0m\u001b[0;34m=\u001b[0m\u001b[0;34m'TPOT light'\u001b[0m\u001b[0;34m\u001b[0m\u001b[0;34m\u001b[0m\u001b[0m\n\u001b[1;32m     10\u001b[0m )\n\u001b[0;32m---> 11\u001b[0;31m \u001b[0mtpot\u001b[0m\u001b[0;34m.\u001b[0m\u001b[0mfit\u001b[0m\u001b[0;34m(\u001b[0m\u001b[0mX_train\u001b[0m\u001b[0;34m,\u001b[0m \u001b[0my_train\u001b[0m\u001b[0;34m)\u001b[0m\u001b[0;34m\u001b[0m\u001b[0;34m\u001b[0m\u001b[0m\n\u001b[0m\u001b[1;32m     12\u001b[0m \u001b[0;34m\u001b[0m\u001b[0m\n\u001b[1;32m     13\u001b[0m \u001b[0;31m# AUC score for tpot model\u001b[0m\u001b[0;34m\u001b[0m\u001b[0;34m\u001b[0m\u001b[0m\n",
            "\u001b[0;32m/usr/local/lib/python3.10/dist-packages/tpot/base.py\u001b[0m in \u001b[0;36mfit\u001b[0;34m(self, features, target, sample_weight, groups)\u001b[0m\n\u001b[1;32m    862\u001b[0m                     \u001b[0;31m# raise the exception if it's our last attempt\u001b[0m\u001b[0;34m\u001b[0m\u001b[0;34m\u001b[0m\u001b[0m\n\u001b[1;32m    863\u001b[0m                     \u001b[0;32mif\u001b[0m \u001b[0mattempt\u001b[0m \u001b[0;34m==\u001b[0m \u001b[0;34m(\u001b[0m\u001b[0mattempts\u001b[0m \u001b[0;34m-\u001b[0m \u001b[0;36m1\u001b[0m\u001b[0;34m)\u001b[0m\u001b[0;34m:\u001b[0m\u001b[0;34m\u001b[0m\u001b[0;34m\u001b[0m\u001b[0m\n\u001b[0;32m--> 864\u001b[0;31m                         \u001b[0;32mraise\u001b[0m \u001b[0me\u001b[0m\u001b[0;34m\u001b[0m\u001b[0;34m\u001b[0m\u001b[0m\n\u001b[0m\u001b[1;32m    865\u001b[0m             \u001b[0;32mreturn\u001b[0m \u001b[0mself\u001b[0m\u001b[0;34m\u001b[0m\u001b[0;34m\u001b[0m\u001b[0m\n\u001b[1;32m    866\u001b[0m \u001b[0;34m\u001b[0m\u001b[0m\n",
            "\u001b[0;32m/usr/local/lib/python3.10/dist-packages/tpot/base.py\u001b[0m in \u001b[0;36mfit\u001b[0;34m(self, features, target, sample_weight, groups)\u001b[0m\n\u001b[1;32m    853\u001b[0m                         \u001b[0mself\u001b[0m\u001b[0;34m.\u001b[0m\u001b[0m_pbar\u001b[0m\u001b[0;34m.\u001b[0m\u001b[0mclose\u001b[0m\u001b[0;34m(\u001b[0m\u001b[0;34m)\u001b[0m\u001b[0;34m\u001b[0m\u001b[0;34m\u001b[0m\u001b[0m\n\u001b[1;32m    854\u001b[0m \u001b[0;34m\u001b[0m\u001b[0m\n\u001b[0;32m--> 855\u001b[0;31m                     \u001b[0mself\u001b[0m\u001b[0;34m.\u001b[0m\u001b[0m_update_top_pipeline\u001b[0m\u001b[0;34m(\u001b[0m\u001b[0;34m)\u001b[0m\u001b[0;34m\u001b[0m\u001b[0;34m\u001b[0m\u001b[0m\n\u001b[0m\u001b[1;32m    856\u001b[0m                     \u001b[0mself\u001b[0m\u001b[0;34m.\u001b[0m\u001b[0m_summary_of_best_pipeline\u001b[0m\u001b[0;34m(\u001b[0m\u001b[0mfeatures\u001b[0m\u001b[0;34m,\u001b[0m \u001b[0mtarget\u001b[0m\u001b[0;34m)\u001b[0m\u001b[0;34m\u001b[0m\u001b[0;34m\u001b[0m\u001b[0m\n\u001b[1;32m    857\u001b[0m                     \u001b[0;31m# Delete the temporary cache before exiting\u001b[0m\u001b[0;34m\u001b[0m\u001b[0;34m\u001b[0m\u001b[0m\n",
            "\u001b[0;32m/usr/local/lib/python3.10/dist-packages/tpot/base.py\u001b[0m in \u001b[0;36m_update_top_pipeline\u001b[0;34m(self)\u001b[0m\n\u001b[1;32m    923\u001b[0m                         \u001b[0;32mfrom\u001b[0m \u001b[0msklearn\u001b[0m\u001b[0;34m.\u001b[0m\u001b[0mmodel_selection\u001b[0m \u001b[0;32mimport\u001b[0m \u001b[0mcross_val_score\u001b[0m\u001b[0;34m\u001b[0m\u001b[0;34m\u001b[0m\u001b[0m\n\u001b[1;32m    924\u001b[0m \u001b[0;34m\u001b[0m\u001b[0m\n\u001b[0;32m--> 925\u001b[0;31m                         cv_scores = cross_val_score(\n\u001b[0m\u001b[1;32m    926\u001b[0m                             \u001b[0msklearn_pipeline\u001b[0m\u001b[0;34m,\u001b[0m\u001b[0;34m\u001b[0m\u001b[0;34m\u001b[0m\u001b[0m\n\u001b[1;32m    927\u001b[0m                             \u001b[0mself\u001b[0m\u001b[0;34m.\u001b[0m\u001b[0mpretest_X\u001b[0m\u001b[0;34m,\u001b[0m\u001b[0;34m\u001b[0m\u001b[0;34m\u001b[0m\u001b[0m\n",
            "\u001b[0;32m/usr/local/lib/python3.10/dist-packages/sklearn/model_selection/_validation.py\u001b[0m in \u001b[0;36mcross_val_score\u001b[0;34m(estimator, X, y, groups, scoring, cv, n_jobs, verbose, fit_params, pre_dispatch, error_score)\u001b[0m\n\u001b[1;32m    513\u001b[0m     \u001b[0mscorer\u001b[0m \u001b[0;34m=\u001b[0m \u001b[0mcheck_scoring\u001b[0m\u001b[0;34m(\u001b[0m\u001b[0mestimator\u001b[0m\u001b[0;34m,\u001b[0m \u001b[0mscoring\u001b[0m\u001b[0;34m=\u001b[0m\u001b[0mscoring\u001b[0m\u001b[0;34m)\u001b[0m\u001b[0;34m\u001b[0m\u001b[0;34m\u001b[0m\u001b[0m\n\u001b[1;32m    514\u001b[0m \u001b[0;34m\u001b[0m\u001b[0m\n\u001b[0;32m--> 515\u001b[0;31m     cv_results = cross_validate(\n\u001b[0m\u001b[1;32m    516\u001b[0m         \u001b[0mestimator\u001b[0m\u001b[0;34m=\u001b[0m\u001b[0mestimator\u001b[0m\u001b[0;34m,\u001b[0m\u001b[0;34m\u001b[0m\u001b[0;34m\u001b[0m\u001b[0m\n\u001b[1;32m    517\u001b[0m         \u001b[0mX\u001b[0m\u001b[0;34m=\u001b[0m\u001b[0mX\u001b[0m\u001b[0;34m,\u001b[0m\u001b[0;34m\u001b[0m\u001b[0;34m\u001b[0m\u001b[0m\n",
            "\u001b[0;32m/usr/local/lib/python3.10/dist-packages/sklearn/model_selection/_validation.py\u001b[0m in \u001b[0;36mcross_validate\u001b[0;34m(estimator, X, y, groups, scoring, cv, n_jobs, verbose, fit_params, pre_dispatch, return_train_score, return_estimator, error_score)\u001b[0m\n\u001b[1;32m    264\u001b[0m     \u001b[0;31m# independent, and that it is pickle-able.\u001b[0m\u001b[0;34m\u001b[0m\u001b[0;34m\u001b[0m\u001b[0m\n\u001b[1;32m    265\u001b[0m     \u001b[0mparallel\u001b[0m \u001b[0;34m=\u001b[0m \u001b[0mParallel\u001b[0m\u001b[0;34m(\u001b[0m\u001b[0mn_jobs\u001b[0m\u001b[0;34m=\u001b[0m\u001b[0mn_jobs\u001b[0m\u001b[0;34m,\u001b[0m \u001b[0mverbose\u001b[0m\u001b[0;34m=\u001b[0m\u001b[0mverbose\u001b[0m\u001b[0;34m,\u001b[0m \u001b[0mpre_dispatch\u001b[0m\u001b[0;34m=\u001b[0m\u001b[0mpre_dispatch\u001b[0m\u001b[0;34m)\u001b[0m\u001b[0;34m\u001b[0m\u001b[0;34m\u001b[0m\u001b[0m\n\u001b[0;32m--> 266\u001b[0;31m     results = parallel(\n\u001b[0m\u001b[1;32m    267\u001b[0m         delayed(_fit_and_score)(\n\u001b[1;32m    268\u001b[0m             \u001b[0mclone\u001b[0m\u001b[0;34m(\u001b[0m\u001b[0mestimator\u001b[0m\u001b[0;34m)\u001b[0m\u001b[0;34m,\u001b[0m\u001b[0;34m\u001b[0m\u001b[0;34m\u001b[0m\u001b[0m\n",
            "\u001b[0;32m/usr/local/lib/python3.10/dist-packages/sklearn/utils/parallel.py\u001b[0m in \u001b[0;36m__call__\u001b[0;34m(self, iterable)\u001b[0m\n\u001b[1;32m     61\u001b[0m             \u001b[0;32mfor\u001b[0m \u001b[0mdelayed_func\u001b[0m\u001b[0;34m,\u001b[0m \u001b[0margs\u001b[0m\u001b[0;34m,\u001b[0m \u001b[0mkwargs\u001b[0m \u001b[0;32min\u001b[0m \u001b[0miterable\u001b[0m\u001b[0;34m\u001b[0m\u001b[0;34m\u001b[0m\u001b[0m\n\u001b[1;32m     62\u001b[0m         )\n\u001b[0;32m---> 63\u001b[0;31m         \u001b[0;32mreturn\u001b[0m \u001b[0msuper\u001b[0m\u001b[0;34m(\u001b[0m\u001b[0;34m)\u001b[0m\u001b[0;34m.\u001b[0m\u001b[0m__call__\u001b[0m\u001b[0;34m(\u001b[0m\u001b[0miterable_with_config\u001b[0m\u001b[0;34m)\u001b[0m\u001b[0;34m\u001b[0m\u001b[0;34m\u001b[0m\u001b[0m\n\u001b[0m\u001b[1;32m     64\u001b[0m \u001b[0;34m\u001b[0m\u001b[0m\n\u001b[1;32m     65\u001b[0m \u001b[0;34m\u001b[0m\u001b[0m\n",
            "\u001b[0;32m/usr/local/lib/python3.10/dist-packages/joblib/parallel.py\u001b[0m in \u001b[0;36m__call__\u001b[0;34m(self, iterable)\u001b[0m\n\u001b[1;32m   1083\u001b[0m             \u001b[0;31m# remaining jobs.\u001b[0m\u001b[0;34m\u001b[0m\u001b[0;34m\u001b[0m\u001b[0m\n\u001b[1;32m   1084\u001b[0m             \u001b[0mself\u001b[0m\u001b[0;34m.\u001b[0m\u001b[0m_iterating\u001b[0m \u001b[0;34m=\u001b[0m \u001b[0;32mFalse\u001b[0m\u001b[0;34m\u001b[0m\u001b[0;34m\u001b[0m\u001b[0m\n\u001b[0;32m-> 1085\u001b[0;31m             \u001b[0;32mif\u001b[0m \u001b[0mself\u001b[0m\u001b[0;34m.\u001b[0m\u001b[0mdispatch_one_batch\u001b[0m\u001b[0;34m(\u001b[0m\u001b[0miterator\u001b[0m\u001b[0;34m)\u001b[0m\u001b[0;34m:\u001b[0m\u001b[0;34m\u001b[0m\u001b[0;34m\u001b[0m\u001b[0m\n\u001b[0m\u001b[1;32m   1086\u001b[0m                 \u001b[0mself\u001b[0m\u001b[0;34m.\u001b[0m\u001b[0m_iterating\u001b[0m \u001b[0;34m=\u001b[0m \u001b[0mself\u001b[0m\u001b[0;34m.\u001b[0m\u001b[0m_original_iterator\u001b[0m \u001b[0;32mis\u001b[0m \u001b[0;32mnot\u001b[0m \u001b[0;32mNone\u001b[0m\u001b[0;34m\u001b[0m\u001b[0;34m\u001b[0m\u001b[0m\n\u001b[1;32m   1087\u001b[0m \u001b[0;34m\u001b[0m\u001b[0m\n",
            "\u001b[0;32m/usr/local/lib/python3.10/dist-packages/joblib/parallel.py\u001b[0m in \u001b[0;36mdispatch_one_batch\u001b[0;34m(self, iterator)\u001b[0m\n\u001b[1;32m    899\u001b[0m                 \u001b[0;32mreturn\u001b[0m \u001b[0;32mFalse\u001b[0m\u001b[0;34m\u001b[0m\u001b[0;34m\u001b[0m\u001b[0m\n\u001b[1;32m    900\u001b[0m             \u001b[0;32melse\u001b[0m\u001b[0;34m:\u001b[0m\u001b[0;34m\u001b[0m\u001b[0;34m\u001b[0m\u001b[0m\n\u001b[0;32m--> 901\u001b[0;31m                 \u001b[0mself\u001b[0m\u001b[0;34m.\u001b[0m\u001b[0m_dispatch\u001b[0m\u001b[0;34m(\u001b[0m\u001b[0mtasks\u001b[0m\u001b[0;34m)\u001b[0m\u001b[0;34m\u001b[0m\u001b[0;34m\u001b[0m\u001b[0m\n\u001b[0m\u001b[1;32m    902\u001b[0m                 \u001b[0;32mreturn\u001b[0m \u001b[0;32mTrue\u001b[0m\u001b[0;34m\u001b[0m\u001b[0;34m\u001b[0m\u001b[0m\n\u001b[1;32m    903\u001b[0m \u001b[0;34m\u001b[0m\u001b[0m\n",
            "\u001b[0;32m/usr/local/lib/python3.10/dist-packages/joblib/parallel.py\u001b[0m in \u001b[0;36m_dispatch\u001b[0;34m(self, batch)\u001b[0m\n\u001b[1;32m    817\u001b[0m         \u001b[0;32mwith\u001b[0m \u001b[0mself\u001b[0m\u001b[0;34m.\u001b[0m\u001b[0m_lock\u001b[0m\u001b[0;34m:\u001b[0m\u001b[0;34m\u001b[0m\u001b[0;34m\u001b[0m\u001b[0m\n\u001b[1;32m    818\u001b[0m             \u001b[0mjob_idx\u001b[0m \u001b[0;34m=\u001b[0m \u001b[0mlen\u001b[0m\u001b[0;34m(\u001b[0m\u001b[0mself\u001b[0m\u001b[0;34m.\u001b[0m\u001b[0m_jobs\u001b[0m\u001b[0;34m)\u001b[0m\u001b[0;34m\u001b[0m\u001b[0;34m\u001b[0m\u001b[0m\n\u001b[0;32m--> 819\u001b[0;31m             \u001b[0mjob\u001b[0m \u001b[0;34m=\u001b[0m \u001b[0mself\u001b[0m\u001b[0;34m.\u001b[0m\u001b[0m_backend\u001b[0m\u001b[0;34m.\u001b[0m\u001b[0mapply_async\u001b[0m\u001b[0;34m(\u001b[0m\u001b[0mbatch\u001b[0m\u001b[0;34m,\u001b[0m \u001b[0mcallback\u001b[0m\u001b[0;34m=\u001b[0m\u001b[0mcb\u001b[0m\u001b[0;34m)\u001b[0m\u001b[0;34m\u001b[0m\u001b[0;34m\u001b[0m\u001b[0m\n\u001b[0m\u001b[1;32m    820\u001b[0m             \u001b[0;31m# A job can complete so quickly than its callback is\u001b[0m\u001b[0;34m\u001b[0m\u001b[0;34m\u001b[0m\u001b[0m\n\u001b[1;32m    821\u001b[0m             \u001b[0;31m# called before we get here, causing self._jobs to\u001b[0m\u001b[0;34m\u001b[0m\u001b[0;34m\u001b[0m\u001b[0m\n",
            "\u001b[0;32m/usr/local/lib/python3.10/dist-packages/joblib/_parallel_backends.py\u001b[0m in \u001b[0;36mapply_async\u001b[0;34m(self, func, callback)\u001b[0m\n\u001b[1;32m    206\u001b[0m     \u001b[0;32mdef\u001b[0m \u001b[0mapply_async\u001b[0m\u001b[0;34m(\u001b[0m\u001b[0mself\u001b[0m\u001b[0;34m,\u001b[0m \u001b[0mfunc\u001b[0m\u001b[0;34m,\u001b[0m \u001b[0mcallback\u001b[0m\u001b[0;34m=\u001b[0m\u001b[0;32mNone\u001b[0m\u001b[0;34m)\u001b[0m\u001b[0;34m:\u001b[0m\u001b[0;34m\u001b[0m\u001b[0;34m\u001b[0m\u001b[0m\n\u001b[1;32m    207\u001b[0m         \u001b[0;34m\"\"\"Schedule a func to be run\"\"\"\u001b[0m\u001b[0;34m\u001b[0m\u001b[0;34m\u001b[0m\u001b[0m\n\u001b[0;32m--> 208\u001b[0;31m         \u001b[0mresult\u001b[0m \u001b[0;34m=\u001b[0m \u001b[0mImmediateResult\u001b[0m\u001b[0;34m(\u001b[0m\u001b[0mfunc\u001b[0m\u001b[0;34m)\u001b[0m\u001b[0;34m\u001b[0m\u001b[0;34m\u001b[0m\u001b[0m\n\u001b[0m\u001b[1;32m    209\u001b[0m         \u001b[0;32mif\u001b[0m \u001b[0mcallback\u001b[0m\u001b[0;34m:\u001b[0m\u001b[0;34m\u001b[0m\u001b[0;34m\u001b[0m\u001b[0m\n\u001b[1;32m    210\u001b[0m             \u001b[0mcallback\u001b[0m\u001b[0;34m(\u001b[0m\u001b[0mresult\u001b[0m\u001b[0;34m)\u001b[0m\u001b[0;34m\u001b[0m\u001b[0;34m\u001b[0m\u001b[0m\n",
            "\u001b[0;32m/usr/local/lib/python3.10/dist-packages/joblib/_parallel_backends.py\u001b[0m in \u001b[0;36m__init__\u001b[0;34m(self, batch)\u001b[0m\n\u001b[1;32m    595\u001b[0m         \u001b[0;31m# Don't delay the application, to avoid keeping the input\u001b[0m\u001b[0;34m\u001b[0m\u001b[0;34m\u001b[0m\u001b[0m\n\u001b[1;32m    596\u001b[0m         \u001b[0;31m# arguments in memory\u001b[0m\u001b[0;34m\u001b[0m\u001b[0;34m\u001b[0m\u001b[0m\n\u001b[0;32m--> 597\u001b[0;31m         \u001b[0mself\u001b[0m\u001b[0;34m.\u001b[0m\u001b[0mresults\u001b[0m \u001b[0;34m=\u001b[0m \u001b[0mbatch\u001b[0m\u001b[0;34m(\u001b[0m\u001b[0;34m)\u001b[0m\u001b[0;34m\u001b[0m\u001b[0;34m\u001b[0m\u001b[0m\n\u001b[0m\u001b[1;32m    598\u001b[0m \u001b[0;34m\u001b[0m\u001b[0m\n\u001b[1;32m    599\u001b[0m     \u001b[0;32mdef\u001b[0m \u001b[0mget\u001b[0m\u001b[0;34m(\u001b[0m\u001b[0mself\u001b[0m\u001b[0;34m)\u001b[0m\u001b[0;34m:\u001b[0m\u001b[0;34m\u001b[0m\u001b[0;34m\u001b[0m\u001b[0m\n",
            "\u001b[0;32m/usr/local/lib/python3.10/dist-packages/joblib/parallel.py\u001b[0m in \u001b[0;36m__call__\u001b[0;34m(self)\u001b[0m\n\u001b[1;32m    286\u001b[0m         \u001b[0;31m# change the default number of processes to -1\u001b[0m\u001b[0;34m\u001b[0m\u001b[0;34m\u001b[0m\u001b[0m\n\u001b[1;32m    287\u001b[0m         \u001b[0;32mwith\u001b[0m \u001b[0mparallel_backend\u001b[0m\u001b[0;34m(\u001b[0m\u001b[0mself\u001b[0m\u001b[0;34m.\u001b[0m\u001b[0m_backend\u001b[0m\u001b[0;34m,\u001b[0m \u001b[0mn_jobs\u001b[0m\u001b[0;34m=\u001b[0m\u001b[0mself\u001b[0m\u001b[0;34m.\u001b[0m\u001b[0m_n_jobs\u001b[0m\u001b[0;34m)\u001b[0m\u001b[0;34m:\u001b[0m\u001b[0;34m\u001b[0m\u001b[0;34m\u001b[0m\u001b[0m\n\u001b[0;32m--> 288\u001b[0;31m             return [func(*args, **kwargs)\n\u001b[0m\u001b[1;32m    289\u001b[0m                     for func, args, kwargs in self.items]\n\u001b[1;32m    290\u001b[0m \u001b[0;34m\u001b[0m\u001b[0m\n",
            "\u001b[0;32m/usr/local/lib/python3.10/dist-packages/joblib/parallel.py\u001b[0m in \u001b[0;36m<listcomp>\u001b[0;34m(.0)\u001b[0m\n\u001b[1;32m    286\u001b[0m         \u001b[0;31m# change the default number of processes to -1\u001b[0m\u001b[0;34m\u001b[0m\u001b[0;34m\u001b[0m\u001b[0m\n\u001b[1;32m    287\u001b[0m         \u001b[0;32mwith\u001b[0m \u001b[0mparallel_backend\u001b[0m\u001b[0;34m(\u001b[0m\u001b[0mself\u001b[0m\u001b[0;34m.\u001b[0m\u001b[0m_backend\u001b[0m\u001b[0;34m,\u001b[0m \u001b[0mn_jobs\u001b[0m\u001b[0;34m=\u001b[0m\u001b[0mself\u001b[0m\u001b[0;34m.\u001b[0m\u001b[0m_n_jobs\u001b[0m\u001b[0;34m)\u001b[0m\u001b[0;34m:\u001b[0m\u001b[0;34m\u001b[0m\u001b[0;34m\u001b[0m\u001b[0m\n\u001b[0;32m--> 288\u001b[0;31m             return [func(*args, **kwargs)\n\u001b[0m\u001b[1;32m    289\u001b[0m                     for func, args, kwargs in self.items]\n\u001b[1;32m    290\u001b[0m \u001b[0;34m\u001b[0m\u001b[0m\n",
            "\u001b[0;32m/usr/local/lib/python3.10/dist-packages/sklearn/utils/parallel.py\u001b[0m in \u001b[0;36m__call__\u001b[0;34m(self, *args, **kwargs)\u001b[0m\n\u001b[1;32m    121\u001b[0m             \u001b[0mconfig\u001b[0m \u001b[0;34m=\u001b[0m \u001b[0;34m{\u001b[0m\u001b[0;34m}\u001b[0m\u001b[0;34m\u001b[0m\u001b[0;34m\u001b[0m\u001b[0m\n\u001b[1;32m    122\u001b[0m         \u001b[0;32mwith\u001b[0m \u001b[0mconfig_context\u001b[0m\u001b[0;34m(\u001b[0m\u001b[0;34m**\u001b[0m\u001b[0mconfig\u001b[0m\u001b[0;34m)\u001b[0m\u001b[0;34m:\u001b[0m\u001b[0;34m\u001b[0m\u001b[0;34m\u001b[0m\u001b[0m\n\u001b[0;32m--> 123\u001b[0;31m             \u001b[0;32mreturn\u001b[0m \u001b[0mself\u001b[0m\u001b[0;34m.\u001b[0m\u001b[0mfunction\u001b[0m\u001b[0;34m(\u001b[0m\u001b[0;34m*\u001b[0m\u001b[0margs\u001b[0m\u001b[0;34m,\u001b[0m \u001b[0;34m**\u001b[0m\u001b[0mkwargs\u001b[0m\u001b[0;34m)\u001b[0m\u001b[0;34m\u001b[0m\u001b[0;34m\u001b[0m\u001b[0m\n\u001b[0m",
            "\u001b[0;32m/usr/local/lib/python3.10/dist-packages/sklearn/model_selection/_validation.py\u001b[0m in \u001b[0;36m_fit_and_score\u001b[0;34m(estimator, X, y, scorer, train, test, verbose, parameters, fit_params, return_train_score, return_parameters, return_n_test_samples, return_times, return_estimator, split_progress, candidate_progress, error_score)\u001b[0m\n\u001b[1;32m    706\u001b[0m \u001b[0;34m\u001b[0m\u001b[0m\n\u001b[1;32m    707\u001b[0m         \u001b[0mfit_time\u001b[0m \u001b[0;34m=\u001b[0m \u001b[0mtime\u001b[0m\u001b[0;34m.\u001b[0m\u001b[0mtime\u001b[0m\u001b[0;34m(\u001b[0m\u001b[0;34m)\u001b[0m \u001b[0;34m-\u001b[0m \u001b[0mstart_time\u001b[0m\u001b[0;34m\u001b[0m\u001b[0;34m\u001b[0m\u001b[0m\n\u001b[0;32m--> 708\u001b[0;31m         \u001b[0mtest_scores\u001b[0m \u001b[0;34m=\u001b[0m \u001b[0m_score\u001b[0m\u001b[0;34m(\u001b[0m\u001b[0mestimator\u001b[0m\u001b[0;34m,\u001b[0m \u001b[0mX_test\u001b[0m\u001b[0;34m,\u001b[0m \u001b[0my_test\u001b[0m\u001b[0;34m,\u001b[0m \u001b[0mscorer\u001b[0m\u001b[0;34m,\u001b[0m \u001b[0merror_score\u001b[0m\u001b[0;34m)\u001b[0m\u001b[0;34m\u001b[0m\u001b[0;34m\u001b[0m\u001b[0m\n\u001b[0m\u001b[1;32m    709\u001b[0m         \u001b[0mscore_time\u001b[0m \u001b[0;34m=\u001b[0m \u001b[0mtime\u001b[0m\u001b[0;34m.\u001b[0m\u001b[0mtime\u001b[0m\u001b[0;34m(\u001b[0m\u001b[0;34m)\u001b[0m \u001b[0;34m-\u001b[0m \u001b[0mstart_time\u001b[0m \u001b[0;34m-\u001b[0m \u001b[0mfit_time\u001b[0m\u001b[0;34m\u001b[0m\u001b[0;34m\u001b[0m\u001b[0m\n\u001b[1;32m    710\u001b[0m         \u001b[0;32mif\u001b[0m \u001b[0mreturn_train_score\u001b[0m\u001b[0;34m:\u001b[0m\u001b[0;34m\u001b[0m\u001b[0;34m\u001b[0m\u001b[0m\n",
            "\u001b[0;32m/usr/local/lib/python3.10/dist-packages/sklearn/model_selection/_validation.py\u001b[0m in \u001b[0;36m_score\u001b[0;34m(estimator, X_test, y_test, scorer, error_score)\u001b[0m\n\u001b[1;32m    765\u001b[0m             \u001b[0mscores\u001b[0m \u001b[0;34m=\u001b[0m \u001b[0mscorer\u001b[0m\u001b[0;34m(\u001b[0m\u001b[0mestimator\u001b[0m\u001b[0;34m,\u001b[0m \u001b[0mX_test\u001b[0m\u001b[0;34m)\u001b[0m\u001b[0;34m\u001b[0m\u001b[0;34m\u001b[0m\u001b[0m\n\u001b[1;32m    766\u001b[0m         \u001b[0;32melse\u001b[0m\u001b[0;34m:\u001b[0m\u001b[0;34m\u001b[0m\u001b[0;34m\u001b[0m\u001b[0m\n\u001b[0;32m--> 767\u001b[0;31m             \u001b[0mscores\u001b[0m \u001b[0;34m=\u001b[0m \u001b[0mscorer\u001b[0m\u001b[0;34m(\u001b[0m\u001b[0mestimator\u001b[0m\u001b[0;34m,\u001b[0m \u001b[0mX_test\u001b[0m\u001b[0;34m,\u001b[0m \u001b[0my_test\u001b[0m\u001b[0;34m)\u001b[0m\u001b[0;34m\u001b[0m\u001b[0;34m\u001b[0m\u001b[0m\n\u001b[0m\u001b[1;32m    768\u001b[0m     \u001b[0;32mexcept\u001b[0m \u001b[0mException\u001b[0m\u001b[0;34m:\u001b[0m\u001b[0;34m\u001b[0m\u001b[0;34m\u001b[0m\u001b[0m\n\u001b[1;32m    769\u001b[0m         \u001b[0;32mif\u001b[0m \u001b[0misinstance\u001b[0m\u001b[0;34m(\u001b[0m\u001b[0mscorer\u001b[0m\u001b[0;34m,\u001b[0m \u001b[0m_MultimetricScorer\u001b[0m\u001b[0;34m)\u001b[0m\u001b[0;34m:\u001b[0m\u001b[0;34m\u001b[0m\u001b[0;34m\u001b[0m\u001b[0m\n",
            "\u001b[0;32m/usr/local/lib/python3.10/dist-packages/sklearn/metrics/_scorer.py\u001b[0m in \u001b[0;36m__call__\u001b[0;34m(self, estimator, *args, **kwargs)\u001b[0m\n\u001b[1;32m    119\u001b[0m             \u001b[0;32mexcept\u001b[0m \u001b[0mException\u001b[0m \u001b[0;32mas\u001b[0m \u001b[0me\u001b[0m\u001b[0;34m:\u001b[0m\u001b[0;34m\u001b[0m\u001b[0;34m\u001b[0m\u001b[0m\n\u001b[1;32m    120\u001b[0m                 \u001b[0;32mif\u001b[0m \u001b[0mself\u001b[0m\u001b[0;34m.\u001b[0m\u001b[0m_raise_exc\u001b[0m\u001b[0;34m:\u001b[0m\u001b[0;34m\u001b[0m\u001b[0;34m\u001b[0m\u001b[0m\n\u001b[0;32m--> 121\u001b[0;31m                     \u001b[0;32mraise\u001b[0m \u001b[0me\u001b[0m\u001b[0;34m\u001b[0m\u001b[0;34m\u001b[0m\u001b[0m\n\u001b[0m\u001b[1;32m    122\u001b[0m                 \u001b[0;32melse\u001b[0m\u001b[0;34m:\u001b[0m\u001b[0;34m\u001b[0m\u001b[0;34m\u001b[0m\u001b[0m\n\u001b[1;32m    123\u001b[0m                     \u001b[0mscores\u001b[0m\u001b[0;34m[\u001b[0m\u001b[0mname\u001b[0m\u001b[0;34m]\u001b[0m \u001b[0;34m=\u001b[0m \u001b[0mformat_exc\u001b[0m\u001b[0;34m(\u001b[0m\u001b[0;34m)\u001b[0m\u001b[0;34m\u001b[0m\u001b[0;34m\u001b[0m\u001b[0m\n",
            "\u001b[0;32m/usr/local/lib/python3.10/dist-packages/sklearn/metrics/_scorer.py\u001b[0m in \u001b[0;36m__call__\u001b[0;34m(self, estimator, *args, **kwargs)\u001b[0m\n\u001b[1;32m    113\u001b[0m             \u001b[0;32mtry\u001b[0m\u001b[0;34m:\u001b[0m\u001b[0;34m\u001b[0m\u001b[0;34m\u001b[0m\u001b[0m\n\u001b[1;32m    114\u001b[0m                 \u001b[0;32mif\u001b[0m \u001b[0misinstance\u001b[0m\u001b[0;34m(\u001b[0m\u001b[0mscorer\u001b[0m\u001b[0;34m,\u001b[0m \u001b[0m_BaseScorer\u001b[0m\u001b[0;34m)\u001b[0m\u001b[0;34m:\u001b[0m\u001b[0;34m\u001b[0m\u001b[0;34m\u001b[0m\u001b[0m\n\u001b[0;32m--> 115\u001b[0;31m                     \u001b[0mscore\u001b[0m \u001b[0;34m=\u001b[0m \u001b[0mscorer\u001b[0m\u001b[0;34m.\u001b[0m\u001b[0m_score\u001b[0m\u001b[0;34m(\u001b[0m\u001b[0mcached_call\u001b[0m\u001b[0;34m,\u001b[0m \u001b[0mestimator\u001b[0m\u001b[0;34m,\u001b[0m \u001b[0;34m*\u001b[0m\u001b[0margs\u001b[0m\u001b[0;34m,\u001b[0m \u001b[0;34m**\u001b[0m\u001b[0mkwargs\u001b[0m\u001b[0;34m)\u001b[0m\u001b[0;34m\u001b[0m\u001b[0;34m\u001b[0m\u001b[0m\n\u001b[0m\u001b[1;32m    116\u001b[0m                 \u001b[0;32melse\u001b[0m\u001b[0;34m:\u001b[0m\u001b[0;34m\u001b[0m\u001b[0;34m\u001b[0m\u001b[0m\n\u001b[1;32m    117\u001b[0m                     \u001b[0mscore\u001b[0m \u001b[0;34m=\u001b[0m \u001b[0mscorer\u001b[0m\u001b[0;34m(\u001b[0m\u001b[0mestimator\u001b[0m\u001b[0;34m,\u001b[0m \u001b[0;34m*\u001b[0m\u001b[0margs\u001b[0m\u001b[0;34m,\u001b[0m \u001b[0;34m**\u001b[0m\u001b[0mkwargs\u001b[0m\u001b[0;34m)\u001b[0m\u001b[0;34m\u001b[0m\u001b[0;34m\u001b[0m\u001b[0m\n",
            "\u001b[0;32m/usr/local/lib/python3.10/dist-packages/sklearn/metrics/_scorer.py\u001b[0m in \u001b[0;36m_score\u001b[0;34m(self, method_caller, clf, X, y, sample_weight)\u001b[0m\n\u001b[1;32m    397\u001b[0m             )\n\u001b[1;32m    398\u001b[0m         \u001b[0;32melse\u001b[0m\u001b[0;34m:\u001b[0m\u001b[0;34m\u001b[0m\u001b[0;34m\u001b[0m\u001b[0m\n\u001b[0;32m--> 399\u001b[0;31m             \u001b[0;32mreturn\u001b[0m \u001b[0mself\u001b[0m\u001b[0;34m.\u001b[0m\u001b[0m_sign\u001b[0m \u001b[0;34m*\u001b[0m \u001b[0mself\u001b[0m\u001b[0;34m.\u001b[0m\u001b[0m_score_func\u001b[0m\u001b[0;34m(\u001b[0m\u001b[0my\u001b[0m\u001b[0;34m,\u001b[0m \u001b[0my_pred\u001b[0m\u001b[0;34m,\u001b[0m \u001b[0;34m**\u001b[0m\u001b[0mself\u001b[0m\u001b[0;34m.\u001b[0m\u001b[0m_kwargs\u001b[0m\u001b[0;34m)\u001b[0m\u001b[0;34m\u001b[0m\u001b[0;34m\u001b[0m\u001b[0m\n\u001b[0m\u001b[1;32m    400\u001b[0m \u001b[0;34m\u001b[0m\u001b[0m\n\u001b[1;32m    401\u001b[0m     \u001b[0;32mdef\u001b[0m \u001b[0m_factory_args\u001b[0m\u001b[0;34m(\u001b[0m\u001b[0mself\u001b[0m\u001b[0;34m)\u001b[0m\u001b[0;34m:\u001b[0m\u001b[0;34m\u001b[0m\u001b[0;34m\u001b[0m\u001b[0m\n",
            "\u001b[0;32m/usr/local/lib/python3.10/dist-packages/sklearn/metrics/_ranking.py\u001b[0m in \u001b[0;36mroc_auc_score\u001b[0;34m(y_true, y_score, average, sample_weight, max_fpr, multi_class, labels)\u001b[0m\n\u001b[1;32m    570\u001b[0m         \u001b[0mlabels\u001b[0m \u001b[0;34m=\u001b[0m \u001b[0mnp\u001b[0m\u001b[0;34m.\u001b[0m\u001b[0munique\u001b[0m\u001b[0;34m(\u001b[0m\u001b[0my_true\u001b[0m\u001b[0;34m)\u001b[0m\u001b[0;34m\u001b[0m\u001b[0;34m\u001b[0m\u001b[0m\n\u001b[1;32m    571\u001b[0m         \u001b[0my_true\u001b[0m \u001b[0;34m=\u001b[0m \u001b[0mlabel_binarize\u001b[0m\u001b[0;34m(\u001b[0m\u001b[0my_true\u001b[0m\u001b[0;34m,\u001b[0m \u001b[0mclasses\u001b[0m\u001b[0;34m=\u001b[0m\u001b[0mlabels\u001b[0m\u001b[0;34m)\u001b[0m\u001b[0;34m[\u001b[0m\u001b[0;34m:\u001b[0m\u001b[0;34m,\u001b[0m \u001b[0;36m0\u001b[0m\u001b[0;34m]\u001b[0m\u001b[0;34m\u001b[0m\u001b[0;34m\u001b[0m\u001b[0m\n\u001b[0;32m--> 572\u001b[0;31m         return _average_binary_score(\n\u001b[0m\u001b[1;32m    573\u001b[0m             \u001b[0mpartial\u001b[0m\u001b[0;34m(\u001b[0m\u001b[0m_binary_roc_auc_score\u001b[0m\u001b[0;34m,\u001b[0m \u001b[0mmax_fpr\u001b[0m\u001b[0;34m=\u001b[0m\u001b[0mmax_fpr\u001b[0m\u001b[0;34m)\u001b[0m\u001b[0;34m,\u001b[0m\u001b[0;34m\u001b[0m\u001b[0;34m\u001b[0m\u001b[0m\n\u001b[1;32m    574\u001b[0m             \u001b[0my_true\u001b[0m\u001b[0;34m,\u001b[0m\u001b[0;34m\u001b[0m\u001b[0;34m\u001b[0m\u001b[0m\n",
            "\u001b[0;32m/usr/local/lib/python3.10/dist-packages/sklearn/metrics/_base.py\u001b[0m in \u001b[0;36m_average_binary_score\u001b[0;34m(binary_metric, y_true, y_score, average, sample_weight)\u001b[0m\n\u001b[1;32m     73\u001b[0m \u001b[0;34m\u001b[0m\u001b[0m\n\u001b[1;32m     74\u001b[0m     \u001b[0;32mif\u001b[0m \u001b[0my_type\u001b[0m \u001b[0;34m==\u001b[0m \u001b[0;34m\"binary\"\u001b[0m\u001b[0;34m:\u001b[0m\u001b[0;34m\u001b[0m\u001b[0;34m\u001b[0m\u001b[0m\n\u001b[0;32m---> 75\u001b[0;31m         \u001b[0;32mreturn\u001b[0m \u001b[0mbinary_metric\u001b[0m\u001b[0;34m(\u001b[0m\u001b[0my_true\u001b[0m\u001b[0;34m,\u001b[0m \u001b[0my_score\u001b[0m\u001b[0;34m,\u001b[0m \u001b[0msample_weight\u001b[0m\u001b[0;34m=\u001b[0m\u001b[0msample_weight\u001b[0m\u001b[0;34m)\u001b[0m\u001b[0;34m\u001b[0m\u001b[0;34m\u001b[0m\u001b[0m\n\u001b[0m\u001b[1;32m     76\u001b[0m \u001b[0;34m\u001b[0m\u001b[0m\n\u001b[1;32m     77\u001b[0m     \u001b[0mcheck_consistent_length\u001b[0m\u001b[0;34m(\u001b[0m\u001b[0my_true\u001b[0m\u001b[0;34m,\u001b[0m \u001b[0my_score\u001b[0m\u001b[0;34m,\u001b[0m \u001b[0msample_weight\u001b[0m\u001b[0;34m)\u001b[0m\u001b[0;34m\u001b[0m\u001b[0;34m\u001b[0m\u001b[0m\n",
            "\u001b[0;32m/usr/local/lib/python3.10/dist-packages/sklearn/metrics/_ranking.py\u001b[0m in \u001b[0;36m_binary_roc_auc_score\u001b[0;34m(y_true, y_score, sample_weight, max_fpr)\u001b[0m\n\u001b[1;32m    337\u001b[0m     \u001b[0;34m\"\"\"Binary roc auc score.\"\"\"\u001b[0m\u001b[0;34m\u001b[0m\u001b[0;34m\u001b[0m\u001b[0m\n\u001b[1;32m    338\u001b[0m     \u001b[0;32mif\u001b[0m \u001b[0mlen\u001b[0m\u001b[0;34m(\u001b[0m\u001b[0mnp\u001b[0m\u001b[0;34m.\u001b[0m\u001b[0munique\u001b[0m\u001b[0;34m(\u001b[0m\u001b[0my_true\u001b[0m\u001b[0;34m)\u001b[0m\u001b[0;34m)\u001b[0m \u001b[0;34m!=\u001b[0m \u001b[0;36m2\u001b[0m\u001b[0;34m:\u001b[0m\u001b[0;34m\u001b[0m\u001b[0;34m\u001b[0m\u001b[0m\n\u001b[0;32m--> 339\u001b[0;31m         raise ValueError(\n\u001b[0m\u001b[1;32m    340\u001b[0m             \u001b[0;34m\"Only one class present in y_true. ROC AUC score \"\u001b[0m\u001b[0;34m\u001b[0m\u001b[0;34m\u001b[0m\u001b[0m\n\u001b[1;32m    341\u001b[0m             \u001b[0;34m\"is not defined in that case.\"\u001b[0m\u001b[0;34m\u001b[0m\u001b[0;34m\u001b[0m\u001b[0m\n",
            "\u001b[0;31mValueError\u001b[0m: Only one class present in y_true. ROC AUC score is not defined in that case."
          ]
        }
      ],
      "source": [
        "# Instantiate TPOTClassifier\n",
        "tpot = TPOTClassifier(\n",
        "    generations=5, #number of iterations to run ; pipeline optimisation process ; by default value is 100\n",
        "    population_size=20, #number of individuals to retrain in the genetic programing popluation in every generation, by default value is 100\n",
        "    verbosity=2, #it will state how much info TPOT will communicate while it is running\n",
        "    scoring='roc_auc', #use to evaluate the quality of given pipeline\n",
        "    random_state=42,\n",
        "    disable_update_check=True,\n",
        "    config_dict='TPOT light'\n",
        ")\n",
        "tpot.fit(X_train, y_train)\n",
        "\n",
        "# AUC score for tpot model\n",
        "tpot_auc_score = roc_auc_score(y_test, tpot.predict_proba(X_test)[:, 1])\n",
        "print(f'\\nAUC score: {tpot_auc_score:.4f}')\n",
        "\n",
        "# Print best pipeline steps\n",
        "print('\\nBest pipeline steps:', end='\\n')\n",
        "for idx, (name, transform) in enumerate(tpot.fitted_pipeline_.steps, start=1):\n",
        "    # Print idx and transform\n",
        "    print(f'{idx}. {transform}')"
      ]
    },
    {
      "cell_type": "code",
      "execution_count": null,
      "metadata": {
        "id": "R3_T1SGu0WqY"
      },
      "outputs": [],
      "source": [
        "tpot.fitted_pipeline_"
      ]
    },
    {
      "cell_type": "markdown",
      "metadata": {
        "id": "jtuYieiP0ZD8"
      },
      "source": [
        "Model 1: Decision tree classifier"
      ]
    },
    {
      "cell_type": "code",
      "execution_count": null,
      "metadata": {
        "id": "TUDu-MzC0aBY",
        "colab": {
          "base_uri": "https://localhost:8080/",
          "height": 92
        },
        "outputId": "1f05e12a-67bb-4d1b-ea4b-9074360bb9b6"
      },
      "outputs": [
        {
          "output_type": "execute_result",
          "data": {
            "text/plain": [
              "DecisionTreeClassifier(criterion='entropy', max_depth=8, min_samples_leaf=10,\n",
              "                       min_samples_split=6, random_state=42)"
            ],
            "text/html": [
              "<style>#sk-container-id-1 {color: black;background-color: white;}#sk-container-id-1 pre{padding: 0;}#sk-container-id-1 div.sk-toggleable {background-color: white;}#sk-container-id-1 label.sk-toggleable__label {cursor: pointer;display: block;width: 100%;margin-bottom: 0;padding: 0.3em;box-sizing: border-box;text-align: center;}#sk-container-id-1 label.sk-toggleable__label-arrow:before {content: \"▸\";float: left;margin-right: 0.25em;color: #696969;}#sk-container-id-1 label.sk-toggleable__label-arrow:hover:before {color: black;}#sk-container-id-1 div.sk-estimator:hover label.sk-toggleable__label-arrow:before {color: black;}#sk-container-id-1 div.sk-toggleable__content {max-height: 0;max-width: 0;overflow: hidden;text-align: left;background-color: #f0f8ff;}#sk-container-id-1 div.sk-toggleable__content pre {margin: 0.2em;color: black;border-radius: 0.25em;background-color: #f0f8ff;}#sk-container-id-1 input.sk-toggleable__control:checked~div.sk-toggleable__content {max-height: 200px;max-width: 100%;overflow: auto;}#sk-container-id-1 input.sk-toggleable__control:checked~label.sk-toggleable__label-arrow:before {content: \"▾\";}#sk-container-id-1 div.sk-estimator input.sk-toggleable__control:checked~label.sk-toggleable__label {background-color: #d4ebff;}#sk-container-id-1 div.sk-label input.sk-toggleable__control:checked~label.sk-toggleable__label {background-color: #d4ebff;}#sk-container-id-1 input.sk-hidden--visually {border: 0;clip: rect(1px 1px 1px 1px);clip: rect(1px, 1px, 1px, 1px);height: 1px;margin: -1px;overflow: hidden;padding: 0;position: absolute;width: 1px;}#sk-container-id-1 div.sk-estimator {font-family: monospace;background-color: #f0f8ff;border: 1px dotted black;border-radius: 0.25em;box-sizing: border-box;margin-bottom: 0.5em;}#sk-container-id-1 div.sk-estimator:hover {background-color: #d4ebff;}#sk-container-id-1 div.sk-parallel-item::after {content: \"\";width: 100%;border-bottom: 1px solid gray;flex-grow: 1;}#sk-container-id-1 div.sk-label:hover label.sk-toggleable__label {background-color: #d4ebff;}#sk-container-id-1 div.sk-serial::before {content: \"\";position: absolute;border-left: 1px solid gray;box-sizing: border-box;top: 0;bottom: 0;left: 50%;z-index: 0;}#sk-container-id-1 div.sk-serial {display: flex;flex-direction: column;align-items: center;background-color: white;padding-right: 0.2em;padding-left: 0.2em;position: relative;}#sk-container-id-1 div.sk-item {position: relative;z-index: 1;}#sk-container-id-1 div.sk-parallel {display: flex;align-items: stretch;justify-content: center;background-color: white;position: relative;}#sk-container-id-1 div.sk-item::before, #sk-container-id-1 div.sk-parallel-item::before {content: \"\";position: absolute;border-left: 1px solid gray;box-sizing: border-box;top: 0;bottom: 0;left: 50%;z-index: -1;}#sk-container-id-1 div.sk-parallel-item {display: flex;flex-direction: column;z-index: 1;position: relative;background-color: white;}#sk-container-id-1 div.sk-parallel-item:first-child::after {align-self: flex-end;width: 50%;}#sk-container-id-1 div.sk-parallel-item:last-child::after {align-self: flex-start;width: 50%;}#sk-container-id-1 div.sk-parallel-item:only-child::after {width: 0;}#sk-container-id-1 div.sk-dashed-wrapped {border: 1px dashed gray;margin: 0 0.4em 0.5em 0.4em;box-sizing: border-box;padding-bottom: 0.4em;background-color: white;}#sk-container-id-1 div.sk-label label {font-family: monospace;font-weight: bold;display: inline-block;line-height: 1.2em;}#sk-container-id-1 div.sk-label-container {text-align: center;}#sk-container-id-1 div.sk-container {/* jupyter's `normalize.less` sets `[hidden] { display: none; }` but bootstrap.min.css set `[hidden] { display: none !important; }` so we also need the `!important` here to be able to override the default hidden behavior on the sphinx rendered scikit-learn.org. See: https://github.com/scikit-learn/scikit-learn/issues/21755 */display: inline-block !important;position: relative;}#sk-container-id-1 div.sk-text-repr-fallback {display: none;}</style><div id=\"sk-container-id-1\" class=\"sk-top-container\"><div class=\"sk-text-repr-fallback\"><pre>DecisionTreeClassifier(criterion=&#x27;entropy&#x27;, max_depth=8, min_samples_leaf=10,\n",
              "                       min_samples_split=6, random_state=42)</pre><b>In a Jupyter environment, please rerun this cell to show the HTML representation or trust the notebook. <br />On GitHub, the HTML representation is unable to render, please try loading this page with nbviewer.org.</b></div><div class=\"sk-container\" hidden><div class=\"sk-item\"><div class=\"sk-estimator sk-toggleable\"><input class=\"sk-toggleable__control sk-hidden--visually\" id=\"sk-estimator-id-1\" type=\"checkbox\" checked><label for=\"sk-estimator-id-1\" class=\"sk-toggleable__label sk-toggleable__label-arrow\">DecisionTreeClassifier</label><div class=\"sk-toggleable__content\"><pre>DecisionTreeClassifier(criterion=&#x27;entropy&#x27;, max_depth=8, min_samples_leaf=10,\n",
              "                       min_samples_split=6, random_state=42)</pre></div></div></div></div></div>"
            ]
          },
          "metadata": {},
          "execution_count": 34
        }
      ],
      "source": [
        "from sklearn.tree import DecisionTreeClassifier\n",
        "\n",
        "clf = DecisionTreeClassifier(criterion='entropy', max_depth=8,\n",
        "                                        min_samples_leaf=10,\n",
        "                                        min_samples_split=6,\n",
        "                                        random_state=42)\n",
        "clf.fit(X_train,y_train)"
      ]
    },
    {
      "cell_type": "code",
      "execution_count": null,
      "metadata": {
        "id": "GXqi1KtA0ei6"
      },
      "outputs": [],
      "source": [
        "y_predicted = clf.predict(X_test)"
      ]
    },
    {
      "cell_type": "code",
      "execution_count": null,
      "metadata": {
        "id": "5uENV7bQ0hMr",
        "colab": {
          "base_uri": "https://localhost:8080/"
        },
        "outputId": "0f3a917a-91ce-4e29-f03d-e52fbebc4624"
      },
      "outputs": [
        {
          "output_type": "execute_result",
          "data": {
            "text/plain": [
              "array([0, 0, 0, ..., 0, 0, 0])"
            ]
          },
          "metadata": {},
          "execution_count": 39
        }
      ],
      "source": [
        "y_predicted"
      ]
    },
    {
      "cell_type": "code",
      "execution_count": null,
      "metadata": {
        "id": "zpvpqgPA0i7n",
        "colab": {
          "base_uri": "https://localhost:8080/"
        },
        "outputId": "9f2ea81f-f0c6-4c58-d554-02e1a2262b25"
      },
      "outputs": [
        {
          "output_type": "stream",
          "name": "stdout",
          "text": [
            "              precision    recall  f1-score   support\n",
            "\n",
            "           0       1.00      1.00      1.00      1580\n",
            "\n",
            "    accuracy                           1.00      1580\n",
            "   macro avg       1.00      1.00      1.00      1580\n",
            "weighted avg       1.00      1.00      1.00      1580\n",
            "\n"
          ]
        }
      ],
      "source": [
        "\n",
        "print( classification_report(y_test, y_predicted) )"
      ]
    },
    {
      "cell_type": "code",
      "execution_count": null,
      "metadata": {
        "id": "B0aPepN60kci",
        "colab": {
          "base_uri": "https://localhost:8080/"
        },
        "outputId": "5bba4e85-b6ec-4b41-a5ac-34cca894c1b9"
      },
      "outputs": [
        {
          "output_type": "execute_result",
          "data": {
            "text/plain": [
              "100.0"
            ]
          },
          "metadata": {},
          "execution_count": 44
        }
      ],
      "source": [
        "accuracy_score(y_test,y_predicted)*100"
      ]
    },
    {
      "cell_type": "code",
      "execution_count": null,
      "metadata": {
        "id": "gqa8lTfL0oFs"
      },
      "outputs": [],
      "source": [
        "#Creating Pipeline to see which model has more accuracy"
      ]
    },
    {
      "cell_type": "code",
      "execution_count": null,
      "metadata": {
        "id": "nJvMDbj_0pMm"
      },
      "outputs": [],
      "source": [
        "from sklearn.preprocessing import StandardScaler\n",
        "from sklearn.decomposition import PCA\n",
        "from sklearn.pipeline import Pipeline\n",
        "from sklearn.linear_model import LogisticRegression\n",
        "from sklearn.tree import DecisionTreeClassifier\n",
        "from sklearn.ensemble import RandomForestClassifier"
      ]
    },
    {
      "cell_type": "code",
      "execution_count": null,
      "metadata": {
        "id": "4FHc3UFV0ya2"
      },
      "outputs": [],
      "source": [
        "pipeline_lr = Pipeline([('scaler1',StandardScaler()),\n",
        "                       ('pca1',PCA(n_components=2)),\n",
        "                       ('lr_classifier',LogisticRegression(random_state=0))])"
      ]
    },
    {
      "cell_type": "code",
      "execution_count": null,
      "metadata": {
        "id": "WjRHuOKj01nP"
      },
      "outputs": [],
      "source": [
        "pipeline_dt = Pipeline([('scaler2',StandardScaler()),\n",
        "                       ('pca2',PCA(n_components=2)),\n",
        "                       ('dt_classifier',DecisionTreeClassifier())])"
      ]
    },
    {
      "cell_type": "code",
      "execution_count": null,
      "metadata": {
        "id": "V4MtdGA904UE"
      },
      "outputs": [],
      "source": [
        "pipeline_randomforest = Pipeline([('scaler3',StandardScaler()),\n",
        "                       ('pca3',PCA(n_components=2)),\n",
        "                       ('rf_classifier',RandomForestClassifier())])"
      ]
    },
    {
      "cell_type": "code",
      "execution_count": null,
      "metadata": {
        "id": "W_SJfxmp04Nz"
      },
      "outputs": [],
      "source": [
        "pipeline = [pipeline_lr,pipeline_dt,pipeline_randomforest]"
      ]
    },
    {
      "cell_type": "code",
      "execution_count": null,
      "metadata": {
        "id": "2OBsZujE04LE"
      },
      "outputs": [],
      "source": [
        "best_accuracy=0.0\n",
        "best_classifier=0\n",
        "best_pipeline=\"\""
      ]
    },
    {
      "cell_type": "code",
      "execution_count": null,
      "metadata": {
        "id": "tqfWMlZ904Ip"
      },
      "outputs": [],
      "source": [
        "pipe_dict = {0:'Logistic Regression', 1:'Decision Tree', 2:'RandomForest'}\n",
        "\n",
        "for pipe in pipeline:\n",
        "    pipe.fit(X_train,y_train)\n"
      ]
    },
    {
      "cell_type": "code",
      "execution_count": null,
      "metadata": {
        "id": "9Owvhhrl04FS",
        "colab": {
          "base_uri": "https://localhost:8080/"
        },
        "outputId": "be6a9d64-9dc5-4366-aca7-3cdc5eac54d9"
      },
      "outputs": [
        {
          "output_type": "stream",
          "name": "stdout",
          "text": [
            "Logistic RegressionTest Accuracy: 1.0\n",
            "Decision TreeTest Accuracy: 0.9987341772151899\n",
            "RandomForestTest Accuracy: 1.0\n"
          ]
        }
      ],
      "source": [
        "for i,model in enumerate(pipeline):\n",
        "    print(\"{}Test Accuracy: {}\".format(pipe_dict[i],model.score(X_test,y_test)))"
      ]
    }
  ],
  "metadata": {
    "colab": {
      "provenance": [],
      "toc_visible": true
    },
    "kernelspec": {
      "display_name": "Python 3",
      "name": "python3"
    },
    "language_info": {
      "name": "python"
    },
    "widgets": {
      "application/vnd.jupyter.widget-state+json": {
        "6317c758261445dab207098f92a89785": {
          "model_module": "@jupyter-widgets/controls",
          "model_name": "HBoxModel",
          "model_module_version": "1.5.0",
          "state": {
            "_dom_classes": [],
            "_model_module": "@jupyter-widgets/controls",
            "_model_module_version": "1.5.0",
            "_model_name": "HBoxModel",
            "_view_count": null,
            "_view_module": "@jupyter-widgets/controls",
            "_view_module_version": "1.5.0",
            "_view_name": "HBoxView",
            "box_style": "",
            "children": [
              "IPY_MODEL_1308e6deecdc458d969ffca217e053f3",
              "IPY_MODEL_951f3bcbf6854aba8eff98a7766b2e29",
              "IPY_MODEL_c06f3f2573254bd3a6154b278a1f581b"
            ],
            "layout": "IPY_MODEL_d4d3f3cbc4f14dc3addb4e2641e0ac97"
          }
        },
        "1308e6deecdc458d969ffca217e053f3": {
          "model_module": "@jupyter-widgets/controls",
          "model_name": "HTMLModel",
          "model_module_version": "1.5.0",
          "state": {
            "_dom_classes": [],
            "_model_module": "@jupyter-widgets/controls",
            "_model_module_version": "1.5.0",
            "_model_name": "HTMLModel",
            "_view_count": null,
            "_view_module": "@jupyter-widgets/controls",
            "_view_module_version": "1.5.0",
            "_view_name": "HTMLView",
            "description": "",
            "description_tooltip": null,
            "layout": "IPY_MODEL_d49ec54b69314fd28cf7dcff6d75a386",
            "placeholder": "​",
            "style": "IPY_MODEL_e05a5d30add54d84a2d0ae75e1a1dc74",
            "value": "Optimization Progress:  33%"
          }
        },
        "951f3bcbf6854aba8eff98a7766b2e29": {
          "model_module": "@jupyter-widgets/controls",
          "model_name": "FloatProgressModel",
          "model_module_version": "1.5.0",
          "state": {
            "_dom_classes": [],
            "_model_module": "@jupyter-widgets/controls",
            "_model_module_version": "1.5.0",
            "_model_name": "FloatProgressModel",
            "_view_count": null,
            "_view_module": "@jupyter-widgets/controls",
            "_view_module_version": "1.5.0",
            "_view_name": "ProgressView",
            "bar_style": "danger",
            "description": "",
            "description_tooltip": null,
            "layout": "IPY_MODEL_600cce831d4d4a5681c7ad193a6c849c",
            "max": 120,
            "min": 0,
            "orientation": "horizontal",
            "style": "IPY_MODEL_5c74873b66e048f3af37b69423e11600",
            "value": 40
          }
        },
        "c06f3f2573254bd3a6154b278a1f581b": {
          "model_module": "@jupyter-widgets/controls",
          "model_name": "HTMLModel",
          "model_module_version": "1.5.0",
          "state": {
            "_dom_classes": [],
            "_model_module": "@jupyter-widgets/controls",
            "_model_module_version": "1.5.0",
            "_model_name": "HTMLModel",
            "_view_count": null,
            "_view_module": "@jupyter-widgets/controls",
            "_view_module_version": "1.5.0",
            "_view_name": "HTMLView",
            "description": "",
            "description_tooltip": null,
            "layout": "IPY_MODEL_76d3b05d7a0045fa8a41cfc89ac93f51",
            "placeholder": "​",
            "style": "IPY_MODEL_93e315a77211434a9eb7e90d2c9d2c87",
            "value": " 40/120 [00:11&lt;00:29,  2.76pipeline/s]"
          }
        },
        "d4d3f3cbc4f14dc3addb4e2641e0ac97": {
          "model_module": "@jupyter-widgets/base",
          "model_name": "LayoutModel",
          "model_module_version": "1.2.0",
          "state": {
            "_model_module": "@jupyter-widgets/base",
            "_model_module_version": "1.2.0",
            "_model_name": "LayoutModel",
            "_view_count": null,
            "_view_module": "@jupyter-widgets/base",
            "_view_module_version": "1.2.0",
            "_view_name": "LayoutView",
            "align_content": null,
            "align_items": null,
            "align_self": null,
            "border": null,
            "bottom": null,
            "display": null,
            "flex": null,
            "flex_flow": null,
            "grid_area": null,
            "grid_auto_columns": null,
            "grid_auto_flow": null,
            "grid_auto_rows": null,
            "grid_column": null,
            "grid_gap": null,
            "grid_row": null,
            "grid_template_areas": null,
            "grid_template_columns": null,
            "grid_template_rows": null,
            "height": null,
            "justify_content": null,
            "justify_items": null,
            "left": null,
            "margin": null,
            "max_height": null,
            "max_width": null,
            "min_height": null,
            "min_width": null,
            "object_fit": null,
            "object_position": null,
            "order": null,
            "overflow": null,
            "overflow_x": null,
            "overflow_y": null,
            "padding": null,
            "right": null,
            "top": null,
            "visibility": null,
            "width": null
          }
        },
        "d49ec54b69314fd28cf7dcff6d75a386": {
          "model_module": "@jupyter-widgets/base",
          "model_name": "LayoutModel",
          "model_module_version": "1.2.0",
          "state": {
            "_model_module": "@jupyter-widgets/base",
            "_model_module_version": "1.2.0",
            "_model_name": "LayoutModel",
            "_view_count": null,
            "_view_module": "@jupyter-widgets/base",
            "_view_module_version": "1.2.0",
            "_view_name": "LayoutView",
            "align_content": null,
            "align_items": null,
            "align_self": null,
            "border": null,
            "bottom": null,
            "display": null,
            "flex": null,
            "flex_flow": null,
            "grid_area": null,
            "grid_auto_columns": null,
            "grid_auto_flow": null,
            "grid_auto_rows": null,
            "grid_column": null,
            "grid_gap": null,
            "grid_row": null,
            "grid_template_areas": null,
            "grid_template_columns": null,
            "grid_template_rows": null,
            "height": null,
            "justify_content": null,
            "justify_items": null,
            "left": null,
            "margin": null,
            "max_height": null,
            "max_width": null,
            "min_height": null,
            "min_width": null,
            "object_fit": null,
            "object_position": null,
            "order": null,
            "overflow": null,
            "overflow_x": null,
            "overflow_y": null,
            "padding": null,
            "right": null,
            "top": null,
            "visibility": null,
            "width": null
          }
        },
        "e05a5d30add54d84a2d0ae75e1a1dc74": {
          "model_module": "@jupyter-widgets/controls",
          "model_name": "DescriptionStyleModel",
          "model_module_version": "1.5.0",
          "state": {
            "_model_module": "@jupyter-widgets/controls",
            "_model_module_version": "1.5.0",
            "_model_name": "DescriptionStyleModel",
            "_view_count": null,
            "_view_module": "@jupyter-widgets/base",
            "_view_module_version": "1.2.0",
            "_view_name": "StyleView",
            "description_width": ""
          }
        },
        "600cce831d4d4a5681c7ad193a6c849c": {
          "model_module": "@jupyter-widgets/base",
          "model_name": "LayoutModel",
          "model_module_version": "1.2.0",
          "state": {
            "_model_module": "@jupyter-widgets/base",
            "_model_module_version": "1.2.0",
            "_model_name": "LayoutModel",
            "_view_count": null,
            "_view_module": "@jupyter-widgets/base",
            "_view_module_version": "1.2.0",
            "_view_name": "LayoutView",
            "align_content": null,
            "align_items": null,
            "align_self": null,
            "border": null,
            "bottom": null,
            "display": null,
            "flex": null,
            "flex_flow": null,
            "grid_area": null,
            "grid_auto_columns": null,
            "grid_auto_flow": null,
            "grid_auto_rows": null,
            "grid_column": null,
            "grid_gap": null,
            "grid_row": null,
            "grid_template_areas": null,
            "grid_template_columns": null,
            "grid_template_rows": null,
            "height": null,
            "justify_content": null,
            "justify_items": null,
            "left": null,
            "margin": null,
            "max_height": null,
            "max_width": null,
            "min_height": null,
            "min_width": null,
            "object_fit": null,
            "object_position": null,
            "order": null,
            "overflow": null,
            "overflow_x": null,
            "overflow_y": null,
            "padding": null,
            "right": null,
            "top": null,
            "visibility": null,
            "width": null
          }
        },
        "5c74873b66e048f3af37b69423e11600": {
          "model_module": "@jupyter-widgets/controls",
          "model_name": "ProgressStyleModel",
          "model_module_version": "1.5.0",
          "state": {
            "_model_module": "@jupyter-widgets/controls",
            "_model_module_version": "1.5.0",
            "_model_name": "ProgressStyleModel",
            "_view_count": null,
            "_view_module": "@jupyter-widgets/base",
            "_view_module_version": "1.2.0",
            "_view_name": "StyleView",
            "bar_color": null,
            "description_width": ""
          }
        },
        "76d3b05d7a0045fa8a41cfc89ac93f51": {
          "model_module": "@jupyter-widgets/base",
          "model_name": "LayoutModel",
          "model_module_version": "1.2.0",
          "state": {
            "_model_module": "@jupyter-widgets/base",
            "_model_module_version": "1.2.0",
            "_model_name": "LayoutModel",
            "_view_count": null,
            "_view_module": "@jupyter-widgets/base",
            "_view_module_version": "1.2.0",
            "_view_name": "LayoutView",
            "align_content": null,
            "align_items": null,
            "align_self": null,
            "border": null,
            "bottom": null,
            "display": null,
            "flex": null,
            "flex_flow": null,
            "grid_area": null,
            "grid_auto_columns": null,
            "grid_auto_flow": null,
            "grid_auto_rows": null,
            "grid_column": null,
            "grid_gap": null,
            "grid_row": null,
            "grid_template_areas": null,
            "grid_template_columns": null,
            "grid_template_rows": null,
            "height": null,
            "justify_content": null,
            "justify_items": null,
            "left": null,
            "margin": null,
            "max_height": null,
            "max_width": null,
            "min_height": null,
            "min_width": null,
            "object_fit": null,
            "object_position": null,
            "order": null,
            "overflow": null,
            "overflow_x": null,
            "overflow_y": null,
            "padding": null,
            "right": null,
            "top": null,
            "visibility": null,
            "width": null
          }
        },
        "93e315a77211434a9eb7e90d2c9d2c87": {
          "model_module": "@jupyter-widgets/controls",
          "model_name": "DescriptionStyleModel",
          "model_module_version": "1.5.0",
          "state": {
            "_model_module": "@jupyter-widgets/controls",
            "_model_module_version": "1.5.0",
            "_model_name": "DescriptionStyleModel",
            "_view_count": null,
            "_view_module": "@jupyter-widgets/base",
            "_view_module_version": "1.2.0",
            "_view_name": "StyleView",
            "description_width": ""
          }
        },
        "e133bcad321d4a6393eada561990b2fd": {
          "model_module": "@jupyter-widgets/controls",
          "model_name": "HBoxModel",
          "model_module_version": "1.5.0",
          "state": {
            "_dom_classes": [],
            "_model_module": "@jupyter-widgets/controls",
            "_model_module_version": "1.5.0",
            "_model_name": "HBoxModel",
            "_view_count": null,
            "_view_module": "@jupyter-widgets/controls",
            "_view_module_version": "1.5.0",
            "_view_name": "HBoxView",
            "box_style": "",
            "children": [
              "IPY_MODEL_640d0a5a26a6476fbd00a6d0e1a922df",
              "IPY_MODEL_b68901cb4b2c4f2aac0d954db3a8f307",
              "IPY_MODEL_4f7f1be4d9b148ed8e4966687893a5ae"
            ],
            "layout": "IPY_MODEL_52bc6bd027794b5f968b46ed901b79fe"
          }
        },
        "640d0a5a26a6476fbd00a6d0e1a922df": {
          "model_module": "@jupyter-widgets/controls",
          "model_name": "HTMLModel",
          "model_module_version": "1.5.0",
          "state": {
            "_dom_classes": [],
            "_model_module": "@jupyter-widgets/controls",
            "_model_module_version": "1.5.0",
            "_model_name": "HTMLModel",
            "_view_count": null,
            "_view_module": "@jupyter-widgets/controls",
            "_view_module_version": "1.5.0",
            "_view_name": "HTMLView",
            "description": "",
            "description_tooltip": null,
            "layout": "IPY_MODEL_9d26fd4d4a8f491f90daca8f6bb573af",
            "placeholder": "​",
            "style": "IPY_MODEL_2a06e338c8964c99831f9ab1842f159a",
            "value": "Optimization Progress:  33%"
          }
        },
        "b68901cb4b2c4f2aac0d954db3a8f307": {
          "model_module": "@jupyter-widgets/controls",
          "model_name": "FloatProgressModel",
          "model_module_version": "1.5.0",
          "state": {
            "_dom_classes": [],
            "_model_module": "@jupyter-widgets/controls",
            "_model_module_version": "1.5.0",
            "_model_name": "FloatProgressModel",
            "_view_count": null,
            "_view_module": "@jupyter-widgets/controls",
            "_view_module_version": "1.5.0",
            "_view_name": "ProgressView",
            "bar_style": "danger",
            "description": "",
            "description_tooltip": null,
            "layout": "IPY_MODEL_2521cd3b09bc4d4784b95c554db5f02b",
            "max": 120,
            "min": 0,
            "orientation": "horizontal",
            "style": "IPY_MODEL_b202c0553c3c432fac97485e7eb61971",
            "value": 40
          }
        },
        "4f7f1be4d9b148ed8e4966687893a5ae": {
          "model_module": "@jupyter-widgets/controls",
          "model_name": "HTMLModel",
          "model_module_version": "1.5.0",
          "state": {
            "_dom_classes": [],
            "_model_module": "@jupyter-widgets/controls",
            "_model_module_version": "1.5.0",
            "_model_name": "HTMLModel",
            "_view_count": null,
            "_view_module": "@jupyter-widgets/controls",
            "_view_module_version": "1.5.0",
            "_view_name": "HTMLView",
            "description": "",
            "description_tooltip": null,
            "layout": "IPY_MODEL_edf7470e821a4de6b56fad1fde55dfa5",
            "placeholder": "​",
            "style": "IPY_MODEL_488bd867dc684c829b2a41f0e752f6a5",
            "value": " 40/120 [00:06&lt;00:21,  3.71pipeline/s]"
          }
        },
        "52bc6bd027794b5f968b46ed901b79fe": {
          "model_module": "@jupyter-widgets/base",
          "model_name": "LayoutModel",
          "model_module_version": "1.2.0",
          "state": {
            "_model_module": "@jupyter-widgets/base",
            "_model_module_version": "1.2.0",
            "_model_name": "LayoutModel",
            "_view_count": null,
            "_view_module": "@jupyter-widgets/base",
            "_view_module_version": "1.2.0",
            "_view_name": "LayoutView",
            "align_content": null,
            "align_items": null,
            "align_self": null,
            "border": null,
            "bottom": null,
            "display": null,
            "flex": null,
            "flex_flow": null,
            "grid_area": null,
            "grid_auto_columns": null,
            "grid_auto_flow": null,
            "grid_auto_rows": null,
            "grid_column": null,
            "grid_gap": null,
            "grid_row": null,
            "grid_template_areas": null,
            "grid_template_columns": null,
            "grid_template_rows": null,
            "height": null,
            "justify_content": null,
            "justify_items": null,
            "left": null,
            "margin": null,
            "max_height": null,
            "max_width": null,
            "min_height": null,
            "min_width": null,
            "object_fit": null,
            "object_position": null,
            "order": null,
            "overflow": null,
            "overflow_x": null,
            "overflow_y": null,
            "padding": null,
            "right": null,
            "top": null,
            "visibility": null,
            "width": null
          }
        },
        "9d26fd4d4a8f491f90daca8f6bb573af": {
          "model_module": "@jupyter-widgets/base",
          "model_name": "LayoutModel",
          "model_module_version": "1.2.0",
          "state": {
            "_model_module": "@jupyter-widgets/base",
            "_model_module_version": "1.2.0",
            "_model_name": "LayoutModel",
            "_view_count": null,
            "_view_module": "@jupyter-widgets/base",
            "_view_module_version": "1.2.0",
            "_view_name": "LayoutView",
            "align_content": null,
            "align_items": null,
            "align_self": null,
            "border": null,
            "bottom": null,
            "display": null,
            "flex": null,
            "flex_flow": null,
            "grid_area": null,
            "grid_auto_columns": null,
            "grid_auto_flow": null,
            "grid_auto_rows": null,
            "grid_column": null,
            "grid_gap": null,
            "grid_row": null,
            "grid_template_areas": null,
            "grid_template_columns": null,
            "grid_template_rows": null,
            "height": null,
            "justify_content": null,
            "justify_items": null,
            "left": null,
            "margin": null,
            "max_height": null,
            "max_width": null,
            "min_height": null,
            "min_width": null,
            "object_fit": null,
            "object_position": null,
            "order": null,
            "overflow": null,
            "overflow_x": null,
            "overflow_y": null,
            "padding": null,
            "right": null,
            "top": null,
            "visibility": null,
            "width": null
          }
        },
        "2a06e338c8964c99831f9ab1842f159a": {
          "model_module": "@jupyter-widgets/controls",
          "model_name": "DescriptionStyleModel",
          "model_module_version": "1.5.0",
          "state": {
            "_model_module": "@jupyter-widgets/controls",
            "_model_module_version": "1.5.0",
            "_model_name": "DescriptionStyleModel",
            "_view_count": null,
            "_view_module": "@jupyter-widgets/base",
            "_view_module_version": "1.2.0",
            "_view_name": "StyleView",
            "description_width": ""
          }
        },
        "2521cd3b09bc4d4784b95c554db5f02b": {
          "model_module": "@jupyter-widgets/base",
          "model_name": "LayoutModel",
          "model_module_version": "1.2.0",
          "state": {
            "_model_module": "@jupyter-widgets/base",
            "_model_module_version": "1.2.0",
            "_model_name": "LayoutModel",
            "_view_count": null,
            "_view_module": "@jupyter-widgets/base",
            "_view_module_version": "1.2.0",
            "_view_name": "LayoutView",
            "align_content": null,
            "align_items": null,
            "align_self": null,
            "border": null,
            "bottom": null,
            "display": null,
            "flex": null,
            "flex_flow": null,
            "grid_area": null,
            "grid_auto_columns": null,
            "grid_auto_flow": null,
            "grid_auto_rows": null,
            "grid_column": null,
            "grid_gap": null,
            "grid_row": null,
            "grid_template_areas": null,
            "grid_template_columns": null,
            "grid_template_rows": null,
            "height": null,
            "justify_content": null,
            "justify_items": null,
            "left": null,
            "margin": null,
            "max_height": null,
            "max_width": null,
            "min_height": null,
            "min_width": null,
            "object_fit": null,
            "object_position": null,
            "order": null,
            "overflow": null,
            "overflow_x": null,
            "overflow_y": null,
            "padding": null,
            "right": null,
            "top": null,
            "visibility": null,
            "width": null
          }
        },
        "b202c0553c3c432fac97485e7eb61971": {
          "model_module": "@jupyter-widgets/controls",
          "model_name": "ProgressStyleModel",
          "model_module_version": "1.5.0",
          "state": {
            "_model_module": "@jupyter-widgets/controls",
            "_model_module_version": "1.5.0",
            "_model_name": "ProgressStyleModel",
            "_view_count": null,
            "_view_module": "@jupyter-widgets/base",
            "_view_module_version": "1.2.0",
            "_view_name": "StyleView",
            "bar_color": null,
            "description_width": ""
          }
        },
        "edf7470e821a4de6b56fad1fde55dfa5": {
          "model_module": "@jupyter-widgets/base",
          "model_name": "LayoutModel",
          "model_module_version": "1.2.0",
          "state": {
            "_model_module": "@jupyter-widgets/base",
            "_model_module_version": "1.2.0",
            "_model_name": "LayoutModel",
            "_view_count": null,
            "_view_module": "@jupyter-widgets/base",
            "_view_module_version": "1.2.0",
            "_view_name": "LayoutView",
            "align_content": null,
            "align_items": null,
            "align_self": null,
            "border": null,
            "bottom": null,
            "display": null,
            "flex": null,
            "flex_flow": null,
            "grid_area": null,
            "grid_auto_columns": null,
            "grid_auto_flow": null,
            "grid_auto_rows": null,
            "grid_column": null,
            "grid_gap": null,
            "grid_row": null,
            "grid_template_areas": null,
            "grid_template_columns": null,
            "grid_template_rows": null,
            "height": null,
            "justify_content": null,
            "justify_items": null,
            "left": null,
            "margin": null,
            "max_height": null,
            "max_width": null,
            "min_height": null,
            "min_width": null,
            "object_fit": null,
            "object_position": null,
            "order": null,
            "overflow": null,
            "overflow_x": null,
            "overflow_y": null,
            "padding": null,
            "right": null,
            "top": null,
            "visibility": null,
            "width": null
          }
        },
        "488bd867dc684c829b2a41f0e752f6a5": {
          "model_module": "@jupyter-widgets/controls",
          "model_name": "DescriptionStyleModel",
          "model_module_version": "1.5.0",
          "state": {
            "_model_module": "@jupyter-widgets/controls",
            "_model_module_version": "1.5.0",
            "_model_name": "DescriptionStyleModel",
            "_view_count": null,
            "_view_module": "@jupyter-widgets/base",
            "_view_module_version": "1.2.0",
            "_view_name": "StyleView",
            "description_width": ""
          }
        }
      }
    }
  },
  "nbformat": 4,
  "nbformat_minor": 0
}