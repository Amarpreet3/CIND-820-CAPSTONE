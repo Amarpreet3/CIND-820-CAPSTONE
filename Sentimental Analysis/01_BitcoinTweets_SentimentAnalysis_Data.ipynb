{
  "nbformat": 4,
  "nbformat_minor": 0,
  "metadata": {
    "colab": {
      "provenance": [],
      "toc_visible": true
    },
    "kernelspec": {
      "name": "python3",
      "display_name": "Python 3"
    },
    "language_info": {
      "name": "python"
    }
  },
  "cells": [
    {
      "cell_type": "markdown",
      "source": [
        "# Dataset- Tweets"
      ],
      "metadata": {
        "id": "anlHPYsHTMMM"
      }
    },
    {
      "cell_type": "code",
      "source": [
        "#Dataset Link: https://www.kaggle.com/datasets/kaushiksuresh147/bitcoin-tweets\n",
        "#Divide the large csv file into smaller chunks for easier storage due to its big size."
      ],
      "metadata": {
        "id": "t6oPcyUqZjeA"
      },
      "execution_count": null,
      "outputs": []
    },
    {
      "cell_type": "code",
      "source": [
        "import pandas as pd\n",
        "import os\n",
        "\n",
        "file_urls = [\n",
        "    'https://github.com/Amarpreet3/CIND-820-CAPSTONE/raw/main/Sentimental%20Analysis/bitcoinTweets_2023-02-25.csv',\n",
        "    'https://github.com/Amarpreet3/CIND-820-CAPSTONE/raw/main/Sentimental%20Analysis/bitcoinTweets_2023-02-26.csv',\n",
        "    'https://github.com/Amarpreet3/CIND-820-CAPSTONE/raw/main/Sentimental%20Analysis/bitcoinTweets_2023-02-27.csv',\n",
        "    'https://github.com/Amarpreet3/CIND-820-CAPSTONE/raw/main/Sentimental%20Analysis/bitcoinTweets_2023-02-28.csv',\n",
        "    'https://github.com/Amarpreet3/CIND-820-CAPSTONE/raw/main/Sentimental%20Analysis/bitcoinTweets_2023-03-01.csv',\n",
        "    'https://github.com/Amarpreet3/CIND-820-CAPSTONE/raw/main/Sentimental%20Analysis/bitcoinTweets_2023-03-02.csv',\n",
        "    'https://github.com/Amarpreet3/CIND-820-CAPSTONE/raw/main/Sentimental%20Analysis/bitcoinTweets_2023-03-03.csv',\n",
        "    'https://github.com/Amarpreet3/CIND-820-CAPSTONE/raw/main/Sentimental%20Analysis/bitcoinTweets_2023-03-04.csv',\n",
        "    'https://github.com/Amarpreet3/CIND-820-CAPSTONE/raw/main/Sentimental%20Analysis/bitcoinTweets_2023-03-05.csv'\n",
        "]\n",
        "\n",
        "for url in file_urls:\n",
        "    # Extract the file name\n",
        "    file_name = url.split('/')[-1]\n",
        "\n",
        "    # Read the CSV file\n",
        "    df = pd.read_csv(url)\n",
        "\n",
        "    # Save the DataFrame as CSV with a different file name\n",
        "    file_name_without_extension = file_name.split('.')[0]\n",
        "    new_file_name = f\"{file_name_without_extension}.csv\"\n",
        "    df.to_csv(new_file_name, index=False)\n",
        "\n",
        "    # Check the size of the saved file\n",
        "    file_size_mb = os.path.getsize(new_file_name) / (1024 * 1024)  # in MB\n",
        "    print(f\"File {new_file_name} size: {file_size_mb:.2f} MB\")\n"
      ],
      "metadata": {
        "colab": {
          "base_uri": "https://localhost:8080/"
        },
        "id": "-fPmD8AAw-Qu",
        "outputId": "8b68ad77-9ddd-49bc-f4f0-24c3fbd68684"
      },
      "execution_count": null,
      "outputs": [
        {
          "output_type": "stream",
          "name": "stdout",
          "text": [
            "File bitcoinTweets_2023-02-25.csv size: 0.97 MB\n",
            "File bitcoinTweets_2023-02-26.csv size: 9.32 MB\n",
            "File bitcoinTweets_2023-02-27.csv size: 6.40 MB\n",
            "File bitcoinTweets_2023-02-28.csv size: 10.86 MB\n",
            "File bitcoinTweets_2023-03-01.csv size: 13.57 MB\n",
            "File bitcoinTweets_2023-03-02.csv size: 9.28 MB\n",
            "File bitcoinTweets_2023-03-03.csv size: 9.85 MB\n",
            "File bitcoinTweets_2023-03-04.csv size: 9.72 MB\n",
            "File bitcoinTweets_2023-03-05.csv size: 3.69 MB\n"
          ]
        }
      ]
    },
    {
      "cell_type": "code",
      "source": [
        "#Concatenate the Tweets into one file for Analysis"
      ],
      "metadata": {
        "id": "hi2eSpsNNGag"
      },
      "execution_count": null,
      "outputs": []
    },
    {
      "cell_type": "code",
      "source": [
        "import pandas as pd\n",
        "\n",
        "file_urls = [\n",
        "    'https://github.com/Amarpreet3/CIND-820-CAPSTONE/raw/main/Sentimental%20Analysis/bitcoinTweets_2023-02-25.csv',\n",
        "    'https://github.com/Amarpreet3/CIND-820-CAPSTONE/raw/main/Sentimental%20Analysis/bitcoinTweets_2023-02-26.csv',\n",
        "    'https://github.com/Amarpreet3/CIND-820-CAPSTONE/raw/main/Sentimental%20Analysis/bitcoinTweets_2023-02-27.csv',\n",
        "    'https://github.com/Amarpreet3/CIND-820-CAPSTONE/raw/main/Sentimental%20Analysis/bitcoinTweets_2023-02-28.csv',\n",
        "    'https://github.com/Amarpreet3/CIND-820-CAPSTONE/raw/main/Sentimental%20Analysis/bitcoinTweets_2023-03-01.csv',\n",
        "    'https://github.com/Amarpreet3/CIND-820-CAPSTONE/raw/main/Sentimental%20Analysis/bitcoinTweets_2023-03-02.csv',\n",
        "    'https://github.com/Amarpreet3/CIND-820-CAPSTONE/raw/main/Sentimental%20Analysis/bitcoinTweets_2023-03-03.csv',\n",
        "    'https://github.com/Amarpreet3/CIND-820-CAPSTONE/raw/main/Sentimental%20Analysis/bitcoinTweets_2023-03-04.csv',\n",
        "    'https://github.com/Amarpreet3/CIND-820-CAPSTONE/raw/main/Sentimental%20Analysis/bitcoinTweets_2023-03-05.csv'\n",
        "]\n",
        "\n",
        "dfs = []\n",
        "\n",
        "for url in file_urls:\n",
        "    # Read the CSV file\n",
        "    df = pd.read_csv(url)\n",
        "\n",
        "    # Append the DataFrame to the list\n",
        "    dfs.append(df)\n",
        "\n",
        "# Combine all DataFrames into a single DataFrame\n",
        "combined_df = pd.concat(dfs)\n",
        "\n",
        "# Save the combined DataFrame as a CSV file\n",
        "combined_df.to_csv('bitcoinTweets.csv', index=False)\n"
      ],
      "metadata": {
        "id": "se-U4cRozVww"
      },
      "execution_count": null,
      "outputs": []
    },
    {
      "cell_type": "code",
      "source": [
        "bitcoinTweets= pd.read_csv(\"/content/bitcoinTweets.csv\")\n",
        "bitcoinTweets.head()"
      ],
      "metadata": {
        "id": "3rtDJXR3wlar"
      },
      "execution_count": null,
      "outputs": []
    },
    {
      "cell_type": "code",
      "source": [
        "df = bitcoinTweets.copy()"
      ],
      "metadata": {
        "id": "FUM9q8EJxdsM"
      },
      "execution_count": null,
      "outputs": []
    },
    {
      "cell_type": "code",
      "source": [
        "df.head()"
      ],
      "metadata": {
        "id": "M1kEzclaxtW1"
      },
      "execution_count": null,
      "outputs": []
    },
    {
      "cell_type": "code",
      "source": [
        "df.info()"
      ],
      "metadata": {
        "id": "tlaMXGfCxxz6"
      },
      "execution_count": null,
      "outputs": []
    },
    {
      "cell_type": "code",
      "source": [
        "print(df.columns)"
      ],
      "metadata": {
        "id": "6WuXyqUvkFPR"
      },
      "execution_count": null,
      "outputs": []
    },
    {
      "cell_type": "code",
      "source": [
        "import pandas as pd\n",
        "import numpy as np\n",
        "import datetime as dt\n",
        "\n",
        "# Convert 'date' column to datetime64[ns]\n",
        "df['date'] = pd.to_datetime(df['date'], format='%Y-%m-%d %H:%M:%S')\n",
        "\n",
        "# Display the updated dataset\n",
        "df.info()\n",
        "\n",
        "\n"
      ],
      "metadata": {
        "id": "fN7pjolAjGoC"
      },
      "execution_count": null,
      "outputs": []
    },
    {
      "cell_type": "code",
      "source": [
        "# Check the size of the dataset\n",
        "num_rows, num_cols = df.shape\n",
        "print(\"Number of rows:\", num_rows)\n",
        "print(\"Number of columns:\", num_cols)"
      ],
      "metadata": {
        "id": "vcsJn06DyDZK"
      },
      "execution_count": null,
      "outputs": []
    },
    {
      "cell_type": "code",
      "source": [
        "import pandas as pd\n",
        "import sys\n",
        "# Calculate the size of the dataset in megabytes\n",
        "dataset_size_mb = sys.getsizeof(df) / (1024 * 1024)\n",
        "print(\"Dataset size:\", round(dataset_size_mb, 2), \"MB\")"
      ],
      "metadata": {
        "id": "cMB4jAwayGoJ"
      },
      "execution_count": null,
      "outputs": []
    },
    {
      "cell_type": "code",
      "source": [
        "column_names = df.columns\n",
        "print(column_names)"
      ],
      "metadata": {
        "id": "2lJHrfKpyJ8h"
      },
      "execution_count": null,
      "outputs": []
    },
    {
      "cell_type": "code",
      "source": [
        "# Change the data type of date\n",
        "date_dtype = df['date'].dtypes\n",
        "print(date_dtype)"
      ],
      "metadata": {
        "id": "VNCRtcrIyMcv"
      },
      "execution_count": null,
      "outputs": []
    },
    {
      "cell_type": "code",
      "source": [
        "# Convert the 'date' column to a date format with errors set to 'coerce'\n",
        "df['date'] = pd.to_datetime(df['date'], errors='coerce')\n",
        "\n",
        "# Save the modified dataset\n",
        "df.to_csv('/content/bitcoinTweets_updated.csv', index=False)"
      ],
      "metadata": {
        "id": "oP2vM6VbyO02"
      },
      "execution_count": null,
      "outputs": []
    },
    {
      "cell_type": "code",
      "source": [
        "df = pd.read_csv('/content/bitcoinTweets_updated.csv')\n",
        "df['date'] = pd.to_datetime(df['date'], errors='coerce')\n",
        "date_dtype = df['date'].dtypes\n",
        "print(date_dtype)"
      ],
      "metadata": {
        "id": "lUNPnWkj_gXp"
      },
      "execution_count": null,
      "outputs": []
    },
    {
      "cell_type": "code",
      "source": [
        "column_names = df.columns\n",
        "print(column_names)"
      ],
      "metadata": {
        "id": "BpSzSAAk__wf"
      },
      "execution_count": null,
      "outputs": []
    },
    {
      "cell_type": "code",
      "source": [
        "df.head()"
      ],
      "metadata": {
        "id": "1v0KeqxiAVJi"
      },
      "execution_count": null,
      "outputs": []
    },
    {
      "cell_type": "markdown",
      "source": [
        "#Bitcoin price"
      ],
      "metadata": {
        "id": "OeZuVihX7d-B"
      }
    },
    {
      "cell_type": "code",
      "source": [
        "#Cryptocompare Website\n",
        "#Dataset Link # https://min-api.cryptocompare.com/data/v2/histohour"
      ],
      "metadata": {
        "id": "-LAmJhz0fZB0"
      },
      "execution_count": null,
      "outputs": []
    },
    {
      "cell_type": "code",
      "source": [
        "import requests\n",
        "import pandas as pd\n",
        "\n",
        "# API endpoint for CryptoCompare\n",
        "url = \"https://min-api.cryptocompare.com/data/v2/histohour\"\n",
        "\n",
        "# Parameters for API request\n",
        "coin_symbol = \"BTC\"\n",
        "currency = \"USD\"\n",
        "timestamp_start = 1677110400  # February 22, 2023, 00:00:00 in Unix timestamp\n",
        "timestamp_end = 1678022399    # March 10, 2023, 23:59:59 in Unix timestamp\n",
        "\n",
        "# API request payload\n",
        "payload = {\n",
        "    \"fsym\": coin_symbol,\n",
        "    \"tsym\": currency,\n",
        "    \"toTs\": timestamp_end,\n",
        "    \"limit\": 336,  # Number of hours between the two timestamps\n",
        "    \"aggregate\": 1,\n",
        "    \"e\": \"CCCAGG\"  # CryptoCompare aggregate index\n",
        "}\n",
        "\n",
        "# Send API request\n",
        "response = requests.get(url, params=payload)\n",
        "\n",
        "# Check if the request was successful\n",
        "if response.status_code == 200:\n",
        "    # Process the response data\n",
        "    data = response.json()\n",
        "    # The 'Data' field contains the hourly Bitcoin prices\n",
        "    bitcoin_prices = data['Data']['Data']\n",
        "\n",
        "    # Create a DataFrame from the Bitcoin price data\n",
        "    df = pd.DataFrame(bitcoin_prices, columns=[\"time\", \"close\", \"high\", \"low\", \"open\", \"volumefrom\", \"volumeto\"])\n",
        "    df[\"time\"] = pd.to_datetime(df[\"time\"], unit=\"s\")  # Convert Unix timestamp to datetime\n",
        "\n",
        "    # Save DataFrame to CSV file\n",
        "    df.to_csv(\"bitcoin_prices_2023-02-22_to_2023-03-10.csv\", index=False)\n",
        "    print(\"Bitcoin data from February 22 to March 10, 2023, saved to 'bitcoin_prices_2023-02-22_to_2023-03-10.csv' file.\")\n",
        "else:\n",
        "    print(\"Failed to fetch Bitcoin data.\")\n"
      ],
      "metadata": {
        "colab": {
          "base_uri": "https://localhost:8080/"
        },
        "id": "ylBf7Iro0ns3",
        "outputId": "14e73a21-109e-4564-945f-a4843deeb9a3"
      },
      "execution_count": null,
      "outputs": [
        {
          "output_type": "stream",
          "name": "stdout",
          "text": [
            "Bitcoin data from February 22 to March 10, 2023, saved to 'bitcoin_prices_2023-02-22_to_2023-03-10.csv' file.\n"
          ]
        }
      ]
    },
    {
      "cell_type": "code",
      "source": [
        "df_bitcoin = pd.read_csv(\"/content/bitcoin_prices_2023-02-22_to_2023-03-10.csv\")"
      ],
      "metadata": {
        "id": "yJvgT6qy1Jey"
      },
      "execution_count": null,
      "outputs": []
    },
    {
      "cell_type": "code",
      "source": [
        "df_price = df_bitcoin.copy()\n",
        "df_price['time'] = pd.to_datetime(df_price['time'])\n",
        "\n",
        "df_price['Date'] = df_price['time'].dt.date\n",
        "df_price['Time'] = df_price['time'].dt.time\n",
        "\n",
        "df_price.head(2)\n"
      ],
      "metadata": {
        "colab": {
          "base_uri": "https://localhost:8080/",
          "height": 112
        },
        "id": "SWelOlnXn9BJ",
        "outputId": "89011567-bb43-4ee8-960e-5c511a46974c"
      },
      "execution_count": null,
      "outputs": [
        {
          "output_type": "execute_result",
          "data": {
            "text/plain": [
              "                 time     close      high       low      open  volumefrom  \\\n",
              "0 2023-02-19 13:00:00  24682.03  24715.82  24682.03  24707.39      903.97   \n",
              "1 2023-02-19 14:00:00  24765.79  24792.85  24679.21  24682.03     1220.29   \n",
              "\n",
              "      volumeto        Date      Time  \n",
              "0  22335943.28  2023-02-19  13:00:00  \n",
              "1  30203001.55  2023-02-19  14:00:00  "
            ],
            "text/html": [
              "\n",
              "  <div id=\"df-c1fd279b-6358-455a-8c9b-bd9501e810e7\">\n",
              "    <div class=\"colab-df-container\">\n",
              "      <div>\n",
              "<style scoped>\n",
              "    .dataframe tbody tr th:only-of-type {\n",
              "        vertical-align: middle;\n",
              "    }\n",
              "\n",
              "    .dataframe tbody tr th {\n",
              "        vertical-align: top;\n",
              "    }\n",
              "\n",
              "    .dataframe thead th {\n",
              "        text-align: right;\n",
              "    }\n",
              "</style>\n",
              "<table border=\"1\" class=\"dataframe\">\n",
              "  <thead>\n",
              "    <tr style=\"text-align: right;\">\n",
              "      <th></th>\n",
              "      <th>time</th>\n",
              "      <th>close</th>\n",
              "      <th>high</th>\n",
              "      <th>low</th>\n",
              "      <th>open</th>\n",
              "      <th>volumefrom</th>\n",
              "      <th>volumeto</th>\n",
              "      <th>Date</th>\n",
              "      <th>Time</th>\n",
              "    </tr>\n",
              "  </thead>\n",
              "  <tbody>\n",
              "    <tr>\n",
              "      <th>0</th>\n",
              "      <td>2023-02-19 13:00:00</td>\n",
              "      <td>24682.03</td>\n",
              "      <td>24715.82</td>\n",
              "      <td>24682.03</td>\n",
              "      <td>24707.39</td>\n",
              "      <td>903.97</td>\n",
              "      <td>22335943.28</td>\n",
              "      <td>2023-02-19</td>\n",
              "      <td>13:00:00</td>\n",
              "    </tr>\n",
              "    <tr>\n",
              "      <th>1</th>\n",
              "      <td>2023-02-19 14:00:00</td>\n",
              "      <td>24765.79</td>\n",
              "      <td>24792.85</td>\n",
              "      <td>24679.21</td>\n",
              "      <td>24682.03</td>\n",
              "      <td>1220.29</td>\n",
              "      <td>30203001.55</td>\n",
              "      <td>2023-02-19</td>\n",
              "      <td>14:00:00</td>\n",
              "    </tr>\n",
              "  </tbody>\n",
              "</table>\n",
              "</div>\n",
              "      <button class=\"colab-df-convert\" onclick=\"convertToInteractive('df-c1fd279b-6358-455a-8c9b-bd9501e810e7')\"\n",
              "              title=\"Convert this dataframe to an interactive table.\"\n",
              "              style=\"display:none;\">\n",
              "        \n",
              "  <svg xmlns=\"http://www.w3.org/2000/svg\" height=\"24px\"viewBox=\"0 0 24 24\"\n",
              "       width=\"24px\">\n",
              "    <path d=\"M0 0h24v24H0V0z\" fill=\"none\"/>\n",
              "    <path d=\"M18.56 5.44l.94 2.06.94-2.06 2.06-.94-2.06-.94-.94-2.06-.94 2.06-2.06.94zm-11 1L8.5 8.5l.94-2.06 2.06-.94-2.06-.94L8.5 2.5l-.94 2.06-2.06.94zm10 10l.94 2.06.94-2.06 2.06-.94-2.06-.94-.94-2.06-.94 2.06-2.06.94z\"/><path d=\"M17.41 7.96l-1.37-1.37c-.4-.4-.92-.59-1.43-.59-.52 0-1.04.2-1.43.59L10.3 9.45l-7.72 7.72c-.78.78-.78 2.05 0 2.83L4 21.41c.39.39.9.59 1.41.59.51 0 1.02-.2 1.41-.59l7.78-7.78 2.81-2.81c.8-.78.8-2.07 0-2.86zM5.41 20L4 18.59l7.72-7.72 1.47 1.35L5.41 20z\"/>\n",
              "  </svg>\n",
              "      </button>\n",
              "      \n",
              "  <style>\n",
              "    .colab-df-container {\n",
              "      display:flex;\n",
              "      flex-wrap:wrap;\n",
              "      gap: 12px;\n",
              "    }\n",
              "\n",
              "    .colab-df-convert {\n",
              "      background-color: #E8F0FE;\n",
              "      border: none;\n",
              "      border-radius: 50%;\n",
              "      cursor: pointer;\n",
              "      display: none;\n",
              "      fill: #1967D2;\n",
              "      height: 32px;\n",
              "      padding: 0 0 0 0;\n",
              "      width: 32px;\n",
              "    }\n",
              "\n",
              "    .colab-df-convert:hover {\n",
              "      background-color: #E2EBFA;\n",
              "      box-shadow: 0px 1px 2px rgba(60, 64, 67, 0.3), 0px 1px 3px 1px rgba(60, 64, 67, 0.15);\n",
              "      fill: #174EA6;\n",
              "    }\n",
              "\n",
              "    [theme=dark] .colab-df-convert {\n",
              "      background-color: #3B4455;\n",
              "      fill: #D2E3FC;\n",
              "    }\n",
              "\n",
              "    [theme=dark] .colab-df-convert:hover {\n",
              "      background-color: #434B5C;\n",
              "      box-shadow: 0px 1px 3px 1px rgba(0, 0, 0, 0.15);\n",
              "      filter: drop-shadow(0px 1px 2px rgba(0, 0, 0, 0.3));\n",
              "      fill: #FFFFFF;\n",
              "    }\n",
              "  </style>\n",
              "\n",
              "      <script>\n",
              "        const buttonEl =\n",
              "          document.querySelector('#df-c1fd279b-6358-455a-8c9b-bd9501e810e7 button.colab-df-convert');\n",
              "        buttonEl.style.display =\n",
              "          google.colab.kernel.accessAllowed ? 'block' : 'none';\n",
              "\n",
              "        async function convertToInteractive(key) {\n",
              "          const element = document.querySelector('#df-c1fd279b-6358-455a-8c9b-bd9501e810e7');\n",
              "          const dataTable =\n",
              "            await google.colab.kernel.invokeFunction('convertToInteractive',\n",
              "                                                     [key], {});\n",
              "          if (!dataTable) return;\n",
              "\n",
              "          const docLinkHtml = 'Like what you see? Visit the ' +\n",
              "            '<a target=\"_blank\" href=https://colab.research.google.com/notebooks/data_table.ipynb>data table notebook</a>'\n",
              "            + ' to learn more about interactive tables.';\n",
              "          element.innerHTML = '';\n",
              "          dataTable['output_type'] = 'display_data';\n",
              "          await google.colab.output.renderOutput(dataTable, element);\n",
              "          const docLink = document.createElement('div');\n",
              "          docLink.innerHTML = docLinkHtml;\n",
              "          element.appendChild(docLink);\n",
              "        }\n",
              "      </script>\n",
              "    </div>\n",
              "  </div>\n",
              "  "
            ]
          },
          "metadata": {},
          "execution_count": 20
        }
      ]
    },
    {
      "cell_type": "code",
      "source": [
        "\n",
        "df_price['Date'] = pd.to_datetime(df_price['Date'], format='%Y-%m-%d').dt.date\n",
        "\n",
        "df_price.info()\n"
      ],
      "metadata": {
        "colab": {
          "base_uri": "https://localhost:8080/"
        },
        "id": "dmwjS74StN48",
        "outputId": "5555dc7d-874e-43f9-9caf-f6c8b0ef2386"
      },
      "execution_count": null,
      "outputs": [
        {
          "output_type": "stream",
          "name": "stdout",
          "text": [
            "<class 'pandas.core.frame.DataFrame'>\n",
            "RangeIndex: 337 entries, 0 to 336\n",
            "Data columns (total 9 columns):\n",
            " #   Column      Non-Null Count  Dtype         \n",
            "---  ------      --------------  -----         \n",
            " 0   time        337 non-null    datetime64[ns]\n",
            " 1   close       337 non-null    float64       \n",
            " 2   high        337 non-null    float64       \n",
            " 3   low         337 non-null    float64       \n",
            " 4   open        337 non-null    float64       \n",
            " 5   volumefrom  337 non-null    float64       \n",
            " 6   volumeto    337 non-null    float64       \n",
            " 7   Date        337 non-null    object        \n",
            " 8   Time        337 non-null    object        \n",
            "dtypes: datetime64[ns](1), float64(6), object(2)\n",
            "memory usage: 23.8+ KB\n"
          ]
        }
      ]
    },
    {
      "cell_type": "code",
      "source": [
        "crypto_usd = df_price.copy()\n",
        "# Drop duplicates Currency\n",
        "print('bitcoin shape before droping duplicates', crypto_usd.shape)\n",
        "duplicates_removed = crypto_usd.shape[0]\n",
        "crypto_usd = crypto_usd.drop_duplicates(subset=['time'])\n",
        "print('bitcoin shape after droping duplicates', crypto_usd.shape)\n",
        "duplicates_removed -= crypto_usd.shape[0]\n",
        "print('duplicates removed', duplicates_removed)\n",
        "crypto_usd.head(2)"
      ],
      "metadata": {
        "colab": {
          "base_uri": "https://localhost:8080/",
          "height": 167
        },
        "id": "FLayKEGmIjz2",
        "outputId": "795507c0-2847-4c63-abd4-418853106826"
      },
      "execution_count": null,
      "outputs": [
        {
          "output_type": "stream",
          "name": "stdout",
          "text": [
            "bitcoin shape before droping duplicates (337, 9)\n",
            "bitcoin shape after droping duplicates (337, 9)\n",
            "duplicates removed 0\n"
          ]
        },
        {
          "output_type": "execute_result",
          "data": {
            "text/plain": [
              "                 time     close      high       low      open  volumefrom  \\\n",
              "0 2023-02-19 13:00:00  24682.03  24715.82  24682.03  24707.39      903.97   \n",
              "1 2023-02-19 14:00:00  24765.79  24792.85  24679.21  24682.03     1220.29   \n",
              "\n",
              "      volumeto        Date      Time  \n",
              "0  22335943.28  2023-02-19  13:00:00  \n",
              "1  30203001.55  2023-02-19  14:00:00  "
            ],
            "text/html": [
              "\n",
              "  <div id=\"df-690826c4-91f5-4bce-ab2c-9c010ba0ad5f\">\n",
              "    <div class=\"colab-df-container\">\n",
              "      <div>\n",
              "<style scoped>\n",
              "    .dataframe tbody tr th:only-of-type {\n",
              "        vertical-align: middle;\n",
              "    }\n",
              "\n",
              "    .dataframe tbody tr th {\n",
              "        vertical-align: top;\n",
              "    }\n",
              "\n",
              "    .dataframe thead th {\n",
              "        text-align: right;\n",
              "    }\n",
              "</style>\n",
              "<table border=\"1\" class=\"dataframe\">\n",
              "  <thead>\n",
              "    <tr style=\"text-align: right;\">\n",
              "      <th></th>\n",
              "      <th>time</th>\n",
              "      <th>close</th>\n",
              "      <th>high</th>\n",
              "      <th>low</th>\n",
              "      <th>open</th>\n",
              "      <th>volumefrom</th>\n",
              "      <th>volumeto</th>\n",
              "      <th>Date</th>\n",
              "      <th>Time</th>\n",
              "    </tr>\n",
              "  </thead>\n",
              "  <tbody>\n",
              "    <tr>\n",
              "      <th>0</th>\n",
              "      <td>2023-02-19 13:00:00</td>\n",
              "      <td>24682.03</td>\n",
              "      <td>24715.82</td>\n",
              "      <td>24682.03</td>\n",
              "      <td>24707.39</td>\n",
              "      <td>903.97</td>\n",
              "      <td>22335943.28</td>\n",
              "      <td>2023-02-19</td>\n",
              "      <td>13:00:00</td>\n",
              "    </tr>\n",
              "    <tr>\n",
              "      <th>1</th>\n",
              "      <td>2023-02-19 14:00:00</td>\n",
              "      <td>24765.79</td>\n",
              "      <td>24792.85</td>\n",
              "      <td>24679.21</td>\n",
              "      <td>24682.03</td>\n",
              "      <td>1220.29</td>\n",
              "      <td>30203001.55</td>\n",
              "      <td>2023-02-19</td>\n",
              "      <td>14:00:00</td>\n",
              "    </tr>\n",
              "  </tbody>\n",
              "</table>\n",
              "</div>\n",
              "      <button class=\"colab-df-convert\" onclick=\"convertToInteractive('df-690826c4-91f5-4bce-ab2c-9c010ba0ad5f')\"\n",
              "              title=\"Convert this dataframe to an interactive table.\"\n",
              "              style=\"display:none;\">\n",
              "        \n",
              "  <svg xmlns=\"http://www.w3.org/2000/svg\" height=\"24px\"viewBox=\"0 0 24 24\"\n",
              "       width=\"24px\">\n",
              "    <path d=\"M0 0h24v24H0V0z\" fill=\"none\"/>\n",
              "    <path d=\"M18.56 5.44l.94 2.06.94-2.06 2.06-.94-2.06-.94-.94-2.06-.94 2.06-2.06.94zm-11 1L8.5 8.5l.94-2.06 2.06-.94-2.06-.94L8.5 2.5l-.94 2.06-2.06.94zm10 10l.94 2.06.94-2.06 2.06-.94-2.06-.94-.94-2.06-.94 2.06-2.06.94z\"/><path d=\"M17.41 7.96l-1.37-1.37c-.4-.4-.92-.59-1.43-.59-.52 0-1.04.2-1.43.59L10.3 9.45l-7.72 7.72c-.78.78-.78 2.05 0 2.83L4 21.41c.39.39.9.59 1.41.59.51 0 1.02-.2 1.41-.59l7.78-7.78 2.81-2.81c.8-.78.8-2.07 0-2.86zM5.41 20L4 18.59l7.72-7.72 1.47 1.35L5.41 20z\"/>\n",
              "  </svg>\n",
              "      </button>\n",
              "      \n",
              "  <style>\n",
              "    .colab-df-container {\n",
              "      display:flex;\n",
              "      flex-wrap:wrap;\n",
              "      gap: 12px;\n",
              "    }\n",
              "\n",
              "    .colab-df-convert {\n",
              "      background-color: #E8F0FE;\n",
              "      border: none;\n",
              "      border-radius: 50%;\n",
              "      cursor: pointer;\n",
              "      display: none;\n",
              "      fill: #1967D2;\n",
              "      height: 32px;\n",
              "      padding: 0 0 0 0;\n",
              "      width: 32px;\n",
              "    }\n",
              "\n",
              "    .colab-df-convert:hover {\n",
              "      background-color: #E2EBFA;\n",
              "      box-shadow: 0px 1px 2px rgba(60, 64, 67, 0.3), 0px 1px 3px 1px rgba(60, 64, 67, 0.15);\n",
              "      fill: #174EA6;\n",
              "    }\n",
              "\n",
              "    [theme=dark] .colab-df-convert {\n",
              "      background-color: #3B4455;\n",
              "      fill: #D2E3FC;\n",
              "    }\n",
              "\n",
              "    [theme=dark] .colab-df-convert:hover {\n",
              "      background-color: #434B5C;\n",
              "      box-shadow: 0px 1px 3px 1px rgba(0, 0, 0, 0.15);\n",
              "      filter: drop-shadow(0px 1px 2px rgba(0, 0, 0, 0.3));\n",
              "      fill: #FFFFFF;\n",
              "    }\n",
              "  </style>\n",
              "\n",
              "      <script>\n",
              "        const buttonEl =\n",
              "          document.querySelector('#df-690826c4-91f5-4bce-ab2c-9c010ba0ad5f button.colab-df-convert');\n",
              "        buttonEl.style.display =\n",
              "          google.colab.kernel.accessAllowed ? 'block' : 'none';\n",
              "\n",
              "        async function convertToInteractive(key) {\n",
              "          const element = document.querySelector('#df-690826c4-91f5-4bce-ab2c-9c010ba0ad5f');\n",
              "          const dataTable =\n",
              "            await google.colab.kernel.invokeFunction('convertToInteractive',\n",
              "                                                     [key], {});\n",
              "          if (!dataTable) return;\n",
              "\n",
              "          const docLinkHtml = 'Like what you see? Visit the ' +\n",
              "            '<a target=\"_blank\" href=https://colab.research.google.com/notebooks/data_table.ipynb>data table notebook</a>'\n",
              "            + ' to learn more about interactive tables.';\n",
              "          element.innerHTML = '';\n",
              "          dataTable['output_type'] = 'display_data';\n",
              "          await google.colab.output.renderOutput(dataTable, element);\n",
              "          const docLink = document.createElement('div');\n",
              "          docLink.innerHTML = docLinkHtml;\n",
              "          element.appendChild(docLink);\n",
              "        }\n",
              "      </script>\n",
              "    </div>\n",
              "  </div>\n",
              "  "
            ]
          },
          "metadata": {},
          "execution_count": 22
        }
      ]
    },
    {
      "cell_type": "code",
      "source": [
        "# Create the new 'volume' column\n",
        "crypto_usd['volume'] = crypto_usd['volumeto'] - crypto_usd['volumefrom']\n",
        "\n",
        "# Display the updated DataFrame\n",
        "crypto_usd.head(2)"
      ],
      "metadata": {
        "colab": {
          "base_uri": "https://localhost:8080/",
          "height": 112
        },
        "id": "38GhN3xJnXJF",
        "outputId": "79244819-ebe9-4a5f-b4e4-8487a4826ae4"
      },
      "execution_count": null,
      "outputs": [
        {
          "output_type": "execute_result",
          "data": {
            "text/plain": [
              "                 time     close      high       low      open  volumefrom  \\\n",
              "0 2023-02-19 13:00:00  24682.03  24715.82  24682.03  24707.39      903.97   \n",
              "1 2023-02-19 14:00:00  24765.79  24792.85  24679.21  24682.03     1220.29   \n",
              "\n",
              "      volumeto        Date      Time       volume  \n",
              "0  22335943.28  2023-02-19  13:00:00  22335039.31  \n",
              "1  30203001.55  2023-02-19  14:00:00  30201781.26  "
            ],
            "text/html": [
              "\n",
              "  <div id=\"df-34a7376b-3a22-481b-8ba1-5e762feba63f\">\n",
              "    <div class=\"colab-df-container\">\n",
              "      <div>\n",
              "<style scoped>\n",
              "    .dataframe tbody tr th:only-of-type {\n",
              "        vertical-align: middle;\n",
              "    }\n",
              "\n",
              "    .dataframe tbody tr th {\n",
              "        vertical-align: top;\n",
              "    }\n",
              "\n",
              "    .dataframe thead th {\n",
              "        text-align: right;\n",
              "    }\n",
              "</style>\n",
              "<table border=\"1\" class=\"dataframe\">\n",
              "  <thead>\n",
              "    <tr style=\"text-align: right;\">\n",
              "      <th></th>\n",
              "      <th>time</th>\n",
              "      <th>close</th>\n",
              "      <th>high</th>\n",
              "      <th>low</th>\n",
              "      <th>open</th>\n",
              "      <th>volumefrom</th>\n",
              "      <th>volumeto</th>\n",
              "      <th>Date</th>\n",
              "      <th>Time</th>\n",
              "      <th>volume</th>\n",
              "    </tr>\n",
              "  </thead>\n",
              "  <tbody>\n",
              "    <tr>\n",
              "      <th>0</th>\n",
              "      <td>2023-02-19 13:00:00</td>\n",
              "      <td>24682.03</td>\n",
              "      <td>24715.82</td>\n",
              "      <td>24682.03</td>\n",
              "      <td>24707.39</td>\n",
              "      <td>903.97</td>\n",
              "      <td>22335943.28</td>\n",
              "      <td>2023-02-19</td>\n",
              "      <td>13:00:00</td>\n",
              "      <td>22335039.31</td>\n",
              "    </tr>\n",
              "    <tr>\n",
              "      <th>1</th>\n",
              "      <td>2023-02-19 14:00:00</td>\n",
              "      <td>24765.79</td>\n",
              "      <td>24792.85</td>\n",
              "      <td>24679.21</td>\n",
              "      <td>24682.03</td>\n",
              "      <td>1220.29</td>\n",
              "      <td>30203001.55</td>\n",
              "      <td>2023-02-19</td>\n",
              "      <td>14:00:00</td>\n",
              "      <td>30201781.26</td>\n",
              "    </tr>\n",
              "  </tbody>\n",
              "</table>\n",
              "</div>\n",
              "      <button class=\"colab-df-convert\" onclick=\"convertToInteractive('df-34a7376b-3a22-481b-8ba1-5e762feba63f')\"\n",
              "              title=\"Convert this dataframe to an interactive table.\"\n",
              "              style=\"display:none;\">\n",
              "        \n",
              "  <svg xmlns=\"http://www.w3.org/2000/svg\" height=\"24px\"viewBox=\"0 0 24 24\"\n",
              "       width=\"24px\">\n",
              "    <path d=\"M0 0h24v24H0V0z\" fill=\"none\"/>\n",
              "    <path d=\"M18.56 5.44l.94 2.06.94-2.06 2.06-.94-2.06-.94-.94-2.06-.94 2.06-2.06.94zm-11 1L8.5 8.5l.94-2.06 2.06-.94-2.06-.94L8.5 2.5l-.94 2.06-2.06.94zm10 10l.94 2.06.94-2.06 2.06-.94-2.06-.94-.94-2.06-.94 2.06-2.06.94z\"/><path d=\"M17.41 7.96l-1.37-1.37c-.4-.4-.92-.59-1.43-.59-.52 0-1.04.2-1.43.59L10.3 9.45l-7.72 7.72c-.78.78-.78 2.05 0 2.83L4 21.41c.39.39.9.59 1.41.59.51 0 1.02-.2 1.41-.59l7.78-7.78 2.81-2.81c.8-.78.8-2.07 0-2.86zM5.41 20L4 18.59l7.72-7.72 1.47 1.35L5.41 20z\"/>\n",
              "  </svg>\n",
              "      </button>\n",
              "      \n",
              "  <style>\n",
              "    .colab-df-container {\n",
              "      display:flex;\n",
              "      flex-wrap:wrap;\n",
              "      gap: 12px;\n",
              "    }\n",
              "\n",
              "    .colab-df-convert {\n",
              "      background-color: #E8F0FE;\n",
              "      border: none;\n",
              "      border-radius: 50%;\n",
              "      cursor: pointer;\n",
              "      display: none;\n",
              "      fill: #1967D2;\n",
              "      height: 32px;\n",
              "      padding: 0 0 0 0;\n",
              "      width: 32px;\n",
              "    }\n",
              "\n",
              "    .colab-df-convert:hover {\n",
              "      background-color: #E2EBFA;\n",
              "      box-shadow: 0px 1px 2px rgba(60, 64, 67, 0.3), 0px 1px 3px 1px rgba(60, 64, 67, 0.15);\n",
              "      fill: #174EA6;\n",
              "    }\n",
              "\n",
              "    [theme=dark] .colab-df-convert {\n",
              "      background-color: #3B4455;\n",
              "      fill: #D2E3FC;\n",
              "    }\n",
              "\n",
              "    [theme=dark] .colab-df-convert:hover {\n",
              "      background-color: #434B5C;\n",
              "      box-shadow: 0px 1px 3px 1px rgba(0, 0, 0, 0.15);\n",
              "      filter: drop-shadow(0px 1px 2px rgba(0, 0, 0, 0.3));\n",
              "      fill: #FFFFFF;\n",
              "    }\n",
              "  </style>\n",
              "\n",
              "      <script>\n",
              "        const buttonEl =\n",
              "          document.querySelector('#df-34a7376b-3a22-481b-8ba1-5e762feba63f button.colab-df-convert');\n",
              "        buttonEl.style.display =\n",
              "          google.colab.kernel.accessAllowed ? 'block' : 'none';\n",
              "\n",
              "        async function convertToInteractive(key) {\n",
              "          const element = document.querySelector('#df-34a7376b-3a22-481b-8ba1-5e762feba63f');\n",
              "          const dataTable =\n",
              "            await google.colab.kernel.invokeFunction('convertToInteractive',\n",
              "                                                     [key], {});\n",
              "          if (!dataTable) return;\n",
              "\n",
              "          const docLinkHtml = 'Like what you see? Visit the ' +\n",
              "            '<a target=\"_blank\" href=https://colab.research.google.com/notebooks/data_table.ipynb>data table notebook</a>'\n",
              "            + ' to learn more about interactive tables.';\n",
              "          element.innerHTML = '';\n",
              "          dataTable['output_type'] = 'display_data';\n",
              "          await google.colab.output.renderOutput(dataTable, element);\n",
              "          const docLink = document.createElement('div');\n",
              "          docLink.innerHTML = docLinkHtml;\n",
              "          element.appendChild(docLink);\n",
              "        }\n",
              "      </script>\n",
              "    </div>\n",
              "  </div>\n",
              "  "
            ]
          },
          "metadata": {},
          "execution_count": 23
        }
      ]
    },
    {
      "cell_type": "code",
      "source": [
        "# Sort the dataframe by the 'time' column\n",
        "crypto_usd = crypto_usd.sort_values('time')\n",
        "\n",
        "# Calculate market cap\n",
        "crypto_usd['marketcap'] = crypto_usd['close'] * crypto_usd['volumeto']\n",
        "\n",
        "# Calculate price difference delta\n",
        "crypto_usd['price_delta'] = crypto_usd['close'].diff()\n",
        "\n",
        "# Display the updated dataframe\n",
        "print(crypto_usd.head())\n"
      ],
      "metadata": {
        "colab": {
          "base_uri": "https://localhost:8080/"
        },
        "id": "Oq7QpW-oaTNN",
        "outputId": "8cdbe5de-f99c-4bf1-e557-00c870b9c7bb"
      },
      "execution_count": null,
      "outputs": [
        {
          "output_type": "stream",
          "name": "stdout",
          "text": [
            "                 time     close      high       low      open  volumefrom  \\\n",
            "0 2023-02-19 13:00:00  24682.03  24715.82  24682.03  24707.39      903.97   \n",
            "1 2023-02-19 14:00:00  24765.79  24792.85  24679.21  24682.03     1220.29   \n",
            "2 2023-02-19 15:00:00  24928.21  25022.49  24751.96  24765.79     5074.50   \n",
            "3 2023-02-19 16:00:00  24786.44  25175.28  24704.53  24928.21     7094.72   \n",
            "4 2023-02-19 17:00:00  24364.95  24806.64  24346.17  24786.44     6896.84   \n",
            "\n",
            "       volumeto        Date      Time        volume     marketcap  price_delta  \n",
            "0  2.233594e+07  2023-02-19  13:00:00  2.233504e+07  5.512964e+11          NaN  \n",
            "1  3.020300e+07  2023-02-19  14:00:00  3.020178e+07  7.480012e+11        83.76  \n",
            "2  1.263085e+08  2023-02-19  15:00:00  1.263034e+08  3.148644e+12       162.42  \n",
            "3  1.770671e+08  2023-02-19  16:00:00  1.770600e+08  4.388863e+12      -141.77  \n",
            "4  1.693379e+08  2023-02-19  17:00:00  1.693310e+08  4.125910e+12      -421.49  \n"
          ]
        }
      ]
    },
    {
      "cell_type": "code",
      "source": [
        "#Saved the Data with all additional attributes so it is easier to extract for analysis"
      ],
      "metadata": {
        "id": "JtSIpL66eUf4"
      },
      "execution_count": null,
      "outputs": []
    },
    {
      "cell_type": "code",
      "source": [
        "import pandas as pd\n",
        "\n",
        "# Save the DataFrame as CSV\n",
        "crypto_usd.to_csv('BitcoinPrice.csv', index=False)\n",
        "\n",
        "# Print the file name\n",
        "print(\"Data saved as BitcoinPricePreprocessed.csv\")\n"
      ],
      "metadata": {
        "colab": {
          "base_uri": "https://localhost:8080/"
        },
        "id": "5S7lgsGiPCqh",
        "outputId": "a94fec0c-e0f9-4d65-bfe7-296bdece3706"
      },
      "execution_count": null,
      "outputs": [
        {
          "output_type": "stream",
          "name": "stdout",
          "text": [
            "Data saved as BitcoinPricePreprocessed.csv\n"
          ]
        }
      ]
    },
    {
      "cell_type": "markdown",
      "source": [
        "#Tweets Cleaning"
      ],
      "metadata": {
        "id": "HAj0HlDw1bWx"
      }
    },
    {
      "cell_type": "code",
      "source": [
        "import pandas as pd\n",
        "\n",
        "# Read the CSV file\n",
        "tweets_raw_file = pd.read_csv('/content/bitcoinTweets_updated.csv')\n",
        "\n",
        "# Convert 'date' column to datetime\n",
        "tweets_raw_file['date'] = pd.to_datetime(tweets_raw_file['date'], errors='coerce')\n",
        "\n",
        "# Check the data type of 'date' column\n",
        "date_dtype = tweets_raw_file['date'].dtypes\n",
        "\n",
        "# Print the data type\n",
        "print(date_dtype)\n"
      ],
      "metadata": {
        "colab": {
          "base_uri": "https://localhost:8080/"
        },
        "id": "Yv0JcGDoAkn8",
        "outputId": "422d2d40-9667-4ba8-aba7-41f2ec6a2ab1"
      },
      "execution_count": null,
      "outputs": [
        {
          "output_type": "stream",
          "name": "stdout",
          "text": [
            "datetime64[ns]\n"
          ]
        }
      ]
    },
    {
      "cell_type": "code",
      "source": [
        "tweets_raw_file.info()"
      ],
      "metadata": {
        "colab": {
          "base_uri": "https://localhost:8080/"
        },
        "id": "SWO8dtlW8EtN",
        "outputId": "77232beb-ffa5-478e-8b82-2f40f17b750e"
      },
      "execution_count": null,
      "outputs": [
        {
          "output_type": "stream",
          "name": "stdout",
          "text": [
            "<class 'pandas.core.frame.DataFrame'>\n",
            "RangeIndex: 169761 entries, 0 to 169760\n",
            "Data columns (total 13 columns):\n",
            " #   Column            Non-Null Count   Dtype         \n",
            "---  ------            --------------   -----         \n",
            " 0   user_name         169751 non-null  object        \n",
            " 1   user_location     84090 non-null   object        \n",
            " 2   user_description  158666 non-null  object        \n",
            " 3   user_created      169761 non-null  object        \n",
            " 4   user_followers    169761 non-null  float64       \n",
            " 5   user_friends      169761 non-null  float64       \n",
            " 6   user_favourites   169761 non-null  float64       \n",
            " 7   user_verified     169761 non-null  bool          \n",
            " 8   date              169761 non-null  datetime64[ns]\n",
            " 9   text              169761 non-null  object        \n",
            " 10  hashtags          168954 non-null  object        \n",
            " 11  source            168954 non-null  object        \n",
            " 12  is_retweet        168954 non-null  float64       \n",
            "dtypes: bool(1), datetime64[ns](1), float64(4), object(7)\n",
            "memory usage: 15.7+ MB\n"
          ]
        }
      ]
    },
    {
      "cell_type": "code",
      "source": [
        "import pandas as pd\n",
        "import re\n",
        "import string\n",
        "from tqdm import tqdm\n",
        "from nltk.corpus import stopwords\n",
        "from nltk.stem import PorterStemmer\n",
        "import nltk\n",
        "nltk.download('stopwords')\n",
        "\n",
        "\n",
        "tweets_raw_file = \"/content/bitcoinTweets_updated.csv\"\n",
        "tweets_clean_file = \"bitcoinTweets_cleaned.csv\"\n",
        "\n",
        "# Load the tweets DataFrame\n",
        "tweets_df = pd.read_csv(tweets_raw_file)\n",
        "\n",
        "# Preprocess the 'text' column\n",
        "for i, text in tqdm(enumerate(tweets_df['text']), total=len(tweets_df['text'])):\n",
        "    # Remove hashtags\n",
        "    text = text.replace(\"#\", \"\")\n",
        "\n",
        "    # Remove URLs\n",
        "    text = re.sub('https?://(?:[-\\w.]|(?:%[\\da-fA-F]{2}))+', '', text)\n",
        "\n",
        "    # Remove mentions\n",
        "    text = re.sub('@\\\\w+ *', '', text)\n",
        "\n",
        "    # Convert to lowercase\n",
        "    text = text.lower()\n",
        "\n",
        "    # Remove punctuation\n",
        "    text = text.translate(str.maketrans('', '', string.punctuation))\n",
        "\n",
        "    # Tokenize the text\n",
        "    tokens = text.split()\n",
        "\n",
        "    # Remove stopwords\n",
        "    stop_words = set(stopwords.words('english'))\n",
        "    tokens = [word for word in tokens if word not in stop_words]\n",
        "\n",
        "    # Apply stemming\n",
        "    stemmer = PorterStemmer()\n",
        "    tokens = [stemmer.stem(word) for word in tokens]\n",
        "\n",
        "    # Join the tokens back into a single string\n",
        "    preprocessed_text = ' '.join(tokens)\n",
        "\n",
        "    # Update the 'text' column with the preprocessed text\n",
        "    tweets_df.loc[i, 'text'] = preprocessed_text\n",
        "\n",
        "# Save the cleaned data to a new CSV file\n",
        "tweets_df.to_csv(tweets_clean_file, header=True, encoding='utf-8', index=False)\n",
        "\n",
        "print(\"Cleaned tweets data saved to 'bitcoinTweets_cleaned.csv'.\")\n"
      ],
      "metadata": {
        "colab": {
          "base_uri": "https://localhost:8080/"
        },
        "id": "Qosc87T7vdln",
        "outputId": "fd426746-910a-4ff0-af43-ee74335588b8"
      },
      "execution_count": null,
      "outputs": [
        {
          "output_type": "stream",
          "name": "stderr",
          "text": [
            "[nltk_data] Downloading package stopwords to /root/nltk_data...\n",
            "[nltk_data]   Unzipping corpora/stopwords.zip.\n",
            "100%|██████████| 169761/169761 [11:21<00:00, 249.02it/s]\n"
          ]
        },
        {
          "output_type": "stream",
          "name": "stdout",
          "text": [
            "Cleaned tweets data saved to 'bitcoinTweets_cleaned.csv'.\n"
          ]
        }
      ]
    },
    {
      "cell_type": "code",
      "source": [
        "import pandas as pd\n",
        "\n",
        "tweets_clean_file = \"bitcoinTweets_cleaned.csv\"\n",
        "\n",
        "# Load the cleaned tweets DataFrame\n",
        "tweets_df = pd.read_csv(tweets_clean_file)\n",
        "print('tweet shape before droping duplicates', tweets_df.shape)\n",
        "# Remove duplicate rows based on all columns\n",
        "tweets_df.drop_duplicates(inplace=True)\n",
        "\n",
        "# Save the deduplicated data to a new CSV file\n",
        "tweets_df.to_csv(tweets_clean_file, header=True, encoding='utf-8', index=False)\n",
        "\n",
        "print(\"Duplicates removed from the cleaned tweets data.\")\n",
        "print('tweet shape after droping duplicates', tweets_df.shape)\n"
      ],
      "metadata": {
        "colab": {
          "base_uri": "https://localhost:8080/"
        },
        "id": "NKj6bMQRv8lA",
        "outputId": "1b56ac07-c885-4212-b92a-cfb50338fea7"
      },
      "execution_count": null,
      "outputs": [
        {
          "output_type": "stream",
          "name": "stdout",
          "text": [
            "tweet shape before droping duplicates (169761, 13)\n",
            "Duplicates removed from the cleaned tweets data.\n",
            "tweet shape after droping duplicates (168685, 13)\n"
          ]
        }
      ]
    },
    {
      "cell_type": "code",
      "source": [
        "import sys\n",
        "\n",
        "# Get the size of the DataFrame in bytes\n",
        "size_bytes = sys.getsizeof(tweets_df)\n",
        "\n",
        "# Convert the size to megabytes\n",
        "size_mb = size_bytes / (1024 * 1024)\n",
        "\n",
        "# Print the size in MB\n",
        "print(f\"Size of tweets_df: {size_mb} MB\")\n"
      ],
      "metadata": {
        "colab": {
          "base_uri": "https://localhost:8080/"
        },
        "id": "DDmRtJ2fEZ0H",
        "outputId": "a8f30133-34b6-4474-9b65-2c13e74156ae"
      },
      "execution_count": null,
      "outputs": [
        {
          "output_type": "stream",
          "name": "stdout",
          "text": [
            "Size of tweets_df: 137.04691982269287 MB\n"
          ]
        }
      ]
    },
    {
      "cell_type": "code",
      "source": [
        "print(tweets_df.shape)"
      ],
      "metadata": {
        "colab": {
          "base_uri": "https://localhost:8080/"
        },
        "id": "l1C5Q1saD6cc",
        "outputId": "e5584437-f408-48c4-ce22-87be3e17ef5d"
      },
      "execution_count": null,
      "outputs": [
        {
          "output_type": "stream",
          "name": "stdout",
          "text": [
            "(168685, 13)\n"
          ]
        }
      ]
    },
    {
      "cell_type": "code",
      "source": [
        "tweets_df.head()"
      ],
      "metadata": {
        "colab": {
          "base_uri": "https://localhost:8080/"
        },
        "id": "2aXXHv92pXx6",
        "outputId": "9aa2f9e0-198e-406b-a520-151ecee030e4"
      },
      "execution_count": null,
      "outputs": [
        {
          "output_type": "execute_result",
          "data": {
            "text/plain": [
              "            user_name  user_location  \\\n",
              "0                 Irk  Vancouver, WA   \n",
              "1         Xiang Zhang            NaN   \n",
              "2              Rhizoo            NaN   \n",
              "3        Hari Marquez  Las Vegas, NV   \n",
              "4  Bitcoin Candle Bot         Brazil   \n",
              "\n",
              "                                    user_description         user_created  \\\n",
              "0  Irk started investing in the stock market in 1...  2018-08-11 03:17:00   \n",
              "1  Professional Software Engineer ð»ðCrypto ...  2011-01-11 01:37:00   \n",
              "2  researcher. local maxima dunningâkruger spec...  2019-04-03 18:09:00   \n",
              "3  Donât trust, verify. #Bitcoin | El Salvador ...  2014-01-17 23:04:00   \n",
              "4  Robot that posts the closure of the bitcoin da...  2021-01-06 01:36:00   \n",
              "\n",
              "   user_followers  user_friends  user_favourites  user_verified  \\\n",
              "0           116.0           8.0           4580.0          False   \n",
              "1            42.0          22.0              5.0          False   \n",
              "2           778.0         627.0          32005.0          False   \n",
              "3           222.0         521.0          13052.0          False   \n",
              "4            40.0           4.0              1.0          False   \n",
              "\n",
              "                  date                                               text  \\\n",
              "0  2023-02-25 23:59:00  bitcoin btc rest crypto ye bitcoin cryptocurr ...   \n",
              "1  2023-02-25 23:59:00  retriev invest fund current ongo tidexcoin kic...   \n",
              "2  2023-02-25 23:59:00  bull save monthli thread today good shit bitco...   \n",
              "3  2023-02-25 23:59:00         el salvador shape futur bitcoin membvk32cn   \n",
              "4  2023-02-25 23:59:00  candl day 25022023 close open 2319406 high 232...   \n",
              "\n",
              "                                            hashtags              source  \\\n",
              "0            ['Bitcoin', 'crypto', 'NeedsMoreCrash']     Twitter Web App   \n",
              "1  ['Tidexcoin', 'Kicurrency', 'LMY', 'GMK', 'SYR...  Twitter for iPhone   \n",
              "2                                        ['bitcoin']     Twitter Web App   \n",
              "3                                        ['Bitcoin']     Twitter Web App   \n",
              "4                ['Bitcoin', 'Candle', 'BearMarket']  Bitcoin Candle Bot   \n",
              "\n",
              "   is_retweet  \n",
              "0         0.0  \n",
              "1         0.0  \n",
              "2         0.0  \n",
              "3         0.0  \n",
              "4         0.0  "
            ],
            "text/html": [
              "\n",
              "  <div id=\"df-2174fafd-a079-4637-b68f-c81cd8908b55\">\n",
              "    <div class=\"colab-df-container\">\n",
              "      <div>\n",
              "<style scoped>\n",
              "    .dataframe tbody tr th:only-of-type {\n",
              "        vertical-align: middle;\n",
              "    }\n",
              "\n",
              "    .dataframe tbody tr th {\n",
              "        vertical-align: top;\n",
              "    }\n",
              "\n",
              "    .dataframe thead th {\n",
              "        text-align: right;\n",
              "    }\n",
              "</style>\n",
              "<table border=\"1\" class=\"dataframe\">\n",
              "  <thead>\n",
              "    <tr style=\"text-align: right;\">\n",
              "      <th></th>\n",
              "      <th>user_name</th>\n",
              "      <th>user_location</th>\n",
              "      <th>user_description</th>\n",
              "      <th>user_created</th>\n",
              "      <th>user_followers</th>\n",
              "      <th>user_friends</th>\n",
              "      <th>user_favourites</th>\n",
              "      <th>user_verified</th>\n",
              "      <th>date</th>\n",
              "      <th>text</th>\n",
              "      <th>hashtags</th>\n",
              "      <th>source</th>\n",
              "      <th>is_retweet</th>\n",
              "    </tr>\n",
              "  </thead>\n",
              "  <tbody>\n",
              "    <tr>\n",
              "      <th>0</th>\n",
              "      <td>Irk</td>\n",
              "      <td>Vancouver, WA</td>\n",
              "      <td>Irk started investing in the stock market in 1...</td>\n",
              "      <td>2018-08-11 03:17:00</td>\n",
              "      <td>116.0</td>\n",
              "      <td>8.0</td>\n",
              "      <td>4580.0</td>\n",
              "      <td>False</td>\n",
              "      <td>2023-02-25 23:59:00</td>\n",
              "      <td>bitcoin btc rest crypto ye bitcoin cryptocurr ...</td>\n",
              "      <td>['Bitcoin', 'crypto', 'NeedsMoreCrash']</td>\n",
              "      <td>Twitter Web App</td>\n",
              "      <td>0.0</td>\n",
              "    </tr>\n",
              "    <tr>\n",
              "      <th>1</th>\n",
              "      <td>Xiang Zhang</td>\n",
              "      <td>NaN</td>\n",
              "      <td>Professional Software Engineer ð»ðCrypto ...</td>\n",
              "      <td>2011-01-11 01:37:00</td>\n",
              "      <td>42.0</td>\n",
              "      <td>22.0</td>\n",
              "      <td>5.0</td>\n",
              "      <td>False</td>\n",
              "      <td>2023-02-25 23:59:00</td>\n",
              "      <td>retriev invest fund current ongo tidexcoin kic...</td>\n",
              "      <td>['Tidexcoin', 'Kicurrency', 'LMY', 'GMK', 'SYR...</td>\n",
              "      <td>Twitter for iPhone</td>\n",
              "      <td>0.0</td>\n",
              "    </tr>\n",
              "    <tr>\n",
              "      <th>2</th>\n",
              "      <td>Rhizoo</td>\n",
              "      <td>NaN</td>\n",
              "      <td>researcher. local maxima dunningâkruger spec...</td>\n",
              "      <td>2019-04-03 18:09:00</td>\n",
              "      <td>778.0</td>\n",
              "      <td>627.0</td>\n",
              "      <td>32005.0</td>\n",
              "      <td>False</td>\n",
              "      <td>2023-02-25 23:59:00</td>\n",
              "      <td>bull save monthli thread today good shit bitco...</td>\n",
              "      <td>['bitcoin']</td>\n",
              "      <td>Twitter Web App</td>\n",
              "      <td>0.0</td>\n",
              "    </tr>\n",
              "    <tr>\n",
              "      <th>3</th>\n",
              "      <td>Hari Marquez</td>\n",
              "      <td>Las Vegas, NV</td>\n",
              "      <td>Donât trust, verify. #Bitcoin | El Salvador ...</td>\n",
              "      <td>2014-01-17 23:04:00</td>\n",
              "      <td>222.0</td>\n",
              "      <td>521.0</td>\n",
              "      <td>13052.0</td>\n",
              "      <td>False</td>\n",
              "      <td>2023-02-25 23:59:00</td>\n",
              "      <td>el salvador shape futur bitcoin membvk32cn</td>\n",
              "      <td>['Bitcoin']</td>\n",
              "      <td>Twitter Web App</td>\n",
              "      <td>0.0</td>\n",
              "    </tr>\n",
              "    <tr>\n",
              "      <th>4</th>\n",
              "      <td>Bitcoin Candle Bot</td>\n",
              "      <td>Brazil</td>\n",
              "      <td>Robot that posts the closure of the bitcoin da...</td>\n",
              "      <td>2021-01-06 01:36:00</td>\n",
              "      <td>40.0</td>\n",
              "      <td>4.0</td>\n",
              "      <td>1.0</td>\n",
              "      <td>False</td>\n",
              "      <td>2023-02-25 23:59:00</td>\n",
              "      <td>candl day 25022023 close open 2319406 high 232...</td>\n",
              "      <td>['Bitcoin', 'Candle', 'BearMarket']</td>\n",
              "      <td>Bitcoin Candle Bot</td>\n",
              "      <td>0.0</td>\n",
              "    </tr>\n",
              "  </tbody>\n",
              "</table>\n",
              "</div>\n",
              "      <button class=\"colab-df-convert\" onclick=\"convertToInteractive('df-2174fafd-a079-4637-b68f-c81cd8908b55')\"\n",
              "              title=\"Convert this dataframe to an interactive table.\"\n",
              "              style=\"display:none;\">\n",
              "        \n",
              "  <svg xmlns=\"http://www.w3.org/2000/svg\" height=\"24px\"viewBox=\"0 0 24 24\"\n",
              "       width=\"24px\">\n",
              "    <path d=\"M0 0h24v24H0V0z\" fill=\"none\"/>\n",
              "    <path d=\"M18.56 5.44l.94 2.06.94-2.06 2.06-.94-2.06-.94-.94-2.06-.94 2.06-2.06.94zm-11 1L8.5 8.5l.94-2.06 2.06-.94-2.06-.94L8.5 2.5l-.94 2.06-2.06.94zm10 10l.94 2.06.94-2.06 2.06-.94-2.06-.94-.94-2.06-.94 2.06-2.06.94z\"/><path d=\"M17.41 7.96l-1.37-1.37c-.4-.4-.92-.59-1.43-.59-.52 0-1.04.2-1.43.59L10.3 9.45l-7.72 7.72c-.78.78-.78 2.05 0 2.83L4 21.41c.39.39.9.59 1.41.59.51 0 1.02-.2 1.41-.59l7.78-7.78 2.81-2.81c.8-.78.8-2.07 0-2.86zM5.41 20L4 18.59l7.72-7.72 1.47 1.35L5.41 20z\"/>\n",
              "  </svg>\n",
              "      </button>\n",
              "      \n",
              "  <style>\n",
              "    .colab-df-container {\n",
              "      display:flex;\n",
              "      flex-wrap:wrap;\n",
              "      gap: 12px;\n",
              "    }\n",
              "\n",
              "    .colab-df-convert {\n",
              "      background-color: #E8F0FE;\n",
              "      border: none;\n",
              "      border-radius: 50%;\n",
              "      cursor: pointer;\n",
              "      display: none;\n",
              "      fill: #1967D2;\n",
              "      height: 32px;\n",
              "      padding: 0 0 0 0;\n",
              "      width: 32px;\n",
              "    }\n",
              "\n",
              "    .colab-df-convert:hover {\n",
              "      background-color: #E2EBFA;\n",
              "      box-shadow: 0px 1px 2px rgba(60, 64, 67, 0.3), 0px 1px 3px 1px rgba(60, 64, 67, 0.15);\n",
              "      fill: #174EA6;\n",
              "    }\n",
              "\n",
              "    [theme=dark] .colab-df-convert {\n",
              "      background-color: #3B4455;\n",
              "      fill: #D2E3FC;\n",
              "    }\n",
              "\n",
              "    [theme=dark] .colab-df-convert:hover {\n",
              "      background-color: #434B5C;\n",
              "      box-shadow: 0px 1px 3px 1px rgba(0, 0, 0, 0.15);\n",
              "      filter: drop-shadow(0px 1px 2px rgba(0, 0, 0, 0.3));\n",
              "      fill: #FFFFFF;\n",
              "    }\n",
              "  </style>\n",
              "\n",
              "      <script>\n",
              "        const buttonEl =\n",
              "          document.querySelector('#df-2174fafd-a079-4637-b68f-c81cd8908b55 button.colab-df-convert');\n",
              "        buttonEl.style.display =\n",
              "          google.colab.kernel.accessAllowed ? 'block' : 'none';\n",
              "\n",
              "        async function convertToInteractive(key) {\n",
              "          const element = document.querySelector('#df-2174fafd-a079-4637-b68f-c81cd8908b55');\n",
              "          const dataTable =\n",
              "            await google.colab.kernel.invokeFunction('convertToInteractive',\n",
              "                                                     [key], {});\n",
              "          if (!dataTable) return;\n",
              "\n",
              "          const docLinkHtml = 'Like what you see? Visit the ' +\n",
              "            '<a target=\"_blank\" href=https://colab.research.google.com/notebooks/data_table.ipynb>data table notebook</a>'\n",
              "            + ' to learn more about interactive tables.';\n",
              "          element.innerHTML = '';\n",
              "          dataTable['output_type'] = 'display_data';\n",
              "          await google.colab.output.renderOutput(dataTable, element);\n",
              "          const docLink = document.createElement('div');\n",
              "          docLink.innerHTML = docLinkHtml;\n",
              "          element.appendChild(docLink);\n",
              "        }\n",
              "      </script>\n",
              "    </div>\n",
              "  </div>\n",
              "  "
            ]
          },
          "metadata": {},
          "execution_count": 32
        }
      ]
    },
    {
      "cell_type": "code",
      "source": [
        "tweets_df.min(axis=0)"
      ],
      "metadata": {
        "colab": {
          "base_uri": "https://localhost:8080/"
        },
        "id": "KHZOzVaf5dtP",
        "outputId": "a478be3d-847e-4826-eb02-bf9a9991b627"
      },
      "execution_count": null,
      "outputs": [
        {
          "output_type": "stream",
          "name": "stderr",
          "text": [
            "<ipython-input-33-14ceec5556a9>:1: FutureWarning: The default value of numeric_only in DataFrame.min is deprecated. In a future version, it will default to False. In addition, specifying 'numeric_only=None' is deprecated. Select only valid columns or specify the value of numeric_only to silence this warning.\n",
            "  tweets_df.min(axis=0)\n"
          ]
        },
        {
          "output_type": "execute_result",
          "data": {
            "text/plain": [
              "user_created       2006-09-04 17:48:00\n",
              "user_followers                     0.0\n",
              "user_friends                       0.0\n",
              "user_favourites                    0.0\n",
              "user_verified                    False\n",
              "date               2023-02-25 20:49:00\n",
              "is_retweet                         0.0\n",
              "dtype: object"
            ]
          },
          "metadata": {},
          "execution_count": 33
        }
      ]
    },
    {
      "cell_type": "code",
      "source": [
        "tweets_df.info()"
      ],
      "metadata": {
        "colab": {
          "base_uri": "https://localhost:8080/"
        },
        "id": "aHxSjoJA5ird",
        "outputId": "e7a441b4-6251-41bf-b37f-4ece7017373a"
      },
      "execution_count": null,
      "outputs": [
        {
          "output_type": "stream",
          "name": "stdout",
          "text": [
            "<class 'pandas.core.frame.DataFrame'>\n",
            "Int64Index: 168685 entries, 0 to 169760\n",
            "Data columns (total 13 columns):\n",
            " #   Column            Non-Null Count   Dtype  \n",
            "---  ------            --------------   -----  \n",
            " 0   user_name         168675 non-null  object \n",
            " 1   user_location     83730 non-null   object \n",
            " 2   user_description  158165 non-null  object \n",
            " 3   user_created      168685 non-null  object \n",
            " 4   user_followers    168685 non-null  float64\n",
            " 5   user_friends      168685 non-null  float64\n",
            " 6   user_favourites   168685 non-null  float64\n",
            " 7   user_verified     168685 non-null  bool   \n",
            " 8   date              168685 non-null  object \n",
            " 9   text              168673 non-null  object \n",
            " 10  hashtags          167953 non-null  object \n",
            " 11  source            167953 non-null  object \n",
            " 12  is_retweet        167953 non-null  float64\n",
            "dtypes: bool(1), float64(4), object(8)\n",
            "memory usage: 16.9+ MB\n"
          ]
        }
      ]
    },
    {
      "cell_type": "code",
      "source": [
        "#Filter Tweets and hashtag for Bitcoin only"
      ],
      "metadata": {
        "id": "VuMno2pry7-F"
      },
      "execution_count": null,
      "outputs": []
    },
    {
      "cell_type": "code",
      "source": [
        "import pandas as pd\n",
        "import numpy as np\n",
        "\n",
        "# Filter tweets containing specific keywords or hashtags related to Bitcoin\n",
        "bitcoin_keywords = ['bitcoin', 'btc', 'crypto']\n",
        "bitcoin_hashtags = ['#bitcoin', '#btc', '#cryptocurrency']\n",
        "\n",
        "# Drop rows with missing values in the 'text' column\n",
        "tweets_df.dropna(subset=['text'], inplace=True)\n",
        "\n",
        "# Apply the filtering condition\n",
        "filtered_tweets_df = tweets_df[tweets_df['text'].str.contains('|'.join(bitcoin_keywords + bitcoin_hashtags), case=False)]\n",
        "\n",
        "# Print the filtered tweets DataFrame\n",
        "print(filtered_tweets_df)\n"
      ],
      "metadata": {
        "colab": {
          "base_uri": "https://localhost:8080/"
        },
        "id": "4IXKPwsW2IKK",
        "outputId": "386c179b-e87c-4804-c818-0f6f8d677c86"
      },
      "execution_count": null,
      "outputs": [
        {
          "output_type": "stream",
          "name": "stdout",
          "text": [
            "                              user_name  user_location  \\\n",
            "0                                   Irk  Vancouver, WA   \n",
            "1                           Xiang Zhang            NaN   \n",
            "2                                Rhizoo            NaN   \n",
            "3                          Hari Marquez  Las Vegas, NV   \n",
            "4                    Bitcoin Candle Bot         Brazil   \n",
            "...                                 ...            ...   \n",
            "169756  L3X - ð°ð»ð´ðð v5.3            NaN   \n",
            "169757                      FunFacts.AI            NaN   \n",
            "169758               Word On Cryptoð    SocialMedia   \n",
            "169759            BTC Status Alert ð          Japan   \n",
            "169760                      Jon Padilha            NaN   \n",
            "\n",
            "                                         user_description  \\\n",
            "0       Irk started investing in the stock market in 1...   \n",
            "1       Professional Software Engineer ð»ðCrypto ...   \n",
            "2       researcher. local maxima dunningâkruger spec...   \n",
            "3       Donât trust, verify. #Bitcoin | El Salvador ...   \n",
            "4       Robot that posts the closure of the bitcoin da...   \n",
            "...                                                   ...   \n",
            "169756  #Bitcoin & #Crypto #Trading #Strategy\\nFollow ...   \n",
            "169757  I post a Fun Fact every minute\\n\\n#OpenAI #Cha...   \n",
            "169758                                    ð¯UNDERGROUND   \n",
            "169759  Tweet data that will help you consider #BTC pr...   \n",
            "169760    Daytrade Institucional\\nForex - BTC - BinÃ¡rias   \n",
            "\n",
            "               user_created  user_followers  user_friends  user_favourites  \\\n",
            "0       2018-08-11 03:17:00           116.0           8.0           4580.0   \n",
            "1       2011-01-11 01:37:00            42.0          22.0              5.0   \n",
            "2       2019-04-03 18:09:00           778.0         627.0          32005.0   \n",
            "3       2014-01-17 23:04:00           222.0         521.0          13052.0   \n",
            "4       2021-01-06 01:36:00            40.0           4.0              1.0   \n",
            "...                     ...             ...           ...              ...   \n",
            "169756  2022-04-05 22:51:00           182.0          14.0           2978.0   \n",
            "169757  2022-05-24 12:26:00            24.0          18.0              1.0   \n",
            "169758  2021-06-18 16:30:00            41.0          15.0            316.0   \n",
            "169759  2019-07-21 11:28:00         45666.0           2.0             15.0   \n",
            "169760  2019-09-22 13:54:00           101.0           3.0             35.0   \n",
            "\n",
            "        user_verified                 date  \\\n",
            "0               False  2023-02-25 23:59:00   \n",
            "1               False  2023-02-25 23:59:00   \n",
            "2               False  2023-02-25 23:59:00   \n",
            "3               False  2023-02-25 23:59:00   \n",
            "4               False  2023-02-25 23:59:00   \n",
            "...               ...                  ...   \n",
            "169756          False  2023-03-05 18:52:00   \n",
            "169757          False  2023-03-05 18:52:00   \n",
            "169758          False  2023-03-05 18:52:00   \n",
            "169759          False  2023-03-05 18:51:00   \n",
            "169760          False  2023-03-05 18:51:00   \n",
            "\n",
            "                                                     text  \\\n",
            "0       bitcoin btc rest crypto ye bitcoin cryptocurr ...   \n",
            "1       retriev invest fund current ongo tidexcoin kic...   \n",
            "2       bull save monthli thread today good shit bitco...   \n",
            "3              el salvador shape futur bitcoin membvk32cn   \n",
            "4       candl day 25022023 close open 2319406 high 232...   \n",
            "...                                                   ...   \n",
            "169756  1000day strategi super â¡ï¸ btc ð³ vet ð...   \n",
            "169757  world longest kiss session last 30 hour 25 min...   \n",
            "169758  ð¨wordoncrypto sun 3523 ð¢at last step bit...   \n",
            "169759  btc deriv sheet tweet everi 15 min cme delay 1...   \n",
            "169760                       choch 22k poc btc kozaildok9   \n",
            "\n",
            "                                                 hashtags  \\\n",
            "0                 ['Bitcoin', 'crypto', 'NeedsMoreCrash']   \n",
            "1       ['Tidexcoin', 'Kicurrency', 'LMY', 'GMK', 'SYR...   \n",
            "2                                             ['bitcoin']   \n",
            "3                                             ['Bitcoin']   \n",
            "4                     ['Bitcoin', 'Candle', 'BearMarket']   \n",
            "...                                                   ...   \n",
            "169756  ['VET', 'Analysis', 'LINK', 'ProfitLab', 'Best...   \n",
            "169757                                            ['BTC']   \n",
            "169758  ['wordOnCrypto', 'btc', 'eth', 'coinbase', 'cr...   \n",
            "169759                                            ['BTC']   \n",
            "169760                                            ['BTC']   \n",
            "\n",
            "                     source  is_retweet  \n",
            "0           Twitter Web App         0.0  \n",
            "1        Twitter for iPhone         0.0  \n",
            "2           Twitter Web App         0.0  \n",
            "3           Twitter Web App         0.0  \n",
            "4        Bitcoin Candle Bot         0.0  \n",
            "...                     ...         ...  \n",
            "169756           ProjectL3X         0.0  \n",
            "169757               ben292         0.0  \n",
            "169758  Twitter for Android         0.0  \n",
            "169759       BTC Status Bot         0.0  \n",
            "169760  Twitter for Android         0.0  \n",
            "\n",
            "[167655 rows x 13 columns]\n"
          ]
        }
      ]
    },
    {
      "cell_type": "code",
      "source": [
        "import sys\n",
        "\n",
        "# Get the size of the DataFrame in bytes\n",
        "size_bytes = sys.getsizeof(filtered_tweets_df)\n",
        "\n",
        "# Convert the size to megabytes\n",
        "size_mb = size_bytes / (1024 * 1024)\n",
        "\n",
        "# Print the size in MB\n",
        "print(f\"Size of tweets_df: {size_mb} MB\")\n"
      ],
      "metadata": {
        "colab": {
          "base_uri": "https://localhost:8080/"
        },
        "id": "RKdswQ9BEe0i",
        "outputId": "4b6ffe5e-6de3-40f8-bdf2-1c17943eca4e"
      },
      "execution_count": null,
      "outputs": [
        {
          "output_type": "stream",
          "name": "stdout",
          "text": [
            "Size of tweets_df: 136.2565097808838 MB\n"
          ]
        }
      ]
    },
    {
      "cell_type": "markdown",
      "source": [
        "#Sentiment analysis with Vader"
      ],
      "metadata": {
        "id": "bP2wmcmm8p_A"
      }
    },
    {
      "cell_type": "code",
      "source": [
        "!!pip install vaderSentiment\n"
      ],
      "metadata": {
        "colab": {
          "base_uri": "https://localhost:8080/"
        },
        "id": "kTis-6mC9NM-",
        "outputId": "ca892508-69a3-4bd9-e614-d001e4ae16b2"
      },
      "execution_count": null,
      "outputs": [
        {
          "output_type": "execute_result",
          "data": {
            "text/plain": [
              "['Looking in indexes: https://pypi.org/simple, https://us-python.pkg.dev/colab-wheels/public/simple/',\n",
              " 'Collecting vaderSentiment',\n",
              " '  Downloading vaderSentiment-3.3.2-py2.py3-none-any.whl (125 kB)',\n",
              " '\\x1b[?25l     \\x1b[90m━━━━━━━━━━━━━━━━━━━━━━━━━━━━━━━━━━━━━━━━\\x1b[0m \\x1b[32m0.0/126.0 kB\\x1b[0m \\x1b[31m?\\x1b[0m eta \\x1b[36m-:--:--\\x1b[0m',\n",
              " '\\x1b[2K     \\x1b[90m━━━━━━━━━━━━━━━━━━━━━━━━━━━━━━━━━━━━━━━\\x1b[0m \\x1b[32m126.0/126.0 kB\\x1b[0m \\x1b[31m3.5 MB/s\\x1b[0m eta \\x1b[36m0:00:00\\x1b[0m',\n",
              " '\\x1b[?25hRequirement already satisfied: requests in /usr/local/lib/python3.10/dist-packages (from vaderSentiment) (2.27.1)',\n",
              " 'Requirement already satisfied: urllib3<1.27,>=1.21.1 in /usr/local/lib/python3.10/dist-packages (from requests->vaderSentiment) (1.26.16)',\n",
              " 'Requirement already satisfied: certifi>=2017.4.17 in /usr/local/lib/python3.10/dist-packages (from requests->vaderSentiment) (2023.5.7)',\n",
              " 'Requirement already satisfied: charset-normalizer~=2.0.0 in /usr/local/lib/python3.10/dist-packages (from requests->vaderSentiment) (2.0.12)',\n",
              " 'Requirement already satisfied: idna<4,>=2.5 in /usr/local/lib/python3.10/dist-packages (from requests->vaderSentiment) (3.4)',\n",
              " 'Installing collected packages: vaderSentiment',\n",
              " 'Successfully installed vaderSentiment-3.3.2']"
            ]
          },
          "metadata": {},
          "execution_count": 38
        }
      ]
    },
    {
      "cell_type": "code",
      "source": [
        "import pandas as pd\n",
        "from vaderSentiment.vaderSentiment import SentimentIntensityAnalyzer\n",
        "from tqdm import tqdm\n",
        "\n",
        "# Assuming you have already cleaned the tweets and stored them in the 'text' column of `df_clean`\n",
        "df_clean = filtered_tweets_df.copy()\n",
        "\n",
        "# Handle NaN values in the 'text' column\n",
        "df_clean['text'].fillna('', inplace=True)\n",
        "\n",
        "# Initialize the SentimentIntensityAnalyzer\n",
        "analyzer = SentimentIntensityAnalyzer()\n",
        "\n",
        "# Perform sentiment analysis and store the compound scores\n",
        "compound = []\n",
        "for i, s in tqdm(enumerate(df_clean['text']), total=len(df_clean['text'])):\n",
        "    if isinstance(s, str):  # Check if the tweet is a string\n",
        "        vs = analyzer.polarity_scores(s)\n",
        "        compound.append(vs[\"compound\"])\n",
        "    else:\n",
        "        compound.append(0.0)  # Assign a neutral score for non-string tweets\n",
        "\n",
        "# Add the compound scores to the dataframe\n",
        "df_clean[\"compound\"] = compound\n",
        "\n",
        "# Save the updated dataframe to a new CSV file\n",
        "df_clean.to_csv(\"bitcoinTweets_sentiment.csv\", index=False)\n",
        "\n",
        "print(\"Sentiment analysis completed and data saved to 'bitcoinTweets_sentiment.csv'.\")\n"
      ],
      "metadata": {
        "colab": {
          "base_uri": "https://localhost:8080/"
        },
        "id": "OEDNi_f89lRH",
        "outputId": "3271269e-c2d7-41f5-bb9e-b934b3806482"
      },
      "execution_count": null,
      "outputs": [
        {
          "output_type": "stream",
          "name": "stderr",
          "text": [
            "100%|██████████| 167655/167655 [00:29<00:00, 5594.51it/s] \n"
          ]
        },
        {
          "output_type": "stream",
          "name": "stdout",
          "text": [
            "Sentiment analysis completed and data saved to 'bitcoinTweets_sentiment.csv'.\n"
          ]
        }
      ]
    },
    {
      "cell_type": "code",
      "source": [
        "df_clean.head()"
      ],
      "metadata": {
        "colab": {
          "base_uri": "https://localhost:8080/",
          "height": 582
        },
        "id": "2d3Nkdoy0_Li",
        "outputId": "2cc5451f-d4cd-44ee-9474-ac40176b1010"
      },
      "execution_count": null,
      "outputs": [
        {
          "output_type": "execute_result",
          "data": {
            "text/plain": [
              "            user_name  user_location  \\\n",
              "0                 Irk  Vancouver, WA   \n",
              "1         Xiang Zhang            NaN   \n",
              "2              Rhizoo            NaN   \n",
              "3        Hari Marquez  Las Vegas, NV   \n",
              "4  Bitcoin Candle Bot         Brazil   \n",
              "\n",
              "                                    user_description         user_created  \\\n",
              "0  Irk started investing in the stock market in 1...  2018-08-11 03:17:00   \n",
              "1  Professional Software Engineer ð»ðCrypto ...  2011-01-11 01:37:00   \n",
              "2  researcher. local maxima dunningâkruger spec...  2019-04-03 18:09:00   \n",
              "3  Donât trust, verify. #Bitcoin | El Salvador ...  2014-01-17 23:04:00   \n",
              "4  Robot that posts the closure of the bitcoin da...  2021-01-06 01:36:00   \n",
              "\n",
              "   user_followers  user_friends  user_favourites  user_verified  \\\n",
              "0           116.0           8.0           4580.0          False   \n",
              "1            42.0          22.0              5.0          False   \n",
              "2           778.0         627.0          32005.0          False   \n",
              "3           222.0         521.0          13052.0          False   \n",
              "4            40.0           4.0              1.0          False   \n",
              "\n",
              "                  date                                               text  \\\n",
              "0  2023-02-25 23:59:00  bitcoin btc rest crypto ye bitcoin cryptocurr ...   \n",
              "1  2023-02-25 23:59:00  retriev invest fund current ongo tidexcoin kic...   \n",
              "2  2023-02-25 23:59:00  bull save monthli thread today good shit bitco...   \n",
              "3  2023-02-25 23:59:00         el salvador shape futur bitcoin membvk32cn   \n",
              "4  2023-02-25 23:59:00  candl day 25022023 close open 2319406 high 232...   \n",
              "\n",
              "                                            hashtags              source  \\\n",
              "0            ['Bitcoin', 'crypto', 'NeedsMoreCrash']     Twitter Web App   \n",
              "1  ['Tidexcoin', 'Kicurrency', 'LMY', 'GMK', 'SYR...  Twitter for iPhone   \n",
              "2                                        ['bitcoin']     Twitter Web App   \n",
              "3                                        ['Bitcoin']     Twitter Web App   \n",
              "4                ['Bitcoin', 'Candle', 'BearMarket']  Bitcoin Candle Bot   \n",
              "\n",
              "   is_retweet  compound  \n",
              "0         0.0   -0.4019  \n",
              "1         0.0    0.0000  \n",
              "2         0.0    0.3612  \n",
              "3         0.0    0.0000  \n",
              "4         0.0   -0.2732  "
            ],
            "text/html": [
              "\n",
              "  <div id=\"df-4e16008b-c4a0-43ba-916e-41e23bd96d98\">\n",
              "    <div class=\"colab-df-container\">\n",
              "      <div>\n",
              "<style scoped>\n",
              "    .dataframe tbody tr th:only-of-type {\n",
              "        vertical-align: middle;\n",
              "    }\n",
              "\n",
              "    .dataframe tbody tr th {\n",
              "        vertical-align: top;\n",
              "    }\n",
              "\n",
              "    .dataframe thead th {\n",
              "        text-align: right;\n",
              "    }\n",
              "</style>\n",
              "<table border=\"1\" class=\"dataframe\">\n",
              "  <thead>\n",
              "    <tr style=\"text-align: right;\">\n",
              "      <th></th>\n",
              "      <th>user_name</th>\n",
              "      <th>user_location</th>\n",
              "      <th>user_description</th>\n",
              "      <th>user_created</th>\n",
              "      <th>user_followers</th>\n",
              "      <th>user_friends</th>\n",
              "      <th>user_favourites</th>\n",
              "      <th>user_verified</th>\n",
              "      <th>date</th>\n",
              "      <th>text</th>\n",
              "      <th>hashtags</th>\n",
              "      <th>source</th>\n",
              "      <th>is_retweet</th>\n",
              "      <th>compound</th>\n",
              "    </tr>\n",
              "  </thead>\n",
              "  <tbody>\n",
              "    <tr>\n",
              "      <th>0</th>\n",
              "      <td>Irk</td>\n",
              "      <td>Vancouver, WA</td>\n",
              "      <td>Irk started investing in the stock market in 1...</td>\n",
              "      <td>2018-08-11 03:17:00</td>\n",
              "      <td>116.0</td>\n",
              "      <td>8.0</td>\n",
              "      <td>4580.0</td>\n",
              "      <td>False</td>\n",
              "      <td>2023-02-25 23:59:00</td>\n",
              "      <td>bitcoin btc rest crypto ye bitcoin cryptocurr ...</td>\n",
              "      <td>['Bitcoin', 'crypto', 'NeedsMoreCrash']</td>\n",
              "      <td>Twitter Web App</td>\n",
              "      <td>0.0</td>\n",
              "      <td>-0.4019</td>\n",
              "    </tr>\n",
              "    <tr>\n",
              "      <th>1</th>\n",
              "      <td>Xiang Zhang</td>\n",
              "      <td>NaN</td>\n",
              "      <td>Professional Software Engineer ð»ðCrypto ...</td>\n",
              "      <td>2011-01-11 01:37:00</td>\n",
              "      <td>42.0</td>\n",
              "      <td>22.0</td>\n",
              "      <td>5.0</td>\n",
              "      <td>False</td>\n",
              "      <td>2023-02-25 23:59:00</td>\n",
              "      <td>retriev invest fund current ongo tidexcoin kic...</td>\n",
              "      <td>['Tidexcoin', 'Kicurrency', 'LMY', 'GMK', 'SYR...</td>\n",
              "      <td>Twitter for iPhone</td>\n",
              "      <td>0.0</td>\n",
              "      <td>0.0000</td>\n",
              "    </tr>\n",
              "    <tr>\n",
              "      <th>2</th>\n",
              "      <td>Rhizoo</td>\n",
              "      <td>NaN</td>\n",
              "      <td>researcher. local maxima dunningâkruger spec...</td>\n",
              "      <td>2019-04-03 18:09:00</td>\n",
              "      <td>778.0</td>\n",
              "      <td>627.0</td>\n",
              "      <td>32005.0</td>\n",
              "      <td>False</td>\n",
              "      <td>2023-02-25 23:59:00</td>\n",
              "      <td>bull save monthli thread today good shit bitco...</td>\n",
              "      <td>['bitcoin']</td>\n",
              "      <td>Twitter Web App</td>\n",
              "      <td>0.0</td>\n",
              "      <td>0.3612</td>\n",
              "    </tr>\n",
              "    <tr>\n",
              "      <th>3</th>\n",
              "      <td>Hari Marquez</td>\n",
              "      <td>Las Vegas, NV</td>\n",
              "      <td>Donât trust, verify. #Bitcoin | El Salvador ...</td>\n",
              "      <td>2014-01-17 23:04:00</td>\n",
              "      <td>222.0</td>\n",
              "      <td>521.0</td>\n",
              "      <td>13052.0</td>\n",
              "      <td>False</td>\n",
              "      <td>2023-02-25 23:59:00</td>\n",
              "      <td>el salvador shape futur bitcoin membvk32cn</td>\n",
              "      <td>['Bitcoin']</td>\n",
              "      <td>Twitter Web App</td>\n",
              "      <td>0.0</td>\n",
              "      <td>0.0000</td>\n",
              "    </tr>\n",
              "    <tr>\n",
              "      <th>4</th>\n",
              "      <td>Bitcoin Candle Bot</td>\n",
              "      <td>Brazil</td>\n",
              "      <td>Robot that posts the closure of the bitcoin da...</td>\n",
              "      <td>2021-01-06 01:36:00</td>\n",
              "      <td>40.0</td>\n",
              "      <td>4.0</td>\n",
              "      <td>1.0</td>\n",
              "      <td>False</td>\n",
              "      <td>2023-02-25 23:59:00</td>\n",
              "      <td>candl day 25022023 close open 2319406 high 232...</td>\n",
              "      <td>['Bitcoin', 'Candle', 'BearMarket']</td>\n",
              "      <td>Bitcoin Candle Bot</td>\n",
              "      <td>0.0</td>\n",
              "      <td>-0.2732</td>\n",
              "    </tr>\n",
              "  </tbody>\n",
              "</table>\n",
              "</div>\n",
              "      <button class=\"colab-df-convert\" onclick=\"convertToInteractive('df-4e16008b-c4a0-43ba-916e-41e23bd96d98')\"\n",
              "              title=\"Convert this dataframe to an interactive table.\"\n",
              "              style=\"display:none;\">\n",
              "        \n",
              "  <svg xmlns=\"http://www.w3.org/2000/svg\" height=\"24px\"viewBox=\"0 0 24 24\"\n",
              "       width=\"24px\">\n",
              "    <path d=\"M0 0h24v24H0V0z\" fill=\"none\"/>\n",
              "    <path d=\"M18.56 5.44l.94 2.06.94-2.06 2.06-.94-2.06-.94-.94-2.06-.94 2.06-2.06.94zm-11 1L8.5 8.5l.94-2.06 2.06-.94-2.06-.94L8.5 2.5l-.94 2.06-2.06.94zm10 10l.94 2.06.94-2.06 2.06-.94-2.06-.94-.94-2.06-.94 2.06-2.06.94z\"/><path d=\"M17.41 7.96l-1.37-1.37c-.4-.4-.92-.59-1.43-.59-.52 0-1.04.2-1.43.59L10.3 9.45l-7.72 7.72c-.78.78-.78 2.05 0 2.83L4 21.41c.39.39.9.59 1.41.59.51 0 1.02-.2 1.41-.59l7.78-7.78 2.81-2.81c.8-.78.8-2.07 0-2.86zM5.41 20L4 18.59l7.72-7.72 1.47 1.35L5.41 20z\"/>\n",
              "  </svg>\n",
              "      </button>\n",
              "      \n",
              "  <style>\n",
              "    .colab-df-container {\n",
              "      display:flex;\n",
              "      flex-wrap:wrap;\n",
              "      gap: 12px;\n",
              "    }\n",
              "\n",
              "    .colab-df-convert {\n",
              "      background-color: #E8F0FE;\n",
              "      border: none;\n",
              "      border-radius: 50%;\n",
              "      cursor: pointer;\n",
              "      display: none;\n",
              "      fill: #1967D2;\n",
              "      height: 32px;\n",
              "      padding: 0 0 0 0;\n",
              "      width: 32px;\n",
              "    }\n",
              "\n",
              "    .colab-df-convert:hover {\n",
              "      background-color: #E2EBFA;\n",
              "      box-shadow: 0px 1px 2px rgba(60, 64, 67, 0.3), 0px 1px 3px 1px rgba(60, 64, 67, 0.15);\n",
              "      fill: #174EA6;\n",
              "    }\n",
              "\n",
              "    [theme=dark] .colab-df-convert {\n",
              "      background-color: #3B4455;\n",
              "      fill: #D2E3FC;\n",
              "    }\n",
              "\n",
              "    [theme=dark] .colab-df-convert:hover {\n",
              "      background-color: #434B5C;\n",
              "      box-shadow: 0px 1px 3px 1px rgba(0, 0, 0, 0.15);\n",
              "      filter: drop-shadow(0px 1px 2px rgba(0, 0, 0, 0.3));\n",
              "      fill: #FFFFFF;\n",
              "    }\n",
              "  </style>\n",
              "\n",
              "      <script>\n",
              "        const buttonEl =\n",
              "          document.querySelector('#df-4e16008b-c4a0-43ba-916e-41e23bd96d98 button.colab-df-convert');\n",
              "        buttonEl.style.display =\n",
              "          google.colab.kernel.accessAllowed ? 'block' : 'none';\n",
              "\n",
              "        async function convertToInteractive(key) {\n",
              "          const element = document.querySelector('#df-4e16008b-c4a0-43ba-916e-41e23bd96d98');\n",
              "          const dataTable =\n",
              "            await google.colab.kernel.invokeFunction('convertToInteractive',\n",
              "                                                     [key], {});\n",
              "          if (!dataTable) return;\n",
              "\n",
              "          const docLinkHtml = 'Like what you see? Visit the ' +\n",
              "            '<a target=\"_blank\" href=https://colab.research.google.com/notebooks/data_table.ipynb>data table notebook</a>'\n",
              "            + ' to learn more about interactive tables.';\n",
              "          element.innerHTML = '';\n",
              "          dataTable['output_type'] = 'display_data';\n",
              "          await google.colab.output.renderOutput(dataTable, element);\n",
              "          const docLink = document.createElement('div');\n",
              "          docLink.innerHTML = docLinkHtml;\n",
              "          element.appendChild(docLink);\n",
              "        }\n",
              "      </script>\n",
              "    </div>\n",
              "  </div>\n",
              "  "
            ]
          },
          "metadata": {},
          "execution_count": 40
        }
      ]
    },
    {
      "cell_type": "code",
      "source": [
        "#Calculate a score for each tweet"
      ],
      "metadata": {
        "id": "oyRSFPsS-B-3"
      },
      "execution_count": null,
      "outputs": []
    },
    {
      "cell_type": "code",
      "source": [
        "# Perform sentiment analysis and calculate the scores\n",
        "scores = []\n",
        "for i, s in tqdm(df_clean.iterrows(), total=df_clean.shape[0]):\n",
        "    vs = analyzer.polarity_scores(s[\"text\"])\n",
        "    score = vs[\"compound\"] * (s[\"user_followers\"] + 1) * (s[\"user_favourites\"] + 1)\n",
        "    scores.append(score)\n",
        "\n",
        "# Add the scores to the dataframe\n",
        "df_clean[\"score\"] = scores\n",
        "\n",
        "# Display the first two rows of the updated dataframe\n",
        "print(df_clean.head(2))"
      ],
      "metadata": {
        "colab": {
          "base_uri": "https://localhost:8080/"
        },
        "id": "FM2PeVnK-M1R",
        "outputId": "267a5426-a52d-4f2a-db57-0e2c7b153bcb"
      },
      "execution_count": null,
      "outputs": [
        {
          "output_type": "stream",
          "name": "stderr",
          "text": [
            "100%|██████████| 167655/167655 [00:47<00:00, 3543.34it/s]"
          ]
        },
        {
          "output_type": "stream",
          "name": "stdout",
          "text": [
            "     user_name  user_location  \\\n",
            "0          Irk  Vancouver, WA   \n",
            "1  Xiang Zhang            NaN   \n",
            "\n",
            "                                    user_description         user_created  \\\n",
            "0  Irk started investing in the stock market in 1...  2018-08-11 03:17:00   \n",
            "1  Professional Software Engineer ð»ðCrypto ...  2011-01-11 01:37:00   \n",
            "\n",
            "   user_followers  user_friends  user_favourites  user_verified  \\\n",
            "0           116.0           8.0           4580.0          False   \n",
            "1            42.0          22.0              5.0          False   \n",
            "\n",
            "                  date                                               text  \\\n",
            "0  2023-02-25 23:59:00  bitcoin btc rest crypto ye bitcoin cryptocurr ...   \n",
            "1  2023-02-25 23:59:00  retriev invest fund current ongo tidexcoin kic...   \n",
            "\n",
            "                                            hashtags              source  \\\n",
            "0            ['Bitcoin', 'crypto', 'NeedsMoreCrash']     Twitter Web App   \n",
            "1  ['Tidexcoin', 'Kicurrency', 'LMY', 'GMK', 'SYR...  Twitter for iPhone   \n",
            "\n",
            "   is_retweet  compound        score  \n",
            "0         0.0   -0.4019 -215409.1563  \n",
            "1         0.0    0.0000       0.0000  \n"
          ]
        },
        {
          "output_type": "stream",
          "name": "stderr",
          "text": [
            "\n"
          ]
        }
      ]
    },
    {
      "cell_type": "code",
      "source": [
        "df_clean.head(2)"
      ],
      "metadata": {
        "colab": {
          "base_uri": "https://localhost:8080/",
          "height": 367
        },
        "id": "q-hiDo7sAVGe",
        "outputId": "bdbc747f-e103-4ac1-e703-77f17d518705"
      },
      "execution_count": null,
      "outputs": [
        {
          "output_type": "execute_result",
          "data": {
            "text/plain": [
              "     user_name  user_location  \\\n",
              "0          Irk  Vancouver, WA   \n",
              "1  Xiang Zhang            NaN   \n",
              "\n",
              "                                    user_description         user_created  \\\n",
              "0  Irk started investing in the stock market in 1...  2018-08-11 03:17:00   \n",
              "1  Professional Software Engineer ð»ðCrypto ...  2011-01-11 01:37:00   \n",
              "\n",
              "   user_followers  user_friends  user_favourites  user_verified  \\\n",
              "0           116.0           8.0           4580.0          False   \n",
              "1            42.0          22.0              5.0          False   \n",
              "\n",
              "                  date                                               text  \\\n",
              "0  2023-02-25 23:59:00  bitcoin btc rest crypto ye bitcoin cryptocurr ...   \n",
              "1  2023-02-25 23:59:00  retriev invest fund current ongo tidexcoin kic...   \n",
              "\n",
              "                                            hashtags              source  \\\n",
              "0            ['Bitcoin', 'crypto', 'NeedsMoreCrash']     Twitter Web App   \n",
              "1  ['Tidexcoin', 'Kicurrency', 'LMY', 'GMK', 'SYR...  Twitter for iPhone   \n",
              "\n",
              "   is_retweet  compound        score  \n",
              "0         0.0   -0.4019 -215409.1563  \n",
              "1         0.0    0.0000       0.0000  "
            ],
            "text/html": [
              "\n",
              "  <div id=\"df-e5b96f49-09f8-4858-a4e7-3e540b3ce190\">\n",
              "    <div class=\"colab-df-container\">\n",
              "      <div>\n",
              "<style scoped>\n",
              "    .dataframe tbody tr th:only-of-type {\n",
              "        vertical-align: middle;\n",
              "    }\n",
              "\n",
              "    .dataframe tbody tr th {\n",
              "        vertical-align: top;\n",
              "    }\n",
              "\n",
              "    .dataframe thead th {\n",
              "        text-align: right;\n",
              "    }\n",
              "</style>\n",
              "<table border=\"1\" class=\"dataframe\">\n",
              "  <thead>\n",
              "    <tr style=\"text-align: right;\">\n",
              "      <th></th>\n",
              "      <th>user_name</th>\n",
              "      <th>user_location</th>\n",
              "      <th>user_description</th>\n",
              "      <th>user_created</th>\n",
              "      <th>user_followers</th>\n",
              "      <th>user_friends</th>\n",
              "      <th>user_favourites</th>\n",
              "      <th>user_verified</th>\n",
              "      <th>date</th>\n",
              "      <th>text</th>\n",
              "      <th>hashtags</th>\n",
              "      <th>source</th>\n",
              "      <th>is_retweet</th>\n",
              "      <th>compound</th>\n",
              "      <th>score</th>\n",
              "    </tr>\n",
              "  </thead>\n",
              "  <tbody>\n",
              "    <tr>\n",
              "      <th>0</th>\n",
              "      <td>Irk</td>\n",
              "      <td>Vancouver, WA</td>\n",
              "      <td>Irk started investing in the stock market in 1...</td>\n",
              "      <td>2018-08-11 03:17:00</td>\n",
              "      <td>116.0</td>\n",
              "      <td>8.0</td>\n",
              "      <td>4580.0</td>\n",
              "      <td>False</td>\n",
              "      <td>2023-02-25 23:59:00</td>\n",
              "      <td>bitcoin btc rest crypto ye bitcoin cryptocurr ...</td>\n",
              "      <td>['Bitcoin', 'crypto', 'NeedsMoreCrash']</td>\n",
              "      <td>Twitter Web App</td>\n",
              "      <td>0.0</td>\n",
              "      <td>-0.4019</td>\n",
              "      <td>-215409.1563</td>\n",
              "    </tr>\n",
              "    <tr>\n",
              "      <th>1</th>\n",
              "      <td>Xiang Zhang</td>\n",
              "      <td>NaN</td>\n",
              "      <td>Professional Software Engineer ð»ðCrypto ...</td>\n",
              "      <td>2011-01-11 01:37:00</td>\n",
              "      <td>42.0</td>\n",
              "      <td>22.0</td>\n",
              "      <td>5.0</td>\n",
              "      <td>False</td>\n",
              "      <td>2023-02-25 23:59:00</td>\n",
              "      <td>retriev invest fund current ongo tidexcoin kic...</td>\n",
              "      <td>['Tidexcoin', 'Kicurrency', 'LMY', 'GMK', 'SYR...</td>\n",
              "      <td>Twitter for iPhone</td>\n",
              "      <td>0.0</td>\n",
              "      <td>0.0000</td>\n",
              "      <td>0.0000</td>\n",
              "    </tr>\n",
              "  </tbody>\n",
              "</table>\n",
              "</div>\n",
              "      <button class=\"colab-df-convert\" onclick=\"convertToInteractive('df-e5b96f49-09f8-4858-a4e7-3e540b3ce190')\"\n",
              "              title=\"Convert this dataframe to an interactive table.\"\n",
              "              style=\"display:none;\">\n",
              "        \n",
              "  <svg xmlns=\"http://www.w3.org/2000/svg\" height=\"24px\"viewBox=\"0 0 24 24\"\n",
              "       width=\"24px\">\n",
              "    <path d=\"M0 0h24v24H0V0z\" fill=\"none\"/>\n",
              "    <path d=\"M18.56 5.44l.94 2.06.94-2.06 2.06-.94-2.06-.94-.94-2.06-.94 2.06-2.06.94zm-11 1L8.5 8.5l.94-2.06 2.06-.94-2.06-.94L8.5 2.5l-.94 2.06-2.06.94zm10 10l.94 2.06.94-2.06 2.06-.94-2.06-.94-.94-2.06-.94 2.06-2.06.94z\"/><path d=\"M17.41 7.96l-1.37-1.37c-.4-.4-.92-.59-1.43-.59-.52 0-1.04.2-1.43.59L10.3 9.45l-7.72 7.72c-.78.78-.78 2.05 0 2.83L4 21.41c.39.39.9.59 1.41.59.51 0 1.02-.2 1.41-.59l7.78-7.78 2.81-2.81c.8-.78.8-2.07 0-2.86zM5.41 20L4 18.59l7.72-7.72 1.47 1.35L5.41 20z\"/>\n",
              "  </svg>\n",
              "      </button>\n",
              "      \n",
              "  <style>\n",
              "    .colab-df-container {\n",
              "      display:flex;\n",
              "      flex-wrap:wrap;\n",
              "      gap: 12px;\n",
              "    }\n",
              "\n",
              "    .colab-df-convert {\n",
              "      background-color: #E8F0FE;\n",
              "      border: none;\n",
              "      border-radius: 50%;\n",
              "      cursor: pointer;\n",
              "      display: none;\n",
              "      fill: #1967D2;\n",
              "      height: 32px;\n",
              "      padding: 0 0 0 0;\n",
              "      width: 32px;\n",
              "    }\n",
              "\n",
              "    .colab-df-convert:hover {\n",
              "      background-color: #E2EBFA;\n",
              "      box-shadow: 0px 1px 2px rgba(60, 64, 67, 0.3), 0px 1px 3px 1px rgba(60, 64, 67, 0.15);\n",
              "      fill: #174EA6;\n",
              "    }\n",
              "\n",
              "    [theme=dark] .colab-df-convert {\n",
              "      background-color: #3B4455;\n",
              "      fill: #D2E3FC;\n",
              "    }\n",
              "\n",
              "    [theme=dark] .colab-df-convert:hover {\n",
              "      background-color: #434B5C;\n",
              "      box-shadow: 0px 1px 3px 1px rgba(0, 0, 0, 0.15);\n",
              "      filter: drop-shadow(0px 1px 2px rgba(0, 0, 0, 0.3));\n",
              "      fill: #FFFFFF;\n",
              "    }\n",
              "  </style>\n",
              "\n",
              "      <script>\n",
              "        const buttonEl =\n",
              "          document.querySelector('#df-e5b96f49-09f8-4858-a4e7-3e540b3ce190 button.colab-df-convert');\n",
              "        buttonEl.style.display =\n",
              "          google.colab.kernel.accessAllowed ? 'block' : 'none';\n",
              "\n",
              "        async function convertToInteractive(key) {\n",
              "          const element = document.querySelector('#df-e5b96f49-09f8-4858-a4e7-3e540b3ce190');\n",
              "          const dataTable =\n",
              "            await google.colab.kernel.invokeFunction('convertToInteractive',\n",
              "                                                     [key], {});\n",
              "          if (!dataTable) return;\n",
              "\n",
              "          const docLinkHtml = 'Like what you see? Visit the ' +\n",
              "            '<a target=\"_blank\" href=https://colab.research.google.com/notebooks/data_table.ipynb>data table notebook</a>'\n",
              "            + ' to learn more about interactive tables.';\n",
              "          element.innerHTML = '';\n",
              "          dataTable['output_type'] = 'display_data';\n",
              "          await google.colab.output.renderOutput(dataTable, element);\n",
              "          const docLink = document.createElement('div');\n",
              "          docLink.innerHTML = docLinkHtml;\n",
              "          element.appendChild(docLink);\n",
              "        }\n",
              "      </script>\n",
              "    </div>\n",
              "  </div>\n",
              "  "
            ]
          },
          "metadata": {},
          "execution_count": 43
        }
      ]
    },
    {
      "cell_type": "code",
      "source": [
        "import sys\n",
        "\n",
        "# Get the size of the DataFrame in bytes\n",
        "size_bytes = sys.getsizeof(df_clean)\n",
        "\n",
        "# Convert the size to megabytes\n",
        "size_mb = size_bytes / (1024 * 1024)\n",
        "\n",
        "# Print the size in MB\n",
        "print(f\"Size of tweets_df: {size_mb} MB\")\n"
      ],
      "metadata": {
        "colab": {
          "base_uri": "https://localhost:8080/"
        },
        "id": "Kg4xUTD-FWBO",
        "outputId": "dea9f2cd-407d-4217-8aec-8ed6da940fb4"
      },
      "execution_count": null,
      "outputs": [
        {
          "output_type": "stream",
          "name": "stdout",
          "text": [
            "Size of tweets_df: 138.81472206115723 MB\n"
          ]
        }
      ]
    },
    {
      "cell_type": "code",
      "source": [
        "# Check for unique values in the 'user_name' column\n",
        "unique_user_names = df_clean['user_name'].unique()\n",
        "\n",
        "# Check if all user names are unique\n",
        "if len(unique_user_names) == len(df_clean):\n",
        "    print(\"All user names are unique.\")\n",
        "else:\n",
        "    print(\"There are duplicate user names.\")\n",
        "# Check the number of unique values in the 'user_name' column\n",
        "num_unique_user_names = df_clean['user_name'].nunique()\n",
        "print(f\"The number of unique user names is: {num_unique_user_names}\")"
      ],
      "metadata": {
        "colab": {
          "base_uri": "https://localhost:8080/"
        },
        "id": "SyFVRQ4uBSv0",
        "outputId": "c77ee05c-44f6-4a9e-a049-38e4bdb244e6"
      },
      "execution_count": null,
      "outputs": [
        {
          "output_type": "stream",
          "name": "stdout",
          "text": [
            "There are duplicate user names.\n",
            "The number of unique user names is: 36054\n"
          ]
        }
      ]
    },
    {
      "cell_type": "code",
      "source": [
        "#Split dataframe and save it into multiple files"
      ],
      "metadata": {
        "id": "MADWbbPQBxc8"
      },
      "execution_count": null,
      "outputs": []
    },
    {
      "cell_type": "code",
      "source": [
        "date_column_format = df_clean['date'].dtypes\n",
        "\n",
        "print(f\"The format of the 'date' column is: {date_column_format}\")"
      ],
      "metadata": {
        "colab": {
          "base_uri": "https://localhost:8080/"
        },
        "id": "LU5QWsz2CcGT",
        "outputId": "1fc048ff-a6d8-4281-b9dd-4fc1642d4b86"
      },
      "execution_count": null,
      "outputs": [
        {
          "output_type": "stream",
          "name": "stdout",
          "text": [
            "The format of the 'date' column is: object\n"
          ]
        }
      ]
    },
    {
      "cell_type": "code",
      "source": [
        "#The purpose of dividing the DataFrame into smaller chunks and then merging them back together is to handle large datasets efficiently."
      ],
      "metadata": {
        "id": "Q-wsY_HI3o76"
      },
      "execution_count": null,
      "outputs": []
    },
    {
      "cell_type": "code",
      "source": [
        "\n",
        "import pandas as pd\n",
        "from datetime import datetime\n",
        "\n",
        "n = 20000  # chunk row size\n",
        "chunks_df = [df_clean[i:i+n] for i in range(0, df_clean.shape[0], n)]\n",
        "\n",
        "sep_char = '~'\n",
        "path = '/content'  # Specify the path where you want to save the CSV files\n",
        "\n",
        "# Concatenate all the chunked DataFrames into a single DataFrame\n",
        "concatenated_df = pd.concat(chunks_df)\n",
        "\n",
        "# Get the minimum and maximum dates from the concatenated DataFrame\n",
        "date_from = datetime.strptime(concatenated_df['date'].min(), '%Y-%m-%d %H:%M:%S').strftime('%Y-%m-%d %H:%M:%S')\n",
        "date_to = datetime.strptime(concatenated_df['date'].max(), '%Y-%m-%d %H:%M:%S').strftime('%Y-%m-%d %H:%M:%S')\n",
        "\n",
        "# Write the concatenated DataFrame into CSV\n",
        "concatenated_df.to_csv(f\"{path}/Chunk_{date_from}{sep_char}{date_to}.csv\", header=True, index=False)"
      ],
      "metadata": {
        "id": "rinxBB25DP4g"
      },
      "execution_count": null,
      "outputs": []
    },
    {
      "cell_type": "code",
      "source": [
        "import sys\n",
        "\n",
        "# Get the size of the DataFrame in bytes\n",
        "size_bytes = sys.getsizeof(concatenated_df)\n",
        "\n",
        "# Convert the size to megabytes\n",
        "size_mb = size_bytes / (1024 * 1024)\n",
        "\n",
        "# Print the size in MB\n",
        "print(f\"Size of tweets_df: {size_mb} MB\")\n"
      ],
      "metadata": {
        "colab": {
          "base_uri": "https://localhost:8080/"
        },
        "id": "Nt9qme_8Fge2",
        "outputId": "16da778d-4bec-499c-e136-a2b00b4bd6fe"
      },
      "execution_count": null,
      "outputs": [
        {
          "output_type": "stream",
          "name": "stdout",
          "text": [
            "Size of tweets_df: 138.81472206115723 MB\n"
          ]
        }
      ]
    },
    {
      "cell_type": "code",
      "source": [
        "concatenated_df.info()"
      ],
      "metadata": {
        "colab": {
          "base_uri": "https://localhost:8080/"
        },
        "id": "qM2SDVuVggd4",
        "outputId": "6583838b-9d11-4185-ccd7-5c37457a7aab"
      },
      "execution_count": null,
      "outputs": [
        {
          "output_type": "stream",
          "name": "stdout",
          "text": [
            "<class 'pandas.core.frame.DataFrame'>\n",
            "Int64Index: 167655 entries, 0 to 169760\n",
            "Data columns (total 15 columns):\n",
            " #   Column            Non-Null Count   Dtype  \n",
            "---  ------            --------------   -----  \n",
            " 0   user_name         167645 non-null  object \n",
            " 1   user_location     83351 non-null   object \n",
            " 2   user_description  157326 non-null  object \n",
            " 3   user_created      167655 non-null  object \n",
            " 4   user_followers    167655 non-null  float64\n",
            " 5   user_friends      167655 non-null  float64\n",
            " 6   user_favourites   167655 non-null  float64\n",
            " 7   user_verified     167655 non-null  bool   \n",
            " 8   date              167655 non-null  object \n",
            " 9   text              167655 non-null  object \n",
            " 10  hashtags          167145 non-null  object \n",
            " 11  source            167145 non-null  object \n",
            " 12  is_retweet        167145 non-null  float64\n",
            " 13  compound          167655 non-null  float64\n",
            " 14  score             167655 non-null  float64\n",
            "dtypes: bool(1), float64(6), object(8)\n",
            "memory usage: 19.3+ MB\n"
          ]
        }
      ]
    },
    {
      "cell_type": "code",
      "source": [
        "concatenated_df.head()"
      ],
      "metadata": {
        "colab": {
          "base_uri": "https://localhost:8080/",
          "height": 582
        },
        "id": "CwrFlUiH3sZD",
        "outputId": "c628c95c-4fef-498d-a110-7c91da612400"
      },
      "execution_count": null,
      "outputs": [
        {
          "output_type": "execute_result",
          "data": {
            "text/plain": [
              "            user_name  user_location  \\\n",
              "0                 Irk  Vancouver, WA   \n",
              "1         Xiang Zhang            NaN   \n",
              "2              Rhizoo            NaN   \n",
              "3        Hari Marquez  Las Vegas, NV   \n",
              "4  Bitcoin Candle Bot         Brazil   \n",
              "\n",
              "                                    user_description         user_created  \\\n",
              "0  Irk started investing in the stock market in 1...  2018-08-11 03:17:00   \n",
              "1  Professional Software Engineer ð»ðCrypto ...  2011-01-11 01:37:00   \n",
              "2  researcher. local maxima dunningâkruger spec...  2019-04-03 18:09:00   \n",
              "3  Donât trust, verify. #Bitcoin | El Salvador ...  2014-01-17 23:04:00   \n",
              "4  Robot that posts the closure of the bitcoin da...  2021-01-06 01:36:00   \n",
              "\n",
              "   user_followers  user_friends  user_favourites  user_verified  \\\n",
              "0           116.0           8.0           4580.0          False   \n",
              "1            42.0          22.0              5.0          False   \n",
              "2           778.0         627.0          32005.0          False   \n",
              "3           222.0         521.0          13052.0          False   \n",
              "4            40.0           4.0              1.0          False   \n",
              "\n",
              "                  date                                               text  \\\n",
              "0  2023-02-25 23:59:00  bitcoin btc rest crypto ye bitcoin cryptocurr ...   \n",
              "1  2023-02-25 23:59:00  retriev invest fund current ongo tidexcoin kic...   \n",
              "2  2023-02-25 23:59:00  bull save monthli thread today good shit bitco...   \n",
              "3  2023-02-25 23:59:00         el salvador shape futur bitcoin membvk32cn   \n",
              "4  2023-02-25 23:59:00  candl day 25022023 close open 2319406 high 232...   \n",
              "\n",
              "                                            hashtags              source  \\\n",
              "0            ['Bitcoin', 'crypto', 'NeedsMoreCrash']     Twitter Web App   \n",
              "1  ['Tidexcoin', 'Kicurrency', 'LMY', 'GMK', 'SYR...  Twitter for iPhone   \n",
              "2                                        ['bitcoin']     Twitter Web App   \n",
              "3                                        ['Bitcoin']     Twitter Web App   \n",
              "4                ['Bitcoin', 'Candle', 'BearMarket']  Bitcoin Candle Bot   \n",
              "\n",
              "   is_retweet  compound         score  \n",
              "0         0.0   -0.4019 -2.154092e+05  \n",
              "1         0.0    0.0000  0.000000e+00  \n",
              "2         0.0    0.3612  9.005682e+06  \n",
              "3         0.0    0.0000  0.000000e+00  \n",
              "4         0.0   -0.2732 -2.240240e+01  "
            ],
            "text/html": [
              "\n",
              "  <div id=\"df-58bda3fa-7fed-47fd-910b-9eb68fc0bfb8\">\n",
              "    <div class=\"colab-df-container\">\n",
              "      <div>\n",
              "<style scoped>\n",
              "    .dataframe tbody tr th:only-of-type {\n",
              "        vertical-align: middle;\n",
              "    }\n",
              "\n",
              "    .dataframe tbody tr th {\n",
              "        vertical-align: top;\n",
              "    }\n",
              "\n",
              "    .dataframe thead th {\n",
              "        text-align: right;\n",
              "    }\n",
              "</style>\n",
              "<table border=\"1\" class=\"dataframe\">\n",
              "  <thead>\n",
              "    <tr style=\"text-align: right;\">\n",
              "      <th></th>\n",
              "      <th>user_name</th>\n",
              "      <th>user_location</th>\n",
              "      <th>user_description</th>\n",
              "      <th>user_created</th>\n",
              "      <th>user_followers</th>\n",
              "      <th>user_friends</th>\n",
              "      <th>user_favourites</th>\n",
              "      <th>user_verified</th>\n",
              "      <th>date</th>\n",
              "      <th>text</th>\n",
              "      <th>hashtags</th>\n",
              "      <th>source</th>\n",
              "      <th>is_retweet</th>\n",
              "      <th>compound</th>\n",
              "      <th>score</th>\n",
              "    </tr>\n",
              "  </thead>\n",
              "  <tbody>\n",
              "    <tr>\n",
              "      <th>0</th>\n",
              "      <td>Irk</td>\n",
              "      <td>Vancouver, WA</td>\n",
              "      <td>Irk started investing in the stock market in 1...</td>\n",
              "      <td>2018-08-11 03:17:00</td>\n",
              "      <td>116.0</td>\n",
              "      <td>8.0</td>\n",
              "      <td>4580.0</td>\n",
              "      <td>False</td>\n",
              "      <td>2023-02-25 23:59:00</td>\n",
              "      <td>bitcoin btc rest crypto ye bitcoin cryptocurr ...</td>\n",
              "      <td>['Bitcoin', 'crypto', 'NeedsMoreCrash']</td>\n",
              "      <td>Twitter Web App</td>\n",
              "      <td>0.0</td>\n",
              "      <td>-0.4019</td>\n",
              "      <td>-2.154092e+05</td>\n",
              "    </tr>\n",
              "    <tr>\n",
              "      <th>1</th>\n",
              "      <td>Xiang Zhang</td>\n",
              "      <td>NaN</td>\n",
              "      <td>Professional Software Engineer ð»ðCrypto ...</td>\n",
              "      <td>2011-01-11 01:37:00</td>\n",
              "      <td>42.0</td>\n",
              "      <td>22.0</td>\n",
              "      <td>5.0</td>\n",
              "      <td>False</td>\n",
              "      <td>2023-02-25 23:59:00</td>\n",
              "      <td>retriev invest fund current ongo tidexcoin kic...</td>\n",
              "      <td>['Tidexcoin', 'Kicurrency', 'LMY', 'GMK', 'SYR...</td>\n",
              "      <td>Twitter for iPhone</td>\n",
              "      <td>0.0</td>\n",
              "      <td>0.0000</td>\n",
              "      <td>0.000000e+00</td>\n",
              "    </tr>\n",
              "    <tr>\n",
              "      <th>2</th>\n",
              "      <td>Rhizoo</td>\n",
              "      <td>NaN</td>\n",
              "      <td>researcher. local maxima dunningâkruger spec...</td>\n",
              "      <td>2019-04-03 18:09:00</td>\n",
              "      <td>778.0</td>\n",
              "      <td>627.0</td>\n",
              "      <td>32005.0</td>\n",
              "      <td>False</td>\n",
              "      <td>2023-02-25 23:59:00</td>\n",
              "      <td>bull save monthli thread today good shit bitco...</td>\n",
              "      <td>['bitcoin']</td>\n",
              "      <td>Twitter Web App</td>\n",
              "      <td>0.0</td>\n",
              "      <td>0.3612</td>\n",
              "      <td>9.005682e+06</td>\n",
              "    </tr>\n",
              "    <tr>\n",
              "      <th>3</th>\n",
              "      <td>Hari Marquez</td>\n",
              "      <td>Las Vegas, NV</td>\n",
              "      <td>Donât trust, verify. #Bitcoin | El Salvador ...</td>\n",
              "      <td>2014-01-17 23:04:00</td>\n",
              "      <td>222.0</td>\n",
              "      <td>521.0</td>\n",
              "      <td>13052.0</td>\n",
              "      <td>False</td>\n",
              "      <td>2023-02-25 23:59:00</td>\n",
              "      <td>el salvador shape futur bitcoin membvk32cn</td>\n",
              "      <td>['Bitcoin']</td>\n",
              "      <td>Twitter Web App</td>\n",
              "      <td>0.0</td>\n",
              "      <td>0.0000</td>\n",
              "      <td>0.000000e+00</td>\n",
              "    </tr>\n",
              "    <tr>\n",
              "      <th>4</th>\n",
              "      <td>Bitcoin Candle Bot</td>\n",
              "      <td>Brazil</td>\n",
              "      <td>Robot that posts the closure of the bitcoin da...</td>\n",
              "      <td>2021-01-06 01:36:00</td>\n",
              "      <td>40.0</td>\n",
              "      <td>4.0</td>\n",
              "      <td>1.0</td>\n",
              "      <td>False</td>\n",
              "      <td>2023-02-25 23:59:00</td>\n",
              "      <td>candl day 25022023 close open 2319406 high 232...</td>\n",
              "      <td>['Bitcoin', 'Candle', 'BearMarket']</td>\n",
              "      <td>Bitcoin Candle Bot</td>\n",
              "      <td>0.0</td>\n",
              "      <td>-0.2732</td>\n",
              "      <td>-2.240240e+01</td>\n",
              "    </tr>\n",
              "  </tbody>\n",
              "</table>\n",
              "</div>\n",
              "      <button class=\"colab-df-convert\" onclick=\"convertToInteractive('df-58bda3fa-7fed-47fd-910b-9eb68fc0bfb8')\"\n",
              "              title=\"Convert this dataframe to an interactive table.\"\n",
              "              style=\"display:none;\">\n",
              "        \n",
              "  <svg xmlns=\"http://www.w3.org/2000/svg\" height=\"24px\"viewBox=\"0 0 24 24\"\n",
              "       width=\"24px\">\n",
              "    <path d=\"M0 0h24v24H0V0z\" fill=\"none\"/>\n",
              "    <path d=\"M18.56 5.44l.94 2.06.94-2.06 2.06-.94-2.06-.94-.94-2.06-.94 2.06-2.06.94zm-11 1L8.5 8.5l.94-2.06 2.06-.94-2.06-.94L8.5 2.5l-.94 2.06-2.06.94zm10 10l.94 2.06.94-2.06 2.06-.94-2.06-.94-.94-2.06-.94 2.06-2.06.94z\"/><path d=\"M17.41 7.96l-1.37-1.37c-.4-.4-.92-.59-1.43-.59-.52 0-1.04.2-1.43.59L10.3 9.45l-7.72 7.72c-.78.78-.78 2.05 0 2.83L4 21.41c.39.39.9.59 1.41.59.51 0 1.02-.2 1.41-.59l7.78-7.78 2.81-2.81c.8-.78.8-2.07 0-2.86zM5.41 20L4 18.59l7.72-7.72 1.47 1.35L5.41 20z\"/>\n",
              "  </svg>\n",
              "      </button>\n",
              "      \n",
              "  <style>\n",
              "    .colab-df-container {\n",
              "      display:flex;\n",
              "      flex-wrap:wrap;\n",
              "      gap: 12px;\n",
              "    }\n",
              "\n",
              "    .colab-df-convert {\n",
              "      background-color: #E8F0FE;\n",
              "      border: none;\n",
              "      border-radius: 50%;\n",
              "      cursor: pointer;\n",
              "      display: none;\n",
              "      fill: #1967D2;\n",
              "      height: 32px;\n",
              "      padding: 0 0 0 0;\n",
              "      width: 32px;\n",
              "    }\n",
              "\n",
              "    .colab-df-convert:hover {\n",
              "      background-color: #E2EBFA;\n",
              "      box-shadow: 0px 1px 2px rgba(60, 64, 67, 0.3), 0px 1px 3px 1px rgba(60, 64, 67, 0.15);\n",
              "      fill: #174EA6;\n",
              "    }\n",
              "\n",
              "    [theme=dark] .colab-df-convert {\n",
              "      background-color: #3B4455;\n",
              "      fill: #D2E3FC;\n",
              "    }\n",
              "\n",
              "    [theme=dark] .colab-df-convert:hover {\n",
              "      background-color: #434B5C;\n",
              "      box-shadow: 0px 1px 3px 1px rgba(0, 0, 0, 0.15);\n",
              "      filter: drop-shadow(0px 1px 2px rgba(0, 0, 0, 0.3));\n",
              "      fill: #FFFFFF;\n",
              "    }\n",
              "  </style>\n",
              "\n",
              "      <script>\n",
              "        const buttonEl =\n",
              "          document.querySelector('#df-58bda3fa-7fed-47fd-910b-9eb68fc0bfb8 button.colab-df-convert');\n",
              "        buttonEl.style.display =\n",
              "          google.colab.kernel.accessAllowed ? 'block' : 'none';\n",
              "\n",
              "        async function convertToInteractive(key) {\n",
              "          const element = document.querySelector('#df-58bda3fa-7fed-47fd-910b-9eb68fc0bfb8');\n",
              "          const dataTable =\n",
              "            await google.colab.kernel.invokeFunction('convertToInteractive',\n",
              "                                                     [key], {});\n",
              "          if (!dataTable) return;\n",
              "\n",
              "          const docLinkHtml = 'Like what you see? Visit the ' +\n",
              "            '<a target=\"_blank\" href=https://colab.research.google.com/notebooks/data_table.ipynb>data table notebook</a>'\n",
              "            + ' to learn more about interactive tables.';\n",
              "          element.innerHTML = '';\n",
              "          dataTable['output_type'] = 'display_data';\n",
              "          await google.colab.output.renderOutput(dataTable, element);\n",
              "          const docLink = document.createElement('div');\n",
              "          docLink.innerHTML = docLinkHtml;\n",
              "          element.appendChild(docLink);\n",
              "        }\n",
              "      </script>\n",
              "    </div>\n",
              "  </div>\n",
              "  "
            ]
          },
          "metadata": {},
          "execution_count": 52
        }
      ]
    },
    {
      "cell_type": "code",
      "source": [
        "#Sentiment Level"
      ],
      "metadata": {
        "id": "Y8vSwFcqOjGx"
      },
      "execution_count": null,
      "outputs": []
    },
    {
      "cell_type": "code",
      "source": [
        "#The compound score represents the overall sentiment intensity of the text, taking into account the positive, negative, and neutral scores."
      ],
      "metadata": {
        "id": "b6A-HCUTOzwD"
      },
      "execution_count": null,
      "outputs": []
    },
    {
      "cell_type": "code",
      "source": [
        "import nltk\n",
        "nltk.download('vader_lexicon')\n",
        "from nltk.sentiment import SentimentIntensityAnalyzer\n",
        "import pandas as pd\n",
        "import numpy as np\n",
        "\n",
        "# Initialize VADER sentiment analyzer\n",
        "sia = SentimentIntensityAnalyzer()\n",
        "\n",
        "# Calculate compound scores\n",
        "concatenated_df['compound'] = concatenated_df['text'].apply(lambda x: sia.polarity_scores(x)['compound'])\n",
        "\n",
        "# Find the range of compound values\n",
        "compound_min = concatenated_df['compound'].min()\n",
        "compound_max = concatenated_df['compound'].max()\n",
        "\n",
        "# Define custom bin edges based on quantiles\n",
        "bin_edges = np.linspace(compound_min, compound_max, num=6)  # Adjust the 'num' parameter as needed\n",
        "\n",
        "# Define labels\n",
        "labels = ['Extreme Negative', 'Negative', 'Neutral', 'Positive', 'Extreme Positive']\n",
        "\n",
        "# Assign sentiment levels based on custom bins\n",
        "concatenated_df['sentiment_level'] = pd.cut(concatenated_df['compound'], bins=bin_edges, labels=labels, include_lowest=True)\n",
        "\n",
        "# Save the updated dataframe as a new CSV file\n",
        "concatenated_df.to_csv('updated_sentiment_data.csv', index=False)\n"
      ],
      "metadata": {
        "colab": {
          "base_uri": "https://localhost:8080/"
        },
        "id": "JVh8Ai4uWnA9",
        "outputId": "9c313166-8424-46dc-f551-bf209bb560f5"
      },
      "execution_count": null,
      "outputs": [
        {
          "output_type": "stream",
          "name": "stderr",
          "text": [
            "[nltk_data] Downloading package vader_lexicon to /root/nltk_data...\n"
          ]
        }
      ]
    },
    {
      "cell_type": "code",
      "source": [
        "concatenated_df_2 = pd.read_csv(\"updated_sentiment_data.csv\")\n",
        "concatenated_df_2.head()"
      ],
      "metadata": {
        "colab": {
          "base_uri": "https://localhost:8080/",
          "height": 582
        },
        "id": "mbKbX-nAXRNc",
        "outputId": "81af942c-1191-42cd-f987-0699114401fe"
      },
      "execution_count": null,
      "outputs": [
        {
          "output_type": "execute_result",
          "data": {
            "text/plain": [
              "            user_name  user_location  \\\n",
              "0                 Irk  Vancouver, WA   \n",
              "1         Xiang Zhang            NaN   \n",
              "2              Rhizoo            NaN   \n",
              "3        Hari Marquez  Las Vegas, NV   \n",
              "4  Bitcoin Candle Bot         Brazil   \n",
              "\n",
              "                                    user_description         user_created  \\\n",
              "0  Irk started investing in the stock market in 1...  2018-08-11 03:17:00   \n",
              "1  Professional Software Engineer ð»ðCrypto ...  2011-01-11 01:37:00   \n",
              "2  researcher. local maxima dunningâkruger spec...  2019-04-03 18:09:00   \n",
              "3  Donât trust, verify. #Bitcoin | El Salvador ...  2014-01-17 23:04:00   \n",
              "4  Robot that posts the closure of the bitcoin da...  2021-01-06 01:36:00   \n",
              "\n",
              "   user_followers  user_friends  user_favourites  user_verified  \\\n",
              "0           116.0           8.0           4580.0          False   \n",
              "1            42.0          22.0              5.0          False   \n",
              "2           778.0         627.0          32005.0          False   \n",
              "3           222.0         521.0          13052.0          False   \n",
              "4            40.0           4.0              1.0          False   \n",
              "\n",
              "                  date                                               text  \\\n",
              "0  2023-02-25 23:59:00  bitcoin btc rest crypto ye bitcoin cryptocurr ...   \n",
              "1  2023-02-25 23:59:00  retriev invest fund current ongo tidexcoin kic...   \n",
              "2  2023-02-25 23:59:00  bull save monthli thread today good shit bitco...   \n",
              "3  2023-02-25 23:59:00         el salvador shape futur bitcoin membvk32cn   \n",
              "4  2023-02-25 23:59:00  candl day 25022023 close open 2319406 high 232...   \n",
              "\n",
              "                                            hashtags              source  \\\n",
              "0            ['Bitcoin', 'crypto', 'NeedsMoreCrash']     Twitter Web App   \n",
              "1  ['Tidexcoin', 'Kicurrency', 'LMY', 'GMK', 'SYR...  Twitter for iPhone   \n",
              "2                                        ['bitcoin']     Twitter Web App   \n",
              "3                                        ['Bitcoin']     Twitter Web App   \n",
              "4                ['Bitcoin', 'Candle', 'BearMarket']  Bitcoin Candle Bot   \n",
              "\n",
              "   is_retweet  compound         score sentiment_level  \n",
              "0         0.0   -0.4019 -2.154092e+05        Negative  \n",
              "1         0.0    0.0000  0.000000e+00         Neutral  \n",
              "2         0.0    0.3612  9.005682e+06        Positive  \n",
              "3         0.0    0.0000  0.000000e+00         Neutral  \n",
              "4         0.0   -0.2732 -2.240240e+01        Negative  "
            ],
            "text/html": [
              "\n",
              "  <div id=\"df-5693c0b7-8358-478a-971a-f56d7f0eabe0\">\n",
              "    <div class=\"colab-df-container\">\n",
              "      <div>\n",
              "<style scoped>\n",
              "    .dataframe tbody tr th:only-of-type {\n",
              "        vertical-align: middle;\n",
              "    }\n",
              "\n",
              "    .dataframe tbody tr th {\n",
              "        vertical-align: top;\n",
              "    }\n",
              "\n",
              "    .dataframe thead th {\n",
              "        text-align: right;\n",
              "    }\n",
              "</style>\n",
              "<table border=\"1\" class=\"dataframe\">\n",
              "  <thead>\n",
              "    <tr style=\"text-align: right;\">\n",
              "      <th></th>\n",
              "      <th>user_name</th>\n",
              "      <th>user_location</th>\n",
              "      <th>user_description</th>\n",
              "      <th>user_created</th>\n",
              "      <th>user_followers</th>\n",
              "      <th>user_friends</th>\n",
              "      <th>user_favourites</th>\n",
              "      <th>user_verified</th>\n",
              "      <th>date</th>\n",
              "      <th>text</th>\n",
              "      <th>hashtags</th>\n",
              "      <th>source</th>\n",
              "      <th>is_retweet</th>\n",
              "      <th>compound</th>\n",
              "      <th>score</th>\n",
              "      <th>sentiment_level</th>\n",
              "    </tr>\n",
              "  </thead>\n",
              "  <tbody>\n",
              "    <tr>\n",
              "      <th>0</th>\n",
              "      <td>Irk</td>\n",
              "      <td>Vancouver, WA</td>\n",
              "      <td>Irk started investing in the stock market in 1...</td>\n",
              "      <td>2018-08-11 03:17:00</td>\n",
              "      <td>116.0</td>\n",
              "      <td>8.0</td>\n",
              "      <td>4580.0</td>\n",
              "      <td>False</td>\n",
              "      <td>2023-02-25 23:59:00</td>\n",
              "      <td>bitcoin btc rest crypto ye bitcoin cryptocurr ...</td>\n",
              "      <td>['Bitcoin', 'crypto', 'NeedsMoreCrash']</td>\n",
              "      <td>Twitter Web App</td>\n",
              "      <td>0.0</td>\n",
              "      <td>-0.4019</td>\n",
              "      <td>-2.154092e+05</td>\n",
              "      <td>Negative</td>\n",
              "    </tr>\n",
              "    <tr>\n",
              "      <th>1</th>\n",
              "      <td>Xiang Zhang</td>\n",
              "      <td>NaN</td>\n",
              "      <td>Professional Software Engineer ð»ðCrypto ...</td>\n",
              "      <td>2011-01-11 01:37:00</td>\n",
              "      <td>42.0</td>\n",
              "      <td>22.0</td>\n",
              "      <td>5.0</td>\n",
              "      <td>False</td>\n",
              "      <td>2023-02-25 23:59:00</td>\n",
              "      <td>retriev invest fund current ongo tidexcoin kic...</td>\n",
              "      <td>['Tidexcoin', 'Kicurrency', 'LMY', 'GMK', 'SYR...</td>\n",
              "      <td>Twitter for iPhone</td>\n",
              "      <td>0.0</td>\n",
              "      <td>0.0000</td>\n",
              "      <td>0.000000e+00</td>\n",
              "      <td>Neutral</td>\n",
              "    </tr>\n",
              "    <tr>\n",
              "      <th>2</th>\n",
              "      <td>Rhizoo</td>\n",
              "      <td>NaN</td>\n",
              "      <td>researcher. local maxima dunningâkruger spec...</td>\n",
              "      <td>2019-04-03 18:09:00</td>\n",
              "      <td>778.0</td>\n",
              "      <td>627.0</td>\n",
              "      <td>32005.0</td>\n",
              "      <td>False</td>\n",
              "      <td>2023-02-25 23:59:00</td>\n",
              "      <td>bull save monthli thread today good shit bitco...</td>\n",
              "      <td>['bitcoin']</td>\n",
              "      <td>Twitter Web App</td>\n",
              "      <td>0.0</td>\n",
              "      <td>0.3612</td>\n",
              "      <td>9.005682e+06</td>\n",
              "      <td>Positive</td>\n",
              "    </tr>\n",
              "    <tr>\n",
              "      <th>3</th>\n",
              "      <td>Hari Marquez</td>\n",
              "      <td>Las Vegas, NV</td>\n",
              "      <td>Donât trust, verify. #Bitcoin | El Salvador ...</td>\n",
              "      <td>2014-01-17 23:04:00</td>\n",
              "      <td>222.0</td>\n",
              "      <td>521.0</td>\n",
              "      <td>13052.0</td>\n",
              "      <td>False</td>\n",
              "      <td>2023-02-25 23:59:00</td>\n",
              "      <td>el salvador shape futur bitcoin membvk32cn</td>\n",
              "      <td>['Bitcoin']</td>\n",
              "      <td>Twitter Web App</td>\n",
              "      <td>0.0</td>\n",
              "      <td>0.0000</td>\n",
              "      <td>0.000000e+00</td>\n",
              "      <td>Neutral</td>\n",
              "    </tr>\n",
              "    <tr>\n",
              "      <th>4</th>\n",
              "      <td>Bitcoin Candle Bot</td>\n",
              "      <td>Brazil</td>\n",
              "      <td>Robot that posts the closure of the bitcoin da...</td>\n",
              "      <td>2021-01-06 01:36:00</td>\n",
              "      <td>40.0</td>\n",
              "      <td>4.0</td>\n",
              "      <td>1.0</td>\n",
              "      <td>False</td>\n",
              "      <td>2023-02-25 23:59:00</td>\n",
              "      <td>candl day 25022023 close open 2319406 high 232...</td>\n",
              "      <td>['Bitcoin', 'Candle', 'BearMarket']</td>\n",
              "      <td>Bitcoin Candle Bot</td>\n",
              "      <td>0.0</td>\n",
              "      <td>-0.2732</td>\n",
              "      <td>-2.240240e+01</td>\n",
              "      <td>Negative</td>\n",
              "    </tr>\n",
              "  </tbody>\n",
              "</table>\n",
              "</div>\n",
              "      <button class=\"colab-df-convert\" onclick=\"convertToInteractive('df-5693c0b7-8358-478a-971a-f56d7f0eabe0')\"\n",
              "              title=\"Convert this dataframe to an interactive table.\"\n",
              "              style=\"display:none;\">\n",
              "        \n",
              "  <svg xmlns=\"http://www.w3.org/2000/svg\" height=\"24px\"viewBox=\"0 0 24 24\"\n",
              "       width=\"24px\">\n",
              "    <path d=\"M0 0h24v24H0V0z\" fill=\"none\"/>\n",
              "    <path d=\"M18.56 5.44l.94 2.06.94-2.06 2.06-.94-2.06-.94-.94-2.06-.94 2.06-2.06.94zm-11 1L8.5 8.5l.94-2.06 2.06-.94-2.06-.94L8.5 2.5l-.94 2.06-2.06.94zm10 10l.94 2.06.94-2.06 2.06-.94-2.06-.94-.94-2.06-.94 2.06-2.06.94z\"/><path d=\"M17.41 7.96l-1.37-1.37c-.4-.4-.92-.59-1.43-.59-.52 0-1.04.2-1.43.59L10.3 9.45l-7.72 7.72c-.78.78-.78 2.05 0 2.83L4 21.41c.39.39.9.59 1.41.59.51 0 1.02-.2 1.41-.59l7.78-7.78 2.81-2.81c.8-.78.8-2.07 0-2.86zM5.41 20L4 18.59l7.72-7.72 1.47 1.35L5.41 20z\"/>\n",
              "  </svg>\n",
              "      </button>\n",
              "      \n",
              "  <style>\n",
              "    .colab-df-container {\n",
              "      display:flex;\n",
              "      flex-wrap:wrap;\n",
              "      gap: 12px;\n",
              "    }\n",
              "\n",
              "    .colab-df-convert {\n",
              "      background-color: #E8F0FE;\n",
              "      border: none;\n",
              "      border-radius: 50%;\n",
              "      cursor: pointer;\n",
              "      display: none;\n",
              "      fill: #1967D2;\n",
              "      height: 32px;\n",
              "      padding: 0 0 0 0;\n",
              "      width: 32px;\n",
              "    }\n",
              "\n",
              "    .colab-df-convert:hover {\n",
              "      background-color: #E2EBFA;\n",
              "      box-shadow: 0px 1px 2px rgba(60, 64, 67, 0.3), 0px 1px 3px 1px rgba(60, 64, 67, 0.15);\n",
              "      fill: #174EA6;\n",
              "    }\n",
              "\n",
              "    [theme=dark] .colab-df-convert {\n",
              "      background-color: #3B4455;\n",
              "      fill: #D2E3FC;\n",
              "    }\n",
              "\n",
              "    [theme=dark] .colab-df-convert:hover {\n",
              "      background-color: #434B5C;\n",
              "      box-shadow: 0px 1px 3px 1px rgba(0, 0, 0, 0.15);\n",
              "      filter: drop-shadow(0px 1px 2px rgba(0, 0, 0, 0.3));\n",
              "      fill: #FFFFFF;\n",
              "    }\n",
              "  </style>\n",
              "\n",
              "      <script>\n",
              "        const buttonEl =\n",
              "          document.querySelector('#df-5693c0b7-8358-478a-971a-f56d7f0eabe0 button.colab-df-convert');\n",
              "        buttonEl.style.display =\n",
              "          google.colab.kernel.accessAllowed ? 'block' : 'none';\n",
              "\n",
              "        async function convertToInteractive(key) {\n",
              "          const element = document.querySelector('#df-5693c0b7-8358-478a-971a-f56d7f0eabe0');\n",
              "          const dataTable =\n",
              "            await google.colab.kernel.invokeFunction('convertToInteractive',\n",
              "                                                     [key], {});\n",
              "          if (!dataTable) return;\n",
              "\n",
              "          const docLinkHtml = 'Like what you see? Visit the ' +\n",
              "            '<a target=\"_blank\" href=https://colab.research.google.com/notebooks/data_table.ipynb>data table notebook</a>'\n",
              "            + ' to learn more about interactive tables.';\n",
              "          element.innerHTML = '';\n",
              "          dataTable['output_type'] = 'display_data';\n",
              "          await google.colab.output.renderOutput(dataTable, element);\n",
              "          const docLink = document.createElement('div');\n",
              "          docLink.innerHTML = docLinkHtml;\n",
              "          element.appendChild(docLink);\n",
              "        }\n",
              "      </script>\n",
              "    </div>\n",
              "  </div>\n",
              "  "
            ]
          },
          "metadata": {},
          "execution_count": 56
        }
      ]
    },
    {
      "cell_type": "code",
      "source": [
        "print(concatenated_df_2.columns)"
      ],
      "metadata": {
        "colab": {
          "base_uri": "https://localhost:8080/"
        },
        "id": "Mgz1pniUX59C",
        "outputId": "a6b4ccbf-916b-44ff-94a4-dbadfdae7323"
      },
      "execution_count": null,
      "outputs": [
        {
          "output_type": "stream",
          "name": "stdout",
          "text": [
            "Index(['user_name', 'user_location', 'user_description', 'user_created',\n",
            "       'user_followers', 'user_friends', 'user_favourites', 'user_verified',\n",
            "       'date', 'text', 'hashtags', 'source', 'is_retweet', 'compound', 'score',\n",
            "       'sentiment_level'],\n",
            "      dtype='object')\n"
          ]
        }
      ]
    },
    {
      "cell_type": "code",
      "source": [
        "label_counts = concatenated_df_2['sentiment_level'].value_counts()\n",
        "print(label_counts)"
      ],
      "metadata": {
        "colab": {
          "base_uri": "https://localhost:8080/"
        },
        "id": "9lGkJAxpYKex",
        "outputId": "9100dded-097f-4721-f007-6eb60ae6426a"
      },
      "execution_count": null,
      "outputs": [
        {
          "output_type": "stream",
          "name": "stdout",
          "text": [
            "Neutral             93170\n",
            "Positive            35921\n",
            "Extreme Positive    17344\n",
            "Negative            15904\n",
            "Extreme Negative     5316\n",
            "Name: sentiment_level, dtype: int64\n"
          ]
        }
      ]
    },
    {
      "cell_type": "code",
      "source": [
        "import sys\n",
        "\n",
        "# Get the size of the DataFrame in bytes\n",
        "size_bytes = sys.getsizeof(concatenated_df_2)\n",
        "\n",
        "# Convert the size to megabytes\n",
        "size_mb = size_bytes / (1024 * 1024)\n",
        "\n",
        "# Print the size in MB\n",
        "print(f\"Size of tweets_df: {size_mb} MB\")\n"
      ],
      "metadata": {
        "colab": {
          "base_uri": "https://localhost:8080/"
        },
        "id": "5HwIUjv_Fq-P",
        "outputId": "78eefceb-fa20-49f8-af13-5ca53c661670"
      },
      "execution_count": null,
      "outputs": [
        {
          "output_type": "stream",
          "name": "stdout",
          "text": [
            "Size of tweets_df: 148.0125036239624 MB\n"
          ]
        }
      ]
    },
    {
      "cell_type": "markdown",
      "source": [
        "#Sentiment Analysis with TextBlob"
      ],
      "metadata": {
        "id": "1QH_zYFTOsyl"
      }
    },
    {
      "cell_type": "code",
      "source": [
        "#Calculate Polarity and Subjectivity"
      ],
      "metadata": {
        "id": "OCBC6-Ye9OaK"
      },
      "execution_count": null,
      "outputs": []
    },
    {
      "cell_type": "code",
      "source": [
        "import pandas as pd\n",
        "from textblob import TextBlob\n",
        "\n",
        "\n",
        "polarity = []\n",
        "subjectivity = []\n",
        "\n",
        "# Perform sentiment analysis on each tweet\n",
        "for tweet in concatenated_df_2['text']:\n",
        "    try:\n",
        "        analysis = TextBlob(tweet)\n",
        "        polarity.append(analysis.sentiment.polarity)\n",
        "        subjectivity.append(analysis.sentiment.subjectivity)\n",
        "    except:\n",
        "        polarity.append(0)\n",
        "        subjectivity.append(0)\n",
        "\n",
        "# Add sentiment polarity and subjectivity columns to the dataframe\n",
        "concatenated_df_2['polarity'] = polarity\n",
        "concatenated_df_2['subjectivity'] = subjectivity\n",
        "\n",
        "# Display the updated dataframe\n",
        "print(concatenated_df_2.head())\n"
      ],
      "metadata": {
        "colab": {
          "base_uri": "https://localhost:8080/"
        },
        "id": "d44OzgpXOpTz",
        "outputId": "1d3a1f1e-c195-4870-a3e1-2254200b2050"
      },
      "execution_count": null,
      "outputs": [
        {
          "output_type": "stream",
          "name": "stdout",
          "text": [
            "            user_name  user_location  \\\n",
            "0                 Irk  Vancouver, WA   \n",
            "1         Xiang Zhang            NaN   \n",
            "2              Rhizoo            NaN   \n",
            "3        Hari Marquez  Las Vegas, NV   \n",
            "4  Bitcoin Candle Bot         Brazil   \n",
            "\n",
            "                                    user_description         user_created  \\\n",
            "0  Irk started investing in the stock market in 1...  2018-08-11 03:17:00   \n",
            "1  Professional Software Engineer ð»ðCrypto ...  2011-01-11 01:37:00   \n",
            "2  researcher. local maxima dunningâkruger spec...  2019-04-03 18:09:00   \n",
            "3  Donât trust, verify. #Bitcoin | El Salvador ...  2014-01-17 23:04:00   \n",
            "4  Robot that posts the closure of the bitcoin da...  2021-01-06 01:36:00   \n",
            "\n",
            "   user_followers  user_friends  user_favourites  user_verified  \\\n",
            "0           116.0           8.0           4580.0          False   \n",
            "1            42.0          22.0              5.0          False   \n",
            "2           778.0         627.0          32005.0          False   \n",
            "3           222.0         521.0          13052.0          False   \n",
            "4            40.0           4.0              1.0          False   \n",
            "\n",
            "                  date                                               text  \\\n",
            "0  2023-02-25 23:59:00  bitcoin btc rest crypto ye bitcoin cryptocurr ...   \n",
            "1  2023-02-25 23:59:00  retriev invest fund current ongo tidexcoin kic...   \n",
            "2  2023-02-25 23:59:00  bull save monthli thread today good shit bitco...   \n",
            "3  2023-02-25 23:59:00         el salvador shape futur bitcoin membvk32cn   \n",
            "4  2023-02-25 23:59:00  candl day 25022023 close open 2319406 high 232...   \n",
            "\n",
            "                                            hashtags              source  \\\n",
            "0            ['Bitcoin', 'crypto', 'NeedsMoreCrash']     Twitter Web App   \n",
            "1  ['Tidexcoin', 'Kicurrency', 'LMY', 'GMK', 'SYR...  Twitter for iPhone   \n",
            "2                                        ['bitcoin']     Twitter Web App   \n",
            "3                                        ['Bitcoin']     Twitter Web App   \n",
            "4                ['Bitcoin', 'Candle', 'BearMarket']  Bitcoin Candle Bot   \n",
            "\n",
            "   is_retweet  compound         score sentiment_level  polarity  subjectivity  \n",
            "0         0.0   -0.4019 -2.154092e+05        Negative  0.000000      0.000000  \n",
            "1         0.0    0.0000  0.000000e+00         Neutral  0.000000      0.400000  \n",
            "2         0.0    0.3612  9.005682e+06        Positive  0.250000      0.700000  \n",
            "3         0.0    0.0000  0.000000e+00         Neutral  0.000000      0.000000  \n",
            "4         0.0   -0.2732 -2.240240e+01        Negative  0.053333      0.446667  \n"
          ]
        }
      ]
    },
    {
      "cell_type": "code",
      "source": [
        "concatenated_df_2.to_csv('BitcoinPriceTweets.csv', index=False)\n"
      ],
      "metadata": {
        "id": "uwMH8T2HGmu5"
      },
      "execution_count": null,
      "outputs": []
    },
    {
      "cell_type": "markdown",
      "source": [
        "#Data For Further Analysis"
      ],
      "metadata": {
        "id": "mvliKcB54Jzm"
      }
    },
    {
      "cell_type": "code",
      "source": [
        "import pandas as pd\n",
        "\n",
        "# Assuming you have a DataFrame named crypto_usd\n",
        "\n",
        "# Save the DataFrame as CSV\n",
        "crypto_usd = pd.read_csv('BitcoinPrice.csv')\n",
        "\n"
      ],
      "metadata": {
        "id": "KKinijuAPSOj"
      },
      "execution_count": null,
      "outputs": []
    },
    {
      "cell_type": "code",
      "source": [
        "#Crypto - Bitcoin\n",
        "crypto_usd.head(2)\n"
      ],
      "metadata": {
        "colab": {
          "base_uri": "https://localhost:8080/",
          "height": 225
        },
        "id": "whzMLCoM4M21",
        "outputId": "fd103e1c-52b0-4f5b-d499-6a1bd1256a98"
      },
      "execution_count": null,
      "outputs": [
        {
          "output_type": "execute_result",
          "data": {
            "text/plain": [
              "                  time     close      high       low      open  volumefrom  \\\n",
              "0  2023-02-19 13:00:00  24682.03  24715.82  24682.03  24707.39      903.97   \n",
              "1  2023-02-19 14:00:00  24765.79  24792.85  24679.21  24682.03     1220.29   \n",
              "\n",
              "      volumeto        Date      Time       volume     marketcap  price_delta  \n",
              "0  22335943.28  2023-02-19  13:00:00  22335039.31  5.512964e+11          NaN  \n",
              "1  30203001.55  2023-02-19  14:00:00  30201781.26  7.480012e+11        83.76  "
            ],
            "text/html": [
              "\n",
              "  <div id=\"df-0189f612-13d9-4d9b-b490-f937acbfdf88\">\n",
              "    <div class=\"colab-df-container\">\n",
              "      <div>\n",
              "<style scoped>\n",
              "    .dataframe tbody tr th:only-of-type {\n",
              "        vertical-align: middle;\n",
              "    }\n",
              "\n",
              "    .dataframe tbody tr th {\n",
              "        vertical-align: top;\n",
              "    }\n",
              "\n",
              "    .dataframe thead th {\n",
              "        text-align: right;\n",
              "    }\n",
              "</style>\n",
              "<table border=\"1\" class=\"dataframe\">\n",
              "  <thead>\n",
              "    <tr style=\"text-align: right;\">\n",
              "      <th></th>\n",
              "      <th>time</th>\n",
              "      <th>close</th>\n",
              "      <th>high</th>\n",
              "      <th>low</th>\n",
              "      <th>open</th>\n",
              "      <th>volumefrom</th>\n",
              "      <th>volumeto</th>\n",
              "      <th>Date</th>\n",
              "      <th>Time</th>\n",
              "      <th>volume</th>\n",
              "      <th>marketcap</th>\n",
              "      <th>price_delta</th>\n",
              "    </tr>\n",
              "  </thead>\n",
              "  <tbody>\n",
              "    <tr>\n",
              "      <th>0</th>\n",
              "      <td>2023-02-19 13:00:00</td>\n",
              "      <td>24682.03</td>\n",
              "      <td>24715.82</td>\n",
              "      <td>24682.03</td>\n",
              "      <td>24707.39</td>\n",
              "      <td>903.97</td>\n",
              "      <td>22335943.28</td>\n",
              "      <td>2023-02-19</td>\n",
              "      <td>13:00:00</td>\n",
              "      <td>22335039.31</td>\n",
              "      <td>5.512964e+11</td>\n",
              "      <td>NaN</td>\n",
              "    </tr>\n",
              "    <tr>\n",
              "      <th>1</th>\n",
              "      <td>2023-02-19 14:00:00</td>\n",
              "      <td>24765.79</td>\n",
              "      <td>24792.85</td>\n",
              "      <td>24679.21</td>\n",
              "      <td>24682.03</td>\n",
              "      <td>1220.29</td>\n",
              "      <td>30203001.55</td>\n",
              "      <td>2023-02-19</td>\n",
              "      <td>14:00:00</td>\n",
              "      <td>30201781.26</td>\n",
              "      <td>7.480012e+11</td>\n",
              "      <td>83.76</td>\n",
              "    </tr>\n",
              "  </tbody>\n",
              "</table>\n",
              "</div>\n",
              "      <button class=\"colab-df-convert\" onclick=\"convertToInteractive('df-0189f612-13d9-4d9b-b490-f937acbfdf88')\"\n",
              "              title=\"Convert this dataframe to an interactive table.\"\n",
              "              style=\"display:none;\">\n",
              "        \n",
              "  <svg xmlns=\"http://www.w3.org/2000/svg\" height=\"24px\"viewBox=\"0 0 24 24\"\n",
              "       width=\"24px\">\n",
              "    <path d=\"M0 0h24v24H0V0z\" fill=\"none\"/>\n",
              "    <path d=\"M18.56 5.44l.94 2.06.94-2.06 2.06-.94-2.06-.94-.94-2.06-.94 2.06-2.06.94zm-11 1L8.5 8.5l.94-2.06 2.06-.94-2.06-.94L8.5 2.5l-.94 2.06-2.06.94zm10 10l.94 2.06.94-2.06 2.06-.94-2.06-.94-.94-2.06-.94 2.06-2.06.94z\"/><path d=\"M17.41 7.96l-1.37-1.37c-.4-.4-.92-.59-1.43-.59-.52 0-1.04.2-1.43.59L10.3 9.45l-7.72 7.72c-.78.78-.78 2.05 0 2.83L4 21.41c.39.39.9.59 1.41.59.51 0 1.02-.2 1.41-.59l7.78-7.78 2.81-2.81c.8-.78.8-2.07 0-2.86zM5.41 20L4 18.59l7.72-7.72 1.47 1.35L5.41 20z\"/>\n",
              "  </svg>\n",
              "      </button>\n",
              "      \n",
              "  <style>\n",
              "    .colab-df-container {\n",
              "      display:flex;\n",
              "      flex-wrap:wrap;\n",
              "      gap: 12px;\n",
              "    }\n",
              "\n",
              "    .colab-df-convert {\n",
              "      background-color: #E8F0FE;\n",
              "      border: none;\n",
              "      border-radius: 50%;\n",
              "      cursor: pointer;\n",
              "      display: none;\n",
              "      fill: #1967D2;\n",
              "      height: 32px;\n",
              "      padding: 0 0 0 0;\n",
              "      width: 32px;\n",
              "    }\n",
              "\n",
              "    .colab-df-convert:hover {\n",
              "      background-color: #E2EBFA;\n",
              "      box-shadow: 0px 1px 2px rgba(60, 64, 67, 0.3), 0px 1px 3px 1px rgba(60, 64, 67, 0.15);\n",
              "      fill: #174EA6;\n",
              "    }\n",
              "\n",
              "    [theme=dark] .colab-df-convert {\n",
              "      background-color: #3B4455;\n",
              "      fill: #D2E3FC;\n",
              "    }\n",
              "\n",
              "    [theme=dark] .colab-df-convert:hover {\n",
              "      background-color: #434B5C;\n",
              "      box-shadow: 0px 1px 3px 1px rgba(0, 0, 0, 0.15);\n",
              "      filter: drop-shadow(0px 1px 2px rgba(0, 0, 0, 0.3));\n",
              "      fill: #FFFFFF;\n",
              "    }\n",
              "  </style>\n",
              "\n",
              "      <script>\n",
              "        const buttonEl =\n",
              "          document.querySelector('#df-0189f612-13d9-4d9b-b490-f937acbfdf88 button.colab-df-convert');\n",
              "        buttonEl.style.display =\n",
              "          google.colab.kernel.accessAllowed ? 'block' : 'none';\n",
              "\n",
              "        async function convertToInteractive(key) {\n",
              "          const element = document.querySelector('#df-0189f612-13d9-4d9b-b490-f937acbfdf88');\n",
              "          const dataTable =\n",
              "            await google.colab.kernel.invokeFunction('convertToInteractive',\n",
              "                                                     [key], {});\n",
              "          if (!dataTable) return;\n",
              "\n",
              "          const docLinkHtml = 'Like what you see? Visit the ' +\n",
              "            '<a target=\"_blank\" href=https://colab.research.google.com/notebooks/data_table.ipynb>data table notebook</a>'\n",
              "            + ' to learn more about interactive tables.';\n",
              "          element.innerHTML = '';\n",
              "          dataTable['output_type'] = 'display_data';\n",
              "          await google.colab.output.renderOutput(dataTable, element);\n",
              "          const docLink = document.createElement('div');\n",
              "          docLink.innerHTML = docLinkHtml;\n",
              "          element.appendChild(docLink);\n",
              "        }\n",
              "      </script>\n",
              "    </div>\n",
              "  </div>\n",
              "  "
            ]
          },
          "metadata": {},
          "execution_count": 258
        }
      ]
    },
    {
      "cell_type": "code",
      "source": [
        "crypto_usd.info()"
      ],
      "metadata": {
        "colab": {
          "base_uri": "https://localhost:8080/"
        },
        "id": "GvADr0qSfbsL",
        "outputId": "d78b9613-78e1-4c48-d5f1-6bdc4acd4233"
      },
      "execution_count": null,
      "outputs": [
        {
          "output_type": "stream",
          "name": "stdout",
          "text": [
            "<class 'pandas.core.frame.DataFrame'>\n",
            "RangeIndex: 337 entries, 0 to 336\n",
            "Data columns (total 12 columns):\n",
            " #   Column       Non-Null Count  Dtype  \n",
            "---  ------       --------------  -----  \n",
            " 0   time         337 non-null    object \n",
            " 1   close        337 non-null    float64\n",
            " 2   high         337 non-null    float64\n",
            " 3   low          337 non-null    float64\n",
            " 4   open         337 non-null    float64\n",
            " 5   volumefrom   337 non-null    float64\n",
            " 6   volumeto     337 non-null    float64\n",
            " 7   Date         337 non-null    object \n",
            " 8   Time         337 non-null    object \n",
            " 9   volume       337 non-null    float64\n",
            " 10  marketcap    337 non-null    float64\n",
            " 11  price_delta  336 non-null    float64\n",
            "dtypes: float64(9), object(3)\n",
            "memory usage: 31.7+ KB\n"
          ]
        }
      ]
    },
    {
      "cell_type": "code",
      "source": [
        "#Tweets-Bitcoin\n",
        "tweets = pd.read_csv('/content/BitcoinPriceTweets.csv')\n",
        "tweets.head(1)"
      ],
      "metadata": {
        "colab": {
          "base_uri": "https://localhost:8080/",
          "height": 231
        },
        "id": "K-yHUFGTfJh5",
        "outputId": "9c557583-8c36-4adf-f42b-c7226c7b8e1a"
      },
      "execution_count": null,
      "outputs": [
        {
          "output_type": "execute_result",
          "data": {
            "text/plain": [
              "  user_name  user_location                                   user_description  \\\n",
              "0       Irk  Vancouver, WA  Irk started investing in the stock market in 1...   \n",
              "\n",
              "          user_created  user_followers  user_friends  user_favourites  \\\n",
              "0  2018-08-11 03:17:00           116.0           8.0           4580.0   \n",
              "\n",
              "   user_verified                 date  \\\n",
              "0          False  2023-02-25 23:59:00   \n",
              "\n",
              "                                                text  \\\n",
              "0  bitcoin btc rest crypto ye bitcoin cryptocurr ...   \n",
              "\n",
              "                                  hashtags           source  is_retweet  \\\n",
              "0  ['Bitcoin', 'crypto', 'NeedsMoreCrash']  Twitter Web App         0.0   \n",
              "\n",
              "   compound        score sentiment_level  polarity  subjectivity  \n",
              "0   -0.4019 -215409.1563        Negative       0.0           0.0  "
            ],
            "text/html": [
              "\n",
              "  <div id=\"df-328133e8-090f-422d-bde6-888148149992\">\n",
              "    <div class=\"colab-df-container\">\n",
              "      <div>\n",
              "<style scoped>\n",
              "    .dataframe tbody tr th:only-of-type {\n",
              "        vertical-align: middle;\n",
              "    }\n",
              "\n",
              "    .dataframe tbody tr th {\n",
              "        vertical-align: top;\n",
              "    }\n",
              "\n",
              "    .dataframe thead th {\n",
              "        text-align: right;\n",
              "    }\n",
              "</style>\n",
              "<table border=\"1\" class=\"dataframe\">\n",
              "  <thead>\n",
              "    <tr style=\"text-align: right;\">\n",
              "      <th></th>\n",
              "      <th>user_name</th>\n",
              "      <th>user_location</th>\n",
              "      <th>user_description</th>\n",
              "      <th>user_created</th>\n",
              "      <th>user_followers</th>\n",
              "      <th>user_friends</th>\n",
              "      <th>user_favourites</th>\n",
              "      <th>user_verified</th>\n",
              "      <th>date</th>\n",
              "      <th>text</th>\n",
              "      <th>hashtags</th>\n",
              "      <th>source</th>\n",
              "      <th>is_retweet</th>\n",
              "      <th>compound</th>\n",
              "      <th>score</th>\n",
              "      <th>sentiment_level</th>\n",
              "      <th>polarity</th>\n",
              "      <th>subjectivity</th>\n",
              "    </tr>\n",
              "  </thead>\n",
              "  <tbody>\n",
              "    <tr>\n",
              "      <th>0</th>\n",
              "      <td>Irk</td>\n",
              "      <td>Vancouver, WA</td>\n",
              "      <td>Irk started investing in the stock market in 1...</td>\n",
              "      <td>2018-08-11 03:17:00</td>\n",
              "      <td>116.0</td>\n",
              "      <td>8.0</td>\n",
              "      <td>4580.0</td>\n",
              "      <td>False</td>\n",
              "      <td>2023-02-25 23:59:00</td>\n",
              "      <td>bitcoin btc rest crypto ye bitcoin cryptocurr ...</td>\n",
              "      <td>['Bitcoin', 'crypto', 'NeedsMoreCrash']</td>\n",
              "      <td>Twitter Web App</td>\n",
              "      <td>0.0</td>\n",
              "      <td>-0.4019</td>\n",
              "      <td>-215409.1563</td>\n",
              "      <td>Negative</td>\n",
              "      <td>0.0</td>\n",
              "      <td>0.0</td>\n",
              "    </tr>\n",
              "  </tbody>\n",
              "</table>\n",
              "</div>\n",
              "      <button class=\"colab-df-convert\" onclick=\"convertToInteractive('df-328133e8-090f-422d-bde6-888148149992')\"\n",
              "              title=\"Convert this dataframe to an interactive table.\"\n",
              "              style=\"display:none;\">\n",
              "        \n",
              "  <svg xmlns=\"http://www.w3.org/2000/svg\" height=\"24px\"viewBox=\"0 0 24 24\"\n",
              "       width=\"24px\">\n",
              "    <path d=\"M0 0h24v24H0V0z\" fill=\"none\"/>\n",
              "    <path d=\"M18.56 5.44l.94 2.06.94-2.06 2.06-.94-2.06-.94-.94-2.06-.94 2.06-2.06.94zm-11 1L8.5 8.5l.94-2.06 2.06-.94-2.06-.94L8.5 2.5l-.94 2.06-2.06.94zm10 10l.94 2.06.94-2.06 2.06-.94-2.06-.94-.94-2.06-.94 2.06-2.06.94z\"/><path d=\"M17.41 7.96l-1.37-1.37c-.4-.4-.92-.59-1.43-.59-.52 0-1.04.2-1.43.59L10.3 9.45l-7.72 7.72c-.78.78-.78 2.05 0 2.83L4 21.41c.39.39.9.59 1.41.59.51 0 1.02-.2 1.41-.59l7.78-7.78 2.81-2.81c.8-.78.8-2.07 0-2.86zM5.41 20L4 18.59l7.72-7.72 1.47 1.35L5.41 20z\"/>\n",
              "  </svg>\n",
              "      </button>\n",
              "      \n",
              "  <style>\n",
              "    .colab-df-container {\n",
              "      display:flex;\n",
              "      flex-wrap:wrap;\n",
              "      gap: 12px;\n",
              "    }\n",
              "\n",
              "    .colab-df-convert {\n",
              "      background-color: #E8F0FE;\n",
              "      border: none;\n",
              "      border-radius: 50%;\n",
              "      cursor: pointer;\n",
              "      display: none;\n",
              "      fill: #1967D2;\n",
              "      height: 32px;\n",
              "      padding: 0 0 0 0;\n",
              "      width: 32px;\n",
              "    }\n",
              "\n",
              "    .colab-df-convert:hover {\n",
              "      background-color: #E2EBFA;\n",
              "      box-shadow: 0px 1px 2px rgba(60, 64, 67, 0.3), 0px 1px 3px 1px rgba(60, 64, 67, 0.15);\n",
              "      fill: #174EA6;\n",
              "    }\n",
              "\n",
              "    [theme=dark] .colab-df-convert {\n",
              "      background-color: #3B4455;\n",
              "      fill: #D2E3FC;\n",
              "    }\n",
              "\n",
              "    [theme=dark] .colab-df-convert:hover {\n",
              "      background-color: #434B5C;\n",
              "      box-shadow: 0px 1px 3px 1px rgba(0, 0, 0, 0.15);\n",
              "      filter: drop-shadow(0px 1px 2px rgba(0, 0, 0, 0.3));\n",
              "      fill: #FFFFFF;\n",
              "    }\n",
              "  </style>\n",
              "\n",
              "      <script>\n",
              "        const buttonEl =\n",
              "          document.querySelector('#df-328133e8-090f-422d-bde6-888148149992 button.colab-df-convert');\n",
              "        buttonEl.style.display =\n",
              "          google.colab.kernel.accessAllowed ? 'block' : 'none';\n",
              "\n",
              "        async function convertToInteractive(key) {\n",
              "          const element = document.querySelector('#df-328133e8-090f-422d-bde6-888148149992');\n",
              "          const dataTable =\n",
              "            await google.colab.kernel.invokeFunction('convertToInteractive',\n",
              "                                                     [key], {});\n",
              "          if (!dataTable) return;\n",
              "\n",
              "          const docLinkHtml = 'Like what you see? Visit the ' +\n",
              "            '<a target=\"_blank\" href=https://colab.research.google.com/notebooks/data_table.ipynb>data table notebook</a>'\n",
              "            + ' to learn more about interactive tables.';\n",
              "          element.innerHTML = '';\n",
              "          dataTable['output_type'] = 'display_data';\n",
              "          await google.colab.output.renderOutput(dataTable, element);\n",
              "          const docLink = document.createElement('div');\n",
              "          docLink.innerHTML = docLinkHtml;\n",
              "          element.appendChild(docLink);\n",
              "        }\n",
              "      </script>\n",
              "    </div>\n",
              "  </div>\n",
              "  "
            ]
          },
          "metadata": {},
          "execution_count": 69
        }
      ]
    },
    {
      "cell_type": "code",
      "source": [
        "#Dividing the Data in smaller chunks and save it as size of over all data is apporx 140 MB"
      ],
      "metadata": {
        "id": "9sHnubrah-Ah"
      },
      "execution_count": null,
      "outputs": []
    },
    {
      "cell_type": "code",
      "source": [
        "import pandas as pd\n",
        "import os\n",
        "\n",
        "# Read the dataset from a CSV file\n",
        "dataset = tweets\n",
        "# Calculate the desired size of each subset in bytes\n",
        "desired_size_per_subset = 23 * 1024 * 1024  # Convert 23 MB to bytes\n",
        "\n",
        "# Calculate the total number of subsets needed\n",
        "total_subsets = int(round(140 / 23))  # Round up to the nearest integer\n",
        "\n",
        "# Calculate the number of rows per subset\n",
        "rows_per_subset = int(round(len(dataset) / total_subsets))  # Round up to the nearest integer\n",
        "\n",
        "# Create a directory to save the subsets if it doesn't exist\n",
        "save_directory = '/content'\n",
        "if not os.path.exists(save_directory):\n",
        "    os.makedirs(save_directory)\n",
        "\n",
        "# Split the dataset into subsets and save each subset as a separate CSV file\n",
        "for subset_index in range(total_subsets):\n",
        "    start_index = subset_index * rows_per_subset\n",
        "    end_index = (subset_index + 1) * rows_per_subset\n",
        "    subset = dataset.iloc[start_index:end_index]\n",
        "\n",
        "    # Generate the subset file name\n",
        "    subset_filename = f\"BitcoinTweetsPreprocessed_{subset_index + 1}.csv\"\n",
        "\n",
        "    # Generate the full file path\n",
        "    file_path = os.path.join(save_directory, subset_filename)\n",
        "\n",
        "    # Save the subset as a CSV file\n",
        "    subset.to_csv(file_path, index=False)\n",
        "\n",
        "    # Calculate the size of the subset file\n",
        "    subset_size = os.path.getsize(file_path)\n",
        "\n",
        "    # Get the number of rows in the subset\n",
        "    num_rows = len(subset)\n",
        "\n",
        "    # Print the name, size, and number of rows of each subset file\n",
        "    print(f\"Subset file: {subset_filename}\")\n",
        "    print(f\"Size: {subset_size / (1024 * 1024)} MB\")\n",
        "    print(f\"Number of rows: {num_rows}\")\n",
        "    print()\n"
      ],
      "metadata": {
        "colab": {
          "base_uri": "https://localhost:8080/"
        },
        "id": "G5w0yvwbjYoY",
        "outputId": "db8cfbcb-430b-4301-e973-9f423f876147"
      },
      "execution_count": null,
      "outputs": [
        {
          "output_type": "stream",
          "name": "stdout",
          "text": [
            "Subset file: BitcoinTweetsPreprocessed_1.csv\n",
            "Size: 11.216121673583984 MB\n",
            "Number of rows: 27942\n",
            "\n",
            "Subset file: BitcoinTweetsPreprocessed_2.csv\n",
            "Size: 11.801884651184082 MB\n",
            "Number of rows: 27942\n",
            "\n",
            "Subset file: BitcoinTweetsPreprocessed_3.csv\n",
            "Size: 11.73094654083252 MB\n",
            "Number of rows: 27942\n",
            "\n",
            "Subset file: BitcoinTweetsPreprocessed_4.csv\n",
            "Size: 11.688798904418945 MB\n",
            "Number of rows: 27942\n",
            "\n",
            "Subset file: BitcoinTweetsPreprocessed_5.csv\n",
            "Size: 11.499346733093262 MB\n",
            "Number of rows: 27942\n",
            "\n",
            "Subset file: BitcoinTweetsPreprocessed_6.csv\n",
            "Size: 11.43162727355957 MB\n",
            "Number of rows: 27942\n",
            "\n"
          ]
        }
      ]
    },
    {
      "cell_type": "markdown",
      "source": [
        "#Datasets for further Anaysis - Preprocessed"
      ],
      "metadata": {
        "id": "pBZU-ZCt5ok_"
      }
    },
    {
      "cell_type": "code",
      "source": [
        "#Saved the processed file o Github and extracting again for analysis"
      ],
      "metadata": {
        "id": "Fk5ljM3qfBHp"
      },
      "execution_count": null,
      "outputs": []
    },
    {
      "cell_type": "code",
      "source": [
        "#Bitcoin Price\n",
        "import pandas as pd\n",
        "\n",
        "# URL to the raw CSV file\n",
        "url = 'https://raw.githubusercontent.com/Amarpreet3/CIND-820-CAPSTONE/main/Sentimental%20Analysis/BitcoinPricePreprocessed.csv'\n",
        "\n",
        "# Read the CSV file from the URL\n",
        "crypto_usd = pd.read_csv(url)\n",
        "\n",
        "# Display the first few rows of the data\n",
        "print(crypto_usd.head())\n",
        "\n"
      ],
      "metadata": {
        "colab": {
          "base_uri": "https://localhost:8080/"
        },
        "id": "Gs0pb-r3ocrj",
        "outputId": "2a0d2365-ece3-413a-800b-ea85463a6829"
      },
      "execution_count": null,
      "outputs": [
        {
          "output_type": "stream",
          "name": "stdout",
          "text": [
            "                  time     close      high       low      open  volumefrom  \\\n",
            "0  2023-02-19 13:00:00  24682.03  24715.82  24682.03  24707.39      903.97   \n",
            "1  2023-02-19 14:00:00  24765.79  24792.85  24679.21  24682.03     1220.29   \n",
            "2  2023-02-19 15:00:00  24928.21  25022.49  24751.96  24765.79     5074.50   \n",
            "3  2023-02-19 16:00:00  24786.44  25175.28  24704.53  24928.21     7094.72   \n",
            "4  2023-02-19 17:00:00  24364.95  24806.64  24346.17  24786.44     6896.84   \n",
            "\n",
            "       volumeto        Date      Time        volume     marketcap  price_delta  \n",
            "0  2.233594e+07  2023-02-19  13:00:00  2.233504e+07  5.512964e+11          NaN  \n",
            "1  3.020300e+07  2023-02-19  14:00:00  3.020178e+07  7.480012e+11        83.76  \n",
            "2  1.263085e+08  2023-02-19  15:00:00  1.263034e+08  3.148644e+12       162.42  \n",
            "3  1.770671e+08  2023-02-19  16:00:00  1.770600e+08  4.388863e+12      -141.77  \n",
            "4  1.693379e+08  2023-02-19  17:00:00  1.693310e+08  4.125910e+12      -421.49  \n"
          ]
        }
      ]
    },
    {
      "cell_type": "code",
      "source": [
        "import pandas as pd\n",
        "\n",
        "file_urls = [\n",
        "    'https://github.com/Amarpreet3/CIND-820-CAPSTONE/raw/main/Sentimental%20Analysis/BitcoinTweetsPreprocessed_1.csv',\n",
        "    'https://github.com/Amarpreet3/CIND-820-CAPSTONE/raw/main/Sentimental%20Analysis/BitcoinTweetsPreprocessed_2.csv',\n",
        "    'https://github.com/Amarpreet3/CIND-820-CAPSTONE/raw/main/Sentimental%20Analysis/BitcoinTweetsPreprocessed_3.csv',\n",
        "    'https://github.com/Amarpreet3/CIND-820-CAPSTONE/raw/main/Sentimental%20Analysis/BitcoinTweetsPreprocessed_4.csv',\n",
        "    'https://github.com/Amarpreet3/CIND-820-CAPSTONE/raw/main/Sentimental%20Analysis/BitcoinTweetsPreprocessed_5.csv',\n",
        "    'https://github.com/Amarpreet3/CIND-820-CAPSTONE/raw/main/Sentimental%20Analysis/BitcoinTweetsPreprocessed_6.csv'\n",
        "]\n",
        "\n",
        "dfs = []\n",
        "\n",
        "for url in file_urls:\n",
        "    # Read the CSV file\n",
        "    df = pd.read_csv(url)\n",
        "\n",
        "    # Append the DataFrame to the list\n",
        "    dfs.append(df)\n",
        "\n",
        "# Combine all DataFrames into a single DataFrame\n",
        "combined_df = pd.concat(dfs)\n",
        "\n",
        "# Display the first few rows of the combined DataFrame\n",
        "print(combined_df.head())\n"
      ],
      "metadata": {
        "colab": {
          "base_uri": "https://localhost:8080/"
        },
        "id": "Yk31WHoiqGsS",
        "outputId": "df383b33-118b-45c5-92e9-f57560ba9bdd"
      },
      "execution_count": null,
      "outputs": [
        {
          "output_type": "stream",
          "name": "stdout",
          "text": [
            "            user_name  user_location  \\\n",
            "0                 Irk  Vancouver, WA   \n",
            "1         Xiang Zhang            NaN   \n",
            "2              Rhizoo            NaN   \n",
            "3        Hari Marquez  Las Vegas, NV   \n",
            "4  Bitcoin Candle Bot         Brazil   \n",
            "\n",
            "                                    user_description         user_created  \\\n",
            "0  Irk started investing in the stock market in 1...  2018-08-11 03:17:00   \n",
            "1  Professional Software Engineer ð»ðCrypto ...  2011-01-11 01:37:00   \n",
            "2  researcher. local maxima dunningâkruger spec...  2019-04-03 18:09:00   \n",
            "3  Donât trust, verify. #Bitcoin | El Salvador ...  2014-01-17 23:04:00   \n",
            "4  Robot that posts the closure of the bitcoin da...  2021-01-06 01:36:00   \n",
            "\n",
            "   user_followers  user_friends  user_favourites  user_verified  \\\n",
            "0           116.0           8.0           4580.0          False   \n",
            "1            42.0          22.0              5.0          False   \n",
            "2           778.0         627.0          32005.0          False   \n",
            "3           222.0         521.0          13052.0          False   \n",
            "4            40.0           4.0              1.0          False   \n",
            "\n",
            "                  date                                               text  \\\n",
            "0  2023-02-25 23:59:00  bitcoin btc rest crypto ye bitcoin cryptocurr ...   \n",
            "1  2023-02-25 23:59:00  retriev invest fund current ongo tidexcoin kic...   \n",
            "2  2023-02-25 23:59:00  bull save monthli thread today good shit bitco...   \n",
            "3  2023-02-25 23:59:00         el salvador shape futur bitcoin membvk32cn   \n",
            "4  2023-02-25 23:59:00  candl day 25022023 close open 2319406 high 232...   \n",
            "\n",
            "                                            hashtags              source  \\\n",
            "0            ['Bitcoin', 'crypto', 'NeedsMoreCrash']     Twitter Web App   \n",
            "1  ['Tidexcoin', 'Kicurrency', 'LMY', 'GMK', 'SYR...  Twitter for iPhone   \n",
            "2                                        ['bitcoin']     Twitter Web App   \n",
            "3                                        ['Bitcoin']     Twitter Web App   \n",
            "4                ['Bitcoin', 'Candle', 'BearMarket']  Bitcoin Candle Bot   \n",
            "\n",
            "   is_retweet  compound         score sentiment_level  polarity  subjectivity  \n",
            "0         0.0   -0.4019 -2.154092e+05        Negative  0.000000      0.000000  \n",
            "1         0.0    0.0000  0.000000e+00         Neutral  0.000000      0.400000  \n",
            "2         0.0    0.3612  9.005682e+06        Positive  0.250000      0.700000  \n",
            "3         0.0    0.0000  0.000000e+00         Neutral  0.000000      0.000000  \n",
            "4         0.0   -0.2732 -2.240240e+01        Negative  0.053333      0.446667  \n"
          ]
        }
      ]
    },
    {
      "cell_type": "code",
      "source": [
        "tweets = combined_df.copy()"
      ],
      "metadata": {
        "id": "i667g_S5qW3a"
      },
      "execution_count": null,
      "outputs": []
    },
    {
      "cell_type": "code",
      "source": [
        "tweets.head()"
      ],
      "metadata": {
        "colab": {
          "base_uri": "https://localhost:8080/",
          "height": 582
        },
        "id": "fzDfngyol-Op",
        "outputId": "d3648a6b-4c11-44cf-a426-f2de9aec9f28"
      },
      "execution_count": null,
      "outputs": [
        {
          "output_type": "execute_result",
          "data": {
            "text/plain": [
              "            user_name  user_location  \\\n",
              "0                 Irk  Vancouver, WA   \n",
              "1         Xiang Zhang            NaN   \n",
              "2              Rhizoo            NaN   \n",
              "3        Hari Marquez  Las Vegas, NV   \n",
              "4  Bitcoin Candle Bot         Brazil   \n",
              "\n",
              "                                    user_description         user_created  \\\n",
              "0  Irk started investing in the stock market in 1...  2018-08-11 03:17:00   \n",
              "1  Professional Software Engineer ð»ðCrypto ...  2011-01-11 01:37:00   \n",
              "2  researcher. local maxima dunningâkruger spec...  2019-04-03 18:09:00   \n",
              "3  Donât trust, verify. #Bitcoin | El Salvador ...  2014-01-17 23:04:00   \n",
              "4  Robot that posts the closure of the bitcoin da...  2021-01-06 01:36:00   \n",
              "\n",
              "   user_followers  user_friends  user_favourites  user_verified  \\\n",
              "0           116.0           8.0           4580.0          False   \n",
              "1            42.0          22.0              5.0          False   \n",
              "2           778.0         627.0          32005.0          False   \n",
              "3           222.0         521.0          13052.0          False   \n",
              "4            40.0           4.0              1.0          False   \n",
              "\n",
              "                  date                                               text  \\\n",
              "0  2023-02-25 23:59:00  bitcoin btc rest crypto ye bitcoin cryptocurr ...   \n",
              "1  2023-02-25 23:59:00  retriev invest fund current ongo tidexcoin kic...   \n",
              "2  2023-02-25 23:59:00  bull save monthli thread today good shit bitco...   \n",
              "3  2023-02-25 23:59:00         el salvador shape futur bitcoin membvk32cn   \n",
              "4  2023-02-25 23:59:00  candl day 25022023 close open 2319406 high 232...   \n",
              "\n",
              "                                            hashtags              source  \\\n",
              "0            ['Bitcoin', 'crypto', 'NeedsMoreCrash']     Twitter Web App   \n",
              "1  ['Tidexcoin', 'Kicurrency', 'LMY', 'GMK', 'SYR...  Twitter for iPhone   \n",
              "2                                        ['bitcoin']     Twitter Web App   \n",
              "3                                        ['Bitcoin']     Twitter Web App   \n",
              "4                ['Bitcoin', 'Candle', 'BearMarket']  Bitcoin Candle Bot   \n",
              "\n",
              "   is_retweet  compound         score sentiment_level  polarity  subjectivity  \n",
              "0         0.0   -0.4019 -2.154092e+05        Negative  0.000000      0.000000  \n",
              "1         0.0    0.0000  0.000000e+00         Neutral  0.000000      0.400000  \n",
              "2         0.0    0.3612  9.005682e+06        Positive  0.250000      0.700000  \n",
              "3         0.0    0.0000  0.000000e+00         Neutral  0.000000      0.000000  \n",
              "4         0.0   -0.2732 -2.240240e+01        Negative  0.053333      0.446667  "
            ],
            "text/html": [
              "\n",
              "  <div id=\"df-d0045850-0d54-4e8b-9259-c4a1d043bda0\">\n",
              "    <div class=\"colab-df-container\">\n",
              "      <div>\n",
              "<style scoped>\n",
              "    .dataframe tbody tr th:only-of-type {\n",
              "        vertical-align: middle;\n",
              "    }\n",
              "\n",
              "    .dataframe tbody tr th {\n",
              "        vertical-align: top;\n",
              "    }\n",
              "\n",
              "    .dataframe thead th {\n",
              "        text-align: right;\n",
              "    }\n",
              "</style>\n",
              "<table border=\"1\" class=\"dataframe\">\n",
              "  <thead>\n",
              "    <tr style=\"text-align: right;\">\n",
              "      <th></th>\n",
              "      <th>user_name</th>\n",
              "      <th>user_location</th>\n",
              "      <th>user_description</th>\n",
              "      <th>user_created</th>\n",
              "      <th>user_followers</th>\n",
              "      <th>user_friends</th>\n",
              "      <th>user_favourites</th>\n",
              "      <th>user_verified</th>\n",
              "      <th>date</th>\n",
              "      <th>text</th>\n",
              "      <th>hashtags</th>\n",
              "      <th>source</th>\n",
              "      <th>is_retweet</th>\n",
              "      <th>compound</th>\n",
              "      <th>score</th>\n",
              "      <th>sentiment_level</th>\n",
              "      <th>polarity</th>\n",
              "      <th>subjectivity</th>\n",
              "    </tr>\n",
              "  </thead>\n",
              "  <tbody>\n",
              "    <tr>\n",
              "      <th>0</th>\n",
              "      <td>Irk</td>\n",
              "      <td>Vancouver, WA</td>\n",
              "      <td>Irk started investing in the stock market in 1...</td>\n",
              "      <td>2018-08-11 03:17:00</td>\n",
              "      <td>116.0</td>\n",
              "      <td>8.0</td>\n",
              "      <td>4580.0</td>\n",
              "      <td>False</td>\n",
              "      <td>2023-02-25 23:59:00</td>\n",
              "      <td>bitcoin btc rest crypto ye bitcoin cryptocurr ...</td>\n",
              "      <td>['Bitcoin', 'crypto', 'NeedsMoreCrash']</td>\n",
              "      <td>Twitter Web App</td>\n",
              "      <td>0.0</td>\n",
              "      <td>-0.4019</td>\n",
              "      <td>-2.154092e+05</td>\n",
              "      <td>Negative</td>\n",
              "      <td>0.000000</td>\n",
              "      <td>0.000000</td>\n",
              "    </tr>\n",
              "    <tr>\n",
              "      <th>1</th>\n",
              "      <td>Xiang Zhang</td>\n",
              "      <td>NaN</td>\n",
              "      <td>Professional Software Engineer ð»ðCrypto ...</td>\n",
              "      <td>2011-01-11 01:37:00</td>\n",
              "      <td>42.0</td>\n",
              "      <td>22.0</td>\n",
              "      <td>5.0</td>\n",
              "      <td>False</td>\n",
              "      <td>2023-02-25 23:59:00</td>\n",
              "      <td>retriev invest fund current ongo tidexcoin kic...</td>\n",
              "      <td>['Tidexcoin', 'Kicurrency', 'LMY', 'GMK', 'SYR...</td>\n",
              "      <td>Twitter for iPhone</td>\n",
              "      <td>0.0</td>\n",
              "      <td>0.0000</td>\n",
              "      <td>0.000000e+00</td>\n",
              "      <td>Neutral</td>\n",
              "      <td>0.000000</td>\n",
              "      <td>0.400000</td>\n",
              "    </tr>\n",
              "    <tr>\n",
              "      <th>2</th>\n",
              "      <td>Rhizoo</td>\n",
              "      <td>NaN</td>\n",
              "      <td>researcher. local maxima dunningâkruger spec...</td>\n",
              "      <td>2019-04-03 18:09:00</td>\n",
              "      <td>778.0</td>\n",
              "      <td>627.0</td>\n",
              "      <td>32005.0</td>\n",
              "      <td>False</td>\n",
              "      <td>2023-02-25 23:59:00</td>\n",
              "      <td>bull save monthli thread today good shit bitco...</td>\n",
              "      <td>['bitcoin']</td>\n",
              "      <td>Twitter Web App</td>\n",
              "      <td>0.0</td>\n",
              "      <td>0.3612</td>\n",
              "      <td>9.005682e+06</td>\n",
              "      <td>Positive</td>\n",
              "      <td>0.250000</td>\n",
              "      <td>0.700000</td>\n",
              "    </tr>\n",
              "    <tr>\n",
              "      <th>3</th>\n",
              "      <td>Hari Marquez</td>\n",
              "      <td>Las Vegas, NV</td>\n",
              "      <td>Donât trust, verify. #Bitcoin | El Salvador ...</td>\n",
              "      <td>2014-01-17 23:04:00</td>\n",
              "      <td>222.0</td>\n",
              "      <td>521.0</td>\n",
              "      <td>13052.0</td>\n",
              "      <td>False</td>\n",
              "      <td>2023-02-25 23:59:00</td>\n",
              "      <td>el salvador shape futur bitcoin membvk32cn</td>\n",
              "      <td>['Bitcoin']</td>\n",
              "      <td>Twitter Web App</td>\n",
              "      <td>0.0</td>\n",
              "      <td>0.0000</td>\n",
              "      <td>0.000000e+00</td>\n",
              "      <td>Neutral</td>\n",
              "      <td>0.000000</td>\n",
              "      <td>0.000000</td>\n",
              "    </tr>\n",
              "    <tr>\n",
              "      <th>4</th>\n",
              "      <td>Bitcoin Candle Bot</td>\n",
              "      <td>Brazil</td>\n",
              "      <td>Robot that posts the closure of the bitcoin da...</td>\n",
              "      <td>2021-01-06 01:36:00</td>\n",
              "      <td>40.0</td>\n",
              "      <td>4.0</td>\n",
              "      <td>1.0</td>\n",
              "      <td>False</td>\n",
              "      <td>2023-02-25 23:59:00</td>\n",
              "      <td>candl day 25022023 close open 2319406 high 232...</td>\n",
              "      <td>['Bitcoin', 'Candle', 'BearMarket']</td>\n",
              "      <td>Bitcoin Candle Bot</td>\n",
              "      <td>0.0</td>\n",
              "      <td>-0.2732</td>\n",
              "      <td>-2.240240e+01</td>\n",
              "      <td>Negative</td>\n",
              "      <td>0.053333</td>\n",
              "      <td>0.446667</td>\n",
              "    </tr>\n",
              "  </tbody>\n",
              "</table>\n",
              "</div>\n",
              "      <button class=\"colab-df-convert\" onclick=\"convertToInteractive('df-d0045850-0d54-4e8b-9259-c4a1d043bda0')\"\n",
              "              title=\"Convert this dataframe to an interactive table.\"\n",
              "              style=\"display:none;\">\n",
              "        \n",
              "  <svg xmlns=\"http://www.w3.org/2000/svg\" height=\"24px\"viewBox=\"0 0 24 24\"\n",
              "       width=\"24px\">\n",
              "    <path d=\"M0 0h24v24H0V0z\" fill=\"none\"/>\n",
              "    <path d=\"M18.56 5.44l.94 2.06.94-2.06 2.06-.94-2.06-.94-.94-2.06-.94 2.06-2.06.94zm-11 1L8.5 8.5l.94-2.06 2.06-.94-2.06-.94L8.5 2.5l-.94 2.06-2.06.94zm10 10l.94 2.06.94-2.06 2.06-.94-2.06-.94-.94-2.06-.94 2.06-2.06.94z\"/><path d=\"M17.41 7.96l-1.37-1.37c-.4-.4-.92-.59-1.43-.59-.52 0-1.04.2-1.43.59L10.3 9.45l-7.72 7.72c-.78.78-.78 2.05 0 2.83L4 21.41c.39.39.9.59 1.41.59.51 0 1.02-.2 1.41-.59l7.78-7.78 2.81-2.81c.8-.78.8-2.07 0-2.86zM5.41 20L4 18.59l7.72-7.72 1.47 1.35L5.41 20z\"/>\n",
              "  </svg>\n",
              "      </button>\n",
              "      \n",
              "  <style>\n",
              "    .colab-df-container {\n",
              "      display:flex;\n",
              "      flex-wrap:wrap;\n",
              "      gap: 12px;\n",
              "    }\n",
              "\n",
              "    .colab-df-convert {\n",
              "      background-color: #E8F0FE;\n",
              "      border: none;\n",
              "      border-radius: 50%;\n",
              "      cursor: pointer;\n",
              "      display: none;\n",
              "      fill: #1967D2;\n",
              "      height: 32px;\n",
              "      padding: 0 0 0 0;\n",
              "      width: 32px;\n",
              "    }\n",
              "\n",
              "    .colab-df-convert:hover {\n",
              "      background-color: #E2EBFA;\n",
              "      box-shadow: 0px 1px 2px rgba(60, 64, 67, 0.3), 0px 1px 3px 1px rgba(60, 64, 67, 0.15);\n",
              "      fill: #174EA6;\n",
              "    }\n",
              "\n",
              "    [theme=dark] .colab-df-convert {\n",
              "      background-color: #3B4455;\n",
              "      fill: #D2E3FC;\n",
              "    }\n",
              "\n",
              "    [theme=dark] .colab-df-convert:hover {\n",
              "      background-color: #434B5C;\n",
              "      box-shadow: 0px 1px 3px 1px rgba(0, 0, 0, 0.15);\n",
              "      filter: drop-shadow(0px 1px 2px rgba(0, 0, 0, 0.3));\n",
              "      fill: #FFFFFF;\n",
              "    }\n",
              "  </style>\n",
              "\n",
              "      <script>\n",
              "        const buttonEl =\n",
              "          document.querySelector('#df-d0045850-0d54-4e8b-9259-c4a1d043bda0 button.colab-df-convert');\n",
              "        buttonEl.style.display =\n",
              "          google.colab.kernel.accessAllowed ? 'block' : 'none';\n",
              "\n",
              "        async function convertToInteractive(key) {\n",
              "          const element = document.querySelector('#df-d0045850-0d54-4e8b-9259-c4a1d043bda0');\n",
              "          const dataTable =\n",
              "            await google.colab.kernel.invokeFunction('convertToInteractive',\n",
              "                                                     [key], {});\n",
              "          if (!dataTable) return;\n",
              "\n",
              "          const docLinkHtml = 'Like what you see? Visit the ' +\n",
              "            '<a target=\"_blank\" href=https://colab.research.google.com/notebooks/data_table.ipynb>data table notebook</a>'\n",
              "            + ' to learn more about interactive tables.';\n",
              "          element.innerHTML = '';\n",
              "          dataTable['output_type'] = 'display_data';\n",
              "          await google.colab.output.renderOutput(dataTable, element);\n",
              "          const docLink = document.createElement('div');\n",
              "          docLink.innerHTML = docLinkHtml;\n",
              "          element.appendChild(docLink);\n",
              "        }\n",
              "      </script>\n",
              "    </div>\n",
              "  </div>\n",
              "  "
            ]
          },
          "metadata": {},
          "execution_count": 74
        }
      ]
    },
    {
      "cell_type": "code",
      "source": [
        "print(tweets.columns)"
      ],
      "metadata": {
        "colab": {
          "base_uri": "https://localhost:8080/"
        },
        "id": "ebW8ujq0mA9S",
        "outputId": "01d44d98-57a9-4a46-934b-4e8cf2210c50"
      },
      "execution_count": null,
      "outputs": [
        {
          "output_type": "stream",
          "name": "stdout",
          "text": [
            "Index(['user_name', 'user_location', 'user_description', 'user_created',\n",
            "       'user_followers', 'user_friends', 'user_favourites', 'user_verified',\n",
            "       'date', 'text', 'hashtags', 'source', 'is_retweet', 'compound', 'score',\n",
            "       'sentiment_level', 'polarity', 'subjectivity'],\n",
            "      dtype='object')\n"
          ]
        }
      ]
    },
    {
      "cell_type": "code",
      "source": [
        "import pandas as pd\n",
        "\n",
        "\n",
        "# Check the shape of the dataset\n",
        "print(\"Shape of the dataset:\", tweets.shape)\n",
        "\n",
        "# Check the size of the dataset\n",
        "print(\"Size of the dataset (number of elements):\",tweets.size)\n"
      ],
      "metadata": {
        "colab": {
          "base_uri": "https://localhost:8080/"
        },
        "id": "e8a4O-LcmDV5",
        "outputId": "6f586fe8-d8f7-46c2-dc46-90e149f8e81f"
      },
      "execution_count": null,
      "outputs": [
        {
          "output_type": "stream",
          "name": "stdout",
          "text": [
            "Shape of the dataset: (167652, 18)\n",
            "Size of the dataset (number of elements): 3017736\n"
          ]
        }
      ]
    },
    {
      "cell_type": "code",
      "source": [
        "import pandas as pd\n",
        "import os\n",
        "\n",
        "\n",
        "# Check the shape of the data\n",
        "print(\"Shape of the data:\", tweets.shape)\n"
      ],
      "metadata": {
        "colab": {
          "base_uri": "https://localhost:8080/"
        },
        "id": "iESjvi7jmOMA",
        "outputId": "04609847-8fd6-4832-b6cf-c69d9e589889"
      },
      "execution_count": null,
      "outputs": [
        {
          "output_type": "stream",
          "name": "stdout",
          "text": [
            "Shape of the data: (167652, 18)\n"
          ]
        }
      ]
    },
    {
      "cell_type": "code",
      "source": [
        "label_counts = tweets['sentiment_level'].value_counts()\n",
        "print(label_counts)"
      ],
      "metadata": {
        "colab": {
          "base_uri": "https://localhost:8080/"
        },
        "id": "rlDhbF14mmR7",
        "outputId": "cbb81ea1-372e-4872-d39e-05fcc74395e1"
      },
      "execution_count": null,
      "outputs": [
        {
          "output_type": "stream",
          "name": "stdout",
          "text": [
            "Neutral             93169\n",
            "Positive            35921\n",
            "Extreme Positive    17343\n",
            "Negative            15903\n",
            "Extreme Negative     5316\n",
            "Name: sentiment_level, dtype: int64\n"
          ]
        }
      ]
    }
  ]
}