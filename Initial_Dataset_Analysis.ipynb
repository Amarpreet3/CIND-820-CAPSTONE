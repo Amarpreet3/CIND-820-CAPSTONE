{
  "metadata": {
    "kernelspec": {
      "language": "python",
      "display_name": "Python 3",
      "name": "python3"
    },
    "language_info": {
      "name": "python",
      "version": "3.10.10",
      "mimetype": "text/x-python",
      "codemirror_mode": {
        "name": "ipython",
        "version": 3
      },
      "pygments_lexer": "ipython3",
      "nbconvert_exporter": "python",
      "file_extension": ".py"
    },
    "colab": {
      "provenance": [],
      "toc_visible": true,
      "include_colab_link": true
    }
  },
  "nbformat_minor": 0,
  "nbformat": 4,
  "cells": [
    {
      "cell_type": "markdown",
      "metadata": {
        "id": "view-in-github",
        "colab_type": "text"
      },
      "source": [
        "<a href=\"https://colab.research.google.com/github/Amarpreet3/CIND-820-CAPSTONE/blob/Amarpreet3-patch-1/Initial_Dataset_Analysis.ipynb\" target=\"_parent\"><img src=\"https://colab.research.google.com/assets/colab-badge.svg\" alt=\"Open In Colab\"/></a>"
      ]
    },
    {
      "cell_type": "markdown",
      "source": [
        "#Dataset"
      ],
      "metadata": {
        "id": "xtDLEWVGHiNg"
      }
    },
    {
      "cell_type": "code",
      "source": [
        "import pandas as pd\n",
        "\n",
        "# Read the individual CSV files\n",
        "btc_df = pd.read_csv(\"https://raw.githubusercontent.com/Amarpreet3/CIND-820-CAPSTONE/main/Dataset/coin_Bitcoin.csv\")\n",
        "eth_df = pd.read_csv(\"https://raw.githubusercontent.com/Amarpreet3/CIND-820-CAPSTONE/main/Dataset/coin_Ethereum.csv\")\n",
        "xrp_df = pd.read_csv(\"https://raw.githubusercontent.com/Amarpreet3/CIND-820-CAPSTONE/main/Dataset/coin_XRP.csv\")\n",
        "ltc_df = pd.read_csv(\"https://raw.githubusercontent.com/Amarpreet3/CIND-820-CAPSTONE/main/Dataset/coin_Litecoin.csv\")\n",
        "usdc_df = pd.read_csv(\"https://raw.githubusercontent.com/Amarpreet3/CIND-820-CAPSTONE/main/Dataset/coin_USDCoin.csv\")\n",
        "\n",
        "# Concatenate the datasets vertically\n",
        "df = pd.concat([btc_df, eth_df, xrp_df, ltc_df, usdc_df])\n",
        "\n",
        "# Save the merged dataset to a new CSV file\n",
        "df.to_csv(\"cryptocurrency.csv\", index=False)\n",
        "\n"
      ],
      "metadata": {
        "execution": {
          "iopub.status.busy": "2023-05-24T15:49:20.771605Z",
          "iopub.execute_input": "2023-05-24T15:49:20.771895Z",
          "iopub.status.idle": "2023-05-24T15:49:21.072533Z",
          "shell.execute_reply.started": "2023-05-24T15:49:20.771869Z",
          "shell.execute_reply": "2023-05-24T15:49:21.071686Z"
        },
        "trusted": true,
        "id": "unCZyU6odDS-"
      },
      "execution_count": 17,
      "outputs": []
    },
    {
      "cell_type": "markdown",
      "source": [
        "#EDA"
      ],
      "metadata": {
        "id": "m7EyvN2oHr66"
      }
    },
    {
      "cell_type": "code",
      "source": [
        "df.head()"
      ],
      "metadata": {
        "execution": {
          "iopub.status.busy": "2023-05-24T15:49:21.074691Z",
          "iopub.execute_input": "2023-05-24T15:49:21.074991Z",
          "iopub.status.idle": "2023-05-24T15:49:21.091525Z",
          "shell.execute_reply.started": "2023-05-24T15:49:21.074963Z",
          "shell.execute_reply": "2023-05-24T15:49:21.090599Z"
        },
        "trusted": true,
        "colab": {
          "base_uri": "https://localhost:8080/",
          "height": 206
        },
        "id": "G_2fIsWmdDS-",
        "outputId": "ce1aa3cf-9e94-495d-fddd-fbf9d1ae4daa"
      },
      "execution_count": 18,
      "outputs": [
        {
          "output_type": "execute_result",
          "data": {
            "text/plain": [
              "   SNo     Name Symbol                 Date        High         Low  \\\n",
              "0    1  Bitcoin    BTC  2013-04-29 23:59:59  147.488007  134.000000   \n",
              "1    2  Bitcoin    BTC  2013-04-30 23:59:59  146.929993  134.050003   \n",
              "2    3  Bitcoin    BTC  2013-05-01 23:59:59  139.889999  107.720001   \n",
              "3    4  Bitcoin    BTC  2013-05-02 23:59:59  125.599998   92.281898   \n",
              "4    5  Bitcoin    BTC  2013-05-03 23:59:59  108.127998   79.099998   \n",
              "\n",
              "         Open       Close  Volume     Marketcap  \n",
              "0  134.444000  144.539993     0.0  1.603769e+09  \n",
              "1  144.000000  139.000000     0.0  1.542813e+09  \n",
              "2  139.000000  116.989998     0.0  1.298955e+09  \n",
              "3  116.379997  105.209999     0.0  1.168517e+09  \n",
              "4  106.250000   97.750000     0.0  1.085995e+09  "
            ],
            "text/html": [
              "\n",
              "  <div id=\"df-438a5d5f-b432-4b94-a50a-14b46913fd14\">\n",
              "    <div class=\"colab-df-container\">\n",
              "      <div>\n",
              "<style scoped>\n",
              "    .dataframe tbody tr th:only-of-type {\n",
              "        vertical-align: middle;\n",
              "    }\n",
              "\n",
              "    .dataframe tbody tr th {\n",
              "        vertical-align: top;\n",
              "    }\n",
              "\n",
              "    .dataframe thead th {\n",
              "        text-align: right;\n",
              "    }\n",
              "</style>\n",
              "<table border=\"1\" class=\"dataframe\">\n",
              "  <thead>\n",
              "    <tr style=\"text-align: right;\">\n",
              "      <th></th>\n",
              "      <th>SNo</th>\n",
              "      <th>Name</th>\n",
              "      <th>Symbol</th>\n",
              "      <th>Date</th>\n",
              "      <th>High</th>\n",
              "      <th>Low</th>\n",
              "      <th>Open</th>\n",
              "      <th>Close</th>\n",
              "      <th>Volume</th>\n",
              "      <th>Marketcap</th>\n",
              "    </tr>\n",
              "  </thead>\n",
              "  <tbody>\n",
              "    <tr>\n",
              "      <th>0</th>\n",
              "      <td>1</td>\n",
              "      <td>Bitcoin</td>\n",
              "      <td>BTC</td>\n",
              "      <td>2013-04-29 23:59:59</td>\n",
              "      <td>147.488007</td>\n",
              "      <td>134.000000</td>\n",
              "      <td>134.444000</td>\n",
              "      <td>144.539993</td>\n",
              "      <td>0.0</td>\n",
              "      <td>1.603769e+09</td>\n",
              "    </tr>\n",
              "    <tr>\n",
              "      <th>1</th>\n",
              "      <td>2</td>\n",
              "      <td>Bitcoin</td>\n",
              "      <td>BTC</td>\n",
              "      <td>2013-04-30 23:59:59</td>\n",
              "      <td>146.929993</td>\n",
              "      <td>134.050003</td>\n",
              "      <td>144.000000</td>\n",
              "      <td>139.000000</td>\n",
              "      <td>0.0</td>\n",
              "      <td>1.542813e+09</td>\n",
              "    </tr>\n",
              "    <tr>\n",
              "      <th>2</th>\n",
              "      <td>3</td>\n",
              "      <td>Bitcoin</td>\n",
              "      <td>BTC</td>\n",
              "      <td>2013-05-01 23:59:59</td>\n",
              "      <td>139.889999</td>\n",
              "      <td>107.720001</td>\n",
              "      <td>139.000000</td>\n",
              "      <td>116.989998</td>\n",
              "      <td>0.0</td>\n",
              "      <td>1.298955e+09</td>\n",
              "    </tr>\n",
              "    <tr>\n",
              "      <th>3</th>\n",
              "      <td>4</td>\n",
              "      <td>Bitcoin</td>\n",
              "      <td>BTC</td>\n",
              "      <td>2013-05-02 23:59:59</td>\n",
              "      <td>125.599998</td>\n",
              "      <td>92.281898</td>\n",
              "      <td>116.379997</td>\n",
              "      <td>105.209999</td>\n",
              "      <td>0.0</td>\n",
              "      <td>1.168517e+09</td>\n",
              "    </tr>\n",
              "    <tr>\n",
              "      <th>4</th>\n",
              "      <td>5</td>\n",
              "      <td>Bitcoin</td>\n",
              "      <td>BTC</td>\n",
              "      <td>2013-05-03 23:59:59</td>\n",
              "      <td>108.127998</td>\n",
              "      <td>79.099998</td>\n",
              "      <td>106.250000</td>\n",
              "      <td>97.750000</td>\n",
              "      <td>0.0</td>\n",
              "      <td>1.085995e+09</td>\n",
              "    </tr>\n",
              "  </tbody>\n",
              "</table>\n",
              "</div>\n",
              "      <button class=\"colab-df-convert\" onclick=\"convertToInteractive('df-438a5d5f-b432-4b94-a50a-14b46913fd14')\"\n",
              "              title=\"Convert this dataframe to an interactive table.\"\n",
              "              style=\"display:none;\">\n",
              "        \n",
              "  <svg xmlns=\"http://www.w3.org/2000/svg\" height=\"24px\"viewBox=\"0 0 24 24\"\n",
              "       width=\"24px\">\n",
              "    <path d=\"M0 0h24v24H0V0z\" fill=\"none\"/>\n",
              "    <path d=\"M18.56 5.44l.94 2.06.94-2.06 2.06-.94-2.06-.94-.94-2.06-.94 2.06-2.06.94zm-11 1L8.5 8.5l.94-2.06 2.06-.94-2.06-.94L8.5 2.5l-.94 2.06-2.06.94zm10 10l.94 2.06.94-2.06 2.06-.94-2.06-.94-.94-2.06-.94 2.06-2.06.94z\"/><path d=\"M17.41 7.96l-1.37-1.37c-.4-.4-.92-.59-1.43-.59-.52 0-1.04.2-1.43.59L10.3 9.45l-7.72 7.72c-.78.78-.78 2.05 0 2.83L4 21.41c.39.39.9.59 1.41.59.51 0 1.02-.2 1.41-.59l7.78-7.78 2.81-2.81c.8-.78.8-2.07 0-2.86zM5.41 20L4 18.59l7.72-7.72 1.47 1.35L5.41 20z\"/>\n",
              "  </svg>\n",
              "      </button>\n",
              "      \n",
              "  <style>\n",
              "    .colab-df-container {\n",
              "      display:flex;\n",
              "      flex-wrap:wrap;\n",
              "      gap: 12px;\n",
              "    }\n",
              "\n",
              "    .colab-df-convert {\n",
              "      background-color: #E8F0FE;\n",
              "      border: none;\n",
              "      border-radius: 50%;\n",
              "      cursor: pointer;\n",
              "      display: none;\n",
              "      fill: #1967D2;\n",
              "      height: 32px;\n",
              "      padding: 0 0 0 0;\n",
              "      width: 32px;\n",
              "    }\n",
              "\n",
              "    .colab-df-convert:hover {\n",
              "      background-color: #E2EBFA;\n",
              "      box-shadow: 0px 1px 2px rgba(60, 64, 67, 0.3), 0px 1px 3px 1px rgba(60, 64, 67, 0.15);\n",
              "      fill: #174EA6;\n",
              "    }\n",
              "\n",
              "    [theme=dark] .colab-df-convert {\n",
              "      background-color: #3B4455;\n",
              "      fill: #D2E3FC;\n",
              "    }\n",
              "\n",
              "    [theme=dark] .colab-df-convert:hover {\n",
              "      background-color: #434B5C;\n",
              "      box-shadow: 0px 1px 3px 1px rgba(0, 0, 0, 0.15);\n",
              "      filter: drop-shadow(0px 1px 2px rgba(0, 0, 0, 0.3));\n",
              "      fill: #FFFFFF;\n",
              "    }\n",
              "  </style>\n",
              "\n",
              "      <script>\n",
              "        const buttonEl =\n",
              "          document.querySelector('#df-438a5d5f-b432-4b94-a50a-14b46913fd14 button.colab-df-convert');\n",
              "        buttonEl.style.display =\n",
              "          google.colab.kernel.accessAllowed ? 'block' : 'none';\n",
              "\n",
              "        async function convertToInteractive(key) {\n",
              "          const element = document.querySelector('#df-438a5d5f-b432-4b94-a50a-14b46913fd14');\n",
              "          const dataTable =\n",
              "            await google.colab.kernel.invokeFunction('convertToInteractive',\n",
              "                                                     [key], {});\n",
              "          if (!dataTable) return;\n",
              "\n",
              "          const docLinkHtml = 'Like what you see? Visit the ' +\n",
              "            '<a target=\"_blank\" href=https://colab.research.google.com/notebooks/data_table.ipynb>data table notebook</a>'\n",
              "            + ' to learn more about interactive tables.';\n",
              "          element.innerHTML = '';\n",
              "          dataTable['output_type'] = 'display_data';\n",
              "          await google.colab.output.renderOutput(dataTable, element);\n",
              "          const docLink = document.createElement('div');\n",
              "          docLink.innerHTML = docLinkHtml;\n",
              "          element.appendChild(docLink);\n",
              "        }\n",
              "      </script>\n",
              "    </div>\n",
              "  </div>\n",
              "  "
            ]
          },
          "metadata": {},
          "execution_count": 18
        }
      ]
    },
    {
      "cell_type": "code",
      "source": [
        "df.tail()"
      ],
      "metadata": {
        "execution": {
          "iopub.status.busy": "2023-05-24T15:49:21.092853Z",
          "iopub.execute_input": "2023-05-24T15:49:21.093228Z",
          "iopub.status.idle": "2023-05-24T15:49:21.111963Z",
          "shell.execute_reply.started": "2023-05-24T15:49:21.093192Z",
          "shell.execute_reply": "2023-05-24T15:49:21.111058Z"
        },
        "trusted": true,
        "colab": {
          "base_uri": "https://localhost:8080/",
          "height": 206
        },
        "id": "lSsWaEJJdDS_",
        "outputId": "0910fdc2-4173-4edf-e33e-33593417f998"
      },
      "execution_count": 19,
      "outputs": [
        {
          "output_type": "execute_result",
          "data": {
            "text/plain": [
              "       SNo      Name Symbol                 Date      High       Low  \\\n",
              "997    998  USD Coin   USDC  2021-07-02 23:59:59  1.000916  0.999966   \n",
              "998    999  USD Coin   USDC  2021-07-03 23:59:59  1.000670  0.999925   \n",
              "999   1000  USD Coin   USDC  2021-07-04 23:59:59  1.000187  0.998901   \n",
              "1000  1001  USD Coin   USDC  2021-07-05 23:59:59  1.000839  0.999459   \n",
              "1001  1002  USD Coin   USDC  2021-07-06 23:59:59  1.000731  0.999662   \n",
              "\n",
              "          Open     Close        Volume     Marketcap  \n",
              "997   1.000177  1.000035  1.787896e+09  2.539775e+10  \n",
              "998   1.000048  0.999984  1.491017e+09  2.550437e+10  \n",
              "999   0.999956  0.999500  1.578667e+09  2.551172e+10  \n",
              "1000  0.999565  1.000528  1.887496e+09  2.554724e+10  \n",
              "1001  1.000501  1.000059  2.312602e+09  2.567322e+10  "
            ],
            "text/html": [
              "\n",
              "  <div id=\"df-ea3dfd00-02a6-453d-bc68-a72d795b0621\">\n",
              "    <div class=\"colab-df-container\">\n",
              "      <div>\n",
              "<style scoped>\n",
              "    .dataframe tbody tr th:only-of-type {\n",
              "        vertical-align: middle;\n",
              "    }\n",
              "\n",
              "    .dataframe tbody tr th {\n",
              "        vertical-align: top;\n",
              "    }\n",
              "\n",
              "    .dataframe thead th {\n",
              "        text-align: right;\n",
              "    }\n",
              "</style>\n",
              "<table border=\"1\" class=\"dataframe\">\n",
              "  <thead>\n",
              "    <tr style=\"text-align: right;\">\n",
              "      <th></th>\n",
              "      <th>SNo</th>\n",
              "      <th>Name</th>\n",
              "      <th>Symbol</th>\n",
              "      <th>Date</th>\n",
              "      <th>High</th>\n",
              "      <th>Low</th>\n",
              "      <th>Open</th>\n",
              "      <th>Close</th>\n",
              "      <th>Volume</th>\n",
              "      <th>Marketcap</th>\n",
              "    </tr>\n",
              "  </thead>\n",
              "  <tbody>\n",
              "    <tr>\n",
              "      <th>997</th>\n",
              "      <td>998</td>\n",
              "      <td>USD Coin</td>\n",
              "      <td>USDC</td>\n",
              "      <td>2021-07-02 23:59:59</td>\n",
              "      <td>1.000916</td>\n",
              "      <td>0.999966</td>\n",
              "      <td>1.000177</td>\n",
              "      <td>1.000035</td>\n",
              "      <td>1.787896e+09</td>\n",
              "      <td>2.539775e+10</td>\n",
              "    </tr>\n",
              "    <tr>\n",
              "      <th>998</th>\n",
              "      <td>999</td>\n",
              "      <td>USD Coin</td>\n",
              "      <td>USDC</td>\n",
              "      <td>2021-07-03 23:59:59</td>\n",
              "      <td>1.000670</td>\n",
              "      <td>0.999925</td>\n",
              "      <td>1.000048</td>\n",
              "      <td>0.999984</td>\n",
              "      <td>1.491017e+09</td>\n",
              "      <td>2.550437e+10</td>\n",
              "    </tr>\n",
              "    <tr>\n",
              "      <th>999</th>\n",
              "      <td>1000</td>\n",
              "      <td>USD Coin</td>\n",
              "      <td>USDC</td>\n",
              "      <td>2021-07-04 23:59:59</td>\n",
              "      <td>1.000187</td>\n",
              "      <td>0.998901</td>\n",
              "      <td>0.999956</td>\n",
              "      <td>0.999500</td>\n",
              "      <td>1.578667e+09</td>\n",
              "      <td>2.551172e+10</td>\n",
              "    </tr>\n",
              "    <tr>\n",
              "      <th>1000</th>\n",
              "      <td>1001</td>\n",
              "      <td>USD Coin</td>\n",
              "      <td>USDC</td>\n",
              "      <td>2021-07-05 23:59:59</td>\n",
              "      <td>1.000839</td>\n",
              "      <td>0.999459</td>\n",
              "      <td>0.999565</td>\n",
              "      <td>1.000528</td>\n",
              "      <td>1.887496e+09</td>\n",
              "      <td>2.554724e+10</td>\n",
              "    </tr>\n",
              "    <tr>\n",
              "      <th>1001</th>\n",
              "      <td>1002</td>\n",
              "      <td>USD Coin</td>\n",
              "      <td>USDC</td>\n",
              "      <td>2021-07-06 23:59:59</td>\n",
              "      <td>1.000731</td>\n",
              "      <td>0.999662</td>\n",
              "      <td>1.000501</td>\n",
              "      <td>1.000059</td>\n",
              "      <td>2.312602e+09</td>\n",
              "      <td>2.567322e+10</td>\n",
              "    </tr>\n",
              "  </tbody>\n",
              "</table>\n",
              "</div>\n",
              "      <button class=\"colab-df-convert\" onclick=\"convertToInteractive('df-ea3dfd00-02a6-453d-bc68-a72d795b0621')\"\n",
              "              title=\"Convert this dataframe to an interactive table.\"\n",
              "              style=\"display:none;\">\n",
              "        \n",
              "  <svg xmlns=\"http://www.w3.org/2000/svg\" height=\"24px\"viewBox=\"0 0 24 24\"\n",
              "       width=\"24px\">\n",
              "    <path d=\"M0 0h24v24H0V0z\" fill=\"none\"/>\n",
              "    <path d=\"M18.56 5.44l.94 2.06.94-2.06 2.06-.94-2.06-.94-.94-2.06-.94 2.06-2.06.94zm-11 1L8.5 8.5l.94-2.06 2.06-.94-2.06-.94L8.5 2.5l-.94 2.06-2.06.94zm10 10l.94 2.06.94-2.06 2.06-.94-2.06-.94-.94-2.06-.94 2.06-2.06.94z\"/><path d=\"M17.41 7.96l-1.37-1.37c-.4-.4-.92-.59-1.43-.59-.52 0-1.04.2-1.43.59L10.3 9.45l-7.72 7.72c-.78.78-.78 2.05 0 2.83L4 21.41c.39.39.9.59 1.41.59.51 0 1.02-.2 1.41-.59l7.78-7.78 2.81-2.81c.8-.78.8-2.07 0-2.86zM5.41 20L4 18.59l7.72-7.72 1.47 1.35L5.41 20z\"/>\n",
              "  </svg>\n",
              "      </button>\n",
              "      \n",
              "  <style>\n",
              "    .colab-df-container {\n",
              "      display:flex;\n",
              "      flex-wrap:wrap;\n",
              "      gap: 12px;\n",
              "    }\n",
              "\n",
              "    .colab-df-convert {\n",
              "      background-color: #E8F0FE;\n",
              "      border: none;\n",
              "      border-radius: 50%;\n",
              "      cursor: pointer;\n",
              "      display: none;\n",
              "      fill: #1967D2;\n",
              "      height: 32px;\n",
              "      padding: 0 0 0 0;\n",
              "      width: 32px;\n",
              "    }\n",
              "\n",
              "    .colab-df-convert:hover {\n",
              "      background-color: #E2EBFA;\n",
              "      box-shadow: 0px 1px 2px rgba(60, 64, 67, 0.3), 0px 1px 3px 1px rgba(60, 64, 67, 0.15);\n",
              "      fill: #174EA6;\n",
              "    }\n",
              "\n",
              "    [theme=dark] .colab-df-convert {\n",
              "      background-color: #3B4455;\n",
              "      fill: #D2E3FC;\n",
              "    }\n",
              "\n",
              "    [theme=dark] .colab-df-convert:hover {\n",
              "      background-color: #434B5C;\n",
              "      box-shadow: 0px 1px 3px 1px rgba(0, 0, 0, 0.15);\n",
              "      filter: drop-shadow(0px 1px 2px rgba(0, 0, 0, 0.3));\n",
              "      fill: #FFFFFF;\n",
              "    }\n",
              "  </style>\n",
              "\n",
              "      <script>\n",
              "        const buttonEl =\n",
              "          document.querySelector('#df-ea3dfd00-02a6-453d-bc68-a72d795b0621 button.colab-df-convert');\n",
              "        buttonEl.style.display =\n",
              "          google.colab.kernel.accessAllowed ? 'block' : 'none';\n",
              "\n",
              "        async function convertToInteractive(key) {\n",
              "          const element = document.querySelector('#df-ea3dfd00-02a6-453d-bc68-a72d795b0621');\n",
              "          const dataTable =\n",
              "            await google.colab.kernel.invokeFunction('convertToInteractive',\n",
              "                                                     [key], {});\n",
              "          if (!dataTable) return;\n",
              "\n",
              "          const docLinkHtml = 'Like what you see? Visit the ' +\n",
              "            '<a target=\"_blank\" href=https://colab.research.google.com/notebooks/data_table.ipynb>data table notebook</a>'\n",
              "            + ' to learn more about interactive tables.';\n",
              "          element.innerHTML = '';\n",
              "          dataTable['output_type'] = 'display_data';\n",
              "          await google.colab.output.renderOutput(dataTable, element);\n",
              "          const docLink = document.createElement('div');\n",
              "          docLink.innerHTML = docLinkHtml;\n",
              "          element.appendChild(docLink);\n",
              "        }\n",
              "      </script>\n",
              "    </div>\n",
              "  </div>\n",
              "  "
            ]
          },
          "metadata": {},
          "execution_count": 19
        }
      ]
    },
    {
      "cell_type": "code",
      "source": [
        "df.sum()"
      ],
      "metadata": {
        "execution": {
          "iopub.status.busy": "2023-05-24T15:49:21.113391Z",
          "iopub.execute_input": "2023-05-24T15:49:21.113749Z",
          "iopub.status.idle": "2023-05-24T15:49:21.221506Z",
          "shell.execute_reply.started": "2023-05-24T15:49:21.113702Z",
          "shell.execute_reply": "2023-05-24T15:49:21.220537Z"
        },
        "trusted": true,
        "colab": {
          "base_uri": "https://localhost:8080/"
        },
        "id": "Ofq-vTx0dDS_",
        "outputId": "861d2363-40b0-40b7-8743-bf743e443523"
      },
      "execution_count": 20,
      "outputs": [
        {
          "output_type": "execute_result",
          "data": {
            "text/plain": [
              "SNo                                                   15971626\n",
              "Name         BitcoinBitcoinBitcoinBitcoinBitcoinBitcoinBitc...\n",
              "Symbol       BTCBTCBTCBTCBTCBTCBTCBTCBTCBTCBTCBTCBTCBTCBTCB...\n",
              "Date         2013-04-29 23:59:592013-04-30 23:59:592013-05-...\n",
              "High                                           21633473.513923\n",
              "Low                                            20331348.557578\n",
              "Open                                           21016141.177212\n",
              "Close                                          21051795.367431\n",
              "Volume                                   56005776688965.554688\n",
              "Marketcap                                 491468993459787.0625\n",
              "dtype: object"
            ]
          },
          "metadata": {},
          "execution_count": 20
        }
      ]
    },
    {
      "cell_type": "code",
      "source": [
        "df['Name'].value_counts()"
      ],
      "metadata": {
        "execution": {
          "iopub.status.busy": "2023-05-24T15:49:21.222659Z",
          "iopub.execute_input": "2023-05-24T15:49:21.223129Z",
          "iopub.status.idle": "2023-05-24T15:49:21.235314Z",
          "shell.execute_reply.started": "2023-05-24T15:49:21.223087Z",
          "shell.execute_reply": "2023-05-24T15:49:21.234208Z"
        },
        "trusted": true,
        "colab": {
          "base_uri": "https://localhost:8080/"
        },
        "id": "sS1GGqKFdDS_",
        "outputId": "697d3f2b-fd08-4ccb-f5d8-30010763e605"
      },
      "execution_count": 21,
      "outputs": [
        {
          "output_type": "execute_result",
          "data": {
            "text/plain": [
              "Bitcoin     2991\n",
              "Litecoin    2991\n",
              "XRP         2893\n",
              "Ethereum    2160\n",
              "USD Coin    1002\n",
              "Name: Name, dtype: int64"
            ]
          },
          "metadata": {},
          "execution_count": 21
        }
      ]
    },
    {
      "cell_type": "code",
      "source": [
        "df.isnull().sum()"
      ],
      "metadata": {
        "execution": {
          "iopub.status.busy": "2023-05-24T15:49:21.236916Z",
          "iopub.execute_input": "2023-05-24T15:49:21.237374Z",
          "iopub.status.idle": "2023-05-24T15:49:21.259553Z",
          "shell.execute_reply.started": "2023-05-24T15:49:21.237335Z",
          "shell.execute_reply": "2023-05-24T15:49:21.258602Z"
        },
        "trusted": true,
        "colab": {
          "base_uri": "https://localhost:8080/"
        },
        "id": "CNVmYibIdDTA",
        "outputId": "48af2970-66c1-4f91-8883-7fd946f54875"
      },
      "execution_count": 22,
      "outputs": [
        {
          "output_type": "execute_result",
          "data": {
            "text/plain": [
              "SNo          0\n",
              "Name         0\n",
              "Symbol       0\n",
              "Date         0\n",
              "High         0\n",
              "Low          0\n",
              "Open         0\n",
              "Close        0\n",
              "Volume       0\n",
              "Marketcap    0\n",
              "dtype: int64"
            ]
          },
          "metadata": {},
          "execution_count": 22
        }
      ]
    },
    {
      "cell_type": "code",
      "source": [
        "df.isnull().count()"
      ],
      "metadata": {
        "execution": {
          "iopub.status.busy": "2023-05-24T15:49:21.261296Z",
          "iopub.execute_input": "2023-05-24T15:49:21.261768Z",
          "iopub.status.idle": "2023-05-24T15:49:21.285644Z",
          "shell.execute_reply.started": "2023-05-24T15:49:21.261702Z",
          "shell.execute_reply": "2023-05-24T15:49:21.284629Z"
        },
        "trusted": true,
        "colab": {
          "base_uri": "https://localhost:8080/"
        },
        "id": "Dmbx_N4WdDTA",
        "outputId": "56135aa3-6bac-448a-e616-6b9284d590fc"
      },
      "execution_count": 23,
      "outputs": [
        {
          "output_type": "execute_result",
          "data": {
            "text/plain": [
              "SNo          12037\n",
              "Name         12037\n",
              "Symbol       12037\n",
              "Date         12037\n",
              "High         12037\n",
              "Low          12037\n",
              "Open         12037\n",
              "Close        12037\n",
              "Volume       12037\n",
              "Marketcap    12037\n",
              "dtype: int64"
            ]
          },
          "metadata": {},
          "execution_count": 23
        }
      ]
    },
    {
      "cell_type": "code",
      "source": [
        "\n",
        "# Get the shape of the merged dataset\n",
        "rows, columns = df.shape\n",
        "\n",
        "print(\"Number of rows:\", rows)\n",
        "print(\"Number of columns:\", columns)\n"
      ],
      "metadata": {
        "execution": {
          "iopub.status.busy": "2023-05-24T15:49:21.288830Z",
          "iopub.execute_input": "2023-05-24T15:49:21.289211Z",
          "iopub.status.idle": "2023-05-24T15:49:21.294530Z",
          "shell.execute_reply.started": "2023-05-24T15:49:21.289173Z",
          "shell.execute_reply": "2023-05-24T15:49:21.293731Z"
        },
        "trusted": true,
        "colab": {
          "base_uri": "https://localhost:8080/"
        },
        "id": "UuLmJ4I5dDTB",
        "outputId": "de4454f2-b651-447a-c6e1-093992d50f2a"
      },
      "execution_count": 24,
      "outputs": [
        {
          "output_type": "stream",
          "name": "stdout",
          "text": [
            "Number of rows: 12037\n",
            "Number of columns: 10\n"
          ]
        }
      ]
    },
    {
      "cell_type": "code",
      "source": [
        "\n",
        "# Convert the 'Date' column to datetime\n",
        "df['Date'] = pd.to_datetime(df['Date'])\n",
        "\n",
        "# Group the data by each coin\n",
        "grouped_df = df.groupby('Symbol')\n",
        "\n",
        "# Calculate the date duration for each coin\n",
        "for symbol, group in grouped_df:\n",
        "    min_date = group['Date'].min()\n",
        "    max_date = group['Date'].max()\n",
        "    duration = max_date - min_date\n",
        "    \n",
        "    print(\"Coin:\", symbol)\n",
        "    print(\"Start Date:\", min_date)\n",
        "    print(\"End Date:\", max_date)\n",
        "    print(\"Date Duration:\", duration)\n",
        "    print()\n"
      ],
      "metadata": {
        "execution": {
          "iopub.status.busy": "2023-05-24T15:49:21.295999Z",
          "iopub.execute_input": "2023-05-24T15:49:21.296381Z",
          "iopub.status.idle": "2023-05-24T15:49:21.323900Z",
          "shell.execute_reply.started": "2023-05-24T15:49:21.296342Z",
          "shell.execute_reply": "2023-05-24T15:49:21.322801Z"
        },
        "trusted": true,
        "id": "56bYH3l_dDTB",
        "colab": {
          "base_uri": "https://localhost:8080/"
        },
        "outputId": "e7212279-875d-4508-92a5-7a4a3c88cd26"
      },
      "execution_count": 25,
      "outputs": [
        {
          "output_type": "stream",
          "name": "stdout",
          "text": [
            "Coin: BTC\n",
            "Start Date: 2013-04-29 23:59:59\n",
            "End Date: 2021-07-06 23:59:59\n",
            "Date Duration: 2990 days 00:00:00\n",
            "\n",
            "Coin: ETH\n",
            "Start Date: 2015-08-08 23:59:59\n",
            "End Date: 2021-07-06 23:59:59\n",
            "Date Duration: 2159 days 00:00:00\n",
            "\n",
            "Coin: LTC\n",
            "Start Date: 2013-04-29 23:59:59\n",
            "End Date: 2021-07-06 23:59:59\n",
            "Date Duration: 2990 days 00:00:00\n",
            "\n",
            "Coin: USDC\n",
            "Start Date: 2018-10-09 23:59:59\n",
            "End Date: 2021-07-06 23:59:59\n",
            "Date Duration: 1001 days 00:00:00\n",
            "\n",
            "Coin: XRP\n",
            "Start Date: 2013-08-05 23:59:59\n",
            "End Date: 2021-07-06 23:59:59\n",
            "Date Duration: 2892 days 00:00:00\n",
            "\n"
          ]
        }
      ]
    },
    {
      "cell_type": "code",
      "source": [
        "df.Name.unique()"
      ],
      "metadata": {
        "id": "kDSGRpXR99Sv",
        "colab": {
          "base_uri": "https://localhost:8080/"
        },
        "outputId": "0e58e2da-29b0-4d6d-fbf4-d068f18ce727"
      },
      "execution_count": 26,
      "outputs": [
        {
          "output_type": "execute_result",
          "data": {
            "text/plain": [
              "array(['Bitcoin', 'Ethereum', 'XRP', 'Litecoin', 'USD Coin'], dtype=object)"
            ]
          },
          "metadata": {},
          "execution_count": 26
        }
      ]
    },
    {
      "cell_type": "code",
      "source": [
        "df.Symbol.unique()"
      ],
      "metadata": {
        "colab": {
          "base_uri": "https://localhost:8080/"
        },
        "id": "WhjUUUuHFzm2",
        "outputId": "260f2076-2452-4bd4-94b6-77b78dc8d159"
      },
      "execution_count": 27,
      "outputs": [
        {
          "output_type": "execute_result",
          "data": {
            "text/plain": [
              "array(['BTC', 'ETH', 'XRP', 'LTC', 'USDC'], dtype=object)"
            ]
          },
          "metadata": {},
          "execution_count": 27
        }
      ]
    },
    {
      "cell_type": "code",
      "source": [
        "df.columns"
      ],
      "metadata": {
        "colab": {
          "base_uri": "https://localhost:8080/"
        },
        "id": "n-f--lDnF3u5",
        "outputId": "a410363a-3b7a-4aa5-9610-7d905be8a9c1"
      },
      "execution_count": 28,
      "outputs": [
        {
          "output_type": "execute_result",
          "data": {
            "text/plain": [
              "Index(['SNo', 'Name', 'Symbol', 'Date', 'High', 'Low', 'Open', 'Close',\n",
              "       'Volume', 'Marketcap'],\n",
              "      dtype='object')"
            ]
          },
          "metadata": {},
          "execution_count": 28
        }
      ]
    },
    {
      "cell_type": "code",
      "source": [
        "df.info()"
      ],
      "metadata": {
        "colab": {
          "base_uri": "https://localhost:8080/"
        },
        "id": "Pag8-RTaF7-w",
        "outputId": "1df7d41c-4552-439a-b51f-2fccd240e59d"
      },
      "execution_count": 30,
      "outputs": [
        {
          "output_type": "stream",
          "name": "stdout",
          "text": [
            "<class 'pandas.core.frame.DataFrame'>\n",
            "Int64Index: 12037 entries, 0 to 1001\n",
            "Data columns (total 10 columns):\n",
            " #   Column     Non-Null Count  Dtype         \n",
            "---  ------     --------------  -----         \n",
            " 0   SNo        12037 non-null  int64         \n",
            " 1   Name       12037 non-null  object        \n",
            " 2   Symbol     12037 non-null  object        \n",
            " 3   Date       12037 non-null  datetime64[ns]\n",
            " 4   High       12037 non-null  float64       \n",
            " 5   Low        12037 non-null  float64       \n",
            " 6   Open       12037 non-null  float64       \n",
            " 7   Close      12037 non-null  float64       \n",
            " 8   Volume     12037 non-null  float64       \n",
            " 9   Marketcap  12037 non-null  float64       \n",
            "dtypes: datetime64[ns](1), float64(6), int64(1), object(2)\n",
            "memory usage: 1.0+ MB\n"
          ]
        }
      ]
    },
    {
      "cell_type": "code",
      "source": [
        "df.describe()"
      ],
      "metadata": {
        "colab": {
          "base_uri": "https://localhost:8080/",
          "height": 300
        },
        "id": "YiF_hs5_GFMF",
        "outputId": "db8c1097-888f-4eb0-be33-a535f69d3466"
      },
      "execution_count": 31,
      "outputs": [
        {
          "output_type": "execute_result",
          "data": {
            "text/plain": [
              "                SNo          High           Low          Open         Close  \\\n",
              "count  12037.000000  12037.000000  12037.000000  12037.000000  12037.000000   \n",
              "mean    1326.877627   1797.247945   1689.071077   1745.961716   1748.923766   \n",
              "std      836.777590   6507.990175   6085.346811   6312.961050   6319.601286   \n",
              "min        1.000000      0.003082      0.002802      0.002809      0.002810   \n",
              "25%      602.000000      1.000692      0.990570      0.999090      0.999228   \n",
              "50%     1255.000000     33.345750     30.523111     32.016525     32.001958   \n",
              "75%     2007.000000    372.767424    350.941986    360.312012    361.045990   \n",
              "max     2991.000000  64863.098908  62208.964366  63523.754869  63503.457930   \n",
              "\n",
              "             Volume     Marketcap  \n",
              "count  1.203700e+04  1.203700e+04  \n",
              "mean   4.652802e+09  4.082986e+10  \n",
              "std    1.141572e+10  1.194340e+11  \n",
              "min    0.000000e+00  0.000000e+00  \n",
              "25%    5.895540e+06  3.682208e+08  \n",
              "50%    3.204215e+08  5.655924e+09  \n",
              "75%    3.146472e+09  2.090613e+10  \n",
              "max    3.509679e+11  1.186364e+12  "
            ],
            "text/html": [
              "\n",
              "  <div id=\"df-e5dd00c1-9745-45bb-a3ff-fe13a1c82381\">\n",
              "    <div class=\"colab-df-container\">\n",
              "      <div>\n",
              "<style scoped>\n",
              "    .dataframe tbody tr th:only-of-type {\n",
              "        vertical-align: middle;\n",
              "    }\n",
              "\n",
              "    .dataframe tbody tr th {\n",
              "        vertical-align: top;\n",
              "    }\n",
              "\n",
              "    .dataframe thead th {\n",
              "        text-align: right;\n",
              "    }\n",
              "</style>\n",
              "<table border=\"1\" class=\"dataframe\">\n",
              "  <thead>\n",
              "    <tr style=\"text-align: right;\">\n",
              "      <th></th>\n",
              "      <th>SNo</th>\n",
              "      <th>High</th>\n",
              "      <th>Low</th>\n",
              "      <th>Open</th>\n",
              "      <th>Close</th>\n",
              "      <th>Volume</th>\n",
              "      <th>Marketcap</th>\n",
              "    </tr>\n",
              "  </thead>\n",
              "  <tbody>\n",
              "    <tr>\n",
              "      <th>count</th>\n",
              "      <td>12037.000000</td>\n",
              "      <td>12037.000000</td>\n",
              "      <td>12037.000000</td>\n",
              "      <td>12037.000000</td>\n",
              "      <td>12037.000000</td>\n",
              "      <td>1.203700e+04</td>\n",
              "      <td>1.203700e+04</td>\n",
              "    </tr>\n",
              "    <tr>\n",
              "      <th>mean</th>\n",
              "      <td>1326.877627</td>\n",
              "      <td>1797.247945</td>\n",
              "      <td>1689.071077</td>\n",
              "      <td>1745.961716</td>\n",
              "      <td>1748.923766</td>\n",
              "      <td>4.652802e+09</td>\n",
              "      <td>4.082986e+10</td>\n",
              "    </tr>\n",
              "    <tr>\n",
              "      <th>std</th>\n",
              "      <td>836.777590</td>\n",
              "      <td>6507.990175</td>\n",
              "      <td>6085.346811</td>\n",
              "      <td>6312.961050</td>\n",
              "      <td>6319.601286</td>\n",
              "      <td>1.141572e+10</td>\n",
              "      <td>1.194340e+11</td>\n",
              "    </tr>\n",
              "    <tr>\n",
              "      <th>min</th>\n",
              "      <td>1.000000</td>\n",
              "      <td>0.003082</td>\n",
              "      <td>0.002802</td>\n",
              "      <td>0.002809</td>\n",
              "      <td>0.002810</td>\n",
              "      <td>0.000000e+00</td>\n",
              "      <td>0.000000e+00</td>\n",
              "    </tr>\n",
              "    <tr>\n",
              "      <th>25%</th>\n",
              "      <td>602.000000</td>\n",
              "      <td>1.000692</td>\n",
              "      <td>0.990570</td>\n",
              "      <td>0.999090</td>\n",
              "      <td>0.999228</td>\n",
              "      <td>5.895540e+06</td>\n",
              "      <td>3.682208e+08</td>\n",
              "    </tr>\n",
              "    <tr>\n",
              "      <th>50%</th>\n",
              "      <td>1255.000000</td>\n",
              "      <td>33.345750</td>\n",
              "      <td>30.523111</td>\n",
              "      <td>32.016525</td>\n",
              "      <td>32.001958</td>\n",
              "      <td>3.204215e+08</td>\n",
              "      <td>5.655924e+09</td>\n",
              "    </tr>\n",
              "    <tr>\n",
              "      <th>75%</th>\n",
              "      <td>2007.000000</td>\n",
              "      <td>372.767424</td>\n",
              "      <td>350.941986</td>\n",
              "      <td>360.312012</td>\n",
              "      <td>361.045990</td>\n",
              "      <td>3.146472e+09</td>\n",
              "      <td>2.090613e+10</td>\n",
              "    </tr>\n",
              "    <tr>\n",
              "      <th>max</th>\n",
              "      <td>2991.000000</td>\n",
              "      <td>64863.098908</td>\n",
              "      <td>62208.964366</td>\n",
              "      <td>63523.754869</td>\n",
              "      <td>63503.457930</td>\n",
              "      <td>3.509679e+11</td>\n",
              "      <td>1.186364e+12</td>\n",
              "    </tr>\n",
              "  </tbody>\n",
              "</table>\n",
              "</div>\n",
              "      <button class=\"colab-df-convert\" onclick=\"convertToInteractive('df-e5dd00c1-9745-45bb-a3ff-fe13a1c82381')\"\n",
              "              title=\"Convert this dataframe to an interactive table.\"\n",
              "              style=\"display:none;\">\n",
              "        \n",
              "  <svg xmlns=\"http://www.w3.org/2000/svg\" height=\"24px\"viewBox=\"0 0 24 24\"\n",
              "       width=\"24px\">\n",
              "    <path d=\"M0 0h24v24H0V0z\" fill=\"none\"/>\n",
              "    <path d=\"M18.56 5.44l.94 2.06.94-2.06 2.06-.94-2.06-.94-.94-2.06-.94 2.06-2.06.94zm-11 1L8.5 8.5l.94-2.06 2.06-.94-2.06-.94L8.5 2.5l-.94 2.06-2.06.94zm10 10l.94 2.06.94-2.06 2.06-.94-2.06-.94-.94-2.06-.94 2.06-2.06.94z\"/><path d=\"M17.41 7.96l-1.37-1.37c-.4-.4-.92-.59-1.43-.59-.52 0-1.04.2-1.43.59L10.3 9.45l-7.72 7.72c-.78.78-.78 2.05 0 2.83L4 21.41c.39.39.9.59 1.41.59.51 0 1.02-.2 1.41-.59l7.78-7.78 2.81-2.81c.8-.78.8-2.07 0-2.86zM5.41 20L4 18.59l7.72-7.72 1.47 1.35L5.41 20z\"/>\n",
              "  </svg>\n",
              "      </button>\n",
              "      \n",
              "  <style>\n",
              "    .colab-df-container {\n",
              "      display:flex;\n",
              "      flex-wrap:wrap;\n",
              "      gap: 12px;\n",
              "    }\n",
              "\n",
              "    .colab-df-convert {\n",
              "      background-color: #E8F0FE;\n",
              "      border: none;\n",
              "      border-radius: 50%;\n",
              "      cursor: pointer;\n",
              "      display: none;\n",
              "      fill: #1967D2;\n",
              "      height: 32px;\n",
              "      padding: 0 0 0 0;\n",
              "      width: 32px;\n",
              "    }\n",
              "\n",
              "    .colab-df-convert:hover {\n",
              "      background-color: #E2EBFA;\n",
              "      box-shadow: 0px 1px 2px rgba(60, 64, 67, 0.3), 0px 1px 3px 1px rgba(60, 64, 67, 0.15);\n",
              "      fill: #174EA6;\n",
              "    }\n",
              "\n",
              "    [theme=dark] .colab-df-convert {\n",
              "      background-color: #3B4455;\n",
              "      fill: #D2E3FC;\n",
              "    }\n",
              "\n",
              "    [theme=dark] .colab-df-convert:hover {\n",
              "      background-color: #434B5C;\n",
              "      box-shadow: 0px 1px 3px 1px rgba(0, 0, 0, 0.15);\n",
              "      filter: drop-shadow(0px 1px 2px rgba(0, 0, 0, 0.3));\n",
              "      fill: #FFFFFF;\n",
              "    }\n",
              "  </style>\n",
              "\n",
              "      <script>\n",
              "        const buttonEl =\n",
              "          document.querySelector('#df-e5dd00c1-9745-45bb-a3ff-fe13a1c82381 button.colab-df-convert');\n",
              "        buttonEl.style.display =\n",
              "          google.colab.kernel.accessAllowed ? 'block' : 'none';\n",
              "\n",
              "        async function convertToInteractive(key) {\n",
              "          const element = document.querySelector('#df-e5dd00c1-9745-45bb-a3ff-fe13a1c82381');\n",
              "          const dataTable =\n",
              "            await google.colab.kernel.invokeFunction('convertToInteractive',\n",
              "                                                     [key], {});\n",
              "          if (!dataTable) return;\n",
              "\n",
              "          const docLinkHtml = 'Like what you see? Visit the ' +\n",
              "            '<a target=\"_blank\" href=https://colab.research.google.com/notebooks/data_table.ipynb>data table notebook</a>'\n",
              "            + ' to learn more about interactive tables.';\n",
              "          element.innerHTML = '';\n",
              "          dataTable['output_type'] = 'display_data';\n",
              "          await google.colab.output.renderOutput(dataTable, element);\n",
              "          const docLink = document.createElement('div');\n",
              "          docLink.innerHTML = docLinkHtml;\n",
              "          element.appendChild(docLink);\n",
              "        }\n",
              "      </script>\n",
              "    </div>\n",
              "  </div>\n",
              "  "
            ]
          },
          "metadata": {},
          "execution_count": 31
        }
      ]
    },
    {
      "cell_type": "code",
      "source": [
        "df.describe().transpose()"
      ],
      "metadata": {
        "colab": {
          "base_uri": "https://localhost:8080/",
          "height": 269
        },
        "id": "PZPfc3atGWlh",
        "outputId": "60efd83d-8754-44bf-b9ff-3e0e128e0a48"
      },
      "execution_count": 32,
      "outputs": [
        {
          "output_type": "execute_result",
          "data": {
            "text/plain": [
              "             count          mean           std       min           25%  \\\n",
              "SNo        12037.0  1.326878e+03  8.367776e+02  1.000000  6.020000e+02   \n",
              "High       12037.0  1.797248e+03  6.507990e+03  0.003082  1.000692e+00   \n",
              "Low        12037.0  1.689071e+03  6.085347e+03  0.002802  9.905703e-01   \n",
              "Open       12037.0  1.745962e+03  6.312961e+03  0.002809  9.990903e-01   \n",
              "Close      12037.0  1.748924e+03  6.319601e+03  0.002810  9.992283e-01   \n",
              "Volume     12037.0  4.652802e+09  1.141572e+10  0.000000  5.895540e+06   \n",
              "Marketcap  12037.0  4.082986e+10  1.194340e+11  0.000000  3.682208e+08   \n",
              "\n",
              "                    50%           75%           max  \n",
              "SNo        1.255000e+03  2.007000e+03  2.991000e+03  \n",
              "High       3.334575e+01  3.727674e+02  6.486310e+04  \n",
              "Low        3.052311e+01  3.509420e+02  6.220896e+04  \n",
              "Open       3.201653e+01  3.603120e+02  6.352375e+04  \n",
              "Close      3.200196e+01  3.610460e+02  6.350346e+04  \n",
              "Volume     3.204215e+08  3.146472e+09  3.509679e+11  \n",
              "Marketcap  5.655924e+09  2.090613e+10  1.186364e+12  "
            ],
            "text/html": [
              "\n",
              "  <div id=\"df-69212199-87a0-4d0b-9f4f-eaa3a2d3b40f\">\n",
              "    <div class=\"colab-df-container\">\n",
              "      <div>\n",
              "<style scoped>\n",
              "    .dataframe tbody tr th:only-of-type {\n",
              "        vertical-align: middle;\n",
              "    }\n",
              "\n",
              "    .dataframe tbody tr th {\n",
              "        vertical-align: top;\n",
              "    }\n",
              "\n",
              "    .dataframe thead th {\n",
              "        text-align: right;\n",
              "    }\n",
              "</style>\n",
              "<table border=\"1\" class=\"dataframe\">\n",
              "  <thead>\n",
              "    <tr style=\"text-align: right;\">\n",
              "      <th></th>\n",
              "      <th>count</th>\n",
              "      <th>mean</th>\n",
              "      <th>std</th>\n",
              "      <th>min</th>\n",
              "      <th>25%</th>\n",
              "      <th>50%</th>\n",
              "      <th>75%</th>\n",
              "      <th>max</th>\n",
              "    </tr>\n",
              "  </thead>\n",
              "  <tbody>\n",
              "    <tr>\n",
              "      <th>SNo</th>\n",
              "      <td>12037.0</td>\n",
              "      <td>1.326878e+03</td>\n",
              "      <td>8.367776e+02</td>\n",
              "      <td>1.000000</td>\n",
              "      <td>6.020000e+02</td>\n",
              "      <td>1.255000e+03</td>\n",
              "      <td>2.007000e+03</td>\n",
              "      <td>2.991000e+03</td>\n",
              "    </tr>\n",
              "    <tr>\n",
              "      <th>High</th>\n",
              "      <td>12037.0</td>\n",
              "      <td>1.797248e+03</td>\n",
              "      <td>6.507990e+03</td>\n",
              "      <td>0.003082</td>\n",
              "      <td>1.000692e+00</td>\n",
              "      <td>3.334575e+01</td>\n",
              "      <td>3.727674e+02</td>\n",
              "      <td>6.486310e+04</td>\n",
              "    </tr>\n",
              "    <tr>\n",
              "      <th>Low</th>\n",
              "      <td>12037.0</td>\n",
              "      <td>1.689071e+03</td>\n",
              "      <td>6.085347e+03</td>\n",
              "      <td>0.002802</td>\n",
              "      <td>9.905703e-01</td>\n",
              "      <td>3.052311e+01</td>\n",
              "      <td>3.509420e+02</td>\n",
              "      <td>6.220896e+04</td>\n",
              "    </tr>\n",
              "    <tr>\n",
              "      <th>Open</th>\n",
              "      <td>12037.0</td>\n",
              "      <td>1.745962e+03</td>\n",
              "      <td>6.312961e+03</td>\n",
              "      <td>0.002809</td>\n",
              "      <td>9.990903e-01</td>\n",
              "      <td>3.201653e+01</td>\n",
              "      <td>3.603120e+02</td>\n",
              "      <td>6.352375e+04</td>\n",
              "    </tr>\n",
              "    <tr>\n",
              "      <th>Close</th>\n",
              "      <td>12037.0</td>\n",
              "      <td>1.748924e+03</td>\n",
              "      <td>6.319601e+03</td>\n",
              "      <td>0.002810</td>\n",
              "      <td>9.992283e-01</td>\n",
              "      <td>3.200196e+01</td>\n",
              "      <td>3.610460e+02</td>\n",
              "      <td>6.350346e+04</td>\n",
              "    </tr>\n",
              "    <tr>\n",
              "      <th>Volume</th>\n",
              "      <td>12037.0</td>\n",
              "      <td>4.652802e+09</td>\n",
              "      <td>1.141572e+10</td>\n",
              "      <td>0.000000</td>\n",
              "      <td>5.895540e+06</td>\n",
              "      <td>3.204215e+08</td>\n",
              "      <td>3.146472e+09</td>\n",
              "      <td>3.509679e+11</td>\n",
              "    </tr>\n",
              "    <tr>\n",
              "      <th>Marketcap</th>\n",
              "      <td>12037.0</td>\n",
              "      <td>4.082986e+10</td>\n",
              "      <td>1.194340e+11</td>\n",
              "      <td>0.000000</td>\n",
              "      <td>3.682208e+08</td>\n",
              "      <td>5.655924e+09</td>\n",
              "      <td>2.090613e+10</td>\n",
              "      <td>1.186364e+12</td>\n",
              "    </tr>\n",
              "  </tbody>\n",
              "</table>\n",
              "</div>\n",
              "      <button class=\"colab-df-convert\" onclick=\"convertToInteractive('df-69212199-87a0-4d0b-9f4f-eaa3a2d3b40f')\"\n",
              "              title=\"Convert this dataframe to an interactive table.\"\n",
              "              style=\"display:none;\">\n",
              "        \n",
              "  <svg xmlns=\"http://www.w3.org/2000/svg\" height=\"24px\"viewBox=\"0 0 24 24\"\n",
              "       width=\"24px\">\n",
              "    <path d=\"M0 0h24v24H0V0z\" fill=\"none\"/>\n",
              "    <path d=\"M18.56 5.44l.94 2.06.94-2.06 2.06-.94-2.06-.94-.94-2.06-.94 2.06-2.06.94zm-11 1L8.5 8.5l.94-2.06 2.06-.94-2.06-.94L8.5 2.5l-.94 2.06-2.06.94zm10 10l.94 2.06.94-2.06 2.06-.94-2.06-.94-.94-2.06-.94 2.06-2.06.94z\"/><path d=\"M17.41 7.96l-1.37-1.37c-.4-.4-.92-.59-1.43-.59-.52 0-1.04.2-1.43.59L10.3 9.45l-7.72 7.72c-.78.78-.78 2.05 0 2.83L4 21.41c.39.39.9.59 1.41.59.51 0 1.02-.2 1.41-.59l7.78-7.78 2.81-2.81c.8-.78.8-2.07 0-2.86zM5.41 20L4 18.59l7.72-7.72 1.47 1.35L5.41 20z\"/>\n",
              "  </svg>\n",
              "      </button>\n",
              "      \n",
              "  <style>\n",
              "    .colab-df-container {\n",
              "      display:flex;\n",
              "      flex-wrap:wrap;\n",
              "      gap: 12px;\n",
              "    }\n",
              "\n",
              "    .colab-df-convert {\n",
              "      background-color: #E8F0FE;\n",
              "      border: none;\n",
              "      border-radius: 50%;\n",
              "      cursor: pointer;\n",
              "      display: none;\n",
              "      fill: #1967D2;\n",
              "      height: 32px;\n",
              "      padding: 0 0 0 0;\n",
              "      width: 32px;\n",
              "    }\n",
              "\n",
              "    .colab-df-convert:hover {\n",
              "      background-color: #E2EBFA;\n",
              "      box-shadow: 0px 1px 2px rgba(60, 64, 67, 0.3), 0px 1px 3px 1px rgba(60, 64, 67, 0.15);\n",
              "      fill: #174EA6;\n",
              "    }\n",
              "\n",
              "    [theme=dark] .colab-df-convert {\n",
              "      background-color: #3B4455;\n",
              "      fill: #D2E3FC;\n",
              "    }\n",
              "\n",
              "    [theme=dark] .colab-df-convert:hover {\n",
              "      background-color: #434B5C;\n",
              "      box-shadow: 0px 1px 3px 1px rgba(0, 0, 0, 0.15);\n",
              "      filter: drop-shadow(0px 1px 2px rgba(0, 0, 0, 0.3));\n",
              "      fill: #FFFFFF;\n",
              "    }\n",
              "  </style>\n",
              "\n",
              "      <script>\n",
              "        const buttonEl =\n",
              "          document.querySelector('#df-69212199-87a0-4d0b-9f4f-eaa3a2d3b40f button.colab-df-convert');\n",
              "        buttonEl.style.display =\n",
              "          google.colab.kernel.accessAllowed ? 'block' : 'none';\n",
              "\n",
              "        async function convertToInteractive(key) {\n",
              "          const element = document.querySelector('#df-69212199-87a0-4d0b-9f4f-eaa3a2d3b40f');\n",
              "          const dataTable =\n",
              "            await google.colab.kernel.invokeFunction('convertToInteractive',\n",
              "                                                     [key], {});\n",
              "          if (!dataTable) return;\n",
              "\n",
              "          const docLinkHtml = 'Like what you see? Visit the ' +\n",
              "            '<a target=\"_blank\" href=https://colab.research.google.com/notebooks/data_table.ipynb>data table notebook</a>'\n",
              "            + ' to learn more about interactive tables.';\n",
              "          element.innerHTML = '';\n",
              "          dataTable['output_type'] = 'display_data';\n",
              "          await google.colab.output.renderOutput(dataTable, element);\n",
              "          const docLink = document.createElement('div');\n",
              "          docLink.innerHTML = docLinkHtml;\n",
              "          element.appendChild(docLink);\n",
              "        }\n",
              "      </script>\n",
              "    </div>\n",
              "  </div>\n",
              "  "
            ]
          },
          "metadata": {},
          "execution_count": 32
        }
      ]
    }
  ]
}